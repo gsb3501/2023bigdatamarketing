{
  "nbformat": 4,
  "nbformat_minor": 0,
  "metadata": {
    "colab": {
      "provenance": [],
      "mount_file_id": "1RppTzXWhZ2qMDTBlo_JFmX_uUm-BwYJo",
      "authorship_tag": "ABX9TyMHodWpqKWFyKepbuOxPXDL",
      "include_colab_link": true
    },
    "kernelspec": {
      "name": "python3",
      "display_name": "Python 3"
    },
    "language_info": {
      "name": "python"
    }
  },
  "cells": [
    {
      "cell_type": "markdown",
      "metadata": {
        "id": "view-in-github",
        "colab_type": "text"
      },
      "source": [
        "<a href=\"https://colab.research.google.com/github/gsb3501/2023bigdatamarketing/blob/main/20230828_%EB%A8%B8%EC%8B%A0%EB%9F%AC%EB%8B%9D.ipynb\" target=\"_parent\"><img src=\"https://colab.research.google.com/assets/colab-badge.svg\" alt=\"Open In Colab\"/></a>"
      ]
    },
    {
      "cell_type": "markdown",
      "source": [
        "# 20230824 머신러닝 파트"
      ],
      "metadata": {
        "id": "UAdKp34wA-rq"
      }
    },
    {
      "cell_type": "code",
      "execution_count": null,
      "metadata": {
        "id": "VdE5XxP04py2"
      },
      "outputs": [],
      "source": [
        "import pandas as pd\n",
        "from sklearn.model_selection import train_test_split\n",
        "from sklearn.preprocessing import StandardScaler"
      ]
    },
    {
      "cell_type": "code",
      "source": [
        "df = pd.read_csv('/content/drive/MyDrive/Colab Notebooks/Ashopping.csv')"
      ],
      "metadata": {
        "id": "BHqRpqMqCzzx"
      },
      "execution_count": null,
      "outputs": []
    },
    {
      "cell_type": "code",
      "source": [
        "df.head(10)"
      ],
      "metadata": {
        "colab": {
          "base_uri": "https://localhost:8080/",
          "height": 516
        },
        "id": "UZwJVuZcDP0x",
        "outputId": "bf58fe56-069b-414c-e25b-6b5014157e38"
      },
      "execution_count": null,
      "outputs": [
        {
          "output_type": "execute_result",
          "data": {
            "text/plain": [
              "   고객ID  이탈여부      총매출액  구매금액대  방문빈도  1회 평균매출액  할인권 사용 횟수  총 할인 금액  고객등급  \\\n",
              "0     1     1   4963160      1    22    225598          1     5445     1   \n",
              "1     2     1   2271520      0    38     59777         22   350995     1   \n",
              "2     3     1   2484250      0     2   1242125          6   186045     1   \n",
              "3     4     1   2778850      0     9    308761          1     5195     2   \n",
              "4     5     1   4437610      1    10    443761          9   246350     2   \n",
              "5     6     1  10720400      2     4   2680100         20   348145     2   \n",
              "6     7     1   7228460      1    11    657133         30   380945     2   \n",
              "7     8     1   8790450      2    34    258543          4   354735     2   \n",
              "8     9     1   9759800      2     6   1626633         17   364895     2   \n",
              "9    10     1   4077660      0    95     42923         27   357645     1   \n",
              "\n",
              "   구매유형  ...  구매카테고리수  거주지역  성별  고객 나이대  거래기간  할인민감여부  Recency  Frequency  \\\n",
              "0     3  ...        7     6   1       6  3303       0        3          2   \n",
              "1     1  ...        5     4   0       2  3129       0        5          3   \n",
              "2     2  ...        4     6   0       3  3636       0        4          1   \n",
              "3     4  ...        4     5   0       4  3637       0        7          4   \n",
              "4     4  ...        6     6   0       4  3638       0        5          1   \n",
              "5     4  ...        9     5   0       3  3639       1        7          4   \n",
              "6     1  ...        3     6   1       4  3244       0        4          1   \n",
              "7     2  ...        7     6   0       3  1940       0        6          3   \n",
              "8     4  ...        9     6   0       4  1940       1        7          4   \n",
              "9     4  ...        9     5   0       2  3643       0        7          7   \n",
              "\n",
              "   Monetary      평균 구매주기  \n",
              "0         1   149.136364  \n",
              "1         4    81.342105  \n",
              "2         4  1817.000000  \n",
              "3         6   403.111111  \n",
              "4         4   362.800000  \n",
              "5         1   908.750000  \n",
              "6         2   293.909091  \n",
              "7         6    56.058824  \n",
              "8         6   322.333333  \n",
              "9         6    37.347368  \n",
              "\n",
              "[10 rows x 21 columns]"
            ],
            "text/html": [
              "\n",
              "  <div id=\"df-466a3884-4c6b-49d3-8934-d2e070afaa60\" class=\"colab-df-container\">\n",
              "    <div>\n",
              "<style scoped>\n",
              "    .dataframe tbody tr th:only-of-type {\n",
              "        vertical-align: middle;\n",
              "    }\n",
              "\n",
              "    .dataframe tbody tr th {\n",
              "        vertical-align: top;\n",
              "    }\n",
              "\n",
              "    .dataframe thead th {\n",
              "        text-align: right;\n",
              "    }\n",
              "</style>\n",
              "<table border=\"1\" class=\"dataframe\">\n",
              "  <thead>\n",
              "    <tr style=\"text-align: right;\">\n",
              "      <th></th>\n",
              "      <th>고객ID</th>\n",
              "      <th>이탈여부</th>\n",
              "      <th>총매출액</th>\n",
              "      <th>구매금액대</th>\n",
              "      <th>방문빈도</th>\n",
              "      <th>1회 평균매출액</th>\n",
              "      <th>할인권 사용 횟수</th>\n",
              "      <th>총 할인 금액</th>\n",
              "      <th>고객등급</th>\n",
              "      <th>구매유형</th>\n",
              "      <th>...</th>\n",
              "      <th>구매카테고리수</th>\n",
              "      <th>거주지역</th>\n",
              "      <th>성별</th>\n",
              "      <th>고객 나이대</th>\n",
              "      <th>거래기간</th>\n",
              "      <th>할인민감여부</th>\n",
              "      <th>Recency</th>\n",
              "      <th>Frequency</th>\n",
              "      <th>Monetary</th>\n",
              "      <th>평균 구매주기</th>\n",
              "    </tr>\n",
              "  </thead>\n",
              "  <tbody>\n",
              "    <tr>\n",
              "      <th>0</th>\n",
              "      <td>1</td>\n",
              "      <td>1</td>\n",
              "      <td>4963160</td>\n",
              "      <td>1</td>\n",
              "      <td>22</td>\n",
              "      <td>225598</td>\n",
              "      <td>1</td>\n",
              "      <td>5445</td>\n",
              "      <td>1</td>\n",
              "      <td>3</td>\n",
              "      <td>...</td>\n",
              "      <td>7</td>\n",
              "      <td>6</td>\n",
              "      <td>1</td>\n",
              "      <td>6</td>\n",
              "      <td>3303</td>\n",
              "      <td>0</td>\n",
              "      <td>3</td>\n",
              "      <td>2</td>\n",
              "      <td>1</td>\n",
              "      <td>149.136364</td>\n",
              "    </tr>\n",
              "    <tr>\n",
              "      <th>1</th>\n",
              "      <td>2</td>\n",
              "      <td>1</td>\n",
              "      <td>2271520</td>\n",
              "      <td>0</td>\n",
              "      <td>38</td>\n",
              "      <td>59777</td>\n",
              "      <td>22</td>\n",
              "      <td>350995</td>\n",
              "      <td>1</td>\n",
              "      <td>1</td>\n",
              "      <td>...</td>\n",
              "      <td>5</td>\n",
              "      <td>4</td>\n",
              "      <td>0</td>\n",
              "      <td>2</td>\n",
              "      <td>3129</td>\n",
              "      <td>0</td>\n",
              "      <td>5</td>\n",
              "      <td>3</td>\n",
              "      <td>4</td>\n",
              "      <td>81.342105</td>\n",
              "    </tr>\n",
              "    <tr>\n",
              "      <th>2</th>\n",
              "      <td>3</td>\n",
              "      <td>1</td>\n",
              "      <td>2484250</td>\n",
              "      <td>0</td>\n",
              "      <td>2</td>\n",
              "      <td>1242125</td>\n",
              "      <td>6</td>\n",
              "      <td>186045</td>\n",
              "      <td>1</td>\n",
              "      <td>2</td>\n",
              "      <td>...</td>\n",
              "      <td>4</td>\n",
              "      <td>6</td>\n",
              "      <td>0</td>\n",
              "      <td>3</td>\n",
              "      <td>3636</td>\n",
              "      <td>0</td>\n",
              "      <td>4</td>\n",
              "      <td>1</td>\n",
              "      <td>4</td>\n",
              "      <td>1817.000000</td>\n",
              "    </tr>\n",
              "    <tr>\n",
              "      <th>3</th>\n",
              "      <td>4</td>\n",
              "      <td>1</td>\n",
              "      <td>2778850</td>\n",
              "      <td>0</td>\n",
              "      <td>9</td>\n",
              "      <td>308761</td>\n",
              "      <td>1</td>\n",
              "      <td>5195</td>\n",
              "      <td>2</td>\n",
              "      <td>4</td>\n",
              "      <td>...</td>\n",
              "      <td>4</td>\n",
              "      <td>5</td>\n",
              "      <td>0</td>\n",
              "      <td>4</td>\n",
              "      <td>3637</td>\n",
              "      <td>0</td>\n",
              "      <td>7</td>\n",
              "      <td>4</td>\n",
              "      <td>6</td>\n",
              "      <td>403.111111</td>\n",
              "    </tr>\n",
              "    <tr>\n",
              "      <th>4</th>\n",
              "      <td>5</td>\n",
              "      <td>1</td>\n",
              "      <td>4437610</td>\n",
              "      <td>1</td>\n",
              "      <td>10</td>\n",
              "      <td>443761</td>\n",
              "      <td>9</td>\n",
              "      <td>246350</td>\n",
              "      <td>2</td>\n",
              "      <td>4</td>\n",
              "      <td>...</td>\n",
              "      <td>6</td>\n",
              "      <td>6</td>\n",
              "      <td>0</td>\n",
              "      <td>4</td>\n",
              "      <td>3638</td>\n",
              "      <td>0</td>\n",
              "      <td>5</td>\n",
              "      <td>1</td>\n",
              "      <td>4</td>\n",
              "      <td>362.800000</td>\n",
              "    </tr>\n",
              "    <tr>\n",
              "      <th>5</th>\n",
              "      <td>6</td>\n",
              "      <td>1</td>\n",
              "      <td>10720400</td>\n",
              "      <td>2</td>\n",
              "      <td>4</td>\n",
              "      <td>2680100</td>\n",
              "      <td>20</td>\n",
              "      <td>348145</td>\n",
              "      <td>2</td>\n",
              "      <td>4</td>\n",
              "      <td>...</td>\n",
              "      <td>9</td>\n",
              "      <td>5</td>\n",
              "      <td>0</td>\n",
              "      <td>3</td>\n",
              "      <td>3639</td>\n",
              "      <td>1</td>\n",
              "      <td>7</td>\n",
              "      <td>4</td>\n",
              "      <td>1</td>\n",
              "      <td>908.750000</td>\n",
              "    </tr>\n",
              "    <tr>\n",
              "      <th>6</th>\n",
              "      <td>7</td>\n",
              "      <td>1</td>\n",
              "      <td>7228460</td>\n",
              "      <td>1</td>\n",
              "      <td>11</td>\n",
              "      <td>657133</td>\n",
              "      <td>30</td>\n",
              "      <td>380945</td>\n",
              "      <td>2</td>\n",
              "      <td>1</td>\n",
              "      <td>...</td>\n",
              "      <td>3</td>\n",
              "      <td>6</td>\n",
              "      <td>1</td>\n",
              "      <td>4</td>\n",
              "      <td>3244</td>\n",
              "      <td>0</td>\n",
              "      <td>4</td>\n",
              "      <td>1</td>\n",
              "      <td>2</td>\n",
              "      <td>293.909091</td>\n",
              "    </tr>\n",
              "    <tr>\n",
              "      <th>7</th>\n",
              "      <td>8</td>\n",
              "      <td>1</td>\n",
              "      <td>8790450</td>\n",
              "      <td>2</td>\n",
              "      <td>34</td>\n",
              "      <td>258543</td>\n",
              "      <td>4</td>\n",
              "      <td>354735</td>\n",
              "      <td>2</td>\n",
              "      <td>2</td>\n",
              "      <td>...</td>\n",
              "      <td>7</td>\n",
              "      <td>6</td>\n",
              "      <td>0</td>\n",
              "      <td>3</td>\n",
              "      <td>1940</td>\n",
              "      <td>0</td>\n",
              "      <td>6</td>\n",
              "      <td>3</td>\n",
              "      <td>6</td>\n",
              "      <td>56.058824</td>\n",
              "    </tr>\n",
              "    <tr>\n",
              "      <th>8</th>\n",
              "      <td>9</td>\n",
              "      <td>1</td>\n",
              "      <td>9759800</td>\n",
              "      <td>2</td>\n",
              "      <td>6</td>\n",
              "      <td>1626633</td>\n",
              "      <td>17</td>\n",
              "      <td>364895</td>\n",
              "      <td>2</td>\n",
              "      <td>4</td>\n",
              "      <td>...</td>\n",
              "      <td>9</td>\n",
              "      <td>6</td>\n",
              "      <td>0</td>\n",
              "      <td>4</td>\n",
              "      <td>1940</td>\n",
              "      <td>1</td>\n",
              "      <td>7</td>\n",
              "      <td>4</td>\n",
              "      <td>6</td>\n",
              "      <td>322.333333</td>\n",
              "    </tr>\n",
              "    <tr>\n",
              "      <th>9</th>\n",
              "      <td>10</td>\n",
              "      <td>1</td>\n",
              "      <td>4077660</td>\n",
              "      <td>0</td>\n",
              "      <td>95</td>\n",
              "      <td>42923</td>\n",
              "      <td>27</td>\n",
              "      <td>357645</td>\n",
              "      <td>1</td>\n",
              "      <td>4</td>\n",
              "      <td>...</td>\n",
              "      <td>9</td>\n",
              "      <td>5</td>\n",
              "      <td>0</td>\n",
              "      <td>2</td>\n",
              "      <td>3643</td>\n",
              "      <td>0</td>\n",
              "      <td>7</td>\n",
              "      <td>7</td>\n",
              "      <td>6</td>\n",
              "      <td>37.347368</td>\n",
              "    </tr>\n",
              "  </tbody>\n",
              "</table>\n",
              "<p>10 rows × 21 columns</p>\n",
              "</div>\n",
              "    <div class=\"colab-df-buttons\">\n",
              "\n",
              "  <div class=\"colab-df-container\">\n",
              "    <button class=\"colab-df-convert\" onclick=\"convertToInteractive('df-466a3884-4c6b-49d3-8934-d2e070afaa60')\"\n",
              "            title=\"Convert this dataframe to an interactive table.\"\n",
              "            style=\"display:none;\">\n",
              "\n",
              "  <svg xmlns=\"http://www.w3.org/2000/svg\" height=\"24px\" viewBox=\"0 -960 960 960\">\n",
              "    <path d=\"M120-120v-720h720v720H120Zm60-500h600v-160H180v160Zm220 220h160v-160H400v160Zm0 220h160v-160H400v160ZM180-400h160v-160H180v160Zm440 0h160v-160H620v160ZM180-180h160v-160H180v160Zm440 0h160v-160H620v160Z\"/>\n",
              "  </svg>\n",
              "    </button>\n",
              "\n",
              "  <style>\n",
              "    .colab-df-container {\n",
              "      display:flex;\n",
              "      gap: 12px;\n",
              "    }\n",
              "\n",
              "    .colab-df-convert {\n",
              "      background-color: #E8F0FE;\n",
              "      border: none;\n",
              "      border-radius: 50%;\n",
              "      cursor: pointer;\n",
              "      display: none;\n",
              "      fill: #1967D2;\n",
              "      height: 32px;\n",
              "      padding: 0 0 0 0;\n",
              "      width: 32px;\n",
              "    }\n",
              "\n",
              "    .colab-df-convert:hover {\n",
              "      background-color: #E2EBFA;\n",
              "      box-shadow: 0px 1px 2px rgba(60, 64, 67, 0.3), 0px 1px 3px 1px rgba(60, 64, 67, 0.15);\n",
              "      fill: #174EA6;\n",
              "    }\n",
              "\n",
              "    .colab-df-buttons div {\n",
              "      margin-bottom: 4px;\n",
              "    }\n",
              "\n",
              "    [theme=dark] .colab-df-convert {\n",
              "      background-color: #3B4455;\n",
              "      fill: #D2E3FC;\n",
              "    }\n",
              "\n",
              "    [theme=dark] .colab-df-convert:hover {\n",
              "      background-color: #434B5C;\n",
              "      box-shadow: 0px 1px 3px 1px rgba(0, 0, 0, 0.15);\n",
              "      filter: drop-shadow(0px 1px 2px rgba(0, 0, 0, 0.3));\n",
              "      fill: #FFFFFF;\n",
              "    }\n",
              "  </style>\n",
              "\n",
              "    <script>\n",
              "      const buttonEl =\n",
              "        document.querySelector('#df-466a3884-4c6b-49d3-8934-d2e070afaa60 button.colab-df-convert');\n",
              "      buttonEl.style.display =\n",
              "        google.colab.kernel.accessAllowed ? 'block' : 'none';\n",
              "\n",
              "      async function convertToInteractive(key) {\n",
              "        const element = document.querySelector('#df-466a3884-4c6b-49d3-8934-d2e070afaa60');\n",
              "        const dataTable =\n",
              "          await google.colab.kernel.invokeFunction('convertToInteractive',\n",
              "                                                    [key], {});\n",
              "        if (!dataTable) return;\n",
              "\n",
              "        const docLinkHtml = 'Like what you see? Visit the ' +\n",
              "          '<a target=\"_blank\" href=https://colab.research.google.com/notebooks/data_table.ipynb>data table notebook</a>'\n",
              "          + ' to learn more about interactive tables.';\n",
              "        element.innerHTML = '';\n",
              "        dataTable['output_type'] = 'display_data';\n",
              "        await google.colab.output.renderOutput(dataTable, element);\n",
              "        const docLink = document.createElement('div');\n",
              "        docLink.innerHTML = docLinkHtml;\n",
              "        element.appendChild(docLink);\n",
              "      }\n",
              "    </script>\n",
              "  </div>\n",
              "\n",
              "\n",
              "<div id=\"df-ec08a8ea-9dae-447a-8cec-8bc03b0cd09f\">\n",
              "  <button class=\"colab-df-quickchart\" onclick=\"quickchart('df-ec08a8ea-9dae-447a-8cec-8bc03b0cd09f')\"\n",
              "            title=\"Suggest charts.\"\n",
              "            style=\"display:none;\">\n",
              "\n",
              "<svg xmlns=\"http://www.w3.org/2000/svg\" height=\"24px\"viewBox=\"0 0 24 24\"\n",
              "     width=\"24px\">\n",
              "    <g>\n",
              "        <path d=\"M19 3H5c-1.1 0-2 .9-2 2v14c0 1.1.9 2 2 2h14c1.1 0 2-.9 2-2V5c0-1.1-.9-2-2-2zM9 17H7v-7h2v7zm4 0h-2V7h2v10zm4 0h-2v-4h2v4z\"/>\n",
              "    </g>\n",
              "</svg>\n",
              "  </button>\n",
              "\n",
              "<style>\n",
              "  .colab-df-quickchart {\n",
              "    background-color: #E8F0FE;\n",
              "    border: none;\n",
              "    border-radius: 50%;\n",
              "    cursor: pointer;\n",
              "    display: none;\n",
              "    fill: #1967D2;\n",
              "    height: 32px;\n",
              "    padding: 0 0 0 0;\n",
              "    width: 32px;\n",
              "  }\n",
              "\n",
              "  .colab-df-quickchart:hover {\n",
              "    background-color: #E2EBFA;\n",
              "    box-shadow: 0px 1px 2px rgba(60, 64, 67, 0.3), 0px 1px 3px 1px rgba(60, 64, 67, 0.15);\n",
              "    fill: #174EA6;\n",
              "  }\n",
              "\n",
              "  [theme=dark] .colab-df-quickchart {\n",
              "    background-color: #3B4455;\n",
              "    fill: #D2E3FC;\n",
              "  }\n",
              "\n",
              "  [theme=dark] .colab-df-quickchart:hover {\n",
              "    background-color: #434B5C;\n",
              "    box-shadow: 0px 1px 3px 1px rgba(0, 0, 0, 0.15);\n",
              "    filter: drop-shadow(0px 1px 2px rgba(0, 0, 0, 0.3));\n",
              "    fill: #FFFFFF;\n",
              "  }\n",
              "</style>\n",
              "\n",
              "  <script>\n",
              "    async function quickchart(key) {\n",
              "      const charts = await google.colab.kernel.invokeFunction(\n",
              "          'suggestCharts', [key], {});\n",
              "    }\n",
              "    (() => {\n",
              "      let quickchartButtonEl =\n",
              "        document.querySelector('#df-ec08a8ea-9dae-447a-8cec-8bc03b0cd09f button');\n",
              "      quickchartButtonEl.style.display =\n",
              "        google.colab.kernel.accessAllowed ? 'block' : 'none';\n",
              "    })();\n",
              "  </script>\n",
              "</div>\n",
              "    </div>\n",
              "  </div>\n"
            ]
          },
          "metadata": {},
          "execution_count": 64
        }
      ]
    },
    {
      "cell_type": "code",
      "source": [
        "df.columns"
      ],
      "metadata": {
        "colab": {
          "base_uri": "https://localhost:8080/"
        },
        "id": "FS37PwrxEMOV",
        "outputId": "506e9527-1181-447f-8a79-771ddc253f9c"
      },
      "execution_count": null,
      "outputs": [
        {
          "output_type": "execute_result",
          "data": {
            "text/plain": [
              "Index(['고객ID', '이탈여부', '총매출액', '구매금액대', '방문빈도', '1회 평균매출액', '할인권 사용 횟수',\n",
              "       '총 할인 금액', '고객등급', '구매유형', '클레임접수여부', '구매카테고리수', '거주지역', '성별', '고객 나이대',\n",
              "       '거래기간', '할인민감여부', 'Recency', 'Frequency', 'Monetary', '평균 구매주기'],\n",
              "      dtype='object')"
            ]
          },
          "metadata": {},
          "execution_count": 65
        }
      ]
    },
    {
      "cell_type": "markdown",
      "source": [
        "# 분류모형 (Classifier)"
      ],
      "metadata": {
        "id": "bwQ8QwmWGM3g"
      }
    },
    {
      "cell_type": "markdown",
      "source": [
        "### 로지스틱 회귀분석"
      ],
      "metadata": {
        "id": "yp4s-WHoGUR-"
      }
    },
    {
      "cell_type": "code",
      "source": [
        "X = df[['총매출액', '거래기간', '방문빈도']]\n",
        "Y = df['이탈여부']\n",
        "\n",
        "print(X.head())\n",
        "print('---------------------------')\n",
        "print(Y.head())"
      ],
      "metadata": {
        "colab": {
          "base_uri": "https://localhost:8080/"
        },
        "id": "i8JUe7BgDbwM",
        "outputId": "c1b72fa9-fab4-43ca-ae99-98f990cf1502"
      },
      "execution_count": null,
      "outputs": [
        {
          "output_type": "stream",
          "name": "stdout",
          "text": [
            "      총매출액  거래기간  방문빈도\n",
            "0  4963160  3303    22\n",
            "1  2271520  3129    38\n",
            "2  2484250  3636     2\n",
            "3  2778850  3637     9\n",
            "4  4437610  3638    10\n",
            "---------------------------\n",
            "0    1\n",
            "1    1\n",
            "2    1\n",
            "3    1\n",
            "4    1\n",
            "Name: 이탈여부, dtype: int64\n"
          ]
        }
      ]
    },
    {
      "cell_type": "code",
      "source": [
        "X_train, X_test, Y_train, Y_test = train_test_split(X, Y, test_size = 0.3, random_state = 0)\n",
        "#train, test를 split 하는 과정. random_state 는 그냥 0으로 넣으면 됨. train:test = 7:3\n",
        "\n",
        "print(X_train.head())\n",
        "print('----------------------------------')\n",
        "print(X_test.head())\n",
        "print('----------------------------------')\n",
        "print(Y_train.head())\n",
        "print('----------------------------------')\n",
        "print(Y_test.head())"
      ],
      "metadata": {
        "colab": {
          "base_uri": "https://localhost:8080/"
        },
        "id": "8bvJ4oddEfnk",
        "outputId": "a2fc21f5-40ef-4952-c0ca-dcc175512895"
      },
      "execution_count": null,
      "outputs": [
        {
          "output_type": "stream",
          "name": "stdout",
          "text": [
            "        총매출액  거래기간  방문빈도\n",
            "105  9605490  3739    24\n",
            "68   4540390  3495    20\n",
            "479  2911800  4113    42\n",
            "399  9172750  4033    18\n",
            "434  2525020  4068    16\n",
            "----------------------------------\n",
            "         총매출액  거래기간  방문빈도\n",
            "993   9118590  2826    15\n",
            "859  17322270  2969    24\n",
            "298   8048480  3932     5\n",
            "553   7545460  1631    71\n",
            "672  11151760  2695    54\n",
            "----------------------------------\n",
            "105    1\n",
            "68     1\n",
            "479    0\n",
            "399    0\n",
            "434    0\n",
            "Name: 이탈여부, dtype: int64\n",
            "----------------------------------\n",
            "993    0\n",
            "859    0\n",
            "298    1\n",
            "553    0\n",
            "672    0\n",
            "Name: 이탈여부, dtype: int64\n"
          ]
        }
      ]
    },
    {
      "cell_type": "code",
      "source": [
        "# X 변수들에 scale : 총매출액, 거래기간, 방문빈도의 숫자가 너무 달라서\n",
        "scaler = StandardScaler()"
      ],
      "metadata": {
        "id": "gj7otn7eF0E3"
      },
      "execution_count": null,
      "outputs": []
    },
    {
      "cell_type": "code",
      "source": [
        "# scaler에 X 변수들을 fitting할 수 있는 지 확인\n",
        "scaler.fit(X)"
      ],
      "metadata": {
        "colab": {
          "base_uri": "https://localhost:8080/",
          "height": 75
        },
        "id": "dowswoScHoPQ",
        "outputId": "d556092f-107c-4075-b798-64a6e38fe7fe"
      },
      "execution_count": null,
      "outputs": [
        {
          "output_type": "execute_result",
          "data": {
            "text/plain": [
              "StandardScaler()"
            ],
            "text/html": [
              "<style>#sk-container-id-7 {color: black;background-color: white;}#sk-container-id-7 pre{padding: 0;}#sk-container-id-7 div.sk-toggleable {background-color: white;}#sk-container-id-7 label.sk-toggleable__label {cursor: pointer;display: block;width: 100%;margin-bottom: 0;padding: 0.3em;box-sizing: border-box;text-align: center;}#sk-container-id-7 label.sk-toggleable__label-arrow:before {content: \"▸\";float: left;margin-right: 0.25em;color: #696969;}#sk-container-id-7 label.sk-toggleable__label-arrow:hover:before {color: black;}#sk-container-id-7 div.sk-estimator:hover label.sk-toggleable__label-arrow:before {color: black;}#sk-container-id-7 div.sk-toggleable__content {max-height: 0;max-width: 0;overflow: hidden;text-align: left;background-color: #f0f8ff;}#sk-container-id-7 div.sk-toggleable__content pre {margin: 0.2em;color: black;border-radius: 0.25em;background-color: #f0f8ff;}#sk-container-id-7 input.sk-toggleable__control:checked~div.sk-toggleable__content {max-height: 200px;max-width: 100%;overflow: auto;}#sk-container-id-7 input.sk-toggleable__control:checked~label.sk-toggleable__label-arrow:before {content: \"▾\";}#sk-container-id-7 div.sk-estimator input.sk-toggleable__control:checked~label.sk-toggleable__label {background-color: #d4ebff;}#sk-container-id-7 div.sk-label input.sk-toggleable__control:checked~label.sk-toggleable__label {background-color: #d4ebff;}#sk-container-id-7 input.sk-hidden--visually {border: 0;clip: rect(1px 1px 1px 1px);clip: rect(1px, 1px, 1px, 1px);height: 1px;margin: -1px;overflow: hidden;padding: 0;position: absolute;width: 1px;}#sk-container-id-7 div.sk-estimator {font-family: monospace;background-color: #f0f8ff;border: 1px dotted black;border-radius: 0.25em;box-sizing: border-box;margin-bottom: 0.5em;}#sk-container-id-7 div.sk-estimator:hover {background-color: #d4ebff;}#sk-container-id-7 div.sk-parallel-item::after {content: \"\";width: 100%;border-bottom: 1px solid gray;flex-grow: 1;}#sk-container-id-7 div.sk-label:hover label.sk-toggleable__label {background-color: #d4ebff;}#sk-container-id-7 div.sk-serial::before {content: \"\";position: absolute;border-left: 1px solid gray;box-sizing: border-box;top: 0;bottom: 0;left: 50%;z-index: 0;}#sk-container-id-7 div.sk-serial {display: flex;flex-direction: column;align-items: center;background-color: white;padding-right: 0.2em;padding-left: 0.2em;position: relative;}#sk-container-id-7 div.sk-item {position: relative;z-index: 1;}#sk-container-id-7 div.sk-parallel {display: flex;align-items: stretch;justify-content: center;background-color: white;position: relative;}#sk-container-id-7 div.sk-item::before, #sk-container-id-7 div.sk-parallel-item::before {content: \"\";position: absolute;border-left: 1px solid gray;box-sizing: border-box;top: 0;bottom: 0;left: 50%;z-index: -1;}#sk-container-id-7 div.sk-parallel-item {display: flex;flex-direction: column;z-index: 1;position: relative;background-color: white;}#sk-container-id-7 div.sk-parallel-item:first-child::after {align-self: flex-end;width: 50%;}#sk-container-id-7 div.sk-parallel-item:last-child::after {align-self: flex-start;width: 50%;}#sk-container-id-7 div.sk-parallel-item:only-child::after {width: 0;}#sk-container-id-7 div.sk-dashed-wrapped {border: 1px dashed gray;margin: 0 0.4em 0.5em 0.4em;box-sizing: border-box;padding-bottom: 0.4em;background-color: white;}#sk-container-id-7 div.sk-label label {font-family: monospace;font-weight: bold;display: inline-block;line-height: 1.2em;}#sk-container-id-7 div.sk-label-container {text-align: center;}#sk-container-id-7 div.sk-container {/* jupyter's `normalize.less` sets `[hidden] { display: none; }` but bootstrap.min.css set `[hidden] { display: none !important; }` so we also need the `!important` here to be able to override the default hidden behavior on the sphinx rendered scikit-learn.org. See: https://github.com/scikit-learn/scikit-learn/issues/21755 */display: inline-block !important;position: relative;}#sk-container-id-7 div.sk-text-repr-fallback {display: none;}</style><div id=\"sk-container-id-7\" class=\"sk-top-container\"><div class=\"sk-text-repr-fallback\"><pre>StandardScaler()</pre><b>In a Jupyter environment, please rerun this cell to show the HTML representation or trust the notebook. <br />On GitHub, the HTML representation is unable to render, please try loading this page with nbviewer.org.</b></div><div class=\"sk-container\" hidden><div class=\"sk-item\"><div class=\"sk-estimator sk-toggleable\"><input class=\"sk-toggleable__control sk-hidden--visually\" id=\"sk-estimator-id-7\" type=\"checkbox\" checked><label for=\"sk-estimator-id-7\" class=\"sk-toggleable__label sk-toggleable__label-arrow\">StandardScaler</label><div class=\"sk-toggleable__content\"><pre>StandardScaler()</pre></div></div></div></div></div>"
            ]
          },
          "metadata": {},
          "execution_count": 69
        }
      ]
    },
    {
      "cell_type": "code",
      "source": [
        "X_train = scaler.transform(X_train)\n",
        "X_test = scaler.transform(X_test)"
      ],
      "metadata": {
        "id": "pqL7cDWmHqCi"
      },
      "execution_count": null,
      "outputs": []
    },
    {
      "cell_type": "code",
      "source": [
        "X_train_df = pd.DataFrame(X_train)\n",
        "X_train_df.head()"
      ],
      "metadata": {
        "colab": {
          "base_uri": "https://localhost:8080/",
          "height": 206
        },
        "id": "Pf2lzcrxILTs",
        "outputId": "d7bcf264-08c1-4679-b644-228c62b3c653"
      },
      "execution_count": null,
      "outputs": [
        {
          "output_type": "execute_result",
          "data": {
            "text/plain": [
              "          0         1         2\n",
              "0  0.645015  0.251800  0.057098\n",
              "1 -0.226789 -0.000923 -0.152627\n",
              "2 -0.507102  0.639171  1.000858\n",
              "3  0.570532  0.556311 -0.257489\n",
              "4 -0.573674  0.592562 -0.362352"
            ],
            "text/html": [
              "\n",
              "  <div id=\"df-202585f1-da48-46c1-95b2-b5cf28c8da52\" class=\"colab-df-container\">\n",
              "    <div>\n",
              "<style scoped>\n",
              "    .dataframe tbody tr th:only-of-type {\n",
              "        vertical-align: middle;\n",
              "    }\n",
              "\n",
              "    .dataframe tbody tr th {\n",
              "        vertical-align: top;\n",
              "    }\n",
              "\n",
              "    .dataframe thead th {\n",
              "        text-align: right;\n",
              "    }\n",
              "</style>\n",
              "<table border=\"1\" class=\"dataframe\">\n",
              "  <thead>\n",
              "    <tr style=\"text-align: right;\">\n",
              "      <th></th>\n",
              "      <th>0</th>\n",
              "      <th>1</th>\n",
              "      <th>2</th>\n",
              "    </tr>\n",
              "  </thead>\n",
              "  <tbody>\n",
              "    <tr>\n",
              "      <th>0</th>\n",
              "      <td>0.645015</td>\n",
              "      <td>0.251800</td>\n",
              "      <td>0.057098</td>\n",
              "    </tr>\n",
              "    <tr>\n",
              "      <th>1</th>\n",
              "      <td>-0.226789</td>\n",
              "      <td>-0.000923</td>\n",
              "      <td>-0.152627</td>\n",
              "    </tr>\n",
              "    <tr>\n",
              "      <th>2</th>\n",
              "      <td>-0.507102</td>\n",
              "      <td>0.639171</td>\n",
              "      <td>1.000858</td>\n",
              "    </tr>\n",
              "    <tr>\n",
              "      <th>3</th>\n",
              "      <td>0.570532</td>\n",
              "      <td>0.556311</td>\n",
              "      <td>-0.257489</td>\n",
              "    </tr>\n",
              "    <tr>\n",
              "      <th>4</th>\n",
              "      <td>-0.573674</td>\n",
              "      <td>0.592562</td>\n",
              "      <td>-0.362352</td>\n",
              "    </tr>\n",
              "  </tbody>\n",
              "</table>\n",
              "</div>\n",
              "    <div class=\"colab-df-buttons\">\n",
              "\n",
              "  <div class=\"colab-df-container\">\n",
              "    <button class=\"colab-df-convert\" onclick=\"convertToInteractive('df-202585f1-da48-46c1-95b2-b5cf28c8da52')\"\n",
              "            title=\"Convert this dataframe to an interactive table.\"\n",
              "            style=\"display:none;\">\n",
              "\n",
              "  <svg xmlns=\"http://www.w3.org/2000/svg\" height=\"24px\" viewBox=\"0 -960 960 960\">\n",
              "    <path d=\"M120-120v-720h720v720H120Zm60-500h600v-160H180v160Zm220 220h160v-160H400v160Zm0 220h160v-160H400v160ZM180-400h160v-160H180v160Zm440 0h160v-160H620v160ZM180-180h160v-160H180v160Zm440 0h160v-160H620v160Z\"/>\n",
              "  </svg>\n",
              "    </button>\n",
              "\n",
              "  <style>\n",
              "    .colab-df-container {\n",
              "      display:flex;\n",
              "      gap: 12px;\n",
              "    }\n",
              "\n",
              "    .colab-df-convert {\n",
              "      background-color: #E8F0FE;\n",
              "      border: none;\n",
              "      border-radius: 50%;\n",
              "      cursor: pointer;\n",
              "      display: none;\n",
              "      fill: #1967D2;\n",
              "      height: 32px;\n",
              "      padding: 0 0 0 0;\n",
              "      width: 32px;\n",
              "    }\n",
              "\n",
              "    .colab-df-convert:hover {\n",
              "      background-color: #E2EBFA;\n",
              "      box-shadow: 0px 1px 2px rgba(60, 64, 67, 0.3), 0px 1px 3px 1px rgba(60, 64, 67, 0.15);\n",
              "      fill: #174EA6;\n",
              "    }\n",
              "\n",
              "    .colab-df-buttons div {\n",
              "      margin-bottom: 4px;\n",
              "    }\n",
              "\n",
              "    [theme=dark] .colab-df-convert {\n",
              "      background-color: #3B4455;\n",
              "      fill: #D2E3FC;\n",
              "    }\n",
              "\n",
              "    [theme=dark] .colab-df-convert:hover {\n",
              "      background-color: #434B5C;\n",
              "      box-shadow: 0px 1px 3px 1px rgba(0, 0, 0, 0.15);\n",
              "      filter: drop-shadow(0px 1px 2px rgba(0, 0, 0, 0.3));\n",
              "      fill: #FFFFFF;\n",
              "    }\n",
              "  </style>\n",
              "\n",
              "    <script>\n",
              "      const buttonEl =\n",
              "        document.querySelector('#df-202585f1-da48-46c1-95b2-b5cf28c8da52 button.colab-df-convert');\n",
              "      buttonEl.style.display =\n",
              "        google.colab.kernel.accessAllowed ? 'block' : 'none';\n",
              "\n",
              "      async function convertToInteractive(key) {\n",
              "        const element = document.querySelector('#df-202585f1-da48-46c1-95b2-b5cf28c8da52');\n",
              "        const dataTable =\n",
              "          await google.colab.kernel.invokeFunction('convertToInteractive',\n",
              "                                                    [key], {});\n",
              "        if (!dataTable) return;\n",
              "\n",
              "        const docLinkHtml = 'Like what you see? Visit the ' +\n",
              "          '<a target=\"_blank\" href=https://colab.research.google.com/notebooks/data_table.ipynb>data table notebook</a>'\n",
              "          + ' to learn more about interactive tables.';\n",
              "        element.innerHTML = '';\n",
              "        dataTable['output_type'] = 'display_data';\n",
              "        await google.colab.output.renderOutput(dataTable, element);\n",
              "        const docLink = document.createElement('div');\n",
              "        docLink.innerHTML = docLinkHtml;\n",
              "        element.appendChild(docLink);\n",
              "      }\n",
              "    </script>\n",
              "  </div>\n",
              "\n",
              "\n",
              "<div id=\"df-d7b06ce3-1708-4123-aa99-027ab8361f50\">\n",
              "  <button class=\"colab-df-quickchart\" onclick=\"quickchart('df-d7b06ce3-1708-4123-aa99-027ab8361f50')\"\n",
              "            title=\"Suggest charts.\"\n",
              "            style=\"display:none;\">\n",
              "\n",
              "<svg xmlns=\"http://www.w3.org/2000/svg\" height=\"24px\"viewBox=\"0 0 24 24\"\n",
              "     width=\"24px\">\n",
              "    <g>\n",
              "        <path d=\"M19 3H5c-1.1 0-2 .9-2 2v14c0 1.1.9 2 2 2h14c1.1 0 2-.9 2-2V5c0-1.1-.9-2-2-2zM9 17H7v-7h2v7zm4 0h-2V7h2v10zm4 0h-2v-4h2v4z\"/>\n",
              "    </g>\n",
              "</svg>\n",
              "  </button>\n",
              "\n",
              "<style>\n",
              "  .colab-df-quickchart {\n",
              "    background-color: #E8F0FE;\n",
              "    border: none;\n",
              "    border-radius: 50%;\n",
              "    cursor: pointer;\n",
              "    display: none;\n",
              "    fill: #1967D2;\n",
              "    height: 32px;\n",
              "    padding: 0 0 0 0;\n",
              "    width: 32px;\n",
              "  }\n",
              "\n",
              "  .colab-df-quickchart:hover {\n",
              "    background-color: #E2EBFA;\n",
              "    box-shadow: 0px 1px 2px rgba(60, 64, 67, 0.3), 0px 1px 3px 1px rgba(60, 64, 67, 0.15);\n",
              "    fill: #174EA6;\n",
              "  }\n",
              "\n",
              "  [theme=dark] .colab-df-quickchart {\n",
              "    background-color: #3B4455;\n",
              "    fill: #D2E3FC;\n",
              "  }\n",
              "\n",
              "  [theme=dark] .colab-df-quickchart:hover {\n",
              "    background-color: #434B5C;\n",
              "    box-shadow: 0px 1px 3px 1px rgba(0, 0, 0, 0.15);\n",
              "    filter: drop-shadow(0px 1px 2px rgba(0, 0, 0, 0.3));\n",
              "    fill: #FFFFFF;\n",
              "  }\n",
              "</style>\n",
              "\n",
              "  <script>\n",
              "    async function quickchart(key) {\n",
              "      const charts = await google.colab.kernel.invokeFunction(\n",
              "          'suggestCharts', [key], {});\n",
              "    }\n",
              "    (() => {\n",
              "      let quickchartButtonEl =\n",
              "        document.querySelector('#df-d7b06ce3-1708-4123-aa99-027ab8361f50 button');\n",
              "      quickchartButtonEl.style.display =\n",
              "        google.colab.kernel.accessAllowed ? 'block' : 'none';\n",
              "    })();\n",
              "  </script>\n",
              "</div>\n",
              "    </div>\n",
              "  </div>\n"
            ]
          },
          "metadata": {},
          "execution_count": 71
        }
      ]
    },
    {
      "cell_type": "code",
      "source": [
        "X_train_df.describe()"
      ],
      "metadata": {
        "colab": {
          "base_uri": "https://localhost:8080/",
          "height": 300
        },
        "id": "1yQR51uaJBBM",
        "outputId": "c68196b3-678f-43d5-a67c-18e37194ce1b"
      },
      "execution_count": null,
      "outputs": [
        {
          "output_type": "execute_result",
          "data": {
            "text/plain": [
              "                0           1           2\n",
              "count  700.000000  700.000000  700.000000\n",
              "mean    -0.013047    0.026650    0.022418\n",
              "std      0.949767    0.992977    0.998648\n",
              "min     -0.683645   -2.585121   -1.148819\n",
              "25%     -0.521200   -0.483583   -0.637615\n",
              "50%     -0.296831    0.365733   -0.257489\n",
              "75%      0.119929    0.736791    0.371685\n",
              "max     10.626287    1.903823    5.352645"
            ],
            "text/html": [
              "\n",
              "  <div id=\"df-6b263f63-7dc7-4030-9eb5-934fa45d80ac\" class=\"colab-df-container\">\n",
              "    <div>\n",
              "<style scoped>\n",
              "    .dataframe tbody tr th:only-of-type {\n",
              "        vertical-align: middle;\n",
              "    }\n",
              "\n",
              "    .dataframe tbody tr th {\n",
              "        vertical-align: top;\n",
              "    }\n",
              "\n",
              "    .dataframe thead th {\n",
              "        text-align: right;\n",
              "    }\n",
              "</style>\n",
              "<table border=\"1\" class=\"dataframe\">\n",
              "  <thead>\n",
              "    <tr style=\"text-align: right;\">\n",
              "      <th></th>\n",
              "      <th>0</th>\n",
              "      <th>1</th>\n",
              "      <th>2</th>\n",
              "    </tr>\n",
              "  </thead>\n",
              "  <tbody>\n",
              "    <tr>\n",
              "      <th>count</th>\n",
              "      <td>700.000000</td>\n",
              "      <td>700.000000</td>\n",
              "      <td>700.000000</td>\n",
              "    </tr>\n",
              "    <tr>\n",
              "      <th>mean</th>\n",
              "      <td>-0.013047</td>\n",
              "      <td>0.026650</td>\n",
              "      <td>0.022418</td>\n",
              "    </tr>\n",
              "    <tr>\n",
              "      <th>std</th>\n",
              "      <td>0.949767</td>\n",
              "      <td>0.992977</td>\n",
              "      <td>0.998648</td>\n",
              "    </tr>\n",
              "    <tr>\n",
              "      <th>min</th>\n",
              "      <td>-0.683645</td>\n",
              "      <td>-2.585121</td>\n",
              "      <td>-1.148819</td>\n",
              "    </tr>\n",
              "    <tr>\n",
              "      <th>25%</th>\n",
              "      <td>-0.521200</td>\n",
              "      <td>-0.483583</td>\n",
              "      <td>-0.637615</td>\n",
              "    </tr>\n",
              "    <tr>\n",
              "      <th>50%</th>\n",
              "      <td>-0.296831</td>\n",
              "      <td>0.365733</td>\n",
              "      <td>-0.257489</td>\n",
              "    </tr>\n",
              "    <tr>\n",
              "      <th>75%</th>\n",
              "      <td>0.119929</td>\n",
              "      <td>0.736791</td>\n",
              "      <td>0.371685</td>\n",
              "    </tr>\n",
              "    <tr>\n",
              "      <th>max</th>\n",
              "      <td>10.626287</td>\n",
              "      <td>1.903823</td>\n",
              "      <td>5.352645</td>\n",
              "    </tr>\n",
              "  </tbody>\n",
              "</table>\n",
              "</div>\n",
              "    <div class=\"colab-df-buttons\">\n",
              "\n",
              "  <div class=\"colab-df-container\">\n",
              "    <button class=\"colab-df-convert\" onclick=\"convertToInteractive('df-6b263f63-7dc7-4030-9eb5-934fa45d80ac')\"\n",
              "            title=\"Convert this dataframe to an interactive table.\"\n",
              "            style=\"display:none;\">\n",
              "\n",
              "  <svg xmlns=\"http://www.w3.org/2000/svg\" height=\"24px\" viewBox=\"0 -960 960 960\">\n",
              "    <path d=\"M120-120v-720h720v720H120Zm60-500h600v-160H180v160Zm220 220h160v-160H400v160Zm0 220h160v-160H400v160ZM180-400h160v-160H180v160Zm440 0h160v-160H620v160ZM180-180h160v-160H180v160Zm440 0h160v-160H620v160Z\"/>\n",
              "  </svg>\n",
              "    </button>\n",
              "\n",
              "  <style>\n",
              "    .colab-df-container {\n",
              "      display:flex;\n",
              "      gap: 12px;\n",
              "    }\n",
              "\n",
              "    .colab-df-convert {\n",
              "      background-color: #E8F0FE;\n",
              "      border: none;\n",
              "      border-radius: 50%;\n",
              "      cursor: pointer;\n",
              "      display: none;\n",
              "      fill: #1967D2;\n",
              "      height: 32px;\n",
              "      padding: 0 0 0 0;\n",
              "      width: 32px;\n",
              "    }\n",
              "\n",
              "    .colab-df-convert:hover {\n",
              "      background-color: #E2EBFA;\n",
              "      box-shadow: 0px 1px 2px rgba(60, 64, 67, 0.3), 0px 1px 3px 1px rgba(60, 64, 67, 0.15);\n",
              "      fill: #174EA6;\n",
              "    }\n",
              "\n",
              "    .colab-df-buttons div {\n",
              "      margin-bottom: 4px;\n",
              "    }\n",
              "\n",
              "    [theme=dark] .colab-df-convert {\n",
              "      background-color: #3B4455;\n",
              "      fill: #D2E3FC;\n",
              "    }\n",
              "\n",
              "    [theme=dark] .colab-df-convert:hover {\n",
              "      background-color: #434B5C;\n",
              "      box-shadow: 0px 1px 3px 1px rgba(0, 0, 0, 0.15);\n",
              "      filter: drop-shadow(0px 1px 2px rgba(0, 0, 0, 0.3));\n",
              "      fill: #FFFFFF;\n",
              "    }\n",
              "  </style>\n",
              "\n",
              "    <script>\n",
              "      const buttonEl =\n",
              "        document.querySelector('#df-6b263f63-7dc7-4030-9eb5-934fa45d80ac button.colab-df-convert');\n",
              "      buttonEl.style.display =\n",
              "        google.colab.kernel.accessAllowed ? 'block' : 'none';\n",
              "\n",
              "      async function convertToInteractive(key) {\n",
              "        const element = document.querySelector('#df-6b263f63-7dc7-4030-9eb5-934fa45d80ac');\n",
              "        const dataTable =\n",
              "          await google.colab.kernel.invokeFunction('convertToInteractive',\n",
              "                                                    [key], {});\n",
              "        if (!dataTable) return;\n",
              "\n",
              "        const docLinkHtml = 'Like what you see? Visit the ' +\n",
              "          '<a target=\"_blank\" href=https://colab.research.google.com/notebooks/data_table.ipynb>data table notebook</a>'\n",
              "          + ' to learn more about interactive tables.';\n",
              "        element.innerHTML = '';\n",
              "        dataTable['output_type'] = 'display_data';\n",
              "        await google.colab.output.renderOutput(dataTable, element);\n",
              "        const docLink = document.createElement('div');\n",
              "        docLink.innerHTML = docLinkHtml;\n",
              "        element.appendChild(docLink);\n",
              "      }\n",
              "    </script>\n",
              "  </div>\n",
              "\n",
              "\n",
              "<div id=\"df-b38718f1-8d45-4b41-8a55-97b183d91b05\">\n",
              "  <button class=\"colab-df-quickchart\" onclick=\"quickchart('df-b38718f1-8d45-4b41-8a55-97b183d91b05')\"\n",
              "            title=\"Suggest charts.\"\n",
              "            style=\"display:none;\">\n",
              "\n",
              "<svg xmlns=\"http://www.w3.org/2000/svg\" height=\"24px\"viewBox=\"0 0 24 24\"\n",
              "     width=\"24px\">\n",
              "    <g>\n",
              "        <path d=\"M19 3H5c-1.1 0-2 .9-2 2v14c0 1.1.9 2 2 2h14c1.1 0 2-.9 2-2V5c0-1.1-.9-2-2-2zM9 17H7v-7h2v7zm4 0h-2V7h2v10zm4 0h-2v-4h2v4z\"/>\n",
              "    </g>\n",
              "</svg>\n",
              "  </button>\n",
              "\n",
              "<style>\n",
              "  .colab-df-quickchart {\n",
              "    background-color: #E8F0FE;\n",
              "    border: none;\n",
              "    border-radius: 50%;\n",
              "    cursor: pointer;\n",
              "    display: none;\n",
              "    fill: #1967D2;\n",
              "    height: 32px;\n",
              "    padding: 0 0 0 0;\n",
              "    width: 32px;\n",
              "  }\n",
              "\n",
              "  .colab-df-quickchart:hover {\n",
              "    background-color: #E2EBFA;\n",
              "    box-shadow: 0px 1px 2px rgba(60, 64, 67, 0.3), 0px 1px 3px 1px rgba(60, 64, 67, 0.15);\n",
              "    fill: #174EA6;\n",
              "  }\n",
              "\n",
              "  [theme=dark] .colab-df-quickchart {\n",
              "    background-color: #3B4455;\n",
              "    fill: #D2E3FC;\n",
              "  }\n",
              "\n",
              "  [theme=dark] .colab-df-quickchart:hover {\n",
              "    background-color: #434B5C;\n",
              "    box-shadow: 0px 1px 3px 1px rgba(0, 0, 0, 0.15);\n",
              "    filter: drop-shadow(0px 1px 2px rgba(0, 0, 0, 0.3));\n",
              "    fill: #FFFFFF;\n",
              "  }\n",
              "</style>\n",
              "\n",
              "  <script>\n",
              "    async function quickchart(key) {\n",
              "      const charts = await google.colab.kernel.invokeFunction(\n",
              "          'suggestCharts', [key], {});\n",
              "    }\n",
              "    (() => {\n",
              "      let quickchartButtonEl =\n",
              "        document.querySelector('#df-b38718f1-8d45-4b41-8a55-97b183d91b05 button');\n",
              "      quickchartButtonEl.style.display =\n",
              "        google.colab.kernel.accessAllowed ? 'block' : 'none';\n",
              "    })();\n",
              "  </script>\n",
              "</div>\n",
              "    </div>\n",
              "  </div>\n"
            ]
          },
          "metadata": {},
          "execution_count": 72
        }
      ]
    },
    {
      "cell_type": "code",
      "source": [
        "X_test_df = pd.DataFrame(X_test)\n",
        "X_test_df.head()"
      ],
      "metadata": {
        "colab": {
          "base_uri": "https://localhost:8080/",
          "height": 206
        },
        "id": "J8QWTBqnJWQQ",
        "outputId": "982752ee-1942-4dea-b1bb-52d31e28e46f"
      },
      "execution_count": null,
      "outputs": [
        {
          "output_type": "execute_result",
          "data": {
            "text/plain": [
              "          0         1         2\n",
              "0  0.561210 -0.693840 -0.414783\n",
              "1  1.973225 -0.545728  0.057098\n",
              "2  0.377023  0.451700 -0.939095\n",
              "3  0.290443 -1.931563  2.521362\n",
              "4  0.911158 -0.829524  1.630032"
            ],
            "text/html": [
              "\n",
              "  <div id=\"df-d93f8f2e-aced-4b64-ba11-c8d3be10c3df\" class=\"colab-df-container\">\n",
              "    <div>\n",
              "<style scoped>\n",
              "    .dataframe tbody tr th:only-of-type {\n",
              "        vertical-align: middle;\n",
              "    }\n",
              "\n",
              "    .dataframe tbody tr th {\n",
              "        vertical-align: top;\n",
              "    }\n",
              "\n",
              "    .dataframe thead th {\n",
              "        text-align: right;\n",
              "    }\n",
              "</style>\n",
              "<table border=\"1\" class=\"dataframe\">\n",
              "  <thead>\n",
              "    <tr style=\"text-align: right;\">\n",
              "      <th></th>\n",
              "      <th>0</th>\n",
              "      <th>1</th>\n",
              "      <th>2</th>\n",
              "    </tr>\n",
              "  </thead>\n",
              "  <tbody>\n",
              "    <tr>\n",
              "      <th>0</th>\n",
              "      <td>0.561210</td>\n",
              "      <td>-0.693840</td>\n",
              "      <td>-0.414783</td>\n",
              "    </tr>\n",
              "    <tr>\n",
              "      <th>1</th>\n",
              "      <td>1.973225</td>\n",
              "      <td>-0.545728</td>\n",
              "      <td>0.057098</td>\n",
              "    </tr>\n",
              "    <tr>\n",
              "      <th>2</th>\n",
              "      <td>0.377023</td>\n",
              "      <td>0.451700</td>\n",
              "      <td>-0.939095</td>\n",
              "    </tr>\n",
              "    <tr>\n",
              "      <th>3</th>\n",
              "      <td>0.290443</td>\n",
              "      <td>-1.931563</td>\n",
              "      <td>2.521362</td>\n",
              "    </tr>\n",
              "    <tr>\n",
              "      <th>4</th>\n",
              "      <td>0.911158</td>\n",
              "      <td>-0.829524</td>\n",
              "      <td>1.630032</td>\n",
              "    </tr>\n",
              "  </tbody>\n",
              "</table>\n",
              "</div>\n",
              "    <div class=\"colab-df-buttons\">\n",
              "\n",
              "  <div class=\"colab-df-container\">\n",
              "    <button class=\"colab-df-convert\" onclick=\"convertToInteractive('df-d93f8f2e-aced-4b64-ba11-c8d3be10c3df')\"\n",
              "            title=\"Convert this dataframe to an interactive table.\"\n",
              "            style=\"display:none;\">\n",
              "\n",
              "  <svg xmlns=\"http://www.w3.org/2000/svg\" height=\"24px\" viewBox=\"0 -960 960 960\">\n",
              "    <path d=\"M120-120v-720h720v720H120Zm60-500h600v-160H180v160Zm220 220h160v-160H400v160Zm0 220h160v-160H400v160ZM180-400h160v-160H180v160Zm440 0h160v-160H620v160ZM180-180h160v-160H180v160Zm440 0h160v-160H620v160Z\"/>\n",
              "  </svg>\n",
              "    </button>\n",
              "\n",
              "  <style>\n",
              "    .colab-df-container {\n",
              "      display:flex;\n",
              "      gap: 12px;\n",
              "    }\n",
              "\n",
              "    .colab-df-convert {\n",
              "      background-color: #E8F0FE;\n",
              "      border: none;\n",
              "      border-radius: 50%;\n",
              "      cursor: pointer;\n",
              "      display: none;\n",
              "      fill: #1967D2;\n",
              "      height: 32px;\n",
              "      padding: 0 0 0 0;\n",
              "      width: 32px;\n",
              "    }\n",
              "\n",
              "    .colab-df-convert:hover {\n",
              "      background-color: #E2EBFA;\n",
              "      box-shadow: 0px 1px 2px rgba(60, 64, 67, 0.3), 0px 1px 3px 1px rgba(60, 64, 67, 0.15);\n",
              "      fill: #174EA6;\n",
              "    }\n",
              "\n",
              "    .colab-df-buttons div {\n",
              "      margin-bottom: 4px;\n",
              "    }\n",
              "\n",
              "    [theme=dark] .colab-df-convert {\n",
              "      background-color: #3B4455;\n",
              "      fill: #D2E3FC;\n",
              "    }\n",
              "\n",
              "    [theme=dark] .colab-df-convert:hover {\n",
              "      background-color: #434B5C;\n",
              "      box-shadow: 0px 1px 3px 1px rgba(0, 0, 0, 0.15);\n",
              "      filter: drop-shadow(0px 1px 2px rgba(0, 0, 0, 0.3));\n",
              "      fill: #FFFFFF;\n",
              "    }\n",
              "  </style>\n",
              "\n",
              "    <script>\n",
              "      const buttonEl =\n",
              "        document.querySelector('#df-d93f8f2e-aced-4b64-ba11-c8d3be10c3df button.colab-df-convert');\n",
              "      buttonEl.style.display =\n",
              "        google.colab.kernel.accessAllowed ? 'block' : 'none';\n",
              "\n",
              "      async function convertToInteractive(key) {\n",
              "        const element = document.querySelector('#df-d93f8f2e-aced-4b64-ba11-c8d3be10c3df');\n",
              "        const dataTable =\n",
              "          await google.colab.kernel.invokeFunction('convertToInteractive',\n",
              "                                                    [key], {});\n",
              "        if (!dataTable) return;\n",
              "\n",
              "        const docLinkHtml = 'Like what you see? Visit the ' +\n",
              "          '<a target=\"_blank\" href=https://colab.research.google.com/notebooks/data_table.ipynb>data table notebook</a>'\n",
              "          + ' to learn more about interactive tables.';\n",
              "        element.innerHTML = '';\n",
              "        dataTable['output_type'] = 'display_data';\n",
              "        await google.colab.output.renderOutput(dataTable, element);\n",
              "        const docLink = document.createElement('div');\n",
              "        docLink.innerHTML = docLinkHtml;\n",
              "        element.appendChild(docLink);\n",
              "      }\n",
              "    </script>\n",
              "  </div>\n",
              "\n",
              "\n",
              "<div id=\"df-4d1c2a73-165c-4b67-84e8-ef4df607cd00\">\n",
              "  <button class=\"colab-df-quickchart\" onclick=\"quickchart('df-4d1c2a73-165c-4b67-84e8-ef4df607cd00')\"\n",
              "            title=\"Suggest charts.\"\n",
              "            style=\"display:none;\">\n",
              "\n",
              "<svg xmlns=\"http://www.w3.org/2000/svg\" height=\"24px\"viewBox=\"0 0 24 24\"\n",
              "     width=\"24px\">\n",
              "    <g>\n",
              "        <path d=\"M19 3H5c-1.1 0-2 .9-2 2v14c0 1.1.9 2 2 2h14c1.1 0 2-.9 2-2V5c0-1.1-.9-2-2-2zM9 17H7v-7h2v7zm4 0h-2V7h2v10zm4 0h-2v-4h2v4z\"/>\n",
              "    </g>\n",
              "</svg>\n",
              "  </button>\n",
              "\n",
              "<style>\n",
              "  .colab-df-quickchart {\n",
              "    background-color: #E8F0FE;\n",
              "    border: none;\n",
              "    border-radius: 50%;\n",
              "    cursor: pointer;\n",
              "    display: none;\n",
              "    fill: #1967D2;\n",
              "    height: 32px;\n",
              "    padding: 0 0 0 0;\n",
              "    width: 32px;\n",
              "  }\n",
              "\n",
              "  .colab-df-quickchart:hover {\n",
              "    background-color: #E2EBFA;\n",
              "    box-shadow: 0px 1px 2px rgba(60, 64, 67, 0.3), 0px 1px 3px 1px rgba(60, 64, 67, 0.15);\n",
              "    fill: #174EA6;\n",
              "  }\n",
              "\n",
              "  [theme=dark] .colab-df-quickchart {\n",
              "    background-color: #3B4455;\n",
              "    fill: #D2E3FC;\n",
              "  }\n",
              "\n",
              "  [theme=dark] .colab-df-quickchart:hover {\n",
              "    background-color: #434B5C;\n",
              "    box-shadow: 0px 1px 3px 1px rgba(0, 0, 0, 0.15);\n",
              "    filter: drop-shadow(0px 1px 2px rgba(0, 0, 0, 0.3));\n",
              "    fill: #FFFFFF;\n",
              "  }\n",
              "</style>\n",
              "\n",
              "  <script>\n",
              "    async function quickchart(key) {\n",
              "      const charts = await google.colab.kernel.invokeFunction(\n",
              "          'suggestCharts', [key], {});\n",
              "    }\n",
              "    (() => {\n",
              "      let quickchartButtonEl =\n",
              "        document.querySelector('#df-4d1c2a73-165c-4b67-84e8-ef4df607cd00 button');\n",
              "      quickchartButtonEl.style.display =\n",
              "        google.colab.kernel.accessAllowed ? 'block' : 'none';\n",
              "    })();\n",
              "  </script>\n",
              "</div>\n",
              "    </div>\n",
              "  </div>\n"
            ]
          },
          "metadata": {},
          "execution_count": 73
        }
      ]
    },
    {
      "cell_type": "code",
      "source": [
        "X_test_df.describe()"
      ],
      "metadata": {
        "colab": {
          "base_uri": "https://localhost:8080/",
          "height": 300
        },
        "id": "Kcvn2gfBJbE0",
        "outputId": "e4393853-bb35-4b8e-e9a0-8c6eb5c03e19"
      },
      "execution_count": null,
      "outputs": [
        {
          "output_type": "execute_result",
          "data": {
            "text/plain": [
              "                0           1           2\n",
              "count  300.000000  300.000000  300.000000\n",
              "mean     0.030442   -0.062184   -0.052309\n",
              "std      1.111004    1.016792    1.004532\n",
              "min     -0.683645   -2.764306   -1.096388\n",
              "25%     -0.529459   -0.837292   -0.637615\n",
              "50%     -0.325508    0.313428   -0.283705\n",
              "75%      0.114624    0.737568    0.214391\n",
              "max      9.624778    1.174654    6.925580"
            ],
            "text/html": [
              "\n",
              "  <div id=\"df-4ecc7a7d-b204-4f29-9936-a7ec3df9677d\" class=\"colab-df-container\">\n",
              "    <div>\n",
              "<style scoped>\n",
              "    .dataframe tbody tr th:only-of-type {\n",
              "        vertical-align: middle;\n",
              "    }\n",
              "\n",
              "    .dataframe tbody tr th {\n",
              "        vertical-align: top;\n",
              "    }\n",
              "\n",
              "    .dataframe thead th {\n",
              "        text-align: right;\n",
              "    }\n",
              "</style>\n",
              "<table border=\"1\" class=\"dataframe\">\n",
              "  <thead>\n",
              "    <tr style=\"text-align: right;\">\n",
              "      <th></th>\n",
              "      <th>0</th>\n",
              "      <th>1</th>\n",
              "      <th>2</th>\n",
              "    </tr>\n",
              "  </thead>\n",
              "  <tbody>\n",
              "    <tr>\n",
              "      <th>count</th>\n",
              "      <td>300.000000</td>\n",
              "      <td>300.000000</td>\n",
              "      <td>300.000000</td>\n",
              "    </tr>\n",
              "    <tr>\n",
              "      <th>mean</th>\n",
              "      <td>0.030442</td>\n",
              "      <td>-0.062184</td>\n",
              "      <td>-0.052309</td>\n",
              "    </tr>\n",
              "    <tr>\n",
              "      <th>std</th>\n",
              "      <td>1.111004</td>\n",
              "      <td>1.016792</td>\n",
              "      <td>1.004532</td>\n",
              "    </tr>\n",
              "    <tr>\n",
              "      <th>min</th>\n",
              "      <td>-0.683645</td>\n",
              "      <td>-2.764306</td>\n",
              "      <td>-1.096388</td>\n",
              "    </tr>\n",
              "    <tr>\n",
              "      <th>25%</th>\n",
              "      <td>-0.529459</td>\n",
              "      <td>-0.837292</td>\n",
              "      <td>-0.637615</td>\n",
              "    </tr>\n",
              "    <tr>\n",
              "      <th>50%</th>\n",
              "      <td>-0.325508</td>\n",
              "      <td>0.313428</td>\n",
              "      <td>-0.283705</td>\n",
              "    </tr>\n",
              "    <tr>\n",
              "      <th>75%</th>\n",
              "      <td>0.114624</td>\n",
              "      <td>0.737568</td>\n",
              "      <td>0.214391</td>\n",
              "    </tr>\n",
              "    <tr>\n",
              "      <th>max</th>\n",
              "      <td>9.624778</td>\n",
              "      <td>1.174654</td>\n",
              "      <td>6.925580</td>\n",
              "    </tr>\n",
              "  </tbody>\n",
              "</table>\n",
              "</div>\n",
              "    <div class=\"colab-df-buttons\">\n",
              "\n",
              "  <div class=\"colab-df-container\">\n",
              "    <button class=\"colab-df-convert\" onclick=\"convertToInteractive('df-4ecc7a7d-b204-4f29-9936-a7ec3df9677d')\"\n",
              "            title=\"Convert this dataframe to an interactive table.\"\n",
              "            style=\"display:none;\">\n",
              "\n",
              "  <svg xmlns=\"http://www.w3.org/2000/svg\" height=\"24px\" viewBox=\"0 -960 960 960\">\n",
              "    <path d=\"M120-120v-720h720v720H120Zm60-500h600v-160H180v160Zm220 220h160v-160H400v160Zm0 220h160v-160H400v160ZM180-400h160v-160H180v160Zm440 0h160v-160H620v160ZM180-180h160v-160H180v160Zm440 0h160v-160H620v160Z\"/>\n",
              "  </svg>\n",
              "    </button>\n",
              "\n",
              "  <style>\n",
              "    .colab-df-container {\n",
              "      display:flex;\n",
              "      gap: 12px;\n",
              "    }\n",
              "\n",
              "    .colab-df-convert {\n",
              "      background-color: #E8F0FE;\n",
              "      border: none;\n",
              "      border-radius: 50%;\n",
              "      cursor: pointer;\n",
              "      display: none;\n",
              "      fill: #1967D2;\n",
              "      height: 32px;\n",
              "      padding: 0 0 0 0;\n",
              "      width: 32px;\n",
              "    }\n",
              "\n",
              "    .colab-df-convert:hover {\n",
              "      background-color: #E2EBFA;\n",
              "      box-shadow: 0px 1px 2px rgba(60, 64, 67, 0.3), 0px 1px 3px 1px rgba(60, 64, 67, 0.15);\n",
              "      fill: #174EA6;\n",
              "    }\n",
              "\n",
              "    .colab-df-buttons div {\n",
              "      margin-bottom: 4px;\n",
              "    }\n",
              "\n",
              "    [theme=dark] .colab-df-convert {\n",
              "      background-color: #3B4455;\n",
              "      fill: #D2E3FC;\n",
              "    }\n",
              "\n",
              "    [theme=dark] .colab-df-convert:hover {\n",
              "      background-color: #434B5C;\n",
              "      box-shadow: 0px 1px 3px 1px rgba(0, 0, 0, 0.15);\n",
              "      filter: drop-shadow(0px 1px 2px rgba(0, 0, 0, 0.3));\n",
              "      fill: #FFFFFF;\n",
              "    }\n",
              "  </style>\n",
              "\n",
              "    <script>\n",
              "      const buttonEl =\n",
              "        document.querySelector('#df-4ecc7a7d-b204-4f29-9936-a7ec3df9677d button.colab-df-convert');\n",
              "      buttonEl.style.display =\n",
              "        google.colab.kernel.accessAllowed ? 'block' : 'none';\n",
              "\n",
              "      async function convertToInteractive(key) {\n",
              "        const element = document.querySelector('#df-4ecc7a7d-b204-4f29-9936-a7ec3df9677d');\n",
              "        const dataTable =\n",
              "          await google.colab.kernel.invokeFunction('convertToInteractive',\n",
              "                                                    [key], {});\n",
              "        if (!dataTable) return;\n",
              "\n",
              "        const docLinkHtml = 'Like what you see? Visit the ' +\n",
              "          '<a target=\"_blank\" href=https://colab.research.google.com/notebooks/data_table.ipynb>data table notebook</a>'\n",
              "          + ' to learn more about interactive tables.';\n",
              "        element.innerHTML = '';\n",
              "        dataTable['output_type'] = 'display_data';\n",
              "        await google.colab.output.renderOutput(dataTable, element);\n",
              "        const docLink = document.createElement('div');\n",
              "        docLink.innerHTML = docLinkHtml;\n",
              "        element.appendChild(docLink);\n",
              "      }\n",
              "    </script>\n",
              "  </div>\n",
              "\n",
              "\n",
              "<div id=\"df-40b9db0a-e481-4dc7-a168-5a4b66a62cbd\">\n",
              "  <button class=\"colab-df-quickchart\" onclick=\"quickchart('df-40b9db0a-e481-4dc7-a168-5a4b66a62cbd')\"\n",
              "            title=\"Suggest charts.\"\n",
              "            style=\"display:none;\">\n",
              "\n",
              "<svg xmlns=\"http://www.w3.org/2000/svg\" height=\"24px\"viewBox=\"0 0 24 24\"\n",
              "     width=\"24px\">\n",
              "    <g>\n",
              "        <path d=\"M19 3H5c-1.1 0-2 .9-2 2v14c0 1.1.9 2 2 2h14c1.1 0 2-.9 2-2V5c0-1.1-.9-2-2-2zM9 17H7v-7h2v7zm4 0h-2V7h2v10zm4 0h-2v-4h2v4z\"/>\n",
              "    </g>\n",
              "</svg>\n",
              "  </button>\n",
              "\n",
              "<style>\n",
              "  .colab-df-quickchart {\n",
              "    background-color: #E8F0FE;\n",
              "    border: none;\n",
              "    border-radius: 50%;\n",
              "    cursor: pointer;\n",
              "    display: none;\n",
              "    fill: #1967D2;\n",
              "    height: 32px;\n",
              "    padding: 0 0 0 0;\n",
              "    width: 32px;\n",
              "  }\n",
              "\n",
              "  .colab-df-quickchart:hover {\n",
              "    background-color: #E2EBFA;\n",
              "    box-shadow: 0px 1px 2px rgba(60, 64, 67, 0.3), 0px 1px 3px 1px rgba(60, 64, 67, 0.15);\n",
              "    fill: #174EA6;\n",
              "  }\n",
              "\n",
              "  [theme=dark] .colab-df-quickchart {\n",
              "    background-color: #3B4455;\n",
              "    fill: #D2E3FC;\n",
              "  }\n",
              "\n",
              "  [theme=dark] .colab-df-quickchart:hover {\n",
              "    background-color: #434B5C;\n",
              "    box-shadow: 0px 1px 3px 1px rgba(0, 0, 0, 0.15);\n",
              "    filter: drop-shadow(0px 1px 2px rgba(0, 0, 0, 0.3));\n",
              "    fill: #FFFFFF;\n",
              "  }\n",
              "</style>\n",
              "\n",
              "  <script>\n",
              "    async function quickchart(key) {\n",
              "      const charts = await google.colab.kernel.invokeFunction(\n",
              "          'suggestCharts', [key], {});\n",
              "    }\n",
              "    (() => {\n",
              "      let quickchartButtonEl =\n",
              "        document.querySelector('#df-40b9db0a-e481-4dc7-a168-5a4b66a62cbd button');\n",
              "      quickchartButtonEl.style.display =\n",
              "        google.colab.kernel.accessAllowed ? 'block' : 'none';\n",
              "    })();\n",
              "  </script>\n",
              "</div>\n",
              "    </div>\n",
              "  </div>\n"
            ]
          },
          "metadata": {},
          "execution_count": 74
        }
      ]
    },
    {
      "cell_type": "code",
      "source": [
        "Y.describe()\n",
        "# 이탈여부의 mean 이 0.3이라는 것은 이탈여부가 0인 경우가 더 많다는 뜻 --> Y가 불균형함 (7:3)\n",
        "# 이탈여부가 0인게 700개 / 이탈여부가 1인게 300개\n",
        "# 오버 샘플링은 이탈여부가 1인걸 700까지 늘려주는 것이고, 언더 샘플링은 이탈여부가 0인 것을 300까지 줄여주는 것"
      ],
      "metadata": {
        "colab": {
          "base_uri": "https://localhost:8080/"
        },
        "id": "LCl56dPxNj5-",
        "outputId": "5c3122d0-823b-40db-a7b2-512c226d9366"
      },
      "execution_count": null,
      "outputs": [
        {
          "output_type": "execute_result",
          "data": {
            "text/plain": [
              "count    1000.000000\n",
              "mean        0.300000\n",
              "std         0.458487\n",
              "min         0.000000\n",
              "25%         0.000000\n",
              "50%         0.000000\n",
              "75%         1.000000\n",
              "max         1.000000\n",
              "Name: 이탈여부, dtype: float64"
            ]
          },
          "metadata": {},
          "execution_count": 75
        }
      ]
    },
    {
      "cell_type": "code",
      "source": [
        "Y_train_df = pd.DataFrame(Y_train)\n",
        "Y_train_df.describe()"
      ],
      "metadata": {
        "colab": {
          "base_uri": "https://localhost:8080/",
          "height": 300
        },
        "id": "wO7LXRaIOP1A",
        "outputId": "94518723-cb9f-4228-8730-155e3a7514ba"
      },
      "execution_count": null,
      "outputs": [
        {
          "output_type": "execute_result",
          "data": {
            "text/plain": [
              "             이탈여부\n",
              "count  700.000000\n",
              "mean     0.312857\n",
              "std      0.463988\n",
              "min      0.000000\n",
              "25%      0.000000\n",
              "50%      0.000000\n",
              "75%      1.000000\n",
              "max      1.000000"
            ],
            "text/html": [
              "\n",
              "  <div id=\"df-7b7c7d6d-df30-40d3-ae3e-5f4169fba5a7\" class=\"colab-df-container\">\n",
              "    <div>\n",
              "<style scoped>\n",
              "    .dataframe tbody tr th:only-of-type {\n",
              "        vertical-align: middle;\n",
              "    }\n",
              "\n",
              "    .dataframe tbody tr th {\n",
              "        vertical-align: top;\n",
              "    }\n",
              "\n",
              "    .dataframe thead th {\n",
              "        text-align: right;\n",
              "    }\n",
              "</style>\n",
              "<table border=\"1\" class=\"dataframe\">\n",
              "  <thead>\n",
              "    <tr style=\"text-align: right;\">\n",
              "      <th></th>\n",
              "      <th>이탈여부</th>\n",
              "    </tr>\n",
              "  </thead>\n",
              "  <tbody>\n",
              "    <tr>\n",
              "      <th>count</th>\n",
              "      <td>700.000000</td>\n",
              "    </tr>\n",
              "    <tr>\n",
              "      <th>mean</th>\n",
              "      <td>0.312857</td>\n",
              "    </tr>\n",
              "    <tr>\n",
              "      <th>std</th>\n",
              "      <td>0.463988</td>\n",
              "    </tr>\n",
              "    <tr>\n",
              "      <th>min</th>\n",
              "      <td>0.000000</td>\n",
              "    </tr>\n",
              "    <tr>\n",
              "      <th>25%</th>\n",
              "      <td>0.000000</td>\n",
              "    </tr>\n",
              "    <tr>\n",
              "      <th>50%</th>\n",
              "      <td>0.000000</td>\n",
              "    </tr>\n",
              "    <tr>\n",
              "      <th>75%</th>\n",
              "      <td>1.000000</td>\n",
              "    </tr>\n",
              "    <tr>\n",
              "      <th>max</th>\n",
              "      <td>1.000000</td>\n",
              "    </tr>\n",
              "  </tbody>\n",
              "</table>\n",
              "</div>\n",
              "    <div class=\"colab-df-buttons\">\n",
              "\n",
              "  <div class=\"colab-df-container\">\n",
              "    <button class=\"colab-df-convert\" onclick=\"convertToInteractive('df-7b7c7d6d-df30-40d3-ae3e-5f4169fba5a7')\"\n",
              "            title=\"Convert this dataframe to an interactive table.\"\n",
              "            style=\"display:none;\">\n",
              "\n",
              "  <svg xmlns=\"http://www.w3.org/2000/svg\" height=\"24px\" viewBox=\"0 -960 960 960\">\n",
              "    <path d=\"M120-120v-720h720v720H120Zm60-500h600v-160H180v160Zm220 220h160v-160H400v160Zm0 220h160v-160H400v160ZM180-400h160v-160H180v160Zm440 0h160v-160H620v160ZM180-180h160v-160H180v160Zm440 0h160v-160H620v160Z\"/>\n",
              "  </svg>\n",
              "    </button>\n",
              "\n",
              "  <style>\n",
              "    .colab-df-container {\n",
              "      display:flex;\n",
              "      gap: 12px;\n",
              "    }\n",
              "\n",
              "    .colab-df-convert {\n",
              "      background-color: #E8F0FE;\n",
              "      border: none;\n",
              "      border-radius: 50%;\n",
              "      cursor: pointer;\n",
              "      display: none;\n",
              "      fill: #1967D2;\n",
              "      height: 32px;\n",
              "      padding: 0 0 0 0;\n",
              "      width: 32px;\n",
              "    }\n",
              "\n",
              "    .colab-df-convert:hover {\n",
              "      background-color: #E2EBFA;\n",
              "      box-shadow: 0px 1px 2px rgba(60, 64, 67, 0.3), 0px 1px 3px 1px rgba(60, 64, 67, 0.15);\n",
              "      fill: #174EA6;\n",
              "    }\n",
              "\n",
              "    .colab-df-buttons div {\n",
              "      margin-bottom: 4px;\n",
              "    }\n",
              "\n",
              "    [theme=dark] .colab-df-convert {\n",
              "      background-color: #3B4455;\n",
              "      fill: #D2E3FC;\n",
              "    }\n",
              "\n",
              "    [theme=dark] .colab-df-convert:hover {\n",
              "      background-color: #434B5C;\n",
              "      box-shadow: 0px 1px 3px 1px rgba(0, 0, 0, 0.15);\n",
              "      filter: drop-shadow(0px 1px 2px rgba(0, 0, 0, 0.3));\n",
              "      fill: #FFFFFF;\n",
              "    }\n",
              "  </style>\n",
              "\n",
              "    <script>\n",
              "      const buttonEl =\n",
              "        document.querySelector('#df-7b7c7d6d-df30-40d3-ae3e-5f4169fba5a7 button.colab-df-convert');\n",
              "      buttonEl.style.display =\n",
              "        google.colab.kernel.accessAllowed ? 'block' : 'none';\n",
              "\n",
              "      async function convertToInteractive(key) {\n",
              "        const element = document.querySelector('#df-7b7c7d6d-df30-40d3-ae3e-5f4169fba5a7');\n",
              "        const dataTable =\n",
              "          await google.colab.kernel.invokeFunction('convertToInteractive',\n",
              "                                                    [key], {});\n",
              "        if (!dataTable) return;\n",
              "\n",
              "        const docLinkHtml = 'Like what you see? Visit the ' +\n",
              "          '<a target=\"_blank\" href=https://colab.research.google.com/notebooks/data_table.ipynb>data table notebook</a>'\n",
              "          + ' to learn more about interactive tables.';\n",
              "        element.innerHTML = '';\n",
              "        dataTable['output_type'] = 'display_data';\n",
              "        await google.colab.output.renderOutput(dataTable, element);\n",
              "        const docLink = document.createElement('div');\n",
              "        docLink.innerHTML = docLinkHtml;\n",
              "        element.appendChild(docLink);\n",
              "      }\n",
              "    </script>\n",
              "  </div>\n",
              "\n",
              "\n",
              "<div id=\"df-2b0d72fa-6259-431b-92f0-78de04761b64\">\n",
              "  <button class=\"colab-df-quickchart\" onclick=\"quickchart('df-2b0d72fa-6259-431b-92f0-78de04761b64')\"\n",
              "            title=\"Suggest charts.\"\n",
              "            style=\"display:none;\">\n",
              "\n",
              "<svg xmlns=\"http://www.w3.org/2000/svg\" height=\"24px\"viewBox=\"0 0 24 24\"\n",
              "     width=\"24px\">\n",
              "    <g>\n",
              "        <path d=\"M19 3H5c-1.1 0-2 .9-2 2v14c0 1.1.9 2 2 2h14c1.1 0 2-.9 2-2V5c0-1.1-.9-2-2-2zM9 17H7v-7h2v7zm4 0h-2V7h2v10zm4 0h-2v-4h2v4z\"/>\n",
              "    </g>\n",
              "</svg>\n",
              "  </button>\n",
              "\n",
              "<style>\n",
              "  .colab-df-quickchart {\n",
              "    background-color: #E8F0FE;\n",
              "    border: none;\n",
              "    border-radius: 50%;\n",
              "    cursor: pointer;\n",
              "    display: none;\n",
              "    fill: #1967D2;\n",
              "    height: 32px;\n",
              "    padding: 0 0 0 0;\n",
              "    width: 32px;\n",
              "  }\n",
              "\n",
              "  .colab-df-quickchart:hover {\n",
              "    background-color: #E2EBFA;\n",
              "    box-shadow: 0px 1px 2px rgba(60, 64, 67, 0.3), 0px 1px 3px 1px rgba(60, 64, 67, 0.15);\n",
              "    fill: #174EA6;\n",
              "  }\n",
              "\n",
              "  [theme=dark] .colab-df-quickchart {\n",
              "    background-color: #3B4455;\n",
              "    fill: #D2E3FC;\n",
              "  }\n",
              "\n",
              "  [theme=dark] .colab-df-quickchart:hover {\n",
              "    background-color: #434B5C;\n",
              "    box-shadow: 0px 1px 3px 1px rgba(0, 0, 0, 0.15);\n",
              "    filter: drop-shadow(0px 1px 2px rgba(0, 0, 0, 0.3));\n",
              "    fill: #FFFFFF;\n",
              "  }\n",
              "</style>\n",
              "\n",
              "  <script>\n",
              "    async function quickchart(key) {\n",
              "      const charts = await google.colab.kernel.invokeFunction(\n",
              "          'suggestCharts', [key], {});\n",
              "    }\n",
              "    (() => {\n",
              "      let quickchartButtonEl =\n",
              "        document.querySelector('#df-2b0d72fa-6259-431b-92f0-78de04761b64 button');\n",
              "      quickchartButtonEl.style.display =\n",
              "        google.colab.kernel.accessAllowed ? 'block' : 'none';\n",
              "    })();\n",
              "  </script>\n",
              "</div>\n",
              "    </div>\n",
              "  </div>\n"
            ]
          },
          "metadata": {},
          "execution_count": 76
        }
      ]
    },
    {
      "cell_type": "code",
      "source": [
        "from imblearn.over_sampling import SMOTE # imbalance learning\n",
        "from collections import Counter"
      ],
      "metadata": {
        "id": "UaAfWrxQOXfV"
      },
      "execution_count": null,
      "outputs": []
    },
    {
      "cell_type": "code",
      "source": [
        "smote = SMOTE(random_state = 0)"
      ],
      "metadata": {
        "id": "Wx0pawMFOqMO"
      },
      "execution_count": null,
      "outputs": []
    },
    {
      "cell_type": "code",
      "source": [
        "X_train_over, Y_train_over = smote.fit_resample(X_train, Y_train)\n",
        "# 현재 Y의 값이 불균형해서 oversampling 해줘야되는데, Y를 더 배정할 때 X도 함께 뽑히기 때문에(같은 인덱스의 행이 뽑힘) smote를 할 때, X_train과 Y_train 을 같이 넣는다."
      ],
      "metadata": {
        "id": "r08oRJXZOslT"
      },
      "execution_count": null,
      "outputs": []
    },
    {
      "cell_type": "code",
      "source": [
        "X_train_df= pd.DataFrame(X_train_over)\n",
        "X_train_df.describe()"
      ],
      "metadata": {
        "colab": {
          "base_uri": "https://localhost:8080/",
          "height": 300
        },
        "id": "Qko_XRVOO3_2",
        "outputId": "301ddeb8-0566-48cd-d77e-0afe1527c5e5"
      },
      "execution_count": null,
      "outputs": [
        {
          "output_type": "execute_result",
          "data": {
            "text/plain": [
              "                0           1           2\n",
              "count  962.000000  962.000000  962.000000\n",
              "mean    -0.063832   -0.070687   -0.058129\n",
              "std      0.901982    1.012710    0.986468\n",
              "min     -0.683645   -2.585121   -1.148819\n",
              "25%     -0.538150   -0.507405   -0.729370\n",
              "50%     -0.328750    0.275984   -0.345678\n",
              "75%      0.051036    0.596964    0.266822\n",
              "max     10.626287    1.903823    5.352645"
            ],
            "text/html": [
              "\n",
              "  <div id=\"df-3f97a7d4-adfb-4c2d-a5c9-f73319f142e2\" class=\"colab-df-container\">\n",
              "    <div>\n",
              "<style scoped>\n",
              "    .dataframe tbody tr th:only-of-type {\n",
              "        vertical-align: middle;\n",
              "    }\n",
              "\n",
              "    .dataframe tbody tr th {\n",
              "        vertical-align: top;\n",
              "    }\n",
              "\n",
              "    .dataframe thead th {\n",
              "        text-align: right;\n",
              "    }\n",
              "</style>\n",
              "<table border=\"1\" class=\"dataframe\">\n",
              "  <thead>\n",
              "    <tr style=\"text-align: right;\">\n",
              "      <th></th>\n",
              "      <th>0</th>\n",
              "      <th>1</th>\n",
              "      <th>2</th>\n",
              "    </tr>\n",
              "  </thead>\n",
              "  <tbody>\n",
              "    <tr>\n",
              "      <th>count</th>\n",
              "      <td>962.000000</td>\n",
              "      <td>962.000000</td>\n",
              "      <td>962.000000</td>\n",
              "    </tr>\n",
              "    <tr>\n",
              "      <th>mean</th>\n",
              "      <td>-0.063832</td>\n",
              "      <td>-0.070687</td>\n",
              "      <td>-0.058129</td>\n",
              "    </tr>\n",
              "    <tr>\n",
              "      <th>std</th>\n",
              "      <td>0.901982</td>\n",
              "      <td>1.012710</td>\n",
              "      <td>0.986468</td>\n",
              "    </tr>\n",
              "    <tr>\n",
              "      <th>min</th>\n",
              "      <td>-0.683645</td>\n",
              "      <td>-2.585121</td>\n",
              "      <td>-1.148819</td>\n",
              "    </tr>\n",
              "    <tr>\n",
              "      <th>25%</th>\n",
              "      <td>-0.538150</td>\n",
              "      <td>-0.507405</td>\n",
              "      <td>-0.729370</td>\n",
              "    </tr>\n",
              "    <tr>\n",
              "      <th>50%</th>\n",
              "      <td>-0.328750</td>\n",
              "      <td>0.275984</td>\n",
              "      <td>-0.345678</td>\n",
              "    </tr>\n",
              "    <tr>\n",
              "      <th>75%</th>\n",
              "      <td>0.051036</td>\n",
              "      <td>0.596964</td>\n",
              "      <td>0.266822</td>\n",
              "    </tr>\n",
              "    <tr>\n",
              "      <th>max</th>\n",
              "      <td>10.626287</td>\n",
              "      <td>1.903823</td>\n",
              "      <td>5.352645</td>\n",
              "    </tr>\n",
              "  </tbody>\n",
              "</table>\n",
              "</div>\n",
              "    <div class=\"colab-df-buttons\">\n",
              "\n",
              "  <div class=\"colab-df-container\">\n",
              "    <button class=\"colab-df-convert\" onclick=\"convertToInteractive('df-3f97a7d4-adfb-4c2d-a5c9-f73319f142e2')\"\n",
              "            title=\"Convert this dataframe to an interactive table.\"\n",
              "            style=\"display:none;\">\n",
              "\n",
              "  <svg xmlns=\"http://www.w3.org/2000/svg\" height=\"24px\" viewBox=\"0 -960 960 960\">\n",
              "    <path d=\"M120-120v-720h720v720H120Zm60-500h600v-160H180v160Zm220 220h160v-160H400v160Zm0 220h160v-160H400v160ZM180-400h160v-160H180v160Zm440 0h160v-160H620v160ZM180-180h160v-160H180v160Zm440 0h160v-160H620v160Z\"/>\n",
              "  </svg>\n",
              "    </button>\n",
              "\n",
              "  <style>\n",
              "    .colab-df-container {\n",
              "      display:flex;\n",
              "      gap: 12px;\n",
              "    }\n",
              "\n",
              "    .colab-df-convert {\n",
              "      background-color: #E8F0FE;\n",
              "      border: none;\n",
              "      border-radius: 50%;\n",
              "      cursor: pointer;\n",
              "      display: none;\n",
              "      fill: #1967D2;\n",
              "      height: 32px;\n",
              "      padding: 0 0 0 0;\n",
              "      width: 32px;\n",
              "    }\n",
              "\n",
              "    .colab-df-convert:hover {\n",
              "      background-color: #E2EBFA;\n",
              "      box-shadow: 0px 1px 2px rgba(60, 64, 67, 0.3), 0px 1px 3px 1px rgba(60, 64, 67, 0.15);\n",
              "      fill: #174EA6;\n",
              "    }\n",
              "\n",
              "    .colab-df-buttons div {\n",
              "      margin-bottom: 4px;\n",
              "    }\n",
              "\n",
              "    [theme=dark] .colab-df-convert {\n",
              "      background-color: #3B4455;\n",
              "      fill: #D2E3FC;\n",
              "    }\n",
              "\n",
              "    [theme=dark] .colab-df-convert:hover {\n",
              "      background-color: #434B5C;\n",
              "      box-shadow: 0px 1px 3px 1px rgba(0, 0, 0, 0.15);\n",
              "      filter: drop-shadow(0px 1px 2px rgba(0, 0, 0, 0.3));\n",
              "      fill: #FFFFFF;\n",
              "    }\n",
              "  </style>\n",
              "\n",
              "    <script>\n",
              "      const buttonEl =\n",
              "        document.querySelector('#df-3f97a7d4-adfb-4c2d-a5c9-f73319f142e2 button.colab-df-convert');\n",
              "      buttonEl.style.display =\n",
              "        google.colab.kernel.accessAllowed ? 'block' : 'none';\n",
              "\n",
              "      async function convertToInteractive(key) {\n",
              "        const element = document.querySelector('#df-3f97a7d4-adfb-4c2d-a5c9-f73319f142e2');\n",
              "        const dataTable =\n",
              "          await google.colab.kernel.invokeFunction('convertToInteractive',\n",
              "                                                    [key], {});\n",
              "        if (!dataTable) return;\n",
              "\n",
              "        const docLinkHtml = 'Like what you see? Visit the ' +\n",
              "          '<a target=\"_blank\" href=https://colab.research.google.com/notebooks/data_table.ipynb>data table notebook</a>'\n",
              "          + ' to learn more about interactive tables.';\n",
              "        element.innerHTML = '';\n",
              "        dataTable['output_type'] = 'display_data';\n",
              "        await google.colab.output.renderOutput(dataTable, element);\n",
              "        const docLink = document.createElement('div');\n",
              "        docLink.innerHTML = docLinkHtml;\n",
              "        element.appendChild(docLink);\n",
              "      }\n",
              "    </script>\n",
              "  </div>\n",
              "\n",
              "\n",
              "<div id=\"df-31b642ae-8706-42f2-84c5-0f81201e5569\">\n",
              "  <button class=\"colab-df-quickchart\" onclick=\"quickchart('df-31b642ae-8706-42f2-84c5-0f81201e5569')\"\n",
              "            title=\"Suggest charts.\"\n",
              "            style=\"display:none;\">\n",
              "\n",
              "<svg xmlns=\"http://www.w3.org/2000/svg\" height=\"24px\"viewBox=\"0 0 24 24\"\n",
              "     width=\"24px\">\n",
              "    <g>\n",
              "        <path d=\"M19 3H5c-1.1 0-2 .9-2 2v14c0 1.1.9 2 2 2h14c1.1 0 2-.9 2-2V5c0-1.1-.9-2-2-2zM9 17H7v-7h2v7zm4 0h-2V7h2v10zm4 0h-2v-4h2v4z\"/>\n",
              "    </g>\n",
              "</svg>\n",
              "  </button>\n",
              "\n",
              "<style>\n",
              "  .colab-df-quickchart {\n",
              "    background-color: #E8F0FE;\n",
              "    border: none;\n",
              "    border-radius: 50%;\n",
              "    cursor: pointer;\n",
              "    display: none;\n",
              "    fill: #1967D2;\n",
              "    height: 32px;\n",
              "    padding: 0 0 0 0;\n",
              "    width: 32px;\n",
              "  }\n",
              "\n",
              "  .colab-df-quickchart:hover {\n",
              "    background-color: #E2EBFA;\n",
              "    box-shadow: 0px 1px 2px rgba(60, 64, 67, 0.3), 0px 1px 3px 1px rgba(60, 64, 67, 0.15);\n",
              "    fill: #174EA6;\n",
              "  }\n",
              "\n",
              "  [theme=dark] .colab-df-quickchart {\n",
              "    background-color: #3B4455;\n",
              "    fill: #D2E3FC;\n",
              "  }\n",
              "\n",
              "  [theme=dark] .colab-df-quickchart:hover {\n",
              "    background-color: #434B5C;\n",
              "    box-shadow: 0px 1px 3px 1px rgba(0, 0, 0, 0.15);\n",
              "    filter: drop-shadow(0px 1px 2px rgba(0, 0, 0, 0.3));\n",
              "    fill: #FFFFFF;\n",
              "  }\n",
              "</style>\n",
              "\n",
              "  <script>\n",
              "    async function quickchart(key) {\n",
              "      const charts = await google.colab.kernel.invokeFunction(\n",
              "          'suggestCharts', [key], {});\n",
              "    }\n",
              "    (() => {\n",
              "      let quickchartButtonEl =\n",
              "        document.querySelector('#df-31b642ae-8706-42f2-84c5-0f81201e5569 button');\n",
              "      quickchartButtonEl.style.display =\n",
              "        google.colab.kernel.accessAllowed ? 'block' : 'none';\n",
              "    })();\n",
              "  </script>\n",
              "</div>\n",
              "    </div>\n",
              "  </div>\n"
            ]
          },
          "metadata": {},
          "execution_count": 80
        }
      ]
    },
    {
      "cell_type": "code",
      "source": [
        "Y_train_df= pd.DataFrame(Y_train_over)\n",
        "Y_train_df.describe() # 이제 이탈여부의 mean 이 50:50비율로 맞춰짐"
      ],
      "metadata": {
        "colab": {
          "base_uri": "https://localhost:8080/",
          "height": 300
        },
        "id": "lt3PoB8SQapy",
        "outputId": "85792002-42ef-41d5-9953-754bca29d775"
      },
      "execution_count": null,
      "outputs": [
        {
          "output_type": "execute_result",
          "data": {
            "text/plain": [
              "            이탈여부\n",
              "count  962.00000\n",
              "mean     0.50000\n",
              "std      0.50026\n",
              "min      0.00000\n",
              "25%      0.00000\n",
              "50%      0.50000\n",
              "75%      1.00000\n",
              "max      1.00000"
            ],
            "text/html": [
              "\n",
              "  <div id=\"df-404240db-eb9a-4150-8ba9-d29f1c1ada00\" class=\"colab-df-container\">\n",
              "    <div>\n",
              "<style scoped>\n",
              "    .dataframe tbody tr th:only-of-type {\n",
              "        vertical-align: middle;\n",
              "    }\n",
              "\n",
              "    .dataframe tbody tr th {\n",
              "        vertical-align: top;\n",
              "    }\n",
              "\n",
              "    .dataframe thead th {\n",
              "        text-align: right;\n",
              "    }\n",
              "</style>\n",
              "<table border=\"1\" class=\"dataframe\">\n",
              "  <thead>\n",
              "    <tr style=\"text-align: right;\">\n",
              "      <th></th>\n",
              "      <th>이탈여부</th>\n",
              "    </tr>\n",
              "  </thead>\n",
              "  <tbody>\n",
              "    <tr>\n",
              "      <th>count</th>\n",
              "      <td>962.00000</td>\n",
              "    </tr>\n",
              "    <tr>\n",
              "      <th>mean</th>\n",
              "      <td>0.50000</td>\n",
              "    </tr>\n",
              "    <tr>\n",
              "      <th>std</th>\n",
              "      <td>0.50026</td>\n",
              "    </tr>\n",
              "    <tr>\n",
              "      <th>min</th>\n",
              "      <td>0.00000</td>\n",
              "    </tr>\n",
              "    <tr>\n",
              "      <th>25%</th>\n",
              "      <td>0.00000</td>\n",
              "    </tr>\n",
              "    <tr>\n",
              "      <th>50%</th>\n",
              "      <td>0.50000</td>\n",
              "    </tr>\n",
              "    <tr>\n",
              "      <th>75%</th>\n",
              "      <td>1.00000</td>\n",
              "    </tr>\n",
              "    <tr>\n",
              "      <th>max</th>\n",
              "      <td>1.00000</td>\n",
              "    </tr>\n",
              "  </tbody>\n",
              "</table>\n",
              "</div>\n",
              "    <div class=\"colab-df-buttons\">\n",
              "\n",
              "  <div class=\"colab-df-container\">\n",
              "    <button class=\"colab-df-convert\" onclick=\"convertToInteractive('df-404240db-eb9a-4150-8ba9-d29f1c1ada00')\"\n",
              "            title=\"Convert this dataframe to an interactive table.\"\n",
              "            style=\"display:none;\">\n",
              "\n",
              "  <svg xmlns=\"http://www.w3.org/2000/svg\" height=\"24px\" viewBox=\"0 -960 960 960\">\n",
              "    <path d=\"M120-120v-720h720v720H120Zm60-500h600v-160H180v160Zm220 220h160v-160H400v160Zm0 220h160v-160H400v160ZM180-400h160v-160H180v160Zm440 0h160v-160H620v160ZM180-180h160v-160H180v160Zm440 0h160v-160H620v160Z\"/>\n",
              "  </svg>\n",
              "    </button>\n",
              "\n",
              "  <style>\n",
              "    .colab-df-container {\n",
              "      display:flex;\n",
              "      gap: 12px;\n",
              "    }\n",
              "\n",
              "    .colab-df-convert {\n",
              "      background-color: #E8F0FE;\n",
              "      border: none;\n",
              "      border-radius: 50%;\n",
              "      cursor: pointer;\n",
              "      display: none;\n",
              "      fill: #1967D2;\n",
              "      height: 32px;\n",
              "      padding: 0 0 0 0;\n",
              "      width: 32px;\n",
              "    }\n",
              "\n",
              "    .colab-df-convert:hover {\n",
              "      background-color: #E2EBFA;\n",
              "      box-shadow: 0px 1px 2px rgba(60, 64, 67, 0.3), 0px 1px 3px 1px rgba(60, 64, 67, 0.15);\n",
              "      fill: #174EA6;\n",
              "    }\n",
              "\n",
              "    .colab-df-buttons div {\n",
              "      margin-bottom: 4px;\n",
              "    }\n",
              "\n",
              "    [theme=dark] .colab-df-convert {\n",
              "      background-color: #3B4455;\n",
              "      fill: #D2E3FC;\n",
              "    }\n",
              "\n",
              "    [theme=dark] .colab-df-convert:hover {\n",
              "      background-color: #434B5C;\n",
              "      box-shadow: 0px 1px 3px 1px rgba(0, 0, 0, 0.15);\n",
              "      filter: drop-shadow(0px 1px 2px rgba(0, 0, 0, 0.3));\n",
              "      fill: #FFFFFF;\n",
              "    }\n",
              "  </style>\n",
              "\n",
              "    <script>\n",
              "      const buttonEl =\n",
              "        document.querySelector('#df-404240db-eb9a-4150-8ba9-d29f1c1ada00 button.colab-df-convert');\n",
              "      buttonEl.style.display =\n",
              "        google.colab.kernel.accessAllowed ? 'block' : 'none';\n",
              "\n",
              "      async function convertToInteractive(key) {\n",
              "        const element = document.querySelector('#df-404240db-eb9a-4150-8ba9-d29f1c1ada00');\n",
              "        const dataTable =\n",
              "          await google.colab.kernel.invokeFunction('convertToInteractive',\n",
              "                                                    [key], {});\n",
              "        if (!dataTable) return;\n",
              "\n",
              "        const docLinkHtml = 'Like what you see? Visit the ' +\n",
              "          '<a target=\"_blank\" href=https://colab.research.google.com/notebooks/data_table.ipynb>data table notebook</a>'\n",
              "          + ' to learn more about interactive tables.';\n",
              "        element.innerHTML = '';\n",
              "        dataTable['output_type'] = 'display_data';\n",
              "        await google.colab.output.renderOutput(dataTable, element);\n",
              "        const docLink = document.createElement('div');\n",
              "        docLink.innerHTML = docLinkHtml;\n",
              "        element.appendChild(docLink);\n",
              "      }\n",
              "    </script>\n",
              "  </div>\n",
              "\n",
              "\n",
              "<div id=\"df-77e7c502-be93-4f9a-b6e3-fc254577a416\">\n",
              "  <button class=\"colab-df-quickchart\" onclick=\"quickchart('df-77e7c502-be93-4f9a-b6e3-fc254577a416')\"\n",
              "            title=\"Suggest charts.\"\n",
              "            style=\"display:none;\">\n",
              "\n",
              "<svg xmlns=\"http://www.w3.org/2000/svg\" height=\"24px\"viewBox=\"0 0 24 24\"\n",
              "     width=\"24px\">\n",
              "    <g>\n",
              "        <path d=\"M19 3H5c-1.1 0-2 .9-2 2v14c0 1.1.9 2 2 2h14c1.1 0 2-.9 2-2V5c0-1.1-.9-2-2-2zM9 17H7v-7h2v7zm4 0h-2V7h2v10zm4 0h-2v-4h2v4z\"/>\n",
              "    </g>\n",
              "</svg>\n",
              "  </button>\n",
              "\n",
              "<style>\n",
              "  .colab-df-quickchart {\n",
              "    background-color: #E8F0FE;\n",
              "    border: none;\n",
              "    border-radius: 50%;\n",
              "    cursor: pointer;\n",
              "    display: none;\n",
              "    fill: #1967D2;\n",
              "    height: 32px;\n",
              "    padding: 0 0 0 0;\n",
              "    width: 32px;\n",
              "  }\n",
              "\n",
              "  .colab-df-quickchart:hover {\n",
              "    background-color: #E2EBFA;\n",
              "    box-shadow: 0px 1px 2px rgba(60, 64, 67, 0.3), 0px 1px 3px 1px rgba(60, 64, 67, 0.15);\n",
              "    fill: #174EA6;\n",
              "  }\n",
              "\n",
              "  [theme=dark] .colab-df-quickchart {\n",
              "    background-color: #3B4455;\n",
              "    fill: #D2E3FC;\n",
              "  }\n",
              "\n",
              "  [theme=dark] .colab-df-quickchart:hover {\n",
              "    background-color: #434B5C;\n",
              "    box-shadow: 0px 1px 3px 1px rgba(0, 0, 0, 0.15);\n",
              "    filter: drop-shadow(0px 1px 2px rgba(0, 0, 0, 0.3));\n",
              "    fill: #FFFFFF;\n",
              "  }\n",
              "</style>\n",
              "\n",
              "  <script>\n",
              "    async function quickchart(key) {\n",
              "      const charts = await google.colab.kernel.invokeFunction(\n",
              "          'suggestCharts', [key], {});\n",
              "    }\n",
              "    (() => {\n",
              "      let quickchartButtonEl =\n",
              "        document.querySelector('#df-77e7c502-be93-4f9a-b6e3-fc254577a416 button');\n",
              "      quickchartButtonEl.style.display =\n",
              "        google.colab.kernel.accessAllowed ? 'block' : 'none';\n",
              "    })();\n",
              "  </script>\n",
              "</div>\n",
              "    </div>\n",
              "  </div>\n"
            ]
          },
          "metadata": {},
          "execution_count": 81
        }
      ]
    },
    {
      "cell_type": "code",
      "source": [
        "Counter(Y_train_over)"
      ],
      "metadata": {
        "colab": {
          "base_uri": "https://localhost:8080/"
        },
        "id": "D5B5d6bAQnCO",
        "outputId": "cbcab619-006d-4ffe-cd72-d11721c2da12"
      },
      "execution_count": null,
      "outputs": [
        {
          "output_type": "execute_result",
          "data": {
            "text/plain": [
              "Counter({1: 481, 0: 481})"
            ]
          },
          "metadata": {},
          "execution_count": 82
        }
      ]
    },
    {
      "cell_type": "code",
      "source": [
        "# Y가 불균형하면 (이탈X 7:이탈O 3)이면, train 도 불균형하게 됨. 즉, 이탈여부 X가 더 많이 되도록 train 된다... -> 즉, 모델의 성능이 떨어짐\n",
        "# 따라서 Y의 값을 50:50으로 반반 나눠야 제대로 train 된다."
      ],
      "metadata": {
        "id": "LNmSWUJcQ_dg"
      },
      "execution_count": null,
      "outputs": []
    },
    {
      "cell_type": "code",
      "source": [
        "from sklearn.linear_model import LogisticRegression\n",
        "from sklearn.metrics import classification_report"
      ],
      "metadata": {
        "id": "5ZuBEEkoTPTb"
      },
      "execution_count": null,
      "outputs": []
    },
    {
      "cell_type": "code",
      "source": [
        "lg_model = LogisticRegression(random_state = 0)"
      ],
      "metadata": {
        "id": "JGf9EvCdTXs5"
      },
      "execution_count": null,
      "outputs": []
    },
    {
      "cell_type": "code",
      "source": [
        "lg_model.fit(X_train_over, Y_train_over)"
      ],
      "metadata": {
        "colab": {
          "base_uri": "https://localhost:8080/",
          "height": 75
        },
        "id": "pFHU2EHnTkMj",
        "outputId": "085351ee-c356-4cd0-dd81-863a74dcea07"
      },
      "execution_count": null,
      "outputs": [
        {
          "output_type": "execute_result",
          "data": {
            "text/plain": [
              "LogisticRegression(random_state=0)"
            ],
            "text/html": [
              "<style>#sk-container-id-8 {color: black;background-color: white;}#sk-container-id-8 pre{padding: 0;}#sk-container-id-8 div.sk-toggleable {background-color: white;}#sk-container-id-8 label.sk-toggleable__label {cursor: pointer;display: block;width: 100%;margin-bottom: 0;padding: 0.3em;box-sizing: border-box;text-align: center;}#sk-container-id-8 label.sk-toggleable__label-arrow:before {content: \"▸\";float: left;margin-right: 0.25em;color: #696969;}#sk-container-id-8 label.sk-toggleable__label-arrow:hover:before {color: black;}#sk-container-id-8 div.sk-estimator:hover label.sk-toggleable__label-arrow:before {color: black;}#sk-container-id-8 div.sk-toggleable__content {max-height: 0;max-width: 0;overflow: hidden;text-align: left;background-color: #f0f8ff;}#sk-container-id-8 div.sk-toggleable__content pre {margin: 0.2em;color: black;border-radius: 0.25em;background-color: #f0f8ff;}#sk-container-id-8 input.sk-toggleable__control:checked~div.sk-toggleable__content {max-height: 200px;max-width: 100%;overflow: auto;}#sk-container-id-8 input.sk-toggleable__control:checked~label.sk-toggleable__label-arrow:before {content: \"▾\";}#sk-container-id-8 div.sk-estimator input.sk-toggleable__control:checked~label.sk-toggleable__label {background-color: #d4ebff;}#sk-container-id-8 div.sk-label input.sk-toggleable__control:checked~label.sk-toggleable__label {background-color: #d4ebff;}#sk-container-id-8 input.sk-hidden--visually {border: 0;clip: rect(1px 1px 1px 1px);clip: rect(1px, 1px, 1px, 1px);height: 1px;margin: -1px;overflow: hidden;padding: 0;position: absolute;width: 1px;}#sk-container-id-8 div.sk-estimator {font-family: monospace;background-color: #f0f8ff;border: 1px dotted black;border-radius: 0.25em;box-sizing: border-box;margin-bottom: 0.5em;}#sk-container-id-8 div.sk-estimator:hover {background-color: #d4ebff;}#sk-container-id-8 div.sk-parallel-item::after {content: \"\";width: 100%;border-bottom: 1px solid gray;flex-grow: 1;}#sk-container-id-8 div.sk-label:hover label.sk-toggleable__label {background-color: #d4ebff;}#sk-container-id-8 div.sk-serial::before {content: \"\";position: absolute;border-left: 1px solid gray;box-sizing: border-box;top: 0;bottom: 0;left: 50%;z-index: 0;}#sk-container-id-8 div.sk-serial {display: flex;flex-direction: column;align-items: center;background-color: white;padding-right: 0.2em;padding-left: 0.2em;position: relative;}#sk-container-id-8 div.sk-item {position: relative;z-index: 1;}#sk-container-id-8 div.sk-parallel {display: flex;align-items: stretch;justify-content: center;background-color: white;position: relative;}#sk-container-id-8 div.sk-item::before, #sk-container-id-8 div.sk-parallel-item::before {content: \"\";position: absolute;border-left: 1px solid gray;box-sizing: border-box;top: 0;bottom: 0;left: 50%;z-index: -1;}#sk-container-id-8 div.sk-parallel-item {display: flex;flex-direction: column;z-index: 1;position: relative;background-color: white;}#sk-container-id-8 div.sk-parallel-item:first-child::after {align-self: flex-end;width: 50%;}#sk-container-id-8 div.sk-parallel-item:last-child::after {align-self: flex-start;width: 50%;}#sk-container-id-8 div.sk-parallel-item:only-child::after {width: 0;}#sk-container-id-8 div.sk-dashed-wrapped {border: 1px dashed gray;margin: 0 0.4em 0.5em 0.4em;box-sizing: border-box;padding-bottom: 0.4em;background-color: white;}#sk-container-id-8 div.sk-label label {font-family: monospace;font-weight: bold;display: inline-block;line-height: 1.2em;}#sk-container-id-8 div.sk-label-container {text-align: center;}#sk-container-id-8 div.sk-container {/* jupyter's `normalize.less` sets `[hidden] { display: none; }` but bootstrap.min.css set `[hidden] { display: none !important; }` so we also need the `!important` here to be able to override the default hidden behavior on the sphinx rendered scikit-learn.org. See: https://github.com/scikit-learn/scikit-learn/issues/21755 */display: inline-block !important;position: relative;}#sk-container-id-8 div.sk-text-repr-fallback {display: none;}</style><div id=\"sk-container-id-8\" class=\"sk-top-container\"><div class=\"sk-text-repr-fallback\"><pre>LogisticRegression(random_state=0)</pre><b>In a Jupyter environment, please rerun this cell to show the HTML representation or trust the notebook. <br />On GitHub, the HTML representation is unable to render, please try loading this page with nbviewer.org.</b></div><div class=\"sk-container\" hidden><div class=\"sk-item\"><div class=\"sk-estimator sk-toggleable\"><input class=\"sk-toggleable__control sk-hidden--visually\" id=\"sk-estimator-id-8\" type=\"checkbox\" checked><label for=\"sk-estimator-id-8\" class=\"sk-toggleable__label sk-toggleable__label-arrow\">LogisticRegression</label><div class=\"sk-toggleable__content\"><pre>LogisticRegression(random_state=0)</pre></div></div></div></div></div>"
            ]
          },
          "metadata": {},
          "execution_count": 86
        }
      ]
    },
    {
      "cell_type": "code",
      "source": [
        "Y_pred = lg_model.predict(X_test) #X_test를 가지고, 만든 모델의 예측값 y^을 만든다"
      ],
      "metadata": {
        "id": "KxvJVEcdTqh-"
      },
      "execution_count": null,
      "outputs": []
    },
    {
      "cell_type": "code",
      "source": [
        "print(Y_pred)"
      ],
      "metadata": {
        "colab": {
          "base_uri": "https://localhost:8080/"
        },
        "id": "HakpZF2NT1hA",
        "outputId": "13359a73-b391-4e2c-cf39-519b74dee6de"
      },
      "execution_count": null,
      "outputs": [
        {
          "output_type": "stream",
          "name": "stdout",
          "text": [
            "[1 1 1 0 0 0 1 1 0 0 1 1 0 1 0 1 0 1 1 1 1 0 1 0 0 0 1 1 1 0 0 0 0 0 0 0 0\n",
            " 1 0 0 1 0 0 0 1 0 0 1 1 1 0 1 1 1 0 0 1 1 0 0 1 0 0 1 0 1 1 0 1 0 0 1 1 0\n",
            " 0 1 0 1 1 0 1 1 1 0 0 0 1 0 0 0 0 1 1 1 0 0 0 0 0 0 0 0 0 0 1 0 0 1 0 1 1\n",
            " 0 0 1 0 1 0 0 0 1 0 1 1 0 0 0 1 1 0 0 1 1 0 0 0 0 0 1 1 0 1 1 0 1 1 0 1 1\n",
            " 1 1 1 0 0 1 1 0 0 1 1 1 1 0 1 1 0 1 0 0 1 0 0 0 0 0 1 0 1 1 0 1 1 1 0 0 0\n",
            " 1 1 1 0 1 1 0 1 1 0 0 0 1 0 1 1 0 0 0 0 1 0 0 0 0 0 1 1 0 1 0 1 0 1 0 0 0\n",
            " 0 0 0 1 0 1 1 0 0 1 1 1 1 1 1 1 1 1 0 0 1 1 0 0 0 1 1 0 1 0 1 1 1 0 0 1 0\n",
            " 0 0 0 0 0 1 0 1 1 0 1 1 0 1 1 0 0 0 1 0 1 0 0 1 0 1 1 0 1 1 1 0 1 0 0 0 1\n",
            " 0 1 0 1]\n"
          ]
        }
      ]
    },
    {
      "cell_type": "code",
      "source": [
        "# 변수의 베타값 확인\n",
        "# 총매출액, 거래기간, 방문빈도 순서로\n",
        "lg_model.coef_"
      ],
      "metadata": {
        "colab": {
          "base_uri": "https://localhost:8080/"
        },
        "id": "XOk9qiDEUoS6",
        "outputId": "80f34746-a904-4780-83fd-a8f0772bda26"
      },
      "execution_count": null,
      "outputs": [
        {
          "output_type": "execute_result",
          "data": {
            "text/plain": [
              "array([[-0.10794002, -0.58901554, -0.48657009]])"
            ]
          },
          "metadata": {},
          "execution_count": 89
        }
      ]
    },
    {
      "cell_type": "code",
      "source": [
        "cr = classification_report(Y_test, Y_pred)\n",
        "print(cr)\n",
        "# f1 score 확인!"
      ],
      "metadata": {
        "colab": {
          "base_uri": "https://localhost:8080/"
        },
        "id": "Y-tyUtqoVjdh",
        "outputId": "410f71cd-d2d9-4e45-9a18-a7ddf6988ccd"
      },
      "execution_count": null,
      "outputs": [
        {
          "output_type": "stream",
          "name": "stdout",
          "text": [
            "              precision    recall  f1-score   support\n",
            "\n",
            "           0       0.91      0.66      0.76       219\n",
            "           1       0.47      0.81      0.59        81\n",
            "\n",
            "    accuracy                           0.70       300\n",
            "   macro avg       0.69      0.74      0.68       300\n",
            "weighted avg       0.79      0.70      0.72       300\n",
            "\n"
          ]
        }
      ]
    },
    {
      "cell_type": "markdown",
      "source": [
        "### K-NN 모형\n"
      ],
      "metadata": {
        "id": "ssMHjU9qvngM"
      }
    },
    {
      "cell_type": "code",
      "source": [
        "from sklearn.neighbors import KNeighborsClassifier"
      ],
      "metadata": {
        "id": "OI2rf15BtPGP"
      },
      "execution_count": null,
      "outputs": []
    },
    {
      "cell_type": "code",
      "source": [
        "kn_model = KNeighborsClassifier()"
      ],
      "metadata": {
        "id": "81Iu1X9mv119"
      },
      "execution_count": null,
      "outputs": []
    },
    {
      "cell_type": "code",
      "source": [
        "kn_model.fit(X_train_over, Y_train_over)"
      ],
      "metadata": {
        "colab": {
          "base_uri": "https://localhost:8080/",
          "height": 75
        },
        "id": "j9q15AG1v6Yy",
        "outputId": "380a054f-8aff-4c44-cc07-27e95c6807c2"
      },
      "execution_count": null,
      "outputs": [
        {
          "output_type": "execute_result",
          "data": {
            "text/plain": [
              "KNeighborsClassifier()"
            ],
            "text/html": [
              "<style>#sk-container-id-9 {color: black;background-color: white;}#sk-container-id-9 pre{padding: 0;}#sk-container-id-9 div.sk-toggleable {background-color: white;}#sk-container-id-9 label.sk-toggleable__label {cursor: pointer;display: block;width: 100%;margin-bottom: 0;padding: 0.3em;box-sizing: border-box;text-align: center;}#sk-container-id-9 label.sk-toggleable__label-arrow:before {content: \"▸\";float: left;margin-right: 0.25em;color: #696969;}#sk-container-id-9 label.sk-toggleable__label-arrow:hover:before {color: black;}#sk-container-id-9 div.sk-estimator:hover label.sk-toggleable__label-arrow:before {color: black;}#sk-container-id-9 div.sk-toggleable__content {max-height: 0;max-width: 0;overflow: hidden;text-align: left;background-color: #f0f8ff;}#sk-container-id-9 div.sk-toggleable__content pre {margin: 0.2em;color: black;border-radius: 0.25em;background-color: #f0f8ff;}#sk-container-id-9 input.sk-toggleable__control:checked~div.sk-toggleable__content {max-height: 200px;max-width: 100%;overflow: auto;}#sk-container-id-9 input.sk-toggleable__control:checked~label.sk-toggleable__label-arrow:before {content: \"▾\";}#sk-container-id-9 div.sk-estimator input.sk-toggleable__control:checked~label.sk-toggleable__label {background-color: #d4ebff;}#sk-container-id-9 div.sk-label input.sk-toggleable__control:checked~label.sk-toggleable__label {background-color: #d4ebff;}#sk-container-id-9 input.sk-hidden--visually {border: 0;clip: rect(1px 1px 1px 1px);clip: rect(1px, 1px, 1px, 1px);height: 1px;margin: -1px;overflow: hidden;padding: 0;position: absolute;width: 1px;}#sk-container-id-9 div.sk-estimator {font-family: monospace;background-color: #f0f8ff;border: 1px dotted black;border-radius: 0.25em;box-sizing: border-box;margin-bottom: 0.5em;}#sk-container-id-9 div.sk-estimator:hover {background-color: #d4ebff;}#sk-container-id-9 div.sk-parallel-item::after {content: \"\";width: 100%;border-bottom: 1px solid gray;flex-grow: 1;}#sk-container-id-9 div.sk-label:hover label.sk-toggleable__label {background-color: #d4ebff;}#sk-container-id-9 div.sk-serial::before {content: \"\";position: absolute;border-left: 1px solid gray;box-sizing: border-box;top: 0;bottom: 0;left: 50%;z-index: 0;}#sk-container-id-9 div.sk-serial {display: flex;flex-direction: column;align-items: center;background-color: white;padding-right: 0.2em;padding-left: 0.2em;position: relative;}#sk-container-id-9 div.sk-item {position: relative;z-index: 1;}#sk-container-id-9 div.sk-parallel {display: flex;align-items: stretch;justify-content: center;background-color: white;position: relative;}#sk-container-id-9 div.sk-item::before, #sk-container-id-9 div.sk-parallel-item::before {content: \"\";position: absolute;border-left: 1px solid gray;box-sizing: border-box;top: 0;bottom: 0;left: 50%;z-index: -1;}#sk-container-id-9 div.sk-parallel-item {display: flex;flex-direction: column;z-index: 1;position: relative;background-color: white;}#sk-container-id-9 div.sk-parallel-item:first-child::after {align-self: flex-end;width: 50%;}#sk-container-id-9 div.sk-parallel-item:last-child::after {align-self: flex-start;width: 50%;}#sk-container-id-9 div.sk-parallel-item:only-child::after {width: 0;}#sk-container-id-9 div.sk-dashed-wrapped {border: 1px dashed gray;margin: 0 0.4em 0.5em 0.4em;box-sizing: border-box;padding-bottom: 0.4em;background-color: white;}#sk-container-id-9 div.sk-label label {font-family: monospace;font-weight: bold;display: inline-block;line-height: 1.2em;}#sk-container-id-9 div.sk-label-container {text-align: center;}#sk-container-id-9 div.sk-container {/* jupyter's `normalize.less` sets `[hidden] { display: none; }` but bootstrap.min.css set `[hidden] { display: none !important; }` so we also need the `!important` here to be able to override the default hidden behavior on the sphinx rendered scikit-learn.org. See: https://github.com/scikit-learn/scikit-learn/issues/21755 */display: inline-block !important;position: relative;}#sk-container-id-9 div.sk-text-repr-fallback {display: none;}</style><div id=\"sk-container-id-9\" class=\"sk-top-container\"><div class=\"sk-text-repr-fallback\"><pre>KNeighborsClassifier()</pre><b>In a Jupyter environment, please rerun this cell to show the HTML representation or trust the notebook. <br />On GitHub, the HTML representation is unable to render, please try loading this page with nbviewer.org.</b></div><div class=\"sk-container\" hidden><div class=\"sk-item\"><div class=\"sk-estimator sk-toggleable\"><input class=\"sk-toggleable__control sk-hidden--visually\" id=\"sk-estimator-id-9\" type=\"checkbox\" checked><label for=\"sk-estimator-id-9\" class=\"sk-toggleable__label sk-toggleable__label-arrow\">KNeighborsClassifier</label><div class=\"sk-toggleable__content\"><pre>KNeighborsClassifier()</pre></div></div></div></div></div>"
            ]
          },
          "metadata": {},
          "execution_count": 93
        }
      ]
    },
    {
      "cell_type": "code",
      "source": [
        "Y_pred_kn = kn_model.predict(X_test)"
      ],
      "metadata": {
        "id": "bU4DwZwvv-Pa"
      },
      "execution_count": null,
      "outputs": []
    },
    {
      "cell_type": "code",
      "source": [
        "print(Y_pred_kn)"
      ],
      "metadata": {
        "colab": {
          "base_uri": "https://localhost:8080/"
        },
        "id": "O07718E0wPBL",
        "outputId": "6fa42d5c-927e-45f8-cb1c-871fad90aaeb"
      },
      "execution_count": null,
      "outputs": [
        {
          "output_type": "stream",
          "name": "stdout",
          "text": [
            "[0 0 1 0 0 0 0 1 1 0 1 0 0 1 0 1 0 1 1 1 0 0 0 1 0 0 1 1 1 0 0 0 0 0 1 0 0\n",
            " 1 0 1 0 0 0 0 1 0 0 1 1 0 0 1 1 0 0 0 1 0 0 1 1 0 1 1 0 1 1 0 1 1 0 1 0 1\n",
            " 0 0 0 0 1 0 1 0 1 0 0 0 1 0 0 1 0 0 0 0 1 0 0 1 0 1 0 0 1 0 1 0 0 0 0 1 1\n",
            " 1 0 1 1 0 0 1 0 0 0 0 0 0 1 0 1 1 0 0 1 0 0 0 0 0 0 1 0 0 1 1 1 1 1 0 1 0\n",
            " 0 1 0 1 0 0 0 0 0 1 0 1 0 0 1 1 0 0 0 0 1 1 0 0 0 0 0 0 1 1 0 1 0 0 0 0 0\n",
            " 1 0 0 0 1 0 0 0 1 0 0 0 1 0 0 1 0 1 0 0 0 0 0 0 0 1 1 1 0 1 0 1 1 1 0 0 0\n",
            " 0 1 1 0 0 0 1 1 0 0 0 1 1 1 1 1 1 1 0 0 1 1 0 0 1 1 1 0 1 0 1 0 0 0 0 0 1\n",
            " 1 0 0 0 1 0 0 0 1 1 0 0 0 1 0 0 0 1 0 0 1 0 0 1 1 0 1 0 1 1 0 0 1 0 0 0 1\n",
            " 1 0 0 1]\n"
          ]
        }
      ]
    },
    {
      "cell_type": "code",
      "source": [
        "cr_kn = classification_report(Y_test, Y_pred_kn)\n",
        "print(cr_kn)\n",
        "\n",
        "# f1 score 확인 시, 앞서 학습시킨 lm 모델보다 성능이 좋은 것을 알 수 있음"
      ],
      "metadata": {
        "colab": {
          "base_uri": "https://localhost:8080/"
        },
        "id": "n8lTbs6_wRI5",
        "outputId": "3f65aeb1-d6da-4b56-e4da-c72b9b3889d3"
      },
      "execution_count": null,
      "outputs": [
        {
          "output_type": "stream",
          "name": "stdout",
          "text": [
            "              precision    recall  f1-score   support\n",
            "\n",
            "           0       0.92      0.76      0.83       219\n",
            "           1       0.56      0.81      0.66        81\n",
            "\n",
            "    accuracy                           0.78       300\n",
            "   macro avg       0.74      0.79      0.75       300\n",
            "weighted avg       0.82      0.78      0.79       300\n",
            "\n"
          ]
        }
      ]
    },
    {
      "cell_type": "markdown",
      "source": [
        "### Decision Tree 의사결정나무"
      ],
      "metadata": {
        "id": "tT6PfKZKyUcV"
      }
    },
    {
      "cell_type": "code",
      "source": [
        "from sklearn.tree import DecisionTreeClassifier"
      ],
      "metadata": {
        "id": "dda687btzLO-"
      },
      "execution_count": null,
      "outputs": []
    },
    {
      "cell_type": "code",
      "source": [
        "dt_model = DecisionTreeClassifier()"
      ],
      "metadata": {
        "id": "GCKhiohhzUmY"
      },
      "execution_count": null,
      "outputs": []
    },
    {
      "cell_type": "code",
      "source": [
        "dt_model.fit(X_train_over, Y_train_over)"
      ],
      "metadata": {
        "colab": {
          "base_uri": "https://localhost:8080/",
          "height": 75
        },
        "id": "8cvUb0x1zZdu",
        "outputId": "c7dcbe17-901e-44a4-da4d-a4e0177beaf3"
      },
      "execution_count": null,
      "outputs": [
        {
          "output_type": "execute_result",
          "data": {
            "text/plain": [
              "DecisionTreeClassifier()"
            ],
            "text/html": [
              "<style>#sk-container-id-10 {color: black;background-color: white;}#sk-container-id-10 pre{padding: 0;}#sk-container-id-10 div.sk-toggleable {background-color: white;}#sk-container-id-10 label.sk-toggleable__label {cursor: pointer;display: block;width: 100%;margin-bottom: 0;padding: 0.3em;box-sizing: border-box;text-align: center;}#sk-container-id-10 label.sk-toggleable__label-arrow:before {content: \"▸\";float: left;margin-right: 0.25em;color: #696969;}#sk-container-id-10 label.sk-toggleable__label-arrow:hover:before {color: black;}#sk-container-id-10 div.sk-estimator:hover label.sk-toggleable__label-arrow:before {color: black;}#sk-container-id-10 div.sk-toggleable__content {max-height: 0;max-width: 0;overflow: hidden;text-align: left;background-color: #f0f8ff;}#sk-container-id-10 div.sk-toggleable__content pre {margin: 0.2em;color: black;border-radius: 0.25em;background-color: #f0f8ff;}#sk-container-id-10 input.sk-toggleable__control:checked~div.sk-toggleable__content {max-height: 200px;max-width: 100%;overflow: auto;}#sk-container-id-10 input.sk-toggleable__control:checked~label.sk-toggleable__label-arrow:before {content: \"▾\";}#sk-container-id-10 div.sk-estimator input.sk-toggleable__control:checked~label.sk-toggleable__label {background-color: #d4ebff;}#sk-container-id-10 div.sk-label input.sk-toggleable__control:checked~label.sk-toggleable__label {background-color: #d4ebff;}#sk-container-id-10 input.sk-hidden--visually {border: 0;clip: rect(1px 1px 1px 1px);clip: rect(1px, 1px, 1px, 1px);height: 1px;margin: -1px;overflow: hidden;padding: 0;position: absolute;width: 1px;}#sk-container-id-10 div.sk-estimator {font-family: monospace;background-color: #f0f8ff;border: 1px dotted black;border-radius: 0.25em;box-sizing: border-box;margin-bottom: 0.5em;}#sk-container-id-10 div.sk-estimator:hover {background-color: #d4ebff;}#sk-container-id-10 div.sk-parallel-item::after {content: \"\";width: 100%;border-bottom: 1px solid gray;flex-grow: 1;}#sk-container-id-10 div.sk-label:hover label.sk-toggleable__label {background-color: #d4ebff;}#sk-container-id-10 div.sk-serial::before {content: \"\";position: absolute;border-left: 1px solid gray;box-sizing: border-box;top: 0;bottom: 0;left: 50%;z-index: 0;}#sk-container-id-10 div.sk-serial {display: flex;flex-direction: column;align-items: center;background-color: white;padding-right: 0.2em;padding-left: 0.2em;position: relative;}#sk-container-id-10 div.sk-item {position: relative;z-index: 1;}#sk-container-id-10 div.sk-parallel {display: flex;align-items: stretch;justify-content: center;background-color: white;position: relative;}#sk-container-id-10 div.sk-item::before, #sk-container-id-10 div.sk-parallel-item::before {content: \"\";position: absolute;border-left: 1px solid gray;box-sizing: border-box;top: 0;bottom: 0;left: 50%;z-index: -1;}#sk-container-id-10 div.sk-parallel-item {display: flex;flex-direction: column;z-index: 1;position: relative;background-color: white;}#sk-container-id-10 div.sk-parallel-item:first-child::after {align-self: flex-end;width: 50%;}#sk-container-id-10 div.sk-parallel-item:last-child::after {align-self: flex-start;width: 50%;}#sk-container-id-10 div.sk-parallel-item:only-child::after {width: 0;}#sk-container-id-10 div.sk-dashed-wrapped {border: 1px dashed gray;margin: 0 0.4em 0.5em 0.4em;box-sizing: border-box;padding-bottom: 0.4em;background-color: white;}#sk-container-id-10 div.sk-label label {font-family: monospace;font-weight: bold;display: inline-block;line-height: 1.2em;}#sk-container-id-10 div.sk-label-container {text-align: center;}#sk-container-id-10 div.sk-container {/* jupyter's `normalize.less` sets `[hidden] { display: none; }` but bootstrap.min.css set `[hidden] { display: none !important; }` so we also need the `!important` here to be able to override the default hidden behavior on the sphinx rendered scikit-learn.org. See: https://github.com/scikit-learn/scikit-learn/issues/21755 */display: inline-block !important;position: relative;}#sk-container-id-10 div.sk-text-repr-fallback {display: none;}</style><div id=\"sk-container-id-10\" class=\"sk-top-container\"><div class=\"sk-text-repr-fallback\"><pre>DecisionTreeClassifier()</pre><b>In a Jupyter environment, please rerun this cell to show the HTML representation or trust the notebook. <br />On GitHub, the HTML representation is unable to render, please try loading this page with nbviewer.org.</b></div><div class=\"sk-container\" hidden><div class=\"sk-item\"><div class=\"sk-estimator sk-toggleable\"><input class=\"sk-toggleable__control sk-hidden--visually\" id=\"sk-estimator-id-10\" type=\"checkbox\" checked><label for=\"sk-estimator-id-10\" class=\"sk-toggleable__label sk-toggleable__label-arrow\">DecisionTreeClassifier</label><div class=\"sk-toggleable__content\"><pre>DecisionTreeClassifier()</pre></div></div></div></div></div>"
            ]
          },
          "metadata": {},
          "execution_count": 99
        }
      ]
    },
    {
      "cell_type": "code",
      "source": [
        "Y_pred_dt = dt_model.predict(X_test)"
      ],
      "metadata": {
        "id": "K4W8qkbozf5I"
      },
      "execution_count": null,
      "outputs": []
    },
    {
      "cell_type": "code",
      "source": [
        "print(Y_pred_dt)"
      ],
      "metadata": {
        "colab": {
          "base_uri": "https://localhost:8080/"
        },
        "id": "hpANOwHJ0w2L",
        "outputId": "182fd6fc-c0ea-4c32-efed-818f1e0a5e49"
      },
      "execution_count": null,
      "outputs": [
        {
          "output_type": "stream",
          "name": "stdout",
          "text": [
            "[0 0 0 1 0 0 1 1 0 0 1 0 0 1 0 0 0 1 0 1 0 0 0 0 0 0 1 0 0 0 0 0 0 0 0 0 0\n",
            " 1 0 1 0 0 0 0 1 0 0 1 1 0 0 1 0 0 1 0 1 0 0 0 1 0 1 1 0 1 1 0 1 0 0 1 0 1\n",
            " 0 0 0 0 0 0 1 0 1 0 1 0 1 0 0 0 0 0 1 0 1 0 0 1 0 0 0 0 1 0 1 0 0 1 0 1 1\n",
            " 0 0 1 1 0 0 1 0 0 0 0 0 0 1 0 0 0 0 0 1 0 0 0 0 0 0 1 0 0 1 1 0 1 1 0 1 0\n",
            " 0 1 0 1 0 0 0 0 0 1 0 0 0 0 1 0 0 0 0 0 0 1 0 0 1 0 0 0 1 0 0 0 0 0 0 0 0\n",
            " 1 0 0 0 0 0 0 0 1 0 0 0 0 0 0 1 0 0 0 0 0 0 0 0 0 1 1 1 0 0 0 1 1 0 0 0 0\n",
            " 0 1 1 1 0 0 1 0 0 0 0 0 1 1 1 1 1 1 0 0 1 1 0 1 0 1 0 0 1 0 1 0 0 0 0 0 1\n",
            " 1 0 0 0 1 0 0 0 1 0 0 0 0 1 0 0 0 0 0 0 1 0 1 1 1 0 0 0 1 1 0 0 1 0 0 0 0\n",
            " 0 0 0 1]\n"
          ]
        }
      ]
    },
    {
      "cell_type": "code",
      "source": [
        "cr_dt = classification_report(Y_test, Y_pred_dt)\n",
        "print(cr_dt)"
      ],
      "metadata": {
        "colab": {
          "base_uri": "https://localhost:8080/"
        },
        "id": "bX5eZeAh0yTj",
        "outputId": "b4fa396f-4f83-4779-c549-717052421976"
      },
      "execution_count": null,
      "outputs": [
        {
          "output_type": "stream",
          "name": "stdout",
          "text": [
            "              precision    recall  f1-score   support\n",
            "\n",
            "           0       0.89      0.84      0.86       219\n",
            "           1       0.63      0.70      0.66        81\n",
            "\n",
            "    accuracy                           0.81       300\n",
            "   macro avg       0.76      0.77      0.76       300\n",
            "weighted avg       0.82      0.81      0.81       300\n",
            "\n"
          ]
        }
      ]
    },
    {
      "cell_type": "code",
      "source": [
        "# 변수 중요도 feature importance\n",
        "\n",
        "feature_name = X.columns\n",
        "feature_importance = dt_model.feature_importances_\n",
        "sorted(zip(feature_importance, feature_name), reverse = True) #feature_importance 가 높은 순서로 sort (reverse = True 면 내림차순)"
      ],
      "metadata": {
        "colab": {
          "base_uri": "https://localhost:8080/"
        },
        "id": "Vmp488ey1Cd9",
        "outputId": "4268a8d6-1822-4b4e-dfb5-dd16912040d7"
      },
      "execution_count": null,
      "outputs": [
        {
          "output_type": "execute_result",
          "data": {
            "text/plain": [
              "[(0.729083218571356, '거래기간'),\n",
              " (0.1376769216503272, '방문빈도'),\n",
              " (0.13323985977831676, '총매출액')]"
            ]
          },
          "metadata": {},
          "execution_count": 103
        }
      ]
    },
    {
      "cell_type": "code",
      "source": [
        "from sklearn.tree import export_graphviz\n",
        "import graphviz"
      ],
      "metadata": {
        "id": "amLdmovR5qrG"
      },
      "execution_count": null,
      "outputs": []
    },
    {
      "cell_type": "code",
      "source": [
        "export_graphviz(dt_model, class_names=['비이탈','이탈'], feature_names=feature_name, filled =True,\n",
        "                out_file='tree.dot')  #tree 모델 안의 tree 구조를 tree.dot 이라는 파일로 추출함"
      ],
      "metadata": {
        "id": "Rhglvacu515E"
      },
      "execution_count": null,
      "outputs": []
    },
    {
      "cell_type": "code",
      "source": [
        "with open('tree.dot', encoding = 'utf-8') as f:\n",
        "  dot_graph = f.read()\n",
        "graphviz.Source(dot_graph)"
      ],
      "metadata": {
        "colab": {
          "base_uri": "https://localhost:8080/",
          "height": 1000
        },
        "id": "HKGcoQUm6kAn",
        "outputId": "ef9dea2d-5148-4725-95fd-2253fc2685b0"
      },
      "execution_count": null,
      "outputs": [
        {
          "output_type": "execute_result",
          "data": {
            "image/svg+xml": "<?xml version=\"1.0\" encoding=\"UTF-8\" standalone=\"no\"?>\n<!DOCTYPE svg PUBLIC \"-//W3C//DTD SVG 1.1//EN\"\n \"http://www.w3.org/Graphics/SVG/1.1/DTD/svg11.dtd\">\n<!-- Generated by graphviz version 2.43.0 (0)\n -->\n<!-- Title: Tree Pages: 1 -->\n<svg width=\"4685pt\" height=\"2099pt\"\n viewBox=\"0.00 0.00 4685.00 2099.00\" xmlns=\"http://www.w3.org/2000/svg\" xmlns:xlink=\"http://www.w3.org/1999/xlink\">\n<g id=\"graph0\" class=\"graph\" transform=\"scale(1 1) rotate(0) translate(4 2095)\">\n<title>Tree</title>\n<polygon fill=\"white\" stroke=\"transparent\" points=\"-4,4 -4,-2095 4681,-2095 4681,4 -4,4\"/>\n<!-- 0 -->\n<g id=\"node1\" class=\"node\">\n<title>0</title>\n<polygon fill=\"#ffffff\" stroke=\"black\" points=\"3444.5,-2091 3313.5,-2091 3313.5,-2008 3444.5,-2008 3444.5,-2091\"/>\n<text text-anchor=\"middle\" x=\"3379\" y=\"-2075.8\" font-family=\"Helvetica,sans-Serif\" font-size=\"14.00\">거래기간 &lt;= 0.447</text>\n<text text-anchor=\"middle\" x=\"3379\" y=\"-2060.8\" font-family=\"Helvetica,sans-Serif\" font-size=\"14.00\">gini = 0.5</text>\n<text text-anchor=\"middle\" x=\"3379\" y=\"-2045.8\" font-family=\"Helvetica,sans-Serif\" font-size=\"14.00\">samples = 962</text>\n<text text-anchor=\"middle\" x=\"3379\" y=\"-2030.8\" font-family=\"Helvetica,sans-Serif\" font-size=\"14.00\">value = [481, 481]</text>\n<text text-anchor=\"middle\" x=\"3379\" y=\"-2015.8\" font-family=\"Helvetica,sans-Serif\" font-size=\"14.00\">class = 비이탈</text>\n</g>\n<!-- 1 -->\n<g id=\"node2\" class=\"node\">\n<title>1</title>\n<polygon fill=\"#81c1ee\" stroke=\"black\" points=\"3224,-1972 3096,-1972 3096,-1889 3224,-1889 3224,-1972\"/>\n<text text-anchor=\"middle\" x=\"3160\" y=\"-1956.8\" font-family=\"Helvetica,sans-Serif\" font-size=\"14.00\">거래기간 &lt;= &#45;0.08</text>\n<text text-anchor=\"middle\" x=\"3160\" y=\"-1941.8\" font-family=\"Helvetica,sans-Serif\" font-size=\"14.00\">gini = 0.391</text>\n<text text-anchor=\"middle\" x=\"3160\" y=\"-1926.8\" font-family=\"Helvetica,sans-Serif\" font-size=\"14.00\">samples = 652</text>\n<text text-anchor=\"middle\" x=\"3160\" y=\"-1911.8\" font-family=\"Helvetica,sans-Serif\" font-size=\"14.00\">value = [174, 478]</text>\n<text text-anchor=\"middle\" x=\"3160\" y=\"-1896.8\" font-family=\"Helvetica,sans-Serif\" font-size=\"14.00\">class = 이탈</text>\n</g>\n<!-- 0&#45;&gt;1 -->\n<g id=\"edge1\" class=\"edge\">\n<title>0&#45;&gt;1</title>\n<path fill=\"none\" stroke=\"black\" d=\"M3313.29,-2013.4C3288.05,-1999.91 3259.08,-1984.43 3233.18,-1970.6\"/>\n<polygon fill=\"black\" stroke=\"black\" points=\"3234.62,-1967.4 3224.15,-1965.77 3231.32,-1973.57 3234.62,-1967.4\"/>\n<text text-anchor=\"middle\" x=\"3231.42\" y=\"-1986\" font-family=\"Helvetica,sans-Serif\" font-size=\"14.00\">True</text>\n</g>\n<!-- 192 -->\n<g id=\"node193\" class=\"node\">\n<title>192</title>\n<polygon fill=\"#e5823b\" stroke=\"black\" points=\"3677.5,-1972 3546.5,-1972 3546.5,-1889 3677.5,-1889 3677.5,-1972\"/>\n<text text-anchor=\"middle\" x=\"3612\" y=\"-1956.8\" font-family=\"Helvetica,sans-Serif\" font-size=\"14.00\">거래기간 &lt;= 1.496</text>\n<text text-anchor=\"middle\" x=\"3612\" y=\"-1941.8\" font-family=\"Helvetica,sans-Serif\" font-size=\"14.00\">gini = 0.019</text>\n<text text-anchor=\"middle\" x=\"3612\" y=\"-1926.8\" font-family=\"Helvetica,sans-Serif\" font-size=\"14.00\">samples = 310</text>\n<text text-anchor=\"middle\" x=\"3612\" y=\"-1911.8\" font-family=\"Helvetica,sans-Serif\" font-size=\"14.00\">value = [307, 3]</text>\n<text text-anchor=\"middle\" x=\"3612\" y=\"-1896.8\" font-family=\"Helvetica,sans-Serif\" font-size=\"14.00\">class = 비이탈</text>\n</g>\n<!-- 0&#45;&gt;192 -->\n<g id=\"edge192\" class=\"edge\">\n<title>0&#45;&gt;192</title>\n<path fill=\"none\" stroke=\"black\" d=\"M3444.52,-2015.6C3473.31,-2001.14 3507.27,-1984.09 3537.06,-1969.13\"/>\n<polygon fill=\"black\" stroke=\"black\" points=\"3538.8,-1972.18 3546.16,-1964.56 3535.65,-1965.92 3538.8,-1972.18\"/>\n<text text-anchor=\"middle\" x=\"3538.3\" y=\"-1984.59\" font-family=\"Helvetica,sans-Serif\" font-size=\"14.00\">False</text>\n</g>\n<!-- 2 -->\n<g id=\"node3\" class=\"node\">\n<title>2</title>\n<polygon fill=\"#e1f0fb\" stroke=\"black\" points=\"1799,-1853 1671,-1853 1671,-1770 1799,-1770 1799,-1853\"/>\n<text text-anchor=\"middle\" x=\"1735\" y=\"-1837.8\" font-family=\"Helvetica,sans-Serif\" font-size=\"14.00\">방문빈도 &lt;= &#45;0.48</text>\n<text text-anchor=\"middle\" x=\"1735\" y=\"-1822.8\" font-family=\"Helvetica,sans-Serif\" font-size=\"14.00\">gini = 0.497</text>\n<text text-anchor=\"middle\" x=\"1735\" y=\"-1807.8\" font-family=\"Helvetica,sans-Serif\" font-size=\"14.00\">samples = 309</text>\n<text text-anchor=\"middle\" x=\"1735\" y=\"-1792.8\" font-family=\"Helvetica,sans-Serif\" font-size=\"14.00\">value = [142, 167]</text>\n<text text-anchor=\"middle\" x=\"1735\" y=\"-1777.8\" font-family=\"Helvetica,sans-Serif\" font-size=\"14.00\">class = 이탈</text>\n</g>\n<!-- 1&#45;&gt;2 -->\n<g id=\"edge2\" class=\"edge\">\n<title>1&#45;&gt;2</title>\n<path fill=\"none\" stroke=\"black\" d=\"M3095.54,-1924.21C2861.61,-1905 2058.2,-1839.04 1809.19,-1818.59\"/>\n<polygon fill=\"black\" stroke=\"black\" points=\"1809.41,-1815.1 1799.16,-1817.77 1808.84,-1822.07 1809.41,-1815.1\"/>\n</g>\n<!-- 119 -->\n<g id=\"node120\" class=\"node\">\n<title>119</title>\n<polygon fill=\"#4da7e8\" stroke=\"black\" points=\"3225.5,-1853 3094.5,-1853 3094.5,-1770 3225.5,-1770 3225.5,-1853\"/>\n<text text-anchor=\"middle\" x=\"3160\" y=\"-1837.8\" font-family=\"Helvetica,sans-Serif\" font-size=\"14.00\">거래기간 &lt;= 0.135</text>\n<text text-anchor=\"middle\" x=\"3160\" y=\"-1822.8\" font-family=\"Helvetica,sans-Serif\" font-size=\"14.00\">gini = 0.169</text>\n<text text-anchor=\"middle\" x=\"3160\" y=\"-1807.8\" font-family=\"Helvetica,sans-Serif\" font-size=\"14.00\">samples = 343</text>\n<text text-anchor=\"middle\" x=\"3160\" y=\"-1792.8\" font-family=\"Helvetica,sans-Serif\" font-size=\"14.00\">value = [32, 311]</text>\n<text text-anchor=\"middle\" x=\"3160\" y=\"-1777.8\" font-family=\"Helvetica,sans-Serif\" font-size=\"14.00\">class = 이탈</text>\n</g>\n<!-- 1&#45;&gt;119 -->\n<g id=\"edge119\" class=\"edge\">\n<title>1&#45;&gt;119</title>\n<path fill=\"none\" stroke=\"black\" d=\"M3160,-1888.91C3160,-1880.65 3160,-1871.86 3160,-1863.3\"/>\n<polygon fill=\"black\" stroke=\"black\" points=\"3163.5,-1863.02 3160,-1853.02 3156.5,-1863.02 3163.5,-1863.02\"/>\n</g>\n<!-- 3 -->\n<g id=\"node4\" class=\"node\">\n<title>3</title>\n<polygon fill=\"#70b8ec\" stroke=\"black\" points=\"737,-1734 601,-1734 601,-1651 737,-1651 737,-1734\"/>\n<text text-anchor=\"middle\" x=\"669\" y=\"-1718.8\" font-family=\"Helvetica,sans-Serif\" font-size=\"14.00\">거래기간 &lt;= &#45;2.189</text>\n<text text-anchor=\"middle\" x=\"669\" y=\"-1703.8\" font-family=\"Helvetica,sans-Serif\" font-size=\"14.00\">gini = 0.34</text>\n<text text-anchor=\"middle\" x=\"669\" y=\"-1688.8\" font-family=\"Helvetica,sans-Serif\" font-size=\"14.00\">samples = 143</text>\n<text text-anchor=\"middle\" x=\"669\" y=\"-1673.8\" font-family=\"Helvetica,sans-Serif\" font-size=\"14.00\">value = [31, 112]</text>\n<text text-anchor=\"middle\" x=\"669\" y=\"-1658.8\" font-family=\"Helvetica,sans-Serif\" font-size=\"14.00\">class = 이탈</text>\n</g>\n<!-- 2&#45;&gt;3 -->\n<g id=\"edge3\" class=\"edge\">\n<title>2&#45;&gt;3</title>\n<path fill=\"none\" stroke=\"black\" d=\"M1670.72,-1803.44C1485.22,-1783.09 949.42,-1724.28 747.36,-1702.1\"/>\n<polygon fill=\"black\" stroke=\"black\" points=\"747.45,-1698.59 737.13,-1700.98 746.69,-1705.55 747.45,-1698.59\"/>\n</g>\n<!-- 48 -->\n<g id=\"node49\" class=\"node\">\n<title>48</title>\n<polygon fill=\"#f2bf9b\" stroke=\"black\" points=\"1803,-1734 1667,-1734 1667,-1651 1803,-1651 1803,-1734\"/>\n<text text-anchor=\"middle\" x=\"1735\" y=\"-1718.8\" font-family=\"Helvetica,sans-Serif\" font-size=\"14.00\">거래기간 &lt;= &#45;1.919</text>\n<text text-anchor=\"middle\" x=\"1735\" y=\"-1703.8\" font-family=\"Helvetica,sans-Serif\" font-size=\"14.00\">gini = 0.443</text>\n<text text-anchor=\"middle\" x=\"1735\" y=\"-1688.8\" font-family=\"Helvetica,sans-Serif\" font-size=\"14.00\">samples = 166</text>\n<text text-anchor=\"middle\" x=\"1735\" y=\"-1673.8\" font-family=\"Helvetica,sans-Serif\" font-size=\"14.00\">value = [111, 55]</text>\n<text text-anchor=\"middle\" x=\"1735\" y=\"-1658.8\" font-family=\"Helvetica,sans-Serif\" font-size=\"14.00\">class = 비이탈</text>\n</g>\n<!-- 2&#45;&gt;48 -->\n<g id=\"edge48\" class=\"edge\">\n<title>2&#45;&gt;48</title>\n<path fill=\"none\" stroke=\"black\" d=\"M1735,-1769.91C1735,-1761.65 1735,-1752.86 1735,-1744.3\"/>\n<polygon fill=\"black\" stroke=\"black\" points=\"1738.5,-1744.02 1735,-1734.02 1731.5,-1744.02 1738.5,-1744.02\"/>\n</g>\n<!-- 4 -->\n<g id=\"node5\" class=\"node\">\n<title>4</title>\n<polygon fill=\"#3e9fe6\" stroke=\"black\" points=\"531,-1615 395,-1615 395,-1532 531,-1532 531,-1615\"/>\n<text text-anchor=\"middle\" x=\"463\" y=\"-1599.8\" font-family=\"Helvetica,sans-Serif\" font-size=\"14.00\">방문빈도 &lt;= &#45;1.095</text>\n<text text-anchor=\"middle\" x=\"463\" y=\"-1584.8\" font-family=\"Helvetica,sans-Serif\" font-size=\"14.00\">gini = 0.048</text>\n<text text-anchor=\"middle\" x=\"463\" y=\"-1569.8\" font-family=\"Helvetica,sans-Serif\" font-size=\"14.00\">samples = 41</text>\n<text text-anchor=\"middle\" x=\"463\" y=\"-1554.8\" font-family=\"Helvetica,sans-Serif\" font-size=\"14.00\">value = [1, 40]</text>\n<text text-anchor=\"middle\" x=\"463\" y=\"-1539.8\" font-family=\"Helvetica,sans-Serif\" font-size=\"14.00\">class = 이탈</text>\n</g>\n<!-- 3&#45;&gt;4 -->\n<g id=\"edge4\" class=\"edge\">\n<title>3&#45;&gt;4</title>\n<path fill=\"none\" stroke=\"black\" d=\"M600.98,-1652.87C581.48,-1641.79 560.08,-1629.64 540.08,-1618.28\"/>\n<polygon fill=\"black\" stroke=\"black\" points=\"541.73,-1615.19 531.3,-1613.29 538.27,-1621.28 541.73,-1615.19\"/>\n</g>\n<!-- 9 -->\n<g id=\"node10\" class=\"node\">\n<title>9</title>\n<polygon fill=\"#8bc6f0\" stroke=\"black\" points=\"733,-1615 605,-1615 605,-1532 733,-1532 733,-1615\"/>\n<text text-anchor=\"middle\" x=\"669\" y=\"-1599.8\" font-family=\"Helvetica,sans-Serif\" font-size=\"14.00\">거래기간 &lt;= &#45;1.91</text>\n<text text-anchor=\"middle\" x=\"669\" y=\"-1584.8\" font-family=\"Helvetica,sans-Serif\" font-size=\"14.00\">gini = 0.415</text>\n<text text-anchor=\"middle\" x=\"669\" y=\"-1569.8\" font-family=\"Helvetica,sans-Serif\" font-size=\"14.00\">samples = 102</text>\n<text text-anchor=\"middle\" x=\"669\" y=\"-1554.8\" font-family=\"Helvetica,sans-Serif\" font-size=\"14.00\">value = [30, 72]</text>\n<text text-anchor=\"middle\" x=\"669\" y=\"-1539.8\" font-family=\"Helvetica,sans-Serif\" font-size=\"14.00\">class = 이탈</text>\n</g>\n<!-- 3&#45;&gt;9 -->\n<g id=\"edge9\" class=\"edge\">\n<title>3&#45;&gt;9</title>\n<path fill=\"none\" stroke=\"black\" d=\"M669,-1650.91C669,-1642.65 669,-1633.86 669,-1625.3\"/>\n<polygon fill=\"black\" stroke=\"black\" points=\"672.5,-1625.02 669,-1615.02 665.5,-1625.02 672.5,-1625.02\"/>\n</g>\n<!-- 5 -->\n<g id=\"node6\" class=\"node\">\n<title>5</title>\n<polygon fill=\"#ffffff\" stroke=\"black\" points=\"394,-1496 258,-1496 258,-1413 394,-1413 394,-1496\"/>\n<text text-anchor=\"middle\" x=\"326\" y=\"-1480.8\" font-family=\"Helvetica,sans-Serif\" font-size=\"14.00\">거래기간 &lt;= &#45;2.421</text>\n<text text-anchor=\"middle\" x=\"326\" y=\"-1465.8\" font-family=\"Helvetica,sans-Serif\" font-size=\"14.00\">gini = 0.5</text>\n<text text-anchor=\"middle\" x=\"326\" y=\"-1450.8\" font-family=\"Helvetica,sans-Serif\" font-size=\"14.00\">samples = 2</text>\n<text text-anchor=\"middle\" x=\"326\" y=\"-1435.8\" font-family=\"Helvetica,sans-Serif\" font-size=\"14.00\">value = [1, 1]</text>\n<text text-anchor=\"middle\" x=\"326\" y=\"-1420.8\" font-family=\"Helvetica,sans-Serif\" font-size=\"14.00\">class = 비이탈</text>\n</g>\n<!-- 4&#45;&gt;5 -->\n<g id=\"edge5\" class=\"edge\">\n<title>4&#45;&gt;5</title>\n<path fill=\"none\" stroke=\"black\" d=\"M415.47,-1531.91C404.42,-1522.47 392.56,-1512.34 381.21,-1502.65\"/>\n<polygon fill=\"black\" stroke=\"black\" points=\"383.32,-1499.85 373.45,-1496.02 378.78,-1505.18 383.32,-1499.85\"/>\n</g>\n<!-- 8 -->\n<g id=\"node9\" class=\"node\">\n<title>8</title>\n<polygon fill=\"#399de5\" stroke=\"black\" points=\"514,-1488.5 412,-1488.5 412,-1420.5 514,-1420.5 514,-1488.5\"/>\n<text text-anchor=\"middle\" x=\"463\" y=\"-1473.3\" font-family=\"Helvetica,sans-Serif\" font-size=\"14.00\">gini = 0.0</text>\n<text text-anchor=\"middle\" x=\"463\" y=\"-1458.3\" font-family=\"Helvetica,sans-Serif\" font-size=\"14.00\">samples = 39</text>\n<text text-anchor=\"middle\" x=\"463\" y=\"-1443.3\" font-family=\"Helvetica,sans-Serif\" font-size=\"14.00\">value = [0, 39]</text>\n<text text-anchor=\"middle\" x=\"463\" y=\"-1428.3\" font-family=\"Helvetica,sans-Serif\" font-size=\"14.00\">class = 이탈</text>\n</g>\n<!-- 4&#45;&gt;8 -->\n<g id=\"edge8\" class=\"edge\">\n<title>4&#45;&gt;8</title>\n<path fill=\"none\" stroke=\"black\" d=\"M463,-1531.91C463,-1521.2 463,-1509.62 463,-1498.78\"/>\n<polygon fill=\"black\" stroke=\"black\" points=\"466.5,-1498.67 463,-1488.67 459.5,-1498.67 466.5,-1498.67\"/>\n</g>\n<!-- 6 -->\n<g id=\"node7\" class=\"node\">\n<title>6</title>\n<polygon fill=\"#e58139\" stroke=\"black\" points=\"274,-1369.5 168,-1369.5 168,-1301.5 274,-1301.5 274,-1369.5\"/>\n<text text-anchor=\"middle\" x=\"221\" y=\"-1354.3\" font-family=\"Helvetica,sans-Serif\" font-size=\"14.00\">gini = 0.0</text>\n<text text-anchor=\"middle\" x=\"221\" y=\"-1339.3\" font-family=\"Helvetica,sans-Serif\" font-size=\"14.00\">samples = 1</text>\n<text text-anchor=\"middle\" x=\"221\" y=\"-1324.3\" font-family=\"Helvetica,sans-Serif\" font-size=\"14.00\">value = [1, 0]</text>\n<text text-anchor=\"middle\" x=\"221\" y=\"-1309.3\" font-family=\"Helvetica,sans-Serif\" font-size=\"14.00\">class = 비이탈</text>\n</g>\n<!-- 5&#45;&gt;6 -->\n<g id=\"edge6\" class=\"edge\">\n<title>5&#45;&gt;6</title>\n<path fill=\"none\" stroke=\"black\" d=\"M289.57,-1412.91C279.17,-1401.32 267.84,-1388.7 257.45,-1377.11\"/>\n<polygon fill=\"black\" stroke=\"black\" points=\"260.05,-1374.77 250.77,-1369.67 254.84,-1379.45 260.05,-1374.77\"/>\n</g>\n<!-- 7 -->\n<g id=\"node8\" class=\"node\">\n<title>7</title>\n<polygon fill=\"#399de5\" stroke=\"black\" points=\"387.5,-1369.5 292.5,-1369.5 292.5,-1301.5 387.5,-1301.5 387.5,-1369.5\"/>\n<text text-anchor=\"middle\" x=\"340\" y=\"-1354.3\" font-family=\"Helvetica,sans-Serif\" font-size=\"14.00\">gini = 0.0</text>\n<text text-anchor=\"middle\" x=\"340\" y=\"-1339.3\" font-family=\"Helvetica,sans-Serif\" font-size=\"14.00\">samples = 1</text>\n<text text-anchor=\"middle\" x=\"340\" y=\"-1324.3\" font-family=\"Helvetica,sans-Serif\" font-size=\"14.00\">value = [0, 1]</text>\n<text text-anchor=\"middle\" x=\"340\" y=\"-1309.3\" font-family=\"Helvetica,sans-Serif\" font-size=\"14.00\">class = 이탈</text>\n</g>\n<!-- 5&#45;&gt;7 -->\n<g id=\"edge7\" class=\"edge\">\n<title>5&#45;&gt;7</title>\n<path fill=\"none\" stroke=\"black\" d=\"M330.86,-1412.91C332.14,-1402.2 333.52,-1390.62 334.82,-1379.78\"/>\n<polygon fill=\"black\" stroke=\"black\" points=\"338.32,-1380.01 336.03,-1369.67 331.37,-1379.18 338.32,-1380.01\"/>\n</g>\n<!-- 10 -->\n<g id=\"node11\" class=\"node\">\n<title>10</title>\n<polygon fill=\"#e58139\" stroke=\"black\" points=\"638,-1488.5 532,-1488.5 532,-1420.5 638,-1420.5 638,-1488.5\"/>\n<text text-anchor=\"middle\" x=\"585\" y=\"-1473.3\" font-family=\"Helvetica,sans-Serif\" font-size=\"14.00\">gini = 0.0</text>\n<text text-anchor=\"middle\" x=\"585\" y=\"-1458.3\" font-family=\"Helvetica,sans-Serif\" font-size=\"14.00\">samples = 4</text>\n<text text-anchor=\"middle\" x=\"585\" y=\"-1443.3\" font-family=\"Helvetica,sans-Serif\" font-size=\"14.00\">value = [4, 0]</text>\n<text text-anchor=\"middle\" x=\"585\" y=\"-1428.3\" font-family=\"Helvetica,sans-Serif\" font-size=\"14.00\">class = 비이탈</text>\n</g>\n<!-- 9&#45;&gt;10 -->\n<g id=\"edge10\" class=\"edge\">\n<title>9&#45;&gt;10</title>\n<path fill=\"none\" stroke=\"black\" d=\"M639.86,-1531.91C631.78,-1520.65 622.99,-1508.42 614.87,-1497.11\"/>\n<polygon fill=\"black\" stroke=\"black\" points=\"617.49,-1494.75 608.81,-1488.67 611.8,-1498.83 617.49,-1494.75\"/>\n</g>\n<!-- 11 -->\n<g id=\"node12\" class=\"node\">\n<title>11</title>\n<polygon fill=\"#80c0ee\" stroke=\"black\" points=\"792,-1496 656,-1496 656,-1413 792,-1413 792,-1496\"/>\n<text text-anchor=\"middle\" x=\"724\" y=\"-1480.8\" font-family=\"Helvetica,sans-Serif\" font-size=\"14.00\">방문빈도 &lt;= &#45;0.679</text>\n<text text-anchor=\"middle\" x=\"724\" y=\"-1465.8\" font-family=\"Helvetica,sans-Serif\" font-size=\"14.00\">gini = 0.39</text>\n<text text-anchor=\"middle\" x=\"724\" y=\"-1450.8\" font-family=\"Helvetica,sans-Serif\" font-size=\"14.00\">samples = 98</text>\n<text text-anchor=\"middle\" x=\"724\" y=\"-1435.8\" font-family=\"Helvetica,sans-Serif\" font-size=\"14.00\">value = [26, 72]</text>\n<text text-anchor=\"middle\" x=\"724\" y=\"-1420.8\" font-family=\"Helvetica,sans-Serif\" font-size=\"14.00\">class = 이탈</text>\n</g>\n<!-- 9&#45;&gt;11 -->\n<g id=\"edge11\" class=\"edge\">\n<title>9&#45;&gt;11</title>\n<path fill=\"none\" stroke=\"black\" d=\"M688.08,-1531.91C692.13,-1523.29 696.46,-1514.09 700.65,-1505.17\"/>\n<polygon fill=\"black\" stroke=\"black\" points=\"703.86,-1506.56 704.95,-1496.02 697.53,-1503.58 703.86,-1506.56\"/>\n</g>\n<!-- 12 -->\n<g id=\"node13\" class=\"node\">\n<title>12</title>\n<polygon fill=\"#5dafea\" stroke=\"black\" points=\"569,-1377 433,-1377 433,-1294 569,-1294 569,-1377\"/>\n<text text-anchor=\"middle\" x=\"501\" y=\"-1361.8\" font-family=\"Helvetica,sans-Serif\" font-size=\"14.00\">방문빈도 &lt;= &#45;0.887</text>\n<text text-anchor=\"middle\" x=\"501\" y=\"-1346.8\" font-family=\"Helvetica,sans-Serif\" font-size=\"14.00\">gini = 0.259</text>\n<text text-anchor=\"middle\" x=\"501\" y=\"-1331.8\" font-family=\"Helvetica,sans-Serif\" font-size=\"14.00\">samples = 59</text>\n<text text-anchor=\"middle\" x=\"501\" y=\"-1316.8\" font-family=\"Helvetica,sans-Serif\" font-size=\"14.00\">value = [9, 50]</text>\n<text text-anchor=\"middle\" x=\"501\" y=\"-1301.8\" font-family=\"Helvetica,sans-Serif\" font-size=\"14.00\">class = 이탈</text>\n</g>\n<!-- 11&#45;&gt;12 -->\n<g id=\"edge12\" class=\"edge\">\n<title>11&#45;&gt;12</title>\n<path fill=\"none\" stroke=\"black\" d=\"M655.98,-1417.72C652.95,-1416.12 649.94,-1414.54 647,-1413 624.73,-1401.31 600.54,-1388.63 578.38,-1377.02\"/>\n<polygon fill=\"black\" stroke=\"black\" points=\"579.83,-1373.82 569.35,-1372.28 576.58,-1380.02 579.83,-1373.82\"/>\n</g>\n<!-- 27 -->\n<g id=\"node28\" class=\"node\">\n<title>27</title>\n<polygon fill=\"#d2e9f9\" stroke=\"black\" points=\"789.5,-1377 658.5,-1377 658.5,-1294 789.5,-1294 789.5,-1377\"/>\n<text text-anchor=\"middle\" x=\"724\" y=\"-1361.8\" font-family=\"Helvetica,sans-Serif\" font-size=\"14.00\">총매출액 &lt;= 0.047</text>\n<text text-anchor=\"middle\" x=\"724\" y=\"-1346.8\" font-family=\"Helvetica,sans-Serif\" font-size=\"14.00\">gini = 0.492</text>\n<text text-anchor=\"middle\" x=\"724\" y=\"-1331.8\" font-family=\"Helvetica,sans-Serif\" font-size=\"14.00\">samples = 39</text>\n<text text-anchor=\"middle\" x=\"724\" y=\"-1316.8\" font-family=\"Helvetica,sans-Serif\" font-size=\"14.00\">value = [17, 22]</text>\n<text text-anchor=\"middle\" x=\"724\" y=\"-1301.8\" font-family=\"Helvetica,sans-Serif\" font-size=\"14.00\">class = 이탈</text>\n</g>\n<!-- 11&#45;&gt;27 -->\n<g id=\"edge27\" class=\"edge\">\n<title>11&#45;&gt;27</title>\n<path fill=\"none\" stroke=\"black\" d=\"M724,-1412.91C724,-1404.65 724,-1395.86 724,-1387.3\"/>\n<polygon fill=\"black\" stroke=\"black\" points=\"727.5,-1387.02 724,-1377.02 720.5,-1387.02 727.5,-1387.02\"/>\n</g>\n<!-- 13 -->\n<g id=\"node14\" class=\"node\">\n<title>13</title>\n<polygon fill=\"#41a1e6\" stroke=\"black\" points=\"328,-1258 200,-1258 200,-1175 328,-1175 328,-1258\"/>\n<text text-anchor=\"middle\" x=\"264\" y=\"-1242.8\" font-family=\"Helvetica,sans-Serif\" font-size=\"14.00\">총매출액 &lt;= &#45;0.28</text>\n<text text-anchor=\"middle\" x=\"264\" y=\"-1227.8\" font-family=\"Helvetica,sans-Serif\" font-size=\"14.00\">gini = 0.077</text>\n<text text-anchor=\"middle\" x=\"264\" y=\"-1212.8\" font-family=\"Helvetica,sans-Serif\" font-size=\"14.00\">samples = 25</text>\n<text text-anchor=\"middle\" x=\"264\" y=\"-1197.8\" font-family=\"Helvetica,sans-Serif\" font-size=\"14.00\">value = [1, 24]</text>\n<text text-anchor=\"middle\" x=\"264\" y=\"-1182.8\" font-family=\"Helvetica,sans-Serif\" font-size=\"14.00\">class = 이탈</text>\n</g>\n<!-- 12&#45;&gt;13 -->\n<g id=\"edge13\" class=\"edge\">\n<title>12&#45;&gt;13</title>\n<path fill=\"none\" stroke=\"black\" d=\"M432.77,-1300.82C402.9,-1286.07 367.81,-1268.75 337.38,-1253.72\"/>\n<polygon fill=\"black\" stroke=\"black\" points=\"338.61,-1250.43 328.09,-1249.14 335.51,-1256.71 338.61,-1250.43\"/>\n</g>\n<!-- 16 -->\n<g id=\"node17\" class=\"node\">\n<title>16</title>\n<polygon fill=\"#76bbed\" stroke=\"black\" points=\"569,-1258 433,-1258 433,-1175 569,-1175 569,-1258\"/>\n<text text-anchor=\"middle\" x=\"501\" y=\"-1242.8\" font-family=\"Helvetica,sans-Serif\" font-size=\"14.00\">거래기간 &lt;= &#45;1.162</text>\n<text text-anchor=\"middle\" x=\"501\" y=\"-1227.8\" font-family=\"Helvetica,sans-Serif\" font-size=\"14.00\">gini = 0.36</text>\n<text text-anchor=\"middle\" x=\"501\" y=\"-1212.8\" font-family=\"Helvetica,sans-Serif\" font-size=\"14.00\">samples = 34</text>\n<text text-anchor=\"middle\" x=\"501\" y=\"-1197.8\" font-family=\"Helvetica,sans-Serif\" font-size=\"14.00\">value = [8, 26]</text>\n<text text-anchor=\"middle\" x=\"501\" y=\"-1182.8\" font-family=\"Helvetica,sans-Serif\" font-size=\"14.00\">class = 이탈</text>\n</g>\n<!-- 12&#45;&gt;16 -->\n<g id=\"edge16\" class=\"edge\">\n<title>12&#45;&gt;16</title>\n<path fill=\"none\" stroke=\"black\" d=\"M501,-1293.91C501,-1285.65 501,-1276.86 501,-1268.3\"/>\n<polygon fill=\"black\" stroke=\"black\" points=\"504.5,-1268.02 501,-1258.02 497.5,-1268.02 504.5,-1268.02\"/>\n</g>\n<!-- 14 -->\n<g id=\"node15\" class=\"node\">\n<title>14</title>\n<polygon fill=\"#399de5\" stroke=\"black\" points=\"193,-1131.5 91,-1131.5 91,-1063.5 193,-1063.5 193,-1131.5\"/>\n<text text-anchor=\"middle\" x=\"142\" y=\"-1116.3\" font-family=\"Helvetica,sans-Serif\" font-size=\"14.00\">gini = 0.0</text>\n<text text-anchor=\"middle\" x=\"142\" y=\"-1101.3\" font-family=\"Helvetica,sans-Serif\" font-size=\"14.00\">samples = 24</text>\n<text text-anchor=\"middle\" x=\"142\" y=\"-1086.3\" font-family=\"Helvetica,sans-Serif\" font-size=\"14.00\">value = [0, 24]</text>\n<text text-anchor=\"middle\" x=\"142\" y=\"-1071.3\" font-family=\"Helvetica,sans-Serif\" font-size=\"14.00\">class = 이탈</text>\n</g>\n<!-- 13&#45;&gt;14 -->\n<g id=\"edge14\" class=\"edge\">\n<title>13&#45;&gt;14</title>\n<path fill=\"none\" stroke=\"black\" d=\"M221.67,-1174.91C209.48,-1163.21 196.18,-1150.46 184,-1138.78\"/>\n<polygon fill=\"black\" stroke=\"black\" points=\"186.22,-1136.06 176.58,-1131.67 181.38,-1141.11 186.22,-1136.06\"/>\n</g>\n<!-- 15 -->\n<g id=\"node16\" class=\"node\">\n<title>15</title>\n<polygon fill=\"#e58139\" stroke=\"black\" points=\"317,-1131.5 211,-1131.5 211,-1063.5 317,-1063.5 317,-1131.5\"/>\n<text text-anchor=\"middle\" x=\"264\" y=\"-1116.3\" font-family=\"Helvetica,sans-Serif\" font-size=\"14.00\">gini = 0.0</text>\n<text text-anchor=\"middle\" x=\"264\" y=\"-1101.3\" font-family=\"Helvetica,sans-Serif\" font-size=\"14.00\">samples = 1</text>\n<text text-anchor=\"middle\" x=\"264\" y=\"-1086.3\" font-family=\"Helvetica,sans-Serif\" font-size=\"14.00\">value = [1, 0]</text>\n<text text-anchor=\"middle\" x=\"264\" y=\"-1071.3\" font-family=\"Helvetica,sans-Serif\" font-size=\"14.00\">class = 비이탈</text>\n</g>\n<!-- 13&#45;&gt;15 -->\n<g id=\"edge15\" class=\"edge\">\n<title>13&#45;&gt;15</title>\n<path fill=\"none\" stroke=\"black\" d=\"M264,-1174.91C264,-1164.2 264,-1152.62 264,-1141.78\"/>\n<polygon fill=\"black\" stroke=\"black\" points=\"267.5,-1141.67 264,-1131.67 260.5,-1141.67 267.5,-1141.67\"/>\n</g>\n<!-- 17 -->\n<g id=\"node18\" class=\"node\">\n<title>17</title>\n<polygon fill=\"#399de5\" stroke=\"black\" points=\"437,-1131.5 335,-1131.5 335,-1063.5 437,-1063.5 437,-1131.5\"/>\n<text text-anchor=\"middle\" x=\"386\" y=\"-1116.3\" font-family=\"Helvetica,sans-Serif\" font-size=\"14.00\">gini = 0.0</text>\n<text text-anchor=\"middle\" x=\"386\" y=\"-1101.3\" font-family=\"Helvetica,sans-Serif\" font-size=\"14.00\">samples = 14</text>\n<text text-anchor=\"middle\" x=\"386\" y=\"-1086.3\" font-family=\"Helvetica,sans-Serif\" font-size=\"14.00\">value = [0, 14]</text>\n<text text-anchor=\"middle\" x=\"386\" y=\"-1071.3\" font-family=\"Helvetica,sans-Serif\" font-size=\"14.00\">class = 이탈</text>\n</g>\n<!-- 16&#45;&gt;17 -->\n<g id=\"edge17\" class=\"edge\">\n<title>16&#45;&gt;17</title>\n<path fill=\"none\" stroke=\"black\" d=\"M461.1,-1174.91C449.71,-1163.32 437.31,-1150.7 425.92,-1139.11\"/>\n<polygon fill=\"black\" stroke=\"black\" points=\"428.11,-1136.35 418.6,-1131.67 423.11,-1141.25 428.11,-1136.35\"/>\n</g>\n<!-- 18 -->\n<g id=\"node19\" class=\"node\">\n<title>18</title>\n<polygon fill=\"#bddef6\" stroke=\"black\" points=\"576.5,-1139 455.5,-1139 455.5,-1056 576.5,-1056 576.5,-1139\"/>\n<text text-anchor=\"middle\" x=\"516\" y=\"-1123.8\" font-family=\"Helvetica,sans-Serif\" font-size=\"14.00\">총매출액 &lt;= &#45;0.3</text>\n<text text-anchor=\"middle\" x=\"516\" y=\"-1108.8\" font-family=\"Helvetica,sans-Serif\" font-size=\"14.00\">gini = 0.48</text>\n<text text-anchor=\"middle\" x=\"516\" y=\"-1093.8\" font-family=\"Helvetica,sans-Serif\" font-size=\"14.00\">samples = 20</text>\n<text text-anchor=\"middle\" x=\"516\" y=\"-1078.8\" font-family=\"Helvetica,sans-Serif\" font-size=\"14.00\">value = [8, 12]</text>\n<text text-anchor=\"middle\" x=\"516\" y=\"-1063.8\" font-family=\"Helvetica,sans-Serif\" font-size=\"14.00\">class = 이탈</text>\n</g>\n<!-- 16&#45;&gt;18 -->\n<g id=\"edge18\" class=\"edge\">\n<title>16&#45;&gt;18</title>\n<path fill=\"none\" stroke=\"black\" d=\"M506.2,-1174.91C507.27,-1166.56 508.41,-1157.67 509.52,-1149.02\"/>\n<polygon fill=\"black\" stroke=\"black\" points=\"513,-1149.38 510.81,-1139.02 506.06,-1148.49 513,-1149.38\"/>\n</g>\n<!-- 19 -->\n<g id=\"node20\" class=\"node\">\n<title>19</title>\n<polygon fill=\"#f5d0b5\" stroke=\"black\" points=\"417,-1020 289,-1020 289,-937 417,-937 417,-1020\"/>\n<text text-anchor=\"middle\" x=\"353\" y=\"-1004.8\" font-family=\"Helvetica,sans-Serif\" font-size=\"14.00\">총매출액 &lt;= &#45;0.57</text>\n<text text-anchor=\"middle\" x=\"353\" y=\"-989.8\" font-family=\"Helvetica,sans-Serif\" font-size=\"14.00\">gini = 0.473</text>\n<text text-anchor=\"middle\" x=\"353\" y=\"-974.8\" font-family=\"Helvetica,sans-Serif\" font-size=\"14.00\">samples = 13</text>\n<text text-anchor=\"middle\" x=\"353\" y=\"-959.8\" font-family=\"Helvetica,sans-Serif\" font-size=\"14.00\">value = [8, 5]</text>\n<text text-anchor=\"middle\" x=\"353\" y=\"-944.8\" font-family=\"Helvetica,sans-Serif\" font-size=\"14.00\">class = 비이탈</text>\n</g>\n<!-- 18&#45;&gt;19 -->\n<g id=\"edge19\" class=\"edge\">\n<title>18&#45;&gt;19</title>\n<path fill=\"none\" stroke=\"black\" d=\"M459.45,-1055.91C446.05,-1046.29 431.65,-1035.95 417.91,-1026.09\"/>\n<polygon fill=\"black\" stroke=\"black\" points=\"419.62,-1023.01 409.45,-1020.02 415.53,-1028.7 419.62,-1023.01\"/>\n</g>\n<!-- 26 -->\n<g id=\"node27\" class=\"node\">\n<title>26</title>\n<polygon fill=\"#399de5\" stroke=\"black\" points=\"563.5,-1012.5 468.5,-1012.5 468.5,-944.5 563.5,-944.5 563.5,-1012.5\"/>\n<text text-anchor=\"middle\" x=\"516\" y=\"-997.3\" font-family=\"Helvetica,sans-Serif\" font-size=\"14.00\">gini = 0.0</text>\n<text text-anchor=\"middle\" x=\"516\" y=\"-982.3\" font-family=\"Helvetica,sans-Serif\" font-size=\"14.00\">samples = 7</text>\n<text text-anchor=\"middle\" x=\"516\" y=\"-967.3\" font-family=\"Helvetica,sans-Serif\" font-size=\"14.00\">value = [0, 7]</text>\n<text text-anchor=\"middle\" x=\"516\" y=\"-952.3\" font-family=\"Helvetica,sans-Serif\" font-size=\"14.00\">class = 이탈</text>\n</g>\n<!-- 18&#45;&gt;26 -->\n<g id=\"edge26\" class=\"edge\">\n<title>18&#45;&gt;26</title>\n<path fill=\"none\" stroke=\"black\" d=\"M516,-1055.91C516,-1045.2 516,-1033.62 516,-1022.78\"/>\n<polygon fill=\"black\" stroke=\"black\" points=\"519.5,-1022.67 516,-1012.67 512.5,-1022.67 519.5,-1022.67\"/>\n</g>\n<!-- 20 -->\n<g id=\"node21\" class=\"node\">\n<title>20</title>\n<polygon fill=\"#9ccef2\" stroke=\"black\" points=\"240,-901 104,-901 104,-818 240,-818 240,-901\"/>\n<text text-anchor=\"middle\" x=\"172\" y=\"-885.8\" font-family=\"Helvetica,sans-Serif\" font-size=\"14.00\">거래기간 &lt;= &#45;0.782</text>\n<text text-anchor=\"middle\" x=\"172\" y=\"-870.8\" font-family=\"Helvetica,sans-Serif\" font-size=\"14.00\">gini = 0.444</text>\n<text text-anchor=\"middle\" x=\"172\" y=\"-855.8\" font-family=\"Helvetica,sans-Serif\" font-size=\"14.00\">samples = 6</text>\n<text text-anchor=\"middle\" x=\"172\" y=\"-840.8\" font-family=\"Helvetica,sans-Serif\" font-size=\"14.00\">value = [2, 4]</text>\n<text text-anchor=\"middle\" x=\"172\" y=\"-825.8\" font-family=\"Helvetica,sans-Serif\" font-size=\"14.00\">class = 이탈</text>\n</g>\n<!-- 19&#45;&gt;20 -->\n<g id=\"edge20\" class=\"edge\">\n<title>19&#45;&gt;20</title>\n<path fill=\"none\" stroke=\"black\" d=\"M290.2,-936.91C275.04,-927.11 258.73,-916.56 243.21,-906.53\"/>\n<polygon fill=\"black\" stroke=\"black\" points=\"244.98,-903.51 234.69,-901.02 241.18,-909.39 244.98,-903.51\"/>\n</g>\n<!-- 23 -->\n<g id=\"node24\" class=\"node\">\n<title>23</title>\n<polygon fill=\"#e9965a\" stroke=\"black\" points=\"421,-901 285,-901 285,-818 421,-818 421,-901\"/>\n<text text-anchor=\"middle\" x=\"353\" y=\"-885.8\" font-family=\"Helvetica,sans-Serif\" font-size=\"14.00\">거래기간 &lt;= &#45;0.955</text>\n<text text-anchor=\"middle\" x=\"353\" y=\"-870.8\" font-family=\"Helvetica,sans-Serif\" font-size=\"14.00\">gini = 0.245</text>\n<text text-anchor=\"middle\" x=\"353\" y=\"-855.8\" font-family=\"Helvetica,sans-Serif\" font-size=\"14.00\">samples = 7</text>\n<text text-anchor=\"middle\" x=\"353\" y=\"-840.8\" font-family=\"Helvetica,sans-Serif\" font-size=\"14.00\">value = [6, 1]</text>\n<text text-anchor=\"middle\" x=\"353\" y=\"-825.8\" font-family=\"Helvetica,sans-Serif\" font-size=\"14.00\">class = 비이탈</text>\n</g>\n<!-- 19&#45;&gt;23 -->\n<g id=\"edge23\" class=\"edge\">\n<title>19&#45;&gt;23</title>\n<path fill=\"none\" stroke=\"black\" d=\"M353,-936.91C353,-928.65 353,-919.86 353,-911.3\"/>\n<polygon fill=\"black\" stroke=\"black\" points=\"356.5,-911.02 353,-901.02 349.5,-911.02 356.5,-911.02\"/>\n</g>\n<!-- 21 -->\n<g id=\"node22\" class=\"node\">\n<title>21</title>\n<polygon fill=\"#e58139\" stroke=\"black\" points=\"106,-774.5 0,-774.5 0,-706.5 106,-706.5 106,-774.5\"/>\n<text text-anchor=\"middle\" x=\"53\" y=\"-759.3\" font-family=\"Helvetica,sans-Serif\" font-size=\"14.00\">gini = 0.0</text>\n<text text-anchor=\"middle\" x=\"53\" y=\"-744.3\" font-family=\"Helvetica,sans-Serif\" font-size=\"14.00\">samples = 2</text>\n<text text-anchor=\"middle\" x=\"53\" y=\"-729.3\" font-family=\"Helvetica,sans-Serif\" font-size=\"14.00\">value = [2, 0]</text>\n<text text-anchor=\"middle\" x=\"53\" y=\"-714.3\" font-family=\"Helvetica,sans-Serif\" font-size=\"14.00\">class = 비이탈</text>\n</g>\n<!-- 20&#45;&gt;21 -->\n<g id=\"edge21\" class=\"edge\">\n<title>20&#45;&gt;21</title>\n<path fill=\"none\" stroke=\"black\" d=\"M130.71,-817.91C118.82,-806.21 105.85,-793.46 93.97,-781.78\"/>\n<polygon fill=\"black\" stroke=\"black\" points=\"96.32,-779.18 86.73,-774.67 91.41,-784.17 96.32,-779.18\"/>\n</g>\n<!-- 22 -->\n<g id=\"node23\" class=\"node\">\n<title>22</title>\n<polygon fill=\"#399de5\" stroke=\"black\" points=\"219.5,-774.5 124.5,-774.5 124.5,-706.5 219.5,-706.5 219.5,-774.5\"/>\n<text text-anchor=\"middle\" x=\"172\" y=\"-759.3\" font-family=\"Helvetica,sans-Serif\" font-size=\"14.00\">gini = 0.0</text>\n<text text-anchor=\"middle\" x=\"172\" y=\"-744.3\" font-family=\"Helvetica,sans-Serif\" font-size=\"14.00\">samples = 4</text>\n<text text-anchor=\"middle\" x=\"172\" y=\"-729.3\" font-family=\"Helvetica,sans-Serif\" font-size=\"14.00\">value = [0, 4]</text>\n<text text-anchor=\"middle\" x=\"172\" y=\"-714.3\" font-family=\"Helvetica,sans-Serif\" font-size=\"14.00\">class = 이탈</text>\n</g>\n<!-- 20&#45;&gt;22 -->\n<g id=\"edge22\" class=\"edge\">\n<title>20&#45;&gt;22</title>\n<path fill=\"none\" stroke=\"black\" d=\"M172,-817.91C172,-807.2 172,-795.62 172,-784.78\"/>\n<polygon fill=\"black\" stroke=\"black\" points=\"175.5,-784.67 172,-774.67 168.5,-784.67 175.5,-784.67\"/>\n</g>\n<!-- 24 -->\n<g id=\"node25\" class=\"node\">\n<title>24</title>\n<polygon fill=\"#399de5\" stroke=\"black\" points=\"332.5,-774.5 237.5,-774.5 237.5,-706.5 332.5,-706.5 332.5,-774.5\"/>\n<text text-anchor=\"middle\" x=\"285\" y=\"-759.3\" font-family=\"Helvetica,sans-Serif\" font-size=\"14.00\">gini = 0.0</text>\n<text text-anchor=\"middle\" x=\"285\" y=\"-744.3\" font-family=\"Helvetica,sans-Serif\" font-size=\"14.00\">samples = 1</text>\n<text text-anchor=\"middle\" x=\"285\" y=\"-729.3\" font-family=\"Helvetica,sans-Serif\" font-size=\"14.00\">value = [0, 1]</text>\n<text text-anchor=\"middle\" x=\"285\" y=\"-714.3\" font-family=\"Helvetica,sans-Serif\" font-size=\"14.00\">class = 이탈</text>\n</g>\n<!-- 23&#45;&gt;24 -->\n<g id=\"edge24\" class=\"edge\">\n<title>23&#45;&gt;24</title>\n<path fill=\"none\" stroke=\"black\" d=\"M329.41,-817.91C322.93,-806.76 315.9,-794.66 309.37,-783.44\"/>\n<polygon fill=\"black\" stroke=\"black\" points=\"312.33,-781.55 304.28,-774.67 306.28,-785.07 312.33,-781.55\"/>\n</g>\n<!-- 25 -->\n<g id=\"node26\" class=\"node\">\n<title>25</title>\n<polygon fill=\"#e58139\" stroke=\"black\" points=\"457,-774.5 351,-774.5 351,-706.5 457,-706.5 457,-774.5\"/>\n<text text-anchor=\"middle\" x=\"404\" y=\"-759.3\" font-family=\"Helvetica,sans-Serif\" font-size=\"14.00\">gini = 0.0</text>\n<text text-anchor=\"middle\" x=\"404\" y=\"-744.3\" font-family=\"Helvetica,sans-Serif\" font-size=\"14.00\">samples = 6</text>\n<text text-anchor=\"middle\" x=\"404\" y=\"-729.3\" font-family=\"Helvetica,sans-Serif\" font-size=\"14.00\">value = [6, 0]</text>\n<text text-anchor=\"middle\" x=\"404\" y=\"-714.3\" font-family=\"Helvetica,sans-Serif\" font-size=\"14.00\">class = 비이탈</text>\n</g>\n<!-- 23&#45;&gt;25 -->\n<g id=\"edge25\" class=\"edge\">\n<title>23&#45;&gt;25</title>\n<path fill=\"none\" stroke=\"black\" d=\"M370.69,-817.91C375.46,-806.98 380.62,-795.14 385.43,-784.11\"/>\n<polygon fill=\"black\" stroke=\"black\" points=\"388.76,-785.23 389.54,-774.67 382.34,-782.44 388.76,-785.23\"/>\n</g>\n<!-- 28 -->\n<g id=\"node29\" class=\"node\">\n<title>28</title>\n<polygon fill=\"#f9e1d0\" stroke=\"black\" points=\"778,-1258 642,-1258 642,-1175 778,-1175 778,-1258\"/>\n<text text-anchor=\"middle\" x=\"710\" y=\"-1242.8\" font-family=\"Helvetica,sans-Serif\" font-size=\"14.00\">총매출액 &lt;= &#45;0.273</text>\n<text text-anchor=\"middle\" x=\"710\" y=\"-1227.8\" font-family=\"Helvetica,sans-Serif\" font-size=\"14.00\">gini = 0.491</text>\n<text text-anchor=\"middle\" x=\"710\" y=\"-1212.8\" font-family=\"Helvetica,sans-Serif\" font-size=\"14.00\">samples = 30</text>\n<text text-anchor=\"middle\" x=\"710\" y=\"-1197.8\" font-family=\"Helvetica,sans-Serif\" font-size=\"14.00\">value = [17, 13]</text>\n<text text-anchor=\"middle\" x=\"710\" y=\"-1182.8\" font-family=\"Helvetica,sans-Serif\" font-size=\"14.00\">class = 비이탈</text>\n</g>\n<!-- 27&#45;&gt;28 -->\n<g id=\"edge28\" class=\"edge\">\n<title>27&#45;&gt;28</title>\n<path fill=\"none\" stroke=\"black\" d=\"M719.14,-1293.91C718.14,-1285.56 717.08,-1276.67 716.05,-1268.02\"/>\n<polygon fill=\"black\" stroke=\"black\" points=\"719.51,-1267.53 714.85,-1258.02 712.56,-1268.37 719.51,-1267.53\"/>\n</g>\n<!-- 47 -->\n<g id=\"node48\" class=\"node\">\n<title>47</title>\n<polygon fill=\"#399de5\" stroke=\"black\" points=\"891.5,-1250.5 796.5,-1250.5 796.5,-1182.5 891.5,-1182.5 891.5,-1250.5\"/>\n<text text-anchor=\"middle\" x=\"844\" y=\"-1235.3\" font-family=\"Helvetica,sans-Serif\" font-size=\"14.00\">gini = 0.0</text>\n<text text-anchor=\"middle\" x=\"844\" y=\"-1220.3\" font-family=\"Helvetica,sans-Serif\" font-size=\"14.00\">samples = 9</text>\n<text text-anchor=\"middle\" x=\"844\" y=\"-1205.3\" font-family=\"Helvetica,sans-Serif\" font-size=\"14.00\">value = [0, 9]</text>\n<text text-anchor=\"middle\" x=\"844\" y=\"-1190.3\" font-family=\"Helvetica,sans-Serif\" font-size=\"14.00\">class = 이탈</text>\n</g>\n<!-- 27&#45;&gt;47 -->\n<g id=\"edge47\" class=\"edge\">\n<title>27&#45;&gt;47</title>\n<path fill=\"none\" stroke=\"black\" d=\"M765.63,-1293.91C777.63,-1282.21 790.71,-1269.46 802.69,-1257.78\"/>\n<polygon fill=\"black\" stroke=\"black\" points=\"805.27,-1260.15 809.98,-1250.67 800.38,-1255.14 805.27,-1260.15\"/>\n</g>\n<!-- 29 -->\n<g id=\"node30\" class=\"node\">\n<title>29</title>\n<polygon fill=\"#e1f0fb\" stroke=\"black\" points=\"747,-1139 611,-1139 611,-1056 747,-1056 747,-1139\"/>\n<text text-anchor=\"middle\" x=\"679\" y=\"-1123.8\" font-family=\"Helvetica,sans-Serif\" font-size=\"14.00\">거래기간 &lt;= &#45;1.073</text>\n<text text-anchor=\"middle\" x=\"679\" y=\"-1108.8\" font-family=\"Helvetica,sans-Serif\" font-size=\"14.00\">gini = 0.497</text>\n<text text-anchor=\"middle\" x=\"679\" y=\"-1093.8\" font-family=\"Helvetica,sans-Serif\" font-size=\"14.00\">samples = 24</text>\n<text text-anchor=\"middle\" x=\"679\" y=\"-1078.8\" font-family=\"Helvetica,sans-Serif\" font-size=\"14.00\">value = [11, 13]</text>\n<text text-anchor=\"middle\" x=\"679\" y=\"-1063.8\" font-family=\"Helvetica,sans-Serif\" font-size=\"14.00\">class = 이탈</text>\n</g>\n<!-- 28&#45;&gt;29 -->\n<g id=\"edge29\" class=\"edge\">\n<title>28&#45;&gt;29</title>\n<path fill=\"none\" stroke=\"black\" d=\"M699.24,-1174.91C697.01,-1166.47 694.63,-1157.48 692.31,-1148.74\"/>\n<polygon fill=\"black\" stroke=\"black\" points=\"695.68,-1147.79 689.74,-1139.02 688.91,-1149.58 695.68,-1147.79\"/>\n</g>\n<!-- 46 -->\n<g id=\"node47\" class=\"node\">\n<title>46</title>\n<polygon fill=\"#e58139\" stroke=\"black\" points=\"871,-1131.5 765,-1131.5 765,-1063.5 871,-1063.5 871,-1131.5\"/>\n<text text-anchor=\"middle\" x=\"818\" y=\"-1116.3\" font-family=\"Helvetica,sans-Serif\" font-size=\"14.00\">gini = 0.0</text>\n<text text-anchor=\"middle\" x=\"818\" y=\"-1101.3\" font-family=\"Helvetica,sans-Serif\" font-size=\"14.00\">samples = 6</text>\n<text text-anchor=\"middle\" x=\"818\" y=\"-1086.3\" font-family=\"Helvetica,sans-Serif\" font-size=\"14.00\">value = [6, 0]</text>\n<text text-anchor=\"middle\" x=\"818\" y=\"-1071.3\" font-family=\"Helvetica,sans-Serif\" font-size=\"14.00\">class = 비이탈</text>\n</g>\n<!-- 28&#45;&gt;46 -->\n<g id=\"edge46\" class=\"edge\">\n<title>28&#45;&gt;46</title>\n<path fill=\"none\" stroke=\"black\" d=\"M747.47,-1174.91C758.17,-1163.32 769.82,-1150.7 780.51,-1139.11\"/>\n<polygon fill=\"black\" stroke=\"black\" points=\"783.17,-1141.39 787.38,-1131.67 778.03,-1136.64 783.17,-1141.39\"/>\n</g>\n<!-- 30 -->\n<g id=\"node31\" class=\"node\">\n<title>30</title>\n<polygon fill=\"#88c4ef\" stroke=\"black\" points=\"725,-1020 589,-1020 589,-937 725,-937 725,-1020\"/>\n<text text-anchor=\"middle\" x=\"657\" y=\"-1004.8\" font-family=\"Helvetica,sans-Serif\" font-size=\"14.00\">거래기간 &lt;= &#45;1.388</text>\n<text text-anchor=\"middle\" x=\"657\" y=\"-989.8\" font-family=\"Helvetica,sans-Serif\" font-size=\"14.00\">gini = 0.408</text>\n<text text-anchor=\"middle\" x=\"657\" y=\"-974.8\" font-family=\"Helvetica,sans-Serif\" font-size=\"14.00\">samples = 14</text>\n<text text-anchor=\"middle\" x=\"657\" y=\"-959.8\" font-family=\"Helvetica,sans-Serif\" font-size=\"14.00\">value = [4, 10]</text>\n<text text-anchor=\"middle\" x=\"657\" y=\"-944.8\" font-family=\"Helvetica,sans-Serif\" font-size=\"14.00\">class = 이탈</text>\n</g>\n<!-- 29&#45;&gt;30 -->\n<g id=\"edge30\" class=\"edge\">\n<title>29&#45;&gt;30</title>\n<path fill=\"none\" stroke=\"black\" d=\"M671.37,-1055.91C669.8,-1047.56 668.13,-1038.67 666.5,-1030.02\"/>\n<polygon fill=\"black\" stroke=\"black\" points=\"669.91,-1029.2 664.62,-1020.02 663.03,-1030.5 669.91,-1029.2\"/>\n</g>\n<!-- 39 -->\n<g id=\"node40\" class=\"node\">\n<title>39</title>\n<polygon fill=\"#f0b78e\" stroke=\"black\" points=\"875,-1020 747,-1020 747,-937 875,-937 875,-1020\"/>\n<text text-anchor=\"middle\" x=\"811\" y=\"-1004.8\" font-family=\"Helvetica,sans-Serif\" font-size=\"14.00\">거래기간 &lt;= &#45;0.23</text>\n<text text-anchor=\"middle\" x=\"811\" y=\"-989.8\" font-family=\"Helvetica,sans-Serif\" font-size=\"14.00\">gini = 0.42</text>\n<text text-anchor=\"middle\" x=\"811\" y=\"-974.8\" font-family=\"Helvetica,sans-Serif\" font-size=\"14.00\">samples = 10</text>\n<text text-anchor=\"middle\" x=\"811\" y=\"-959.8\" font-family=\"Helvetica,sans-Serif\" font-size=\"14.00\">value = [7, 3]</text>\n<text text-anchor=\"middle\" x=\"811\" y=\"-944.8\" font-family=\"Helvetica,sans-Serif\" font-size=\"14.00\">class = 비이탈</text>\n</g>\n<!-- 29&#45;&gt;39 -->\n<g id=\"edge39\" class=\"edge\">\n<title>29&#45;&gt;39</title>\n<path fill=\"none\" stroke=\"black\" d=\"M724.8,-1055.91C735.34,-1046.56 746.65,-1036.54 757.49,-1026.93\"/>\n<polygon fill=\"black\" stroke=\"black\" points=\"760.12,-1029.27 765.28,-1020.02 755.48,-1024.03 760.12,-1029.27\"/>\n</g>\n<!-- 31 -->\n<g id=\"node32\" class=\"node\">\n<title>31</title>\n<polygon fill=\"#e58139\" stroke=\"black\" points=\"571,-893.5 465,-893.5 465,-825.5 571,-825.5 571,-893.5\"/>\n<text text-anchor=\"middle\" x=\"518\" y=\"-878.3\" font-family=\"Helvetica,sans-Serif\" font-size=\"14.00\">gini = 0.0</text>\n<text text-anchor=\"middle\" x=\"518\" y=\"-863.3\" font-family=\"Helvetica,sans-Serif\" font-size=\"14.00\">samples = 2</text>\n<text text-anchor=\"middle\" x=\"518\" y=\"-848.3\" font-family=\"Helvetica,sans-Serif\" font-size=\"14.00\">value = [2, 0]</text>\n<text text-anchor=\"middle\" x=\"518\" y=\"-833.3\" font-family=\"Helvetica,sans-Serif\" font-size=\"14.00\">class = 비이탈</text>\n</g>\n<!-- 30&#45;&gt;31 -->\n<g id=\"edge31\" class=\"edge\">\n<title>30&#45;&gt;31</title>\n<path fill=\"none\" stroke=\"black\" d=\"M608.77,-936.91C594.62,-924.99 579.15,-911.98 565.07,-900.12\"/>\n<polygon fill=\"black\" stroke=\"black\" points=\"567.31,-897.43 557.4,-893.67 562.8,-902.78 567.31,-897.43\"/>\n</g>\n<!-- 32 -->\n<g id=\"node33\" class=\"node\">\n<title>32</title>\n<polygon fill=\"#61b1ea\" stroke=\"black\" points=\"725,-901 589,-901 589,-818 725,-818 725,-901\"/>\n<text text-anchor=\"middle\" x=\"657\" y=\"-885.8\" font-family=\"Helvetica,sans-Serif\" font-size=\"14.00\">총매출액 &lt;= &#45;0.433</text>\n<text text-anchor=\"middle\" x=\"657\" y=\"-870.8\" font-family=\"Helvetica,sans-Serif\" font-size=\"14.00\">gini = 0.278</text>\n<text text-anchor=\"middle\" x=\"657\" y=\"-855.8\" font-family=\"Helvetica,sans-Serif\" font-size=\"14.00\">samples = 12</text>\n<text text-anchor=\"middle\" x=\"657\" y=\"-840.8\" font-family=\"Helvetica,sans-Serif\" font-size=\"14.00\">value = [2, 10]</text>\n<text text-anchor=\"middle\" x=\"657\" y=\"-825.8\" font-family=\"Helvetica,sans-Serif\" font-size=\"14.00\">class = 이탈</text>\n</g>\n<!-- 30&#45;&gt;32 -->\n<g id=\"edge32\" class=\"edge\">\n<title>30&#45;&gt;32</title>\n<path fill=\"none\" stroke=\"black\" d=\"M657,-936.91C657,-928.65 657,-919.86 657,-911.3\"/>\n<polygon fill=\"black\" stroke=\"black\" points=\"660.5,-911.02 657,-901.02 653.5,-911.02 660.5,-911.02\"/>\n</g>\n<!-- 33 -->\n<g id=\"node34\" class=\"node\">\n<title>33</title>\n<polygon fill=\"#88c4ef\" stroke=\"black\" points=\"611,-782 475,-782 475,-699 611,-699 611,-782\"/>\n<text text-anchor=\"middle\" x=\"543\" y=\"-766.8\" font-family=\"Helvetica,sans-Serif\" font-size=\"14.00\">총매출액 &lt;= &#45;0.559</text>\n<text text-anchor=\"middle\" x=\"543\" y=\"-751.8\" font-family=\"Helvetica,sans-Serif\" font-size=\"14.00\">gini = 0.408</text>\n<text text-anchor=\"middle\" x=\"543\" y=\"-736.8\" font-family=\"Helvetica,sans-Serif\" font-size=\"14.00\">samples = 7</text>\n<text text-anchor=\"middle\" x=\"543\" y=\"-721.8\" font-family=\"Helvetica,sans-Serif\" font-size=\"14.00\">value = [2, 5]</text>\n<text text-anchor=\"middle\" x=\"543\" y=\"-706.8\" font-family=\"Helvetica,sans-Serif\" font-size=\"14.00\">class = 이탈</text>\n</g>\n<!-- 32&#45;&gt;33 -->\n<g id=\"edge33\" class=\"edge\">\n<title>32&#45;&gt;33</title>\n<path fill=\"none\" stroke=\"black\" d=\"M617.45,-817.91C608.43,-808.65 598.76,-798.73 589.49,-789.21\"/>\n<polygon fill=\"black\" stroke=\"black\" points=\"591.97,-786.74 582.48,-782.02 586.95,-791.63 591.97,-786.74\"/>\n</g>\n<!-- 38 -->\n<g id=\"node39\" class=\"node\">\n<title>38</title>\n<polygon fill=\"#399de5\" stroke=\"black\" points=\"724.5,-774.5 629.5,-774.5 629.5,-706.5 724.5,-706.5 724.5,-774.5\"/>\n<text text-anchor=\"middle\" x=\"677\" y=\"-759.3\" font-family=\"Helvetica,sans-Serif\" font-size=\"14.00\">gini = 0.0</text>\n<text text-anchor=\"middle\" x=\"677\" y=\"-744.3\" font-family=\"Helvetica,sans-Serif\" font-size=\"14.00\">samples = 5</text>\n<text text-anchor=\"middle\" x=\"677\" y=\"-729.3\" font-family=\"Helvetica,sans-Serif\" font-size=\"14.00\">value = [0, 5]</text>\n<text text-anchor=\"middle\" x=\"677\" y=\"-714.3\" font-family=\"Helvetica,sans-Serif\" font-size=\"14.00\">class = 이탈</text>\n</g>\n<!-- 32&#45;&gt;38 -->\n<g id=\"edge38\" class=\"edge\">\n<title>32&#45;&gt;38</title>\n<path fill=\"none\" stroke=\"black\" d=\"M663.94,-817.91C665.77,-807.2 667.75,-795.62 669.6,-784.78\"/>\n<polygon fill=\"black\" stroke=\"black\" points=\"673.1,-785.11 671.33,-774.67 666.2,-783.93 673.1,-785.11\"/>\n</g>\n<!-- 34 -->\n<g id=\"node35\" class=\"node\">\n<title>34</title>\n<polygon fill=\"#399de5\" stroke=\"black\" points=\"489.5,-655.5 394.5,-655.5 394.5,-587.5 489.5,-587.5 489.5,-655.5\"/>\n<text text-anchor=\"middle\" x=\"442\" y=\"-640.3\" font-family=\"Helvetica,sans-Serif\" font-size=\"14.00\">gini = 0.0</text>\n<text text-anchor=\"middle\" x=\"442\" y=\"-625.3\" font-family=\"Helvetica,sans-Serif\" font-size=\"14.00\">samples = 4</text>\n<text text-anchor=\"middle\" x=\"442\" y=\"-610.3\" font-family=\"Helvetica,sans-Serif\" font-size=\"14.00\">value = [0, 4]</text>\n<text text-anchor=\"middle\" x=\"442\" y=\"-595.3\" font-family=\"Helvetica,sans-Serif\" font-size=\"14.00\">class = 이탈</text>\n</g>\n<!-- 33&#45;&gt;34 -->\n<g id=\"edge34\" class=\"edge\">\n<title>33&#45;&gt;34</title>\n<path fill=\"none\" stroke=\"black\" d=\"M507.96,-698.91C498.05,-687.43 487.27,-674.94 477.34,-663.44\"/>\n<polygon fill=\"black\" stroke=\"black\" points=\"479.82,-660.95 470.63,-655.67 474.52,-665.52 479.82,-660.95\"/>\n</g>\n<!-- 35 -->\n<g id=\"node36\" class=\"node\">\n<title>35</title>\n<polygon fill=\"#f2c09c\" stroke=\"black\" points=\"644,-663 508,-663 508,-580 644,-580 644,-663\"/>\n<text text-anchor=\"middle\" x=\"576\" y=\"-647.8\" font-family=\"Helvetica,sans-Serif\" font-size=\"14.00\">방문빈도 &lt;= &#45;0.598</text>\n<text text-anchor=\"middle\" x=\"576\" y=\"-632.8\" font-family=\"Helvetica,sans-Serif\" font-size=\"14.00\">gini = 0.444</text>\n<text text-anchor=\"middle\" x=\"576\" y=\"-617.8\" font-family=\"Helvetica,sans-Serif\" font-size=\"14.00\">samples = 3</text>\n<text text-anchor=\"middle\" x=\"576\" y=\"-602.8\" font-family=\"Helvetica,sans-Serif\" font-size=\"14.00\">value = [2, 1]</text>\n<text text-anchor=\"middle\" x=\"576\" y=\"-587.8\" font-family=\"Helvetica,sans-Serif\" font-size=\"14.00\">class = 비이탈</text>\n</g>\n<!-- 33&#45;&gt;35 -->\n<g id=\"edge35\" class=\"edge\">\n<title>33&#45;&gt;35</title>\n<path fill=\"none\" stroke=\"black\" d=\"M554.45,-698.91C556.83,-690.47 559.37,-681.48 561.83,-672.74\"/>\n<polygon fill=\"black\" stroke=\"black\" points=\"565.22,-673.6 564.57,-663.02 558.49,-671.7 565.22,-673.6\"/>\n</g>\n<!-- 36 -->\n<g id=\"node37\" class=\"node\">\n<title>36</title>\n<polygon fill=\"#399de5\" stroke=\"black\" points=\"564.5,-536.5 469.5,-536.5 469.5,-468.5 564.5,-468.5 564.5,-536.5\"/>\n<text text-anchor=\"middle\" x=\"517\" y=\"-521.3\" font-family=\"Helvetica,sans-Serif\" font-size=\"14.00\">gini = 0.0</text>\n<text text-anchor=\"middle\" x=\"517\" y=\"-506.3\" font-family=\"Helvetica,sans-Serif\" font-size=\"14.00\">samples = 1</text>\n<text text-anchor=\"middle\" x=\"517\" y=\"-491.3\" font-family=\"Helvetica,sans-Serif\" font-size=\"14.00\">value = [0, 1]</text>\n<text text-anchor=\"middle\" x=\"517\" y=\"-476.3\" font-family=\"Helvetica,sans-Serif\" font-size=\"14.00\">class = 이탈</text>\n</g>\n<!-- 35&#45;&gt;36 -->\n<g id=\"edge36\" class=\"edge\">\n<title>35&#45;&gt;36</title>\n<path fill=\"none\" stroke=\"black\" d=\"M555.53,-579.91C549.97,-568.87 543.93,-556.9 538.32,-545.77\"/>\n<polygon fill=\"black\" stroke=\"black\" points=\"541.35,-544.02 533.73,-536.67 535.1,-547.17 541.35,-544.02\"/>\n</g>\n<!-- 37 -->\n<g id=\"node38\" class=\"node\">\n<title>37</title>\n<polygon fill=\"#e58139\" stroke=\"black\" points=\"689,-536.5 583,-536.5 583,-468.5 689,-468.5 689,-536.5\"/>\n<text text-anchor=\"middle\" x=\"636\" y=\"-521.3\" font-family=\"Helvetica,sans-Serif\" font-size=\"14.00\">gini = 0.0</text>\n<text text-anchor=\"middle\" x=\"636\" y=\"-506.3\" font-family=\"Helvetica,sans-Serif\" font-size=\"14.00\">samples = 2</text>\n<text text-anchor=\"middle\" x=\"636\" y=\"-491.3\" font-family=\"Helvetica,sans-Serif\" font-size=\"14.00\">value = [2, 0]</text>\n<text text-anchor=\"middle\" x=\"636\" y=\"-476.3\" font-family=\"Helvetica,sans-Serif\" font-size=\"14.00\">class = 비이탈</text>\n</g>\n<!-- 35&#45;&gt;37 -->\n<g id=\"edge37\" class=\"edge\">\n<title>35&#45;&gt;37</title>\n<path fill=\"none\" stroke=\"black\" d=\"M596.82,-579.91C602.48,-568.87 608.62,-556.9 614.32,-545.77\"/>\n<polygon fill=\"black\" stroke=\"black\" points=\"617.54,-547.16 618.99,-536.67 611.31,-543.97 617.54,-547.16\"/>\n</g>\n<!-- 40 -->\n<g id=\"node41\" class=\"node\">\n<title>40</title>\n<polygon fill=\"#e99355\" stroke=\"black\" points=\"879,-901 743,-901 743,-818 879,-818 879,-901\"/>\n<text text-anchor=\"middle\" x=\"811\" y=\"-885.8\" font-family=\"Helvetica,sans-Serif\" font-size=\"14.00\">거래기간 &lt;= &#45;0.591</text>\n<text text-anchor=\"middle\" x=\"811\" y=\"-870.8\" font-family=\"Helvetica,sans-Serif\" font-size=\"14.00\">gini = 0.219</text>\n<text text-anchor=\"middle\" x=\"811\" y=\"-855.8\" font-family=\"Helvetica,sans-Serif\" font-size=\"14.00\">samples = 8</text>\n<text text-anchor=\"middle\" x=\"811\" y=\"-840.8\" font-family=\"Helvetica,sans-Serif\" font-size=\"14.00\">value = [7, 1]</text>\n<text text-anchor=\"middle\" x=\"811\" y=\"-825.8\" font-family=\"Helvetica,sans-Serif\" font-size=\"14.00\">class = 비이탈</text>\n</g>\n<!-- 39&#45;&gt;40 -->\n<g id=\"edge40\" class=\"edge\">\n<title>39&#45;&gt;40</title>\n<path fill=\"none\" stroke=\"black\" d=\"M811,-936.91C811,-928.65 811,-919.86 811,-911.3\"/>\n<polygon fill=\"black\" stroke=\"black\" points=\"814.5,-911.02 811,-901.02 807.5,-911.02 814.5,-911.02\"/>\n</g>\n<!-- 45 -->\n<g id=\"node46\" class=\"node\">\n<title>45</title>\n<polygon fill=\"#399de5\" stroke=\"black\" points=\"992.5,-893.5 897.5,-893.5 897.5,-825.5 992.5,-825.5 992.5,-893.5\"/>\n<text text-anchor=\"middle\" x=\"945\" y=\"-878.3\" font-family=\"Helvetica,sans-Serif\" font-size=\"14.00\">gini = 0.0</text>\n<text text-anchor=\"middle\" x=\"945\" y=\"-863.3\" font-family=\"Helvetica,sans-Serif\" font-size=\"14.00\">samples = 2</text>\n<text text-anchor=\"middle\" x=\"945\" y=\"-848.3\" font-family=\"Helvetica,sans-Serif\" font-size=\"14.00\">value = [0, 2]</text>\n<text text-anchor=\"middle\" x=\"945\" y=\"-833.3\" font-family=\"Helvetica,sans-Serif\" font-size=\"14.00\">class = 이탈</text>\n</g>\n<!-- 39&#45;&gt;45 -->\n<g id=\"edge45\" class=\"edge\">\n<title>39&#45;&gt;45</title>\n<path fill=\"none\" stroke=\"black\" d=\"M857.49,-936.91C871.01,-925.1 885.77,-912.22 899.25,-900.45\"/>\n<polygon fill=\"black\" stroke=\"black\" points=\"901.78,-902.88 907.01,-893.67 897.18,-897.61 901.78,-902.88\"/>\n</g>\n<!-- 41 -->\n<g id=\"node42\" class=\"node\">\n<title>41</title>\n<polygon fill=\"#eeab7b\" stroke=\"black\" points=\"879,-782 743,-782 743,-699 879,-699 879,-782\"/>\n<text text-anchor=\"middle\" x=\"811\" y=\"-766.8\" font-family=\"Helvetica,sans-Serif\" font-size=\"14.00\">거래기간 &lt;= &#45;0.634</text>\n<text text-anchor=\"middle\" x=\"811\" y=\"-751.8\" font-family=\"Helvetica,sans-Serif\" font-size=\"14.00\">gini = 0.375</text>\n<text text-anchor=\"middle\" x=\"811\" y=\"-736.8\" font-family=\"Helvetica,sans-Serif\" font-size=\"14.00\">samples = 4</text>\n<text text-anchor=\"middle\" x=\"811\" y=\"-721.8\" font-family=\"Helvetica,sans-Serif\" font-size=\"14.00\">value = [3, 1]</text>\n<text text-anchor=\"middle\" x=\"811\" y=\"-706.8\" font-family=\"Helvetica,sans-Serif\" font-size=\"14.00\">class = 비이탈</text>\n</g>\n<!-- 40&#45;&gt;41 -->\n<g id=\"edge41\" class=\"edge\">\n<title>40&#45;&gt;41</title>\n<path fill=\"none\" stroke=\"black\" d=\"M811,-817.91C811,-809.65 811,-800.86 811,-792.3\"/>\n<polygon fill=\"black\" stroke=\"black\" points=\"814.5,-792.02 811,-782.02 807.5,-792.02 814.5,-792.02\"/>\n</g>\n<!-- 44 -->\n<g id=\"node45\" class=\"node\">\n<title>44</title>\n<polygon fill=\"#e58139\" stroke=\"black\" points=\"1003,-774.5 897,-774.5 897,-706.5 1003,-706.5 1003,-774.5\"/>\n<text text-anchor=\"middle\" x=\"950\" y=\"-759.3\" font-family=\"Helvetica,sans-Serif\" font-size=\"14.00\">gini = 0.0</text>\n<text text-anchor=\"middle\" x=\"950\" y=\"-744.3\" font-family=\"Helvetica,sans-Serif\" font-size=\"14.00\">samples = 4</text>\n<text text-anchor=\"middle\" x=\"950\" y=\"-729.3\" font-family=\"Helvetica,sans-Serif\" font-size=\"14.00\">value = [4, 0]</text>\n<text text-anchor=\"middle\" x=\"950\" y=\"-714.3\" font-family=\"Helvetica,sans-Serif\" font-size=\"14.00\">class = 비이탈</text>\n</g>\n<!-- 40&#45;&gt;44 -->\n<g id=\"edge44\" class=\"edge\">\n<title>40&#45;&gt;44</title>\n<path fill=\"none\" stroke=\"black\" d=\"M859.23,-817.91C873.38,-805.99 888.85,-792.98 902.93,-781.12\"/>\n<polygon fill=\"black\" stroke=\"black\" points=\"905.2,-783.78 910.6,-774.67 900.69,-778.43 905.2,-783.78\"/>\n</g>\n<!-- 42 -->\n<g id=\"node43\" class=\"node\">\n<title>42</title>\n<polygon fill=\"#e58139\" stroke=\"black\" points=\"832,-655.5 726,-655.5 726,-587.5 832,-587.5 832,-655.5\"/>\n<text text-anchor=\"middle\" x=\"779\" y=\"-640.3\" font-family=\"Helvetica,sans-Serif\" font-size=\"14.00\">gini = 0.0</text>\n<text text-anchor=\"middle\" x=\"779\" y=\"-625.3\" font-family=\"Helvetica,sans-Serif\" font-size=\"14.00\">samples = 3</text>\n<text text-anchor=\"middle\" x=\"779\" y=\"-610.3\" font-family=\"Helvetica,sans-Serif\" font-size=\"14.00\">value = [3, 0]</text>\n<text text-anchor=\"middle\" x=\"779\" y=\"-595.3\" font-family=\"Helvetica,sans-Serif\" font-size=\"14.00\">class = 비이탈</text>\n</g>\n<!-- 41&#45;&gt;42 -->\n<g id=\"edge42\" class=\"edge\">\n<title>41&#45;&gt;42</title>\n<path fill=\"none\" stroke=\"black\" d=\"M799.9,-698.91C796.94,-688.09 793.74,-676.38 790.74,-665.44\"/>\n<polygon fill=\"black\" stroke=\"black\" points=\"794.09,-664.39 788.07,-655.67 787.33,-666.24 794.09,-664.39\"/>\n</g>\n<!-- 43 -->\n<g id=\"node44\" class=\"node\">\n<title>43</title>\n<polygon fill=\"#399de5\" stroke=\"black\" points=\"945.5,-655.5 850.5,-655.5 850.5,-587.5 945.5,-587.5 945.5,-655.5\"/>\n<text text-anchor=\"middle\" x=\"898\" y=\"-640.3\" font-family=\"Helvetica,sans-Serif\" font-size=\"14.00\">gini = 0.0</text>\n<text text-anchor=\"middle\" x=\"898\" y=\"-625.3\" font-family=\"Helvetica,sans-Serif\" font-size=\"14.00\">samples = 1</text>\n<text text-anchor=\"middle\" x=\"898\" y=\"-610.3\" font-family=\"Helvetica,sans-Serif\" font-size=\"14.00\">value = [0, 1]</text>\n<text text-anchor=\"middle\" x=\"898\" y=\"-595.3\" font-family=\"Helvetica,sans-Serif\" font-size=\"14.00\">class = 이탈</text>\n</g>\n<!-- 41&#45;&gt;43 -->\n<g id=\"edge43\" class=\"edge\">\n<title>41&#45;&gt;43</title>\n<path fill=\"none\" stroke=\"black\" d=\"M841.18,-698.91C849.64,-687.54 858.83,-675.18 867.31,-663.77\"/>\n<polygon fill=\"black\" stroke=\"black\" points=\"870.18,-665.78 873.34,-655.67 864.56,-661.6 870.18,-665.78\"/>\n</g>\n<!-- 49 -->\n<g id=\"node50\" class=\"node\">\n<title>49</title>\n<polygon fill=\"#83c2ef\" stroke=\"black\" points=\"1611,-1615 1475,-1615 1475,-1532 1611,-1532 1611,-1615\"/>\n<text text-anchor=\"middle\" x=\"1543\" y=\"-1599.8\" font-family=\"Helvetica,sans-Serif\" font-size=\"14.00\">거래기간 &lt;= &#45;2.557</text>\n<text text-anchor=\"middle\" x=\"1543\" y=\"-1584.8\" font-family=\"Helvetica,sans-Serif\" font-size=\"14.00\">gini = 0.397</text>\n<text text-anchor=\"middle\" x=\"1543\" y=\"-1569.8\" font-family=\"Helvetica,sans-Serif\" font-size=\"14.00\">samples = 33</text>\n<text text-anchor=\"middle\" x=\"1543\" y=\"-1554.8\" font-family=\"Helvetica,sans-Serif\" font-size=\"14.00\">value = [9, 24]</text>\n<text text-anchor=\"middle\" x=\"1543\" y=\"-1539.8\" font-family=\"Helvetica,sans-Serif\" font-size=\"14.00\">class = 이탈</text>\n</g>\n<!-- 48&#45;&gt;49 -->\n<g id=\"edge49\" class=\"edge\">\n<title>48&#45;&gt;49</title>\n<path fill=\"none\" stroke=\"black\" d=\"M1668.39,-1650.91C1652.15,-1641.02 1634.68,-1630.37 1618.08,-1620.25\"/>\n<polygon fill=\"black\" stroke=\"black\" points=\"1619.86,-1617.24 1609.5,-1615.02 1616.21,-1623.21 1619.86,-1617.24\"/>\n</g>\n<!-- 66 -->\n<g id=\"node67\" class=\"node\">\n<title>66</title>\n<polygon fill=\"#eda775\" stroke=\"black\" points=\"1949,-1615 1813,-1615 1813,-1532 1949,-1532 1949,-1615\"/>\n<text text-anchor=\"middle\" x=\"1881\" y=\"-1599.8\" font-family=\"Helvetica,sans-Serif\" font-size=\"14.00\">거래기간 &lt;= &#45;0.218</text>\n<text text-anchor=\"middle\" x=\"1881\" y=\"-1584.8\" font-family=\"Helvetica,sans-Serif\" font-size=\"14.00\">gini = 0.358</text>\n<text text-anchor=\"middle\" x=\"1881\" y=\"-1569.8\" font-family=\"Helvetica,sans-Serif\" font-size=\"14.00\">samples = 133</text>\n<text text-anchor=\"middle\" x=\"1881\" y=\"-1554.8\" font-family=\"Helvetica,sans-Serif\" font-size=\"14.00\">value = [102, 31]</text>\n<text text-anchor=\"middle\" x=\"1881\" y=\"-1539.8\" font-family=\"Helvetica,sans-Serif\" font-size=\"14.00\">class = 비이탈</text>\n</g>\n<!-- 48&#45;&gt;66 -->\n<g id=\"edge66\" class=\"edge\">\n<title>48&#45;&gt;66</title>\n<path fill=\"none\" stroke=\"black\" d=\"M1785.65,-1650.91C1797.54,-1641.38 1810.31,-1631.15 1822.51,-1621.37\"/>\n<polygon fill=\"black\" stroke=\"black\" points=\"1824.82,-1624.01 1830.44,-1615.02 1820.44,-1618.54 1824.82,-1624.01\"/>\n</g>\n<!-- 50 -->\n<g id=\"node51\" class=\"node\">\n<title>50</title>\n<polygon fill=\"#bddef6\" stroke=\"black\" points=\"1404.5,-1496 1273.5,-1496 1273.5,-1413 1404.5,-1413 1404.5,-1496\"/>\n<text text-anchor=\"middle\" x=\"1339\" y=\"-1480.8\" font-family=\"Helvetica,sans-Serif\" font-size=\"14.00\">방문빈도 &lt;= 0.241</text>\n<text text-anchor=\"middle\" x=\"1339\" y=\"-1465.8\" font-family=\"Helvetica,sans-Serif\" font-size=\"14.00\">gini = 0.48</text>\n<text text-anchor=\"middle\" x=\"1339\" y=\"-1450.8\" font-family=\"Helvetica,sans-Serif\" font-size=\"14.00\">samples = 20</text>\n<text text-anchor=\"middle\" x=\"1339\" y=\"-1435.8\" font-family=\"Helvetica,sans-Serif\" font-size=\"14.00\">value = [8, 12]</text>\n<text text-anchor=\"middle\" x=\"1339\" y=\"-1420.8\" font-family=\"Helvetica,sans-Serif\" font-size=\"14.00\">class = 이탈</text>\n</g>\n<!-- 49&#45;&gt;50 -->\n<g id=\"edge50\" class=\"edge\">\n<title>49&#45;&gt;50</title>\n<path fill=\"none\" stroke=\"black\" d=\"M1474.79,-1533.38C1455.11,-1522.09 1433.55,-1509.73 1413.51,-1498.23\"/>\n<polygon fill=\"black\" stroke=\"black\" points=\"1415.14,-1495.14 1404.73,-1493.2 1411.66,-1501.21 1415.14,-1495.14\"/>\n</g>\n<!-- 63 -->\n<g id=\"node64\" class=\"node\">\n<title>63</title>\n<polygon fill=\"#49a5e7\" stroke=\"black\" points=\"1608.5,-1496 1477.5,-1496 1477.5,-1413 1608.5,-1413 1608.5,-1496\"/>\n<text text-anchor=\"middle\" x=\"1543\" y=\"-1480.8\" font-family=\"Helvetica,sans-Serif\" font-size=\"14.00\">총매출액 &lt;= 0.317</text>\n<text text-anchor=\"middle\" x=\"1543\" y=\"-1465.8\" font-family=\"Helvetica,sans-Serif\" font-size=\"14.00\">gini = 0.142</text>\n<text text-anchor=\"middle\" x=\"1543\" y=\"-1450.8\" font-family=\"Helvetica,sans-Serif\" font-size=\"14.00\">samples = 13</text>\n<text text-anchor=\"middle\" x=\"1543\" y=\"-1435.8\" font-family=\"Helvetica,sans-Serif\" font-size=\"14.00\">value = [1, 12]</text>\n<text text-anchor=\"middle\" x=\"1543\" y=\"-1420.8\" font-family=\"Helvetica,sans-Serif\" font-size=\"14.00\">class = 이탈</text>\n</g>\n<!-- 49&#45;&gt;63 -->\n<g id=\"edge63\" class=\"edge\">\n<title>49&#45;&gt;63</title>\n<path fill=\"none\" stroke=\"black\" d=\"M1543,-1531.91C1543,-1523.65 1543,-1514.86 1543,-1506.3\"/>\n<polygon fill=\"black\" stroke=\"black\" points=\"1546.5,-1506.02 1543,-1496.02 1539.5,-1506.02 1546.5,-1506.02\"/>\n</g>\n<!-- 51 -->\n<g id=\"node52\" class=\"node\">\n<title>51</title>\n<polygon fill=\"#81c1ee\" stroke=\"black\" points=\"1253,-1377 1117,-1377 1117,-1294 1253,-1294 1253,-1377\"/>\n<text text-anchor=\"middle\" x=\"1185\" y=\"-1361.8\" font-family=\"Helvetica,sans-Serif\" font-size=\"14.00\">총매출액 &lt;= &#45;0.554</text>\n<text text-anchor=\"middle\" x=\"1185\" y=\"-1346.8\" font-family=\"Helvetica,sans-Serif\" font-size=\"14.00\">gini = 0.391</text>\n<text text-anchor=\"middle\" x=\"1185\" y=\"-1331.8\" font-family=\"Helvetica,sans-Serif\" font-size=\"14.00\">samples = 15</text>\n<text text-anchor=\"middle\" x=\"1185\" y=\"-1316.8\" font-family=\"Helvetica,sans-Serif\" font-size=\"14.00\">value = [4, 11]</text>\n<text text-anchor=\"middle\" x=\"1185\" y=\"-1301.8\" font-family=\"Helvetica,sans-Serif\" font-size=\"14.00\">class = 이탈</text>\n</g>\n<!-- 50&#45;&gt;51 -->\n<g id=\"edge51\" class=\"edge\">\n<title>50&#45;&gt;51</title>\n<path fill=\"none\" stroke=\"black\" d=\"M1285.57,-1412.91C1272.91,-1403.29 1259.31,-1392.95 1246.32,-1383.09\"/>\n<polygon fill=\"black\" stroke=\"black\" points=\"1248.42,-1380.28 1238.34,-1377.02 1244.18,-1385.86 1248.42,-1380.28\"/>\n</g>\n<!-- 60 -->\n<g id=\"node61\" class=\"node\">\n<title>60</title>\n<polygon fill=\"#eca06a\" stroke=\"black\" points=\"1407,-1377 1271,-1377 1271,-1294 1407,-1294 1407,-1377\"/>\n<text text-anchor=\"middle\" x=\"1339\" y=\"-1361.8\" font-family=\"Helvetica,sans-Serif\" font-size=\"14.00\">총매출액 &lt;= &#45;0.339</text>\n<text text-anchor=\"middle\" x=\"1339\" y=\"-1346.8\" font-family=\"Helvetica,sans-Serif\" font-size=\"14.00\">gini = 0.32</text>\n<text text-anchor=\"middle\" x=\"1339\" y=\"-1331.8\" font-family=\"Helvetica,sans-Serif\" font-size=\"14.00\">samples = 5</text>\n<text text-anchor=\"middle\" x=\"1339\" y=\"-1316.8\" font-family=\"Helvetica,sans-Serif\" font-size=\"14.00\">value = [4, 1]</text>\n<text text-anchor=\"middle\" x=\"1339\" y=\"-1301.8\" font-family=\"Helvetica,sans-Serif\" font-size=\"14.00\">class = 비이탈</text>\n</g>\n<!-- 50&#45;&gt;60 -->\n<g id=\"edge60\" class=\"edge\">\n<title>50&#45;&gt;60</title>\n<path fill=\"none\" stroke=\"black\" d=\"M1339,-1412.91C1339,-1404.65 1339,-1395.86 1339,-1387.3\"/>\n<polygon fill=\"black\" stroke=\"black\" points=\"1342.5,-1387.02 1339,-1377.02 1335.5,-1387.02 1342.5,-1387.02\"/>\n</g>\n<!-- 52 -->\n<g id=\"node53\" class=\"node\">\n<title>52</title>\n<polygon fill=\"#e58139\" stroke=\"black\" points=\"1101,-1250.5 995,-1250.5 995,-1182.5 1101,-1182.5 1101,-1250.5\"/>\n<text text-anchor=\"middle\" x=\"1048\" y=\"-1235.3\" font-family=\"Helvetica,sans-Serif\" font-size=\"14.00\">gini = 0.0</text>\n<text text-anchor=\"middle\" x=\"1048\" y=\"-1220.3\" font-family=\"Helvetica,sans-Serif\" font-size=\"14.00\">samples = 2</text>\n<text text-anchor=\"middle\" x=\"1048\" y=\"-1205.3\" font-family=\"Helvetica,sans-Serif\" font-size=\"14.00\">value = [2, 0]</text>\n<text text-anchor=\"middle\" x=\"1048\" y=\"-1190.3\" font-family=\"Helvetica,sans-Serif\" font-size=\"14.00\">class = 비이탈</text>\n</g>\n<!-- 51&#45;&gt;52 -->\n<g id=\"edge52\" class=\"edge\">\n<title>51&#45;&gt;52</title>\n<path fill=\"none\" stroke=\"black\" d=\"M1137.47,-1293.91C1123.64,-1282.1 1108.56,-1269.22 1094.78,-1257.45\"/>\n<polygon fill=\"black\" stroke=\"black\" points=\"1096.71,-1254.5 1086.84,-1250.67 1092.17,-1259.82 1096.71,-1254.5\"/>\n</g>\n<!-- 53 -->\n<g id=\"node54\" class=\"node\">\n<title>53</title>\n<polygon fill=\"#5dafea\" stroke=\"black\" points=\"1255,-1258 1119,-1258 1119,-1175 1255,-1175 1255,-1258\"/>\n<text text-anchor=\"middle\" x=\"1187\" y=\"-1242.8\" font-family=\"Helvetica,sans-Serif\" font-size=\"14.00\">방문빈도 &lt;= &#45;0.206</text>\n<text text-anchor=\"middle\" x=\"1187\" y=\"-1227.8\" font-family=\"Helvetica,sans-Serif\" font-size=\"14.00\">gini = 0.26</text>\n<text text-anchor=\"middle\" x=\"1187\" y=\"-1212.8\" font-family=\"Helvetica,sans-Serif\" font-size=\"14.00\">samples = 13</text>\n<text text-anchor=\"middle\" x=\"1187\" y=\"-1197.8\" font-family=\"Helvetica,sans-Serif\" font-size=\"14.00\">value = [2, 11]</text>\n<text text-anchor=\"middle\" x=\"1187\" y=\"-1182.8\" font-family=\"Helvetica,sans-Serif\" font-size=\"14.00\">class = 이탈</text>\n</g>\n<!-- 51&#45;&gt;53 -->\n<g id=\"edge53\" class=\"edge\">\n<title>51&#45;&gt;53</title>\n<path fill=\"none\" stroke=\"black\" d=\"M1185.69,-1293.91C1185.84,-1285.56 1185.99,-1276.67 1186.14,-1268.02\"/>\n<polygon fill=\"black\" stroke=\"black\" points=\"1189.64,-1268.08 1186.31,-1258.02 1182.64,-1267.96 1189.64,-1268.08\"/>\n</g>\n<!-- 54 -->\n<g id=\"node55\" class=\"node\">\n<title>54</title>\n<polygon fill=\"#399de5\" stroke=\"black\" points=\"1105.5,-1131.5 1010.5,-1131.5 1010.5,-1063.5 1105.5,-1063.5 1105.5,-1131.5\"/>\n<text text-anchor=\"middle\" x=\"1058\" y=\"-1116.3\" font-family=\"Helvetica,sans-Serif\" font-size=\"14.00\">gini = 0.0</text>\n<text text-anchor=\"middle\" x=\"1058\" y=\"-1101.3\" font-family=\"Helvetica,sans-Serif\" font-size=\"14.00\">samples = 7</text>\n<text text-anchor=\"middle\" x=\"1058\" y=\"-1086.3\" font-family=\"Helvetica,sans-Serif\" font-size=\"14.00\">value = [0, 7]</text>\n<text text-anchor=\"middle\" x=\"1058\" y=\"-1071.3\" font-family=\"Helvetica,sans-Serif\" font-size=\"14.00\">class = 이탈</text>\n</g>\n<!-- 53&#45;&gt;54 -->\n<g id=\"edge54\" class=\"edge\">\n<title>53&#45;&gt;54</title>\n<path fill=\"none\" stroke=\"black\" d=\"M1142.24,-1174.91C1129.23,-1163.1 1115.02,-1150.22 1102.05,-1138.45\"/>\n<polygon fill=\"black\" stroke=\"black\" points=\"1104.33,-1135.79 1094.57,-1131.67 1099.62,-1140.98 1104.33,-1135.79\"/>\n</g>\n<!-- 55 -->\n<g id=\"node56\" class=\"node\">\n<title>55</title>\n<polygon fill=\"#9ccef2\" stroke=\"black\" points=\"1260,-1139 1124,-1139 1124,-1056 1260,-1056 1260,-1139\"/>\n<text text-anchor=\"middle\" x=\"1192\" y=\"-1123.8\" font-family=\"Helvetica,sans-Serif\" font-size=\"14.00\">방문빈도 &lt;= &#45;0.167</text>\n<text text-anchor=\"middle\" x=\"1192\" y=\"-1108.8\" font-family=\"Helvetica,sans-Serif\" font-size=\"14.00\">gini = 0.444</text>\n<text text-anchor=\"middle\" x=\"1192\" y=\"-1093.8\" font-family=\"Helvetica,sans-Serif\" font-size=\"14.00\">samples = 6</text>\n<text text-anchor=\"middle\" x=\"1192\" y=\"-1078.8\" font-family=\"Helvetica,sans-Serif\" font-size=\"14.00\">value = [2, 4]</text>\n<text text-anchor=\"middle\" x=\"1192\" y=\"-1063.8\" font-family=\"Helvetica,sans-Serif\" font-size=\"14.00\">class = 이탈</text>\n</g>\n<!-- 53&#45;&gt;55 -->\n<g id=\"edge55\" class=\"edge\">\n<title>53&#45;&gt;55</title>\n<path fill=\"none\" stroke=\"black\" d=\"M1188.73,-1174.91C1189.09,-1166.56 1189.47,-1157.67 1189.84,-1149.02\"/>\n<polygon fill=\"black\" stroke=\"black\" points=\"1193.34,-1149.16 1190.27,-1139.02 1186.34,-1148.86 1193.34,-1149.16\"/>\n</g>\n<!-- 56 -->\n<g id=\"node57\" class=\"node\">\n<title>56</title>\n<polygon fill=\"#f2c09c\" stroke=\"black\" points=\"1129.5,-1020 998.5,-1020 998.5,-937 1129.5,-937 1129.5,-1020\"/>\n<text text-anchor=\"middle\" x=\"1064\" y=\"-1004.8\" font-family=\"Helvetica,sans-Serif\" font-size=\"14.00\">총매출액 &lt;= 0.487</text>\n<text text-anchor=\"middle\" x=\"1064\" y=\"-989.8\" font-family=\"Helvetica,sans-Serif\" font-size=\"14.00\">gini = 0.444</text>\n<text text-anchor=\"middle\" x=\"1064\" y=\"-974.8\" font-family=\"Helvetica,sans-Serif\" font-size=\"14.00\">samples = 3</text>\n<text text-anchor=\"middle\" x=\"1064\" y=\"-959.8\" font-family=\"Helvetica,sans-Serif\" font-size=\"14.00\">value = [2, 1]</text>\n<text text-anchor=\"middle\" x=\"1064\" y=\"-944.8\" font-family=\"Helvetica,sans-Serif\" font-size=\"14.00\">class = 비이탈</text>\n</g>\n<!-- 55&#45;&gt;56 -->\n<g id=\"edge56\" class=\"edge\">\n<title>55&#45;&gt;56</title>\n<path fill=\"none\" stroke=\"black\" d=\"M1147.59,-1055.91C1137.36,-1046.56 1126.4,-1036.54 1115.89,-1026.93\"/>\n<polygon fill=\"black\" stroke=\"black\" points=\"1118.07,-1024.18 1108.33,-1020.02 1113.35,-1029.35 1118.07,-1024.18\"/>\n</g>\n<!-- 59 -->\n<g id=\"node60\" class=\"node\">\n<title>59</title>\n<polygon fill=\"#399de5\" stroke=\"black\" points=\"1242.5,-1012.5 1147.5,-1012.5 1147.5,-944.5 1242.5,-944.5 1242.5,-1012.5\"/>\n<text text-anchor=\"middle\" x=\"1195\" y=\"-997.3\" font-family=\"Helvetica,sans-Serif\" font-size=\"14.00\">gini = 0.0</text>\n<text text-anchor=\"middle\" x=\"1195\" y=\"-982.3\" font-family=\"Helvetica,sans-Serif\" font-size=\"14.00\">samples = 3</text>\n<text text-anchor=\"middle\" x=\"1195\" y=\"-967.3\" font-family=\"Helvetica,sans-Serif\" font-size=\"14.00\">value = [0, 3]</text>\n<text text-anchor=\"middle\" x=\"1195\" y=\"-952.3\" font-family=\"Helvetica,sans-Serif\" font-size=\"14.00\">class = 이탈</text>\n</g>\n<!-- 55&#45;&gt;59 -->\n<g id=\"edge59\" class=\"edge\">\n<title>55&#45;&gt;59</title>\n<path fill=\"none\" stroke=\"black\" d=\"M1193.04,-1055.91C1193.32,-1045.2 1193.61,-1033.62 1193.89,-1022.78\"/>\n<polygon fill=\"black\" stroke=\"black\" points=\"1197.39,-1022.75 1194.15,-1012.67 1190.39,-1022.57 1197.39,-1022.75\"/>\n</g>\n<!-- 57 -->\n<g id=\"node58\" class=\"node\">\n<title>57</title>\n<polygon fill=\"#e58139\" stroke=\"black\" points=\"1117,-893.5 1011,-893.5 1011,-825.5 1117,-825.5 1117,-893.5\"/>\n<text text-anchor=\"middle\" x=\"1064\" y=\"-878.3\" font-family=\"Helvetica,sans-Serif\" font-size=\"14.00\">gini = 0.0</text>\n<text text-anchor=\"middle\" x=\"1064\" y=\"-863.3\" font-family=\"Helvetica,sans-Serif\" font-size=\"14.00\">samples = 2</text>\n<text text-anchor=\"middle\" x=\"1064\" y=\"-848.3\" font-family=\"Helvetica,sans-Serif\" font-size=\"14.00\">value = [2, 0]</text>\n<text text-anchor=\"middle\" x=\"1064\" y=\"-833.3\" font-family=\"Helvetica,sans-Serif\" font-size=\"14.00\">class = 비이탈</text>\n</g>\n<!-- 56&#45;&gt;57 -->\n<g id=\"edge57\" class=\"edge\">\n<title>56&#45;&gt;57</title>\n<path fill=\"none\" stroke=\"black\" d=\"M1064,-936.91C1064,-926.2 1064,-914.62 1064,-903.78\"/>\n<polygon fill=\"black\" stroke=\"black\" points=\"1067.5,-903.67 1064,-893.67 1060.5,-903.67 1067.5,-903.67\"/>\n</g>\n<!-- 58 -->\n<g id=\"node59\" class=\"node\">\n<title>58</title>\n<polygon fill=\"#399de5\" stroke=\"black\" points=\"1230.5,-893.5 1135.5,-893.5 1135.5,-825.5 1230.5,-825.5 1230.5,-893.5\"/>\n<text text-anchor=\"middle\" x=\"1183\" y=\"-878.3\" font-family=\"Helvetica,sans-Serif\" font-size=\"14.00\">gini = 0.0</text>\n<text text-anchor=\"middle\" x=\"1183\" y=\"-863.3\" font-family=\"Helvetica,sans-Serif\" font-size=\"14.00\">samples = 1</text>\n<text text-anchor=\"middle\" x=\"1183\" y=\"-848.3\" font-family=\"Helvetica,sans-Serif\" font-size=\"14.00\">value = [0, 1]</text>\n<text text-anchor=\"middle\" x=\"1183\" y=\"-833.3\" font-family=\"Helvetica,sans-Serif\" font-size=\"14.00\">class = 이탈</text>\n</g>\n<!-- 56&#45;&gt;58 -->\n<g id=\"edge58\" class=\"edge\">\n<title>56&#45;&gt;58</title>\n<path fill=\"none\" stroke=\"black\" d=\"M1105.29,-936.91C1117.18,-925.21 1130.15,-912.46 1142.03,-900.78\"/>\n<polygon fill=\"black\" stroke=\"black\" points=\"1144.59,-903.17 1149.27,-893.67 1139.68,-898.18 1144.59,-903.17\"/>\n</g>\n<!-- 61 -->\n<g id=\"node62\" class=\"node\">\n<title>61</title>\n<polygon fill=\"#399de5\" stroke=\"black\" points=\"1377.5,-1250.5 1282.5,-1250.5 1282.5,-1182.5 1377.5,-1182.5 1377.5,-1250.5\"/>\n<text text-anchor=\"middle\" x=\"1330\" y=\"-1235.3\" font-family=\"Helvetica,sans-Serif\" font-size=\"14.00\">gini = 0.0</text>\n<text text-anchor=\"middle\" x=\"1330\" y=\"-1220.3\" font-family=\"Helvetica,sans-Serif\" font-size=\"14.00\">samples = 1</text>\n<text text-anchor=\"middle\" x=\"1330\" y=\"-1205.3\" font-family=\"Helvetica,sans-Serif\" font-size=\"14.00\">value = [0, 1]</text>\n<text text-anchor=\"middle\" x=\"1330\" y=\"-1190.3\" font-family=\"Helvetica,sans-Serif\" font-size=\"14.00\">class = 이탈</text>\n</g>\n<!-- 60&#45;&gt;61 -->\n<g id=\"edge61\" class=\"edge\">\n<title>60&#45;&gt;61</title>\n<path fill=\"none\" stroke=\"black\" d=\"M1335.88,-1293.91C1335.05,-1283.2 1334.16,-1271.62 1333.33,-1260.78\"/>\n<polygon fill=\"black\" stroke=\"black\" points=\"1336.81,-1260.37 1332.55,-1250.67 1329.83,-1260.91 1336.81,-1260.37\"/>\n</g>\n<!-- 62 -->\n<g id=\"node63\" class=\"node\">\n<title>62</title>\n<polygon fill=\"#e58139\" stroke=\"black\" points=\"1502,-1250.5 1396,-1250.5 1396,-1182.5 1502,-1182.5 1502,-1250.5\"/>\n<text text-anchor=\"middle\" x=\"1449\" y=\"-1235.3\" font-family=\"Helvetica,sans-Serif\" font-size=\"14.00\">gini = 0.0</text>\n<text text-anchor=\"middle\" x=\"1449\" y=\"-1220.3\" font-family=\"Helvetica,sans-Serif\" font-size=\"14.00\">samples = 4</text>\n<text text-anchor=\"middle\" x=\"1449\" y=\"-1205.3\" font-family=\"Helvetica,sans-Serif\" font-size=\"14.00\">value = [4, 0]</text>\n<text text-anchor=\"middle\" x=\"1449\" y=\"-1190.3\" font-family=\"Helvetica,sans-Serif\" font-size=\"14.00\">class = 비이탈</text>\n</g>\n<!-- 60&#45;&gt;62 -->\n<g id=\"edge62\" class=\"edge\">\n<title>60&#45;&gt;62</title>\n<path fill=\"none\" stroke=\"black\" d=\"M1377.16,-1293.91C1388.06,-1282.32 1399.93,-1269.7 1410.82,-1258.11\"/>\n<polygon fill=\"black\" stroke=\"black\" points=\"1413.52,-1260.35 1417.82,-1250.67 1408.42,-1255.56 1413.52,-1260.35\"/>\n</g>\n<!-- 64 -->\n<g id=\"node65\" class=\"node\">\n<title>64</title>\n<polygon fill=\"#399de5\" stroke=\"black\" points=\"1527,-1369.5 1425,-1369.5 1425,-1301.5 1527,-1301.5 1527,-1369.5\"/>\n<text text-anchor=\"middle\" x=\"1476\" y=\"-1354.3\" font-family=\"Helvetica,sans-Serif\" font-size=\"14.00\">gini = 0.0</text>\n<text text-anchor=\"middle\" x=\"1476\" y=\"-1339.3\" font-family=\"Helvetica,sans-Serif\" font-size=\"14.00\">samples = 12</text>\n<text text-anchor=\"middle\" x=\"1476\" y=\"-1324.3\" font-family=\"Helvetica,sans-Serif\" font-size=\"14.00\">value = [0, 12]</text>\n<text text-anchor=\"middle\" x=\"1476\" y=\"-1309.3\" font-family=\"Helvetica,sans-Serif\" font-size=\"14.00\">class = 이탈</text>\n</g>\n<!-- 63&#45;&gt;64 -->\n<g id=\"edge64\" class=\"edge\">\n<title>63&#45;&gt;64</title>\n<path fill=\"none\" stroke=\"black\" d=\"M1519.75,-1412.91C1513.37,-1401.76 1506.44,-1389.66 1500.02,-1378.44\"/>\n<polygon fill=\"black\" stroke=\"black\" points=\"1503,-1376.61 1494.99,-1369.67 1496.93,-1380.08 1503,-1376.61\"/>\n</g>\n<!-- 65 -->\n<g id=\"node66\" class=\"node\">\n<title>65</title>\n<polygon fill=\"#e58139\" stroke=\"black\" points=\"1651,-1369.5 1545,-1369.5 1545,-1301.5 1651,-1301.5 1651,-1369.5\"/>\n<text text-anchor=\"middle\" x=\"1598\" y=\"-1354.3\" font-family=\"Helvetica,sans-Serif\" font-size=\"14.00\">gini = 0.0</text>\n<text text-anchor=\"middle\" x=\"1598\" y=\"-1339.3\" font-family=\"Helvetica,sans-Serif\" font-size=\"14.00\">samples = 1</text>\n<text text-anchor=\"middle\" x=\"1598\" y=\"-1324.3\" font-family=\"Helvetica,sans-Serif\" font-size=\"14.00\">value = [1, 0]</text>\n<text text-anchor=\"middle\" x=\"1598\" y=\"-1309.3\" font-family=\"Helvetica,sans-Serif\" font-size=\"14.00\">class = 비이탈</text>\n</g>\n<!-- 63&#45;&gt;65 -->\n<g id=\"edge65\" class=\"edge\">\n<title>63&#45;&gt;65</title>\n<path fill=\"none\" stroke=\"black\" d=\"M1562.08,-1412.91C1567.27,-1401.87 1572.9,-1389.9 1578.13,-1378.77\"/>\n<polygon fill=\"black\" stroke=\"black\" points=\"1581.32,-1380.21 1582.41,-1369.67 1574.99,-1377.23 1581.32,-1380.21\"/>\n</g>\n<!-- 67 -->\n<g id=\"node68\" class=\"node\">\n<title>67</title>\n<polygon fill=\"#eb9c64\" stroke=\"black\" points=\"1949,-1496 1813,-1496 1813,-1413 1949,-1413 1949,-1496\"/>\n<text text-anchor=\"middle\" x=\"1881\" y=\"-1480.8\" font-family=\"Helvetica,sans-Serif\" font-size=\"14.00\">거래기간 &lt;= &#45;1.372</text>\n<text text-anchor=\"middle\" x=\"1881\" y=\"-1465.8\" font-family=\"Helvetica,sans-Serif\" font-size=\"14.00\">gini = 0.291</text>\n<text text-anchor=\"middle\" x=\"1881\" y=\"-1450.8\" font-family=\"Helvetica,sans-Serif\" font-size=\"14.00\">samples = 113</text>\n<text text-anchor=\"middle\" x=\"1881\" y=\"-1435.8\" font-family=\"Helvetica,sans-Serif\" font-size=\"14.00\">value = [93, 20]</text>\n<text text-anchor=\"middle\" x=\"1881\" y=\"-1420.8\" font-family=\"Helvetica,sans-Serif\" font-size=\"14.00\">class = 비이탈</text>\n</g>\n<!-- 66&#45;&gt;67 -->\n<g id=\"edge67\" class=\"edge\">\n<title>66&#45;&gt;67</title>\n<path fill=\"none\" stroke=\"black\" d=\"M1881,-1531.91C1881,-1523.65 1881,-1514.86 1881,-1506.3\"/>\n<polygon fill=\"black\" stroke=\"black\" points=\"1884.5,-1506.02 1881,-1496.02 1877.5,-1506.02 1884.5,-1506.02\"/>\n</g>\n<!-- 112 -->\n<g id=\"node113\" class=\"node\">\n<title>112</title>\n<polygon fill=\"#dbedfa\" stroke=\"black\" points=\"2160,-1496 2024,-1496 2024,-1413 2160,-1413 2160,-1496\"/>\n<text text-anchor=\"middle\" x=\"2092\" y=\"-1480.8\" font-family=\"Helvetica,sans-Serif\" font-size=\"14.00\">총매출액 &lt;= &#45;0.325</text>\n<text text-anchor=\"middle\" x=\"2092\" y=\"-1465.8\" font-family=\"Helvetica,sans-Serif\" font-size=\"14.00\">gini = 0.495</text>\n<text text-anchor=\"middle\" x=\"2092\" y=\"-1450.8\" font-family=\"Helvetica,sans-Serif\" font-size=\"14.00\">samples = 20</text>\n<text text-anchor=\"middle\" x=\"2092\" y=\"-1435.8\" font-family=\"Helvetica,sans-Serif\" font-size=\"14.00\">value = [9, 11]</text>\n<text text-anchor=\"middle\" x=\"2092\" y=\"-1420.8\" font-family=\"Helvetica,sans-Serif\" font-size=\"14.00\">class = 이탈</text>\n</g>\n<!-- 66&#45;&gt;112 -->\n<g id=\"edge112\" class=\"edge\">\n<title>66&#45;&gt;112</title>\n<path fill=\"none\" stroke=\"black\" d=\"M1949.21,-1534.68C1970.17,-1523.06 1993.37,-1510.19 2014.88,-1498.26\"/>\n<polygon fill=\"black\" stroke=\"black\" points=\"2016.61,-1501.31 2023.66,-1493.4 2013.22,-1495.18 2016.61,-1501.31\"/>\n</g>\n<!-- 68 -->\n<g id=\"node69\" class=\"node\">\n<title>68</title>\n<polygon fill=\"#f4c9aa\" stroke=\"black\" points=\"1805,-1377 1669,-1377 1669,-1294 1805,-1294 1805,-1377\"/>\n<text text-anchor=\"middle\" x=\"1737\" y=\"-1361.8\" font-family=\"Helvetica,sans-Serif\" font-size=\"14.00\">거래기간 &lt;= &#45;1.389</text>\n<text text-anchor=\"middle\" x=\"1737\" y=\"-1346.8\" font-family=\"Helvetica,sans-Serif\" font-size=\"14.00\">gini = 0.463</text>\n<text text-anchor=\"middle\" x=\"1737\" y=\"-1331.8\" font-family=\"Helvetica,sans-Serif\" font-size=\"14.00\">samples = 33</text>\n<text text-anchor=\"middle\" x=\"1737\" y=\"-1316.8\" font-family=\"Helvetica,sans-Serif\" font-size=\"14.00\">value = [21, 12]</text>\n<text text-anchor=\"middle\" x=\"1737\" y=\"-1301.8\" font-family=\"Helvetica,sans-Serif\" font-size=\"14.00\">class = 비이탈</text>\n</g>\n<!-- 67&#45;&gt;68 -->\n<g id=\"edge68\" class=\"edge\">\n<title>67&#45;&gt;68</title>\n<path fill=\"none\" stroke=\"black\" d=\"M1831.04,-1412.91C1819.31,-1403.38 1806.72,-1393.15 1794.69,-1383.37\"/>\n<polygon fill=\"black\" stroke=\"black\" points=\"1796.84,-1380.61 1786.87,-1377.02 1792.43,-1386.04 1796.84,-1380.61\"/>\n</g>\n<!-- 95 -->\n<g id=\"node96\" class=\"node\">\n<title>95</title>\n<polygon fill=\"#e88f4f\" stroke=\"black\" points=\"1959,-1377 1823,-1377 1823,-1294 1959,-1294 1959,-1377\"/>\n<text text-anchor=\"middle\" x=\"1891\" y=\"-1361.8\" font-family=\"Helvetica,sans-Serif\" font-size=\"14.00\">총매출액 &lt;= &#45;0.558</text>\n<text text-anchor=\"middle\" x=\"1891\" y=\"-1346.8\" font-family=\"Helvetica,sans-Serif\" font-size=\"14.00\">gini = 0.18</text>\n<text text-anchor=\"middle\" x=\"1891\" y=\"-1331.8\" font-family=\"Helvetica,sans-Serif\" font-size=\"14.00\">samples = 80</text>\n<text text-anchor=\"middle\" x=\"1891\" y=\"-1316.8\" font-family=\"Helvetica,sans-Serif\" font-size=\"14.00\">value = [72, 8]</text>\n<text text-anchor=\"middle\" x=\"1891\" y=\"-1301.8\" font-family=\"Helvetica,sans-Serif\" font-size=\"14.00\">class = 비이탈</text>\n</g>\n<!-- 67&#45;&gt;95 -->\n<g id=\"edge95\" class=\"edge\">\n<title>67&#45;&gt;95</title>\n<path fill=\"none\" stroke=\"black\" d=\"M1884.47,-1412.91C1885.18,-1404.56 1885.94,-1395.67 1886.68,-1387.02\"/>\n<polygon fill=\"black\" stroke=\"black\" points=\"1890.17,-1387.28 1887.54,-1377.02 1883.2,-1386.69 1890.17,-1387.28\"/>\n</g>\n<!-- 69 -->\n<g id=\"node70\" class=\"node\">\n<title>69</title>\n<polygon fill=\"#f1bd97\" stroke=\"black\" points=\"1671,-1258 1535,-1258 1535,-1175 1671,-1175 1671,-1258\"/>\n<text text-anchor=\"middle\" x=\"1603\" y=\"-1242.8\" font-family=\"Helvetica,sans-Serif\" font-size=\"14.00\">방문빈도 &lt;= &#45;0.048</text>\n<text text-anchor=\"middle\" x=\"1603\" y=\"-1227.8\" font-family=\"Helvetica,sans-Serif\" font-size=\"14.00\">gini = 0.437</text>\n<text text-anchor=\"middle\" x=\"1603\" y=\"-1212.8\" font-family=\"Helvetica,sans-Serif\" font-size=\"14.00\">samples = 31</text>\n<text text-anchor=\"middle\" x=\"1603\" y=\"-1197.8\" font-family=\"Helvetica,sans-Serif\" font-size=\"14.00\">value = [21, 10]</text>\n<text text-anchor=\"middle\" x=\"1603\" y=\"-1182.8\" font-family=\"Helvetica,sans-Serif\" font-size=\"14.00\">class = 비이탈</text>\n</g>\n<!-- 68&#45;&gt;69 -->\n<g id=\"edge69\" class=\"edge\">\n<title>68&#45;&gt;69</title>\n<path fill=\"none\" stroke=\"black\" d=\"M1690.51,-1293.91C1679.7,-1284.47 1668.1,-1274.34 1657,-1264.65\"/>\n<polygon fill=\"black\" stroke=\"black\" points=\"1659.24,-1261.96 1649.41,-1258.02 1654.64,-1267.23 1659.24,-1261.96\"/>\n</g>\n<!-- 94 -->\n<g id=\"node95\" class=\"node\">\n<title>94</title>\n<polygon fill=\"#399de5\" stroke=\"black\" points=\"1784.5,-1250.5 1689.5,-1250.5 1689.5,-1182.5 1784.5,-1182.5 1784.5,-1250.5\"/>\n<text text-anchor=\"middle\" x=\"1737\" y=\"-1235.3\" font-family=\"Helvetica,sans-Serif\" font-size=\"14.00\">gini = 0.0</text>\n<text text-anchor=\"middle\" x=\"1737\" y=\"-1220.3\" font-family=\"Helvetica,sans-Serif\" font-size=\"14.00\">samples = 2</text>\n<text text-anchor=\"middle\" x=\"1737\" y=\"-1205.3\" font-family=\"Helvetica,sans-Serif\" font-size=\"14.00\">value = [0, 2]</text>\n<text text-anchor=\"middle\" x=\"1737\" y=\"-1190.3\" font-family=\"Helvetica,sans-Serif\" font-size=\"14.00\">class = 이탈</text>\n</g>\n<!-- 68&#45;&gt;94 -->\n<g id=\"edge94\" class=\"edge\">\n<title>68&#45;&gt;94</title>\n<path fill=\"none\" stroke=\"black\" d=\"M1737,-1293.91C1737,-1283.2 1737,-1271.62 1737,-1260.78\"/>\n<polygon fill=\"black\" stroke=\"black\" points=\"1740.5,-1260.67 1737,-1250.67 1733.5,-1260.67 1740.5,-1260.67\"/>\n</g>\n<!-- 70 -->\n<g id=\"node71\" class=\"node\">\n<title>70</title>\n<polygon fill=\"#e88f4f\" stroke=\"black\" points=\"1523,-1139 1387,-1139 1387,-1056 1523,-1056 1523,-1139\"/>\n<text text-anchor=\"middle\" x=\"1455\" y=\"-1123.8\" font-family=\"Helvetica,sans-Serif\" font-size=\"14.00\">방문빈도 &lt;= &#45;0.415</text>\n<text text-anchor=\"middle\" x=\"1455\" y=\"-1108.8\" font-family=\"Helvetica,sans-Serif\" font-size=\"14.00\">gini = 0.18</text>\n<text text-anchor=\"middle\" x=\"1455\" y=\"-1093.8\" font-family=\"Helvetica,sans-Serif\" font-size=\"14.00\">samples = 10</text>\n<text text-anchor=\"middle\" x=\"1455\" y=\"-1078.8\" font-family=\"Helvetica,sans-Serif\" font-size=\"14.00\">value = [9, 1]</text>\n<text text-anchor=\"middle\" x=\"1455\" y=\"-1063.8\" font-family=\"Helvetica,sans-Serif\" font-size=\"14.00\">class = 비이탈</text>\n</g>\n<!-- 69&#45;&gt;70 -->\n<g id=\"edge70\" class=\"edge\">\n<title>69&#45;&gt;70</title>\n<path fill=\"none\" stroke=\"black\" d=\"M1551.65,-1174.91C1539.6,-1165.38 1526.66,-1155.15 1514.29,-1145.37\"/>\n<polygon fill=\"black\" stroke=\"black\" points=\"1516.27,-1142.48 1506.26,-1139.02 1511.93,-1147.97 1516.27,-1142.48\"/>\n</g>\n<!-- 75 -->\n<g id=\"node76\" class=\"node\">\n<title>75</title>\n<polygon fill=\"#f8e0ce\" stroke=\"black\" points=\"1672.5,-1139 1541.5,-1139 1541.5,-1056 1672.5,-1056 1672.5,-1139\"/>\n<text text-anchor=\"middle\" x=\"1607\" y=\"-1123.8\" font-family=\"Helvetica,sans-Serif\" font-size=\"14.00\">방문빈도 &lt;= 0.985</text>\n<text text-anchor=\"middle\" x=\"1607\" y=\"-1108.8\" font-family=\"Helvetica,sans-Serif\" font-size=\"14.00\">gini = 0.49</text>\n<text text-anchor=\"middle\" x=\"1607\" y=\"-1093.8\" font-family=\"Helvetica,sans-Serif\" font-size=\"14.00\">samples = 21</text>\n<text text-anchor=\"middle\" x=\"1607\" y=\"-1078.8\" font-family=\"Helvetica,sans-Serif\" font-size=\"14.00\">value = [12, 9]</text>\n<text text-anchor=\"middle\" x=\"1607\" y=\"-1063.8\" font-family=\"Helvetica,sans-Serif\" font-size=\"14.00\">class = 비이탈</text>\n</g>\n<!-- 69&#45;&gt;75 -->\n<g id=\"edge75\" class=\"edge\">\n<title>69&#45;&gt;75</title>\n<path fill=\"none\" stroke=\"black\" d=\"M1604.39,-1174.91C1604.67,-1166.56 1604.98,-1157.67 1605.27,-1149.02\"/>\n<polygon fill=\"black\" stroke=\"black\" points=\"1608.77,-1149.13 1605.61,-1139.02 1601.77,-1148.9 1608.77,-1149.13\"/>\n</g>\n<!-- 71 -->\n<g id=\"node72\" class=\"node\">\n<title>71</title>\n<polygon fill=\"#ffffff\" stroke=\"black\" points=\"1397,-1020 1261,-1020 1261,-937 1397,-937 1397,-1020\"/>\n<text text-anchor=\"middle\" x=\"1329\" y=\"-1004.8\" font-family=\"Helvetica,sans-Serif\" font-size=\"14.00\">총매출액 &lt;= &#45;0.331</text>\n<text text-anchor=\"middle\" x=\"1329\" y=\"-989.8\" font-family=\"Helvetica,sans-Serif\" font-size=\"14.00\">gini = 0.5</text>\n<text text-anchor=\"middle\" x=\"1329\" y=\"-974.8\" font-family=\"Helvetica,sans-Serif\" font-size=\"14.00\">samples = 2</text>\n<text text-anchor=\"middle\" x=\"1329\" y=\"-959.8\" font-family=\"Helvetica,sans-Serif\" font-size=\"14.00\">value = [1, 1]</text>\n<text text-anchor=\"middle\" x=\"1329\" y=\"-944.8\" font-family=\"Helvetica,sans-Serif\" font-size=\"14.00\">class = 비이탈</text>\n</g>\n<!-- 70&#45;&gt;71 -->\n<g id=\"edge71\" class=\"edge\">\n<title>70&#45;&gt;71</title>\n<path fill=\"none\" stroke=\"black\" d=\"M1411.28,-1055.91C1401.22,-1046.56 1390.43,-1036.54 1380.08,-1026.93\"/>\n<polygon fill=\"black\" stroke=\"black\" points=\"1382.35,-1024.26 1372.64,-1020.02 1377.58,-1029.39 1382.35,-1024.26\"/>\n</g>\n<!-- 74 -->\n<g id=\"node75\" class=\"node\">\n<title>74</title>\n<polygon fill=\"#e58139\" stroke=\"black\" points=\"1521,-1012.5 1415,-1012.5 1415,-944.5 1521,-944.5 1521,-1012.5\"/>\n<text text-anchor=\"middle\" x=\"1468\" y=\"-997.3\" font-family=\"Helvetica,sans-Serif\" font-size=\"14.00\">gini = 0.0</text>\n<text text-anchor=\"middle\" x=\"1468\" y=\"-982.3\" font-family=\"Helvetica,sans-Serif\" font-size=\"14.00\">samples = 8</text>\n<text text-anchor=\"middle\" x=\"1468\" y=\"-967.3\" font-family=\"Helvetica,sans-Serif\" font-size=\"14.00\">value = [8, 0]</text>\n<text text-anchor=\"middle\" x=\"1468\" y=\"-952.3\" font-family=\"Helvetica,sans-Serif\" font-size=\"14.00\">class = 비이탈</text>\n</g>\n<!-- 70&#45;&gt;74 -->\n<g id=\"edge74\" class=\"edge\">\n<title>70&#45;&gt;74</title>\n<path fill=\"none\" stroke=\"black\" d=\"M1459.51,-1055.91C1460.7,-1045.2 1461.99,-1033.62 1463.19,-1022.78\"/>\n<polygon fill=\"black\" stroke=\"black\" points=\"1466.69,-1022.99 1464.31,-1012.67 1459.73,-1022.22 1466.69,-1022.99\"/>\n</g>\n<!-- 72 -->\n<g id=\"node73\" class=\"node\">\n<title>72</title>\n<polygon fill=\"#399de5\" stroke=\"black\" points=\"1360.5,-893.5 1265.5,-893.5 1265.5,-825.5 1360.5,-825.5 1360.5,-893.5\"/>\n<text text-anchor=\"middle\" x=\"1313\" y=\"-878.3\" font-family=\"Helvetica,sans-Serif\" font-size=\"14.00\">gini = 0.0</text>\n<text text-anchor=\"middle\" x=\"1313\" y=\"-863.3\" font-family=\"Helvetica,sans-Serif\" font-size=\"14.00\">samples = 1</text>\n<text text-anchor=\"middle\" x=\"1313\" y=\"-848.3\" font-family=\"Helvetica,sans-Serif\" font-size=\"14.00\">value = [0, 1]</text>\n<text text-anchor=\"middle\" x=\"1313\" y=\"-833.3\" font-family=\"Helvetica,sans-Serif\" font-size=\"14.00\">class = 이탈</text>\n</g>\n<!-- 71&#45;&gt;72 -->\n<g id=\"edge72\" class=\"edge\">\n<title>71&#45;&gt;72</title>\n<path fill=\"none\" stroke=\"black\" d=\"M1323.45,-936.91C1321.99,-926.2 1320.4,-914.62 1318.92,-903.78\"/>\n<polygon fill=\"black\" stroke=\"black\" points=\"1322.36,-903.1 1317.54,-893.67 1315.42,-904.05 1322.36,-903.1\"/>\n</g>\n<!-- 73 -->\n<g id=\"node74\" class=\"node\">\n<title>73</title>\n<polygon fill=\"#e58139\" stroke=\"black\" points=\"1485,-893.5 1379,-893.5 1379,-825.5 1485,-825.5 1485,-893.5\"/>\n<text text-anchor=\"middle\" x=\"1432\" y=\"-878.3\" font-family=\"Helvetica,sans-Serif\" font-size=\"14.00\">gini = 0.0</text>\n<text text-anchor=\"middle\" x=\"1432\" y=\"-863.3\" font-family=\"Helvetica,sans-Serif\" font-size=\"14.00\">samples = 1</text>\n<text text-anchor=\"middle\" x=\"1432\" y=\"-848.3\" font-family=\"Helvetica,sans-Serif\" font-size=\"14.00\">value = [1, 0]</text>\n<text text-anchor=\"middle\" x=\"1432\" y=\"-833.3\" font-family=\"Helvetica,sans-Serif\" font-size=\"14.00\">class = 비이탈</text>\n</g>\n<!-- 71&#45;&gt;73 -->\n<g id=\"edge73\" class=\"edge\">\n<title>71&#45;&gt;73</title>\n<path fill=\"none\" stroke=\"black\" d=\"M1364.74,-936.91C1374.84,-925.43 1385.84,-912.94 1395.96,-901.44\"/>\n<polygon fill=\"black\" stroke=\"black\" points=\"1398.82,-903.49 1402.8,-893.67 1393.57,-898.86 1398.82,-903.49\"/>\n</g>\n<!-- 76 -->\n<g id=\"node77\" class=\"node\">\n<title>76</title>\n<polygon fill=\"#d3e9f9\" stroke=\"black\" points=\"1675,-1020 1539,-1020 1539,-937 1675,-937 1675,-1020\"/>\n<text text-anchor=\"middle\" x=\"1607\" y=\"-1004.8\" font-family=\"Helvetica,sans-Serif\" font-size=\"14.00\">총매출액 &lt;= &#45;0.547</text>\n<text text-anchor=\"middle\" x=\"1607\" y=\"-989.8\" font-family=\"Helvetica,sans-Serif\" font-size=\"14.00\">gini = 0.492</text>\n<text text-anchor=\"middle\" x=\"1607\" y=\"-974.8\" font-family=\"Helvetica,sans-Serif\" font-size=\"14.00\">samples = 16</text>\n<text text-anchor=\"middle\" x=\"1607\" y=\"-959.8\" font-family=\"Helvetica,sans-Serif\" font-size=\"14.00\">value = [7, 9]</text>\n<text text-anchor=\"middle\" x=\"1607\" y=\"-944.8\" font-family=\"Helvetica,sans-Serif\" font-size=\"14.00\">class = 이탈</text>\n</g>\n<!-- 75&#45;&gt;76 -->\n<g id=\"edge76\" class=\"edge\">\n<title>75&#45;&gt;76</title>\n<path fill=\"none\" stroke=\"black\" d=\"M1607,-1055.91C1607,-1047.65 1607,-1038.86 1607,-1030.3\"/>\n<polygon fill=\"black\" stroke=\"black\" points=\"1610.5,-1030.02 1607,-1020.02 1603.5,-1030.02 1610.5,-1030.02\"/>\n</g>\n<!-- 93 -->\n<g id=\"node94\" class=\"node\">\n<title>93</title>\n<polygon fill=\"#e58139\" stroke=\"black\" points=\"1799,-1012.5 1693,-1012.5 1693,-944.5 1799,-944.5 1799,-1012.5\"/>\n<text text-anchor=\"middle\" x=\"1746\" y=\"-997.3\" font-family=\"Helvetica,sans-Serif\" font-size=\"14.00\">gini = 0.0</text>\n<text text-anchor=\"middle\" x=\"1746\" y=\"-982.3\" font-family=\"Helvetica,sans-Serif\" font-size=\"14.00\">samples = 5</text>\n<text text-anchor=\"middle\" x=\"1746\" y=\"-967.3\" font-family=\"Helvetica,sans-Serif\" font-size=\"14.00\">value = [5, 0]</text>\n<text text-anchor=\"middle\" x=\"1746\" y=\"-952.3\" font-family=\"Helvetica,sans-Serif\" font-size=\"14.00\">class = 비이탈</text>\n</g>\n<!-- 75&#45;&gt;93 -->\n<g id=\"edge93\" class=\"edge\">\n<title>75&#45;&gt;93</title>\n<path fill=\"none\" stroke=\"black\" d=\"M1655.23,-1055.91C1669.38,-1043.99 1684.85,-1030.98 1698.93,-1019.12\"/>\n<polygon fill=\"black\" stroke=\"black\" points=\"1701.2,-1021.78 1706.6,-1012.67 1696.69,-1016.43 1701.2,-1021.78\"/>\n</g>\n<!-- 77 -->\n<g id=\"node78\" class=\"node\">\n<title>77</title>\n<polygon fill=\"#e58139\" stroke=\"black\" points=\"1635,-893.5 1529,-893.5 1529,-825.5 1635,-825.5 1635,-893.5\"/>\n<text text-anchor=\"middle\" x=\"1582\" y=\"-878.3\" font-family=\"Helvetica,sans-Serif\" font-size=\"14.00\">gini = 0.0</text>\n<text text-anchor=\"middle\" x=\"1582\" y=\"-863.3\" font-family=\"Helvetica,sans-Serif\" font-size=\"14.00\">samples = 2</text>\n<text text-anchor=\"middle\" x=\"1582\" y=\"-848.3\" font-family=\"Helvetica,sans-Serif\" font-size=\"14.00\">value = [2, 0]</text>\n<text text-anchor=\"middle\" x=\"1582\" y=\"-833.3\" font-family=\"Helvetica,sans-Serif\" font-size=\"14.00\">class = 비이탈</text>\n</g>\n<!-- 76&#45;&gt;77 -->\n<g id=\"edge77\" class=\"edge\">\n<title>76&#45;&gt;77</title>\n<path fill=\"none\" stroke=\"black\" d=\"M1598.33,-936.91C1596.04,-926.2 1593.56,-914.62 1591.25,-903.78\"/>\n<polygon fill=\"black\" stroke=\"black\" points=\"1594.6,-902.71 1589.09,-893.67 1587.75,-904.18 1594.6,-902.71\"/>\n</g>\n<!-- 78 -->\n<g id=\"node79\" class=\"node\">\n<title>78</title>\n<polygon fill=\"#a7d3f3\" stroke=\"black\" points=\"1784.5,-901 1653.5,-901 1653.5,-818 1784.5,-818 1784.5,-901\"/>\n<text text-anchor=\"middle\" x=\"1719\" y=\"-885.8\" font-family=\"Helvetica,sans-Serif\" font-size=\"14.00\">방문빈도 &lt;= 0.755</text>\n<text text-anchor=\"middle\" x=\"1719\" y=\"-870.8\" font-family=\"Helvetica,sans-Serif\" font-size=\"14.00\">gini = 0.459</text>\n<text text-anchor=\"middle\" x=\"1719\" y=\"-855.8\" font-family=\"Helvetica,sans-Serif\" font-size=\"14.00\">samples = 14</text>\n<text text-anchor=\"middle\" x=\"1719\" y=\"-840.8\" font-family=\"Helvetica,sans-Serif\" font-size=\"14.00\">value = [5, 9]</text>\n<text text-anchor=\"middle\" x=\"1719\" y=\"-825.8\" font-family=\"Helvetica,sans-Serif\" font-size=\"14.00\">class = 이탈</text>\n</g>\n<!-- 76&#45;&gt;78 -->\n<g id=\"edge78\" class=\"edge\">\n<title>76&#45;&gt;78</title>\n<path fill=\"none\" stroke=\"black\" d=\"M1645.86,-936.91C1654.63,-927.74 1664.03,-917.93 1673.06,-908.49\"/>\n<polygon fill=\"black\" stroke=\"black\" points=\"1675.82,-910.66 1680.21,-901.02 1670.77,-905.82 1675.82,-910.66\"/>\n</g>\n<!-- 79 -->\n<g id=\"node80\" class=\"node\">\n<title>79</title>\n<polygon fill=\"#deeffb\" stroke=\"black\" points=\"1719.5,-782 1588.5,-782 1588.5,-699 1719.5,-699 1719.5,-782\"/>\n<text text-anchor=\"middle\" x=\"1654\" y=\"-766.8\" font-family=\"Helvetica,sans-Serif\" font-size=\"14.00\">방문빈도 &lt;= 0.083</text>\n<text text-anchor=\"middle\" x=\"1654\" y=\"-751.8\" font-family=\"Helvetica,sans-Serif\" font-size=\"14.00\">gini = 0.496</text>\n<text text-anchor=\"middle\" x=\"1654\" y=\"-736.8\" font-family=\"Helvetica,sans-Serif\" font-size=\"14.00\">samples = 11</text>\n<text text-anchor=\"middle\" x=\"1654\" y=\"-721.8\" font-family=\"Helvetica,sans-Serif\" font-size=\"14.00\">value = [5, 6]</text>\n<text text-anchor=\"middle\" x=\"1654\" y=\"-706.8\" font-family=\"Helvetica,sans-Serif\" font-size=\"14.00\">class = 이탈</text>\n</g>\n<!-- 78&#45;&gt;79 -->\n<g id=\"edge79\" class=\"edge\">\n<title>78&#45;&gt;79</title>\n<path fill=\"none\" stroke=\"black\" d=\"M1696.45,-817.91C1691.61,-809.2 1686.44,-799.9 1681.44,-790.89\"/>\n<polygon fill=\"black\" stroke=\"black\" points=\"1684.43,-789.06 1676.51,-782.02 1678.31,-792.46 1684.43,-789.06\"/>\n</g>\n<!-- 92 -->\n<g id=\"node93\" class=\"node\">\n<title>92</title>\n<polygon fill=\"#399de5\" stroke=\"black\" points=\"1832.5,-774.5 1737.5,-774.5 1737.5,-706.5 1832.5,-706.5 1832.5,-774.5\"/>\n<text text-anchor=\"middle\" x=\"1785\" y=\"-759.3\" font-family=\"Helvetica,sans-Serif\" font-size=\"14.00\">gini = 0.0</text>\n<text text-anchor=\"middle\" x=\"1785\" y=\"-744.3\" font-family=\"Helvetica,sans-Serif\" font-size=\"14.00\">samples = 3</text>\n<text text-anchor=\"middle\" x=\"1785\" y=\"-729.3\" font-family=\"Helvetica,sans-Serif\" font-size=\"14.00\">value = [0, 3]</text>\n<text text-anchor=\"middle\" x=\"1785\" y=\"-714.3\" font-family=\"Helvetica,sans-Serif\" font-size=\"14.00\">class = 이탈</text>\n</g>\n<!-- 78&#45;&gt;92 -->\n<g id=\"edge92\" class=\"edge\">\n<title>78&#45;&gt;92</title>\n<path fill=\"none\" stroke=\"black\" d=\"M1741.9,-817.91C1748.19,-806.76 1755.01,-794.66 1761.34,-783.44\"/>\n<polygon fill=\"black\" stroke=\"black\" points=\"1764.43,-785.1 1766.29,-774.67 1758.33,-781.66 1764.43,-785.1\"/>\n</g>\n<!-- 80 -->\n<g id=\"node81\" class=\"node\">\n<title>80</title>\n<polygon fill=\"#399de5\" stroke=\"black\" points=\"1634.5,-655.5 1539.5,-655.5 1539.5,-587.5 1634.5,-587.5 1634.5,-655.5\"/>\n<text text-anchor=\"middle\" x=\"1587\" y=\"-640.3\" font-family=\"Helvetica,sans-Serif\" font-size=\"14.00\">gini = 0.0</text>\n<text text-anchor=\"middle\" x=\"1587\" y=\"-625.3\" font-family=\"Helvetica,sans-Serif\" font-size=\"14.00\">samples = 2</text>\n<text text-anchor=\"middle\" x=\"1587\" y=\"-610.3\" font-family=\"Helvetica,sans-Serif\" font-size=\"14.00\">value = [0, 2]</text>\n<text text-anchor=\"middle\" x=\"1587\" y=\"-595.3\" font-family=\"Helvetica,sans-Serif\" font-size=\"14.00\">class = 이탈</text>\n</g>\n<!-- 79&#45;&gt;80 -->\n<g id=\"edge80\" class=\"edge\">\n<title>79&#45;&gt;80</title>\n<path fill=\"none\" stroke=\"black\" d=\"M1630.75,-698.91C1624.37,-687.76 1617.44,-675.66 1611.02,-664.44\"/>\n<polygon fill=\"black\" stroke=\"black\" points=\"1614,-662.61 1605.99,-655.67 1607.93,-666.08 1614,-662.61\"/>\n</g>\n<!-- 81 -->\n<g id=\"node82\" class=\"node\">\n<title>81</title>\n<polygon fill=\"#fae6d7\" stroke=\"black\" points=\"1789,-663 1653,-663 1653,-580 1789,-580 1789,-663\"/>\n<text text-anchor=\"middle\" x=\"1721\" y=\"-647.8\" font-family=\"Helvetica,sans-Serif\" font-size=\"14.00\">거래기간 &lt;= &#45;1.682</text>\n<text text-anchor=\"middle\" x=\"1721\" y=\"-632.8\" font-family=\"Helvetica,sans-Serif\" font-size=\"14.00\">gini = 0.494</text>\n<text text-anchor=\"middle\" x=\"1721\" y=\"-617.8\" font-family=\"Helvetica,sans-Serif\" font-size=\"14.00\">samples = 9</text>\n<text text-anchor=\"middle\" x=\"1721\" y=\"-602.8\" font-family=\"Helvetica,sans-Serif\" font-size=\"14.00\">value = [5, 4]</text>\n<text text-anchor=\"middle\" x=\"1721\" y=\"-587.8\" font-family=\"Helvetica,sans-Serif\" font-size=\"14.00\">class = 비이탈</text>\n</g>\n<!-- 79&#45;&gt;81 -->\n<g id=\"edge81\" class=\"edge\">\n<title>79&#45;&gt;81</title>\n<path fill=\"none\" stroke=\"black\" d=\"M1677.25,-698.91C1682.23,-690.2 1687.56,-680.9 1692.71,-671.89\"/>\n<polygon fill=\"black\" stroke=\"black\" points=\"1695.86,-673.44 1697.8,-663.02 1689.79,-669.96 1695.86,-673.44\"/>\n</g>\n<!-- 82 -->\n<g id=\"node83\" class=\"node\">\n<title>82</title>\n<polygon fill=\"#e58139\" stroke=\"black\" points=\"1705,-536.5 1599,-536.5 1599,-468.5 1705,-468.5 1705,-536.5\"/>\n<text text-anchor=\"middle\" x=\"1652\" y=\"-521.3\" font-family=\"Helvetica,sans-Serif\" font-size=\"14.00\">gini = 0.0</text>\n<text text-anchor=\"middle\" x=\"1652\" y=\"-506.3\" font-family=\"Helvetica,sans-Serif\" font-size=\"14.00\">samples = 2</text>\n<text text-anchor=\"middle\" x=\"1652\" y=\"-491.3\" font-family=\"Helvetica,sans-Serif\" font-size=\"14.00\">value = [2, 0]</text>\n<text text-anchor=\"middle\" x=\"1652\" y=\"-476.3\" font-family=\"Helvetica,sans-Serif\" font-size=\"14.00\">class = 비이탈</text>\n</g>\n<!-- 81&#45;&gt;82 -->\n<g id=\"edge82\" class=\"edge\">\n<title>81&#45;&gt;82</title>\n<path fill=\"none\" stroke=\"black\" d=\"M1697.06,-579.91C1690.49,-568.76 1683.35,-556.66 1676.73,-545.44\"/>\n<polygon fill=\"black\" stroke=\"black\" points=\"1679.65,-543.5 1671.56,-536.67 1673.63,-547.06 1679.65,-543.5\"/>\n</g>\n<!-- 83 -->\n<g id=\"node84\" class=\"node\">\n<title>83</title>\n<polygon fill=\"#cee6f8\" stroke=\"black\" points=\"1854.5,-544 1723.5,-544 1723.5,-461 1854.5,-461 1854.5,-544\"/>\n<text text-anchor=\"middle\" x=\"1789\" y=\"-528.8\" font-family=\"Helvetica,sans-Serif\" font-size=\"14.00\">총매출액 &lt;= 0.018</text>\n<text text-anchor=\"middle\" x=\"1789\" y=\"-513.8\" font-family=\"Helvetica,sans-Serif\" font-size=\"14.00\">gini = 0.49</text>\n<text text-anchor=\"middle\" x=\"1789\" y=\"-498.8\" font-family=\"Helvetica,sans-Serif\" font-size=\"14.00\">samples = 7</text>\n<text text-anchor=\"middle\" x=\"1789\" y=\"-483.8\" font-family=\"Helvetica,sans-Serif\" font-size=\"14.00\">value = [3, 4]</text>\n<text text-anchor=\"middle\" x=\"1789\" y=\"-468.8\" font-family=\"Helvetica,sans-Serif\" font-size=\"14.00\">class = 이탈</text>\n</g>\n<!-- 81&#45;&gt;83 -->\n<g id=\"edge83\" class=\"edge\">\n<title>81&#45;&gt;83</title>\n<path fill=\"none\" stroke=\"black\" d=\"M1744.59,-579.91C1749.66,-571.2 1755.06,-561.9 1760.29,-552.89\"/>\n<polygon fill=\"black\" stroke=\"black\" points=\"1763.45,-554.43 1765.45,-544.02 1757.4,-550.91 1763.45,-554.43\"/>\n</g>\n<!-- 84 -->\n<g id=\"node85\" class=\"node\">\n<title>84</title>\n<polygon fill=\"#e58139\" stroke=\"black\" points=\"1773,-417.5 1667,-417.5 1667,-349.5 1773,-349.5 1773,-417.5\"/>\n<text text-anchor=\"middle\" x=\"1720\" y=\"-402.3\" font-family=\"Helvetica,sans-Serif\" font-size=\"14.00\">gini = 0.0</text>\n<text text-anchor=\"middle\" x=\"1720\" y=\"-387.3\" font-family=\"Helvetica,sans-Serif\" font-size=\"14.00\">samples = 1</text>\n<text text-anchor=\"middle\" x=\"1720\" y=\"-372.3\" font-family=\"Helvetica,sans-Serif\" font-size=\"14.00\">value = [1, 0]</text>\n<text text-anchor=\"middle\" x=\"1720\" y=\"-357.3\" font-family=\"Helvetica,sans-Serif\" font-size=\"14.00\">class = 비이탈</text>\n</g>\n<!-- 83&#45;&gt;84 -->\n<g id=\"edge84\" class=\"edge\">\n<title>83&#45;&gt;84</title>\n<path fill=\"none\" stroke=\"black\" d=\"M1765.06,-460.91C1758.49,-449.76 1751.35,-437.66 1744.73,-426.44\"/>\n<polygon fill=\"black\" stroke=\"black\" points=\"1747.65,-424.5 1739.56,-417.67 1741.63,-428.06 1747.65,-424.5\"/>\n</g>\n<!-- 85 -->\n<g id=\"node86\" class=\"node\">\n<title>85</title>\n<polygon fill=\"#9ccef2\" stroke=\"black\" points=\"1927,-425 1791,-425 1791,-342 1927,-342 1927,-425\"/>\n<text text-anchor=\"middle\" x=\"1859\" y=\"-409.8\" font-family=\"Helvetica,sans-Serif\" font-size=\"14.00\">거래기간 &lt;= &#45;1.446</text>\n<text text-anchor=\"middle\" x=\"1859\" y=\"-394.8\" font-family=\"Helvetica,sans-Serif\" font-size=\"14.00\">gini = 0.444</text>\n<text text-anchor=\"middle\" x=\"1859\" y=\"-379.8\" font-family=\"Helvetica,sans-Serif\" font-size=\"14.00\">samples = 6</text>\n<text text-anchor=\"middle\" x=\"1859\" y=\"-364.8\" font-family=\"Helvetica,sans-Serif\" font-size=\"14.00\">value = [2, 4]</text>\n<text text-anchor=\"middle\" x=\"1859\" y=\"-349.8\" font-family=\"Helvetica,sans-Serif\" font-size=\"14.00\">class = 이탈</text>\n</g>\n<!-- 83&#45;&gt;85 -->\n<g id=\"edge85\" class=\"edge\">\n<title>83&#45;&gt;85</title>\n<path fill=\"none\" stroke=\"black\" d=\"M1813.29,-460.91C1818.55,-452.1 1824.18,-442.7 1829.62,-433.61\"/>\n<polygon fill=\"black\" stroke=\"black\" points=\"1832.63,-435.4 1834.76,-425.02 1826.62,-431.81 1832.63,-435.4\"/>\n</g>\n<!-- 86 -->\n<g id=\"node87\" class=\"node\">\n<title>86</title>\n<polygon fill=\"#6ab6ec\" stroke=\"black\" points=\"1856.5,-306 1725.5,-306 1725.5,-223 1856.5,-223 1856.5,-306\"/>\n<text text-anchor=\"middle\" x=\"1791\" y=\"-290.8\" font-family=\"Helvetica,sans-Serif\" font-size=\"14.00\">총매출액 &lt;= 0.538</text>\n<text text-anchor=\"middle\" x=\"1791\" y=\"-275.8\" font-family=\"Helvetica,sans-Serif\" font-size=\"14.00\">gini = 0.32</text>\n<text text-anchor=\"middle\" x=\"1791\" y=\"-260.8\" font-family=\"Helvetica,sans-Serif\" font-size=\"14.00\">samples = 5</text>\n<text text-anchor=\"middle\" x=\"1791\" y=\"-245.8\" font-family=\"Helvetica,sans-Serif\" font-size=\"14.00\">value = [1, 4]</text>\n<text text-anchor=\"middle\" x=\"1791\" y=\"-230.8\" font-family=\"Helvetica,sans-Serif\" font-size=\"14.00\">class = 이탈</text>\n</g>\n<!-- 85&#45;&gt;86 -->\n<g id=\"edge86\" class=\"edge\">\n<title>85&#45;&gt;86</title>\n<path fill=\"none\" stroke=\"black\" d=\"M1835.41,-341.91C1830.34,-333.2 1824.94,-323.9 1819.71,-314.89\"/>\n<polygon fill=\"black\" stroke=\"black\" points=\"1822.6,-312.91 1814.55,-306.02 1816.55,-316.43 1822.6,-312.91\"/>\n</g>\n<!-- 91 -->\n<g id=\"node92\" class=\"node\">\n<title>91</title>\n<polygon fill=\"#e58139\" stroke=\"black\" points=\"1981,-298.5 1875,-298.5 1875,-230.5 1981,-230.5 1981,-298.5\"/>\n<text text-anchor=\"middle\" x=\"1928\" y=\"-283.3\" font-family=\"Helvetica,sans-Serif\" font-size=\"14.00\">gini = 0.0</text>\n<text text-anchor=\"middle\" x=\"1928\" y=\"-268.3\" font-family=\"Helvetica,sans-Serif\" font-size=\"14.00\">samples = 1</text>\n<text text-anchor=\"middle\" x=\"1928\" y=\"-253.3\" font-family=\"Helvetica,sans-Serif\" font-size=\"14.00\">value = [1, 0]</text>\n<text text-anchor=\"middle\" x=\"1928\" y=\"-238.3\" font-family=\"Helvetica,sans-Serif\" font-size=\"14.00\">class = 비이탈</text>\n</g>\n<!-- 85&#45;&gt;91 -->\n<g id=\"edge91\" class=\"edge\">\n<title>85&#45;&gt;91</title>\n<path fill=\"none\" stroke=\"black\" d=\"M1882.94,-341.91C1889.51,-330.76 1896.65,-318.66 1903.27,-307.44\"/>\n<polygon fill=\"black\" stroke=\"black\" points=\"1906.37,-309.06 1908.44,-298.67 1900.35,-305.5 1906.37,-309.06\"/>\n</g>\n<!-- 87 -->\n<g id=\"node88\" class=\"node\">\n<title>87</title>\n<polygon fill=\"#399de5\" stroke=\"black\" points=\"1771.5,-179.5 1676.5,-179.5 1676.5,-111.5 1771.5,-111.5 1771.5,-179.5\"/>\n<text text-anchor=\"middle\" x=\"1724\" y=\"-164.3\" font-family=\"Helvetica,sans-Serif\" font-size=\"14.00\">gini = 0.0</text>\n<text text-anchor=\"middle\" x=\"1724\" y=\"-149.3\" font-family=\"Helvetica,sans-Serif\" font-size=\"14.00\">samples = 3</text>\n<text text-anchor=\"middle\" x=\"1724\" y=\"-134.3\" font-family=\"Helvetica,sans-Serif\" font-size=\"14.00\">value = [0, 3]</text>\n<text text-anchor=\"middle\" x=\"1724\" y=\"-119.3\" font-family=\"Helvetica,sans-Serif\" font-size=\"14.00\">class = 이탈</text>\n</g>\n<!-- 86&#45;&gt;87 -->\n<g id=\"edge87\" class=\"edge\">\n<title>86&#45;&gt;87</title>\n<path fill=\"none\" stroke=\"black\" d=\"M1767.75,-222.91C1761.37,-211.76 1754.44,-199.66 1748.02,-188.44\"/>\n<polygon fill=\"black\" stroke=\"black\" points=\"1751,-186.61 1742.99,-179.67 1744.93,-190.08 1751,-186.61\"/>\n</g>\n<!-- 88 -->\n<g id=\"node89\" class=\"node\">\n<title>88</title>\n<polygon fill=\"#ffffff\" stroke=\"black\" points=\"1926,-187 1790,-187 1790,-104 1926,-104 1926,-187\"/>\n<text text-anchor=\"middle\" x=\"1858\" y=\"-171.8\" font-family=\"Helvetica,sans-Serif\" font-size=\"14.00\">거래기간 &lt;= &#45;1.547</text>\n<text text-anchor=\"middle\" x=\"1858\" y=\"-156.8\" font-family=\"Helvetica,sans-Serif\" font-size=\"14.00\">gini = 0.5</text>\n<text text-anchor=\"middle\" x=\"1858\" y=\"-141.8\" font-family=\"Helvetica,sans-Serif\" font-size=\"14.00\">samples = 2</text>\n<text text-anchor=\"middle\" x=\"1858\" y=\"-126.8\" font-family=\"Helvetica,sans-Serif\" font-size=\"14.00\">value = [1, 1]</text>\n<text text-anchor=\"middle\" x=\"1858\" y=\"-111.8\" font-family=\"Helvetica,sans-Serif\" font-size=\"14.00\">class = 비이탈</text>\n</g>\n<!-- 86&#45;&gt;88 -->\n<g id=\"edge88\" class=\"edge\">\n<title>86&#45;&gt;88</title>\n<path fill=\"none\" stroke=\"black\" d=\"M1814.25,-222.91C1819.23,-214.2 1824.56,-204.9 1829.71,-195.89\"/>\n<polygon fill=\"black\" stroke=\"black\" points=\"1832.86,-197.44 1834.8,-187.02 1826.79,-193.96 1832.86,-197.44\"/>\n</g>\n<!-- 89 -->\n<g id=\"node90\" class=\"node\">\n<title>89</title>\n<polygon fill=\"#e58139\" stroke=\"black\" points=\"1851,-68 1745,-68 1745,0 1851,0 1851,-68\"/>\n<text text-anchor=\"middle\" x=\"1798\" y=\"-52.8\" font-family=\"Helvetica,sans-Serif\" font-size=\"14.00\">gini = 0.0</text>\n<text text-anchor=\"middle\" x=\"1798\" y=\"-37.8\" font-family=\"Helvetica,sans-Serif\" font-size=\"14.00\">samples = 1</text>\n<text text-anchor=\"middle\" x=\"1798\" y=\"-22.8\" font-family=\"Helvetica,sans-Serif\" font-size=\"14.00\">value = [1, 0]</text>\n<text text-anchor=\"middle\" x=\"1798\" y=\"-7.8\" font-family=\"Helvetica,sans-Serif\" font-size=\"14.00\">class = 비이탈</text>\n</g>\n<!-- 88&#45;&gt;89 -->\n<g id=\"edge89\" class=\"edge\">\n<title>88&#45;&gt;89</title>\n<path fill=\"none\" stroke=\"black\" d=\"M1835.66,-103.73C1830.91,-95.06 1825.89,-85.9 1821.11,-77.18\"/>\n<polygon fill=\"black\" stroke=\"black\" points=\"1824.12,-75.39 1816.25,-68.3 1817.98,-78.75 1824.12,-75.39\"/>\n</g>\n<!-- 90 -->\n<g id=\"node91\" class=\"node\">\n<title>90</title>\n<polygon fill=\"#399de5\" stroke=\"black\" points=\"1964.5,-68 1869.5,-68 1869.5,0 1964.5,0 1964.5,-68\"/>\n<text text-anchor=\"middle\" x=\"1917\" y=\"-52.8\" font-family=\"Helvetica,sans-Serif\" font-size=\"14.00\">gini = 0.0</text>\n<text text-anchor=\"middle\" x=\"1917\" y=\"-37.8\" font-family=\"Helvetica,sans-Serif\" font-size=\"14.00\">samples = 1</text>\n<text text-anchor=\"middle\" x=\"1917\" y=\"-22.8\" font-family=\"Helvetica,sans-Serif\" font-size=\"14.00\">value = [0, 1]</text>\n<text text-anchor=\"middle\" x=\"1917\" y=\"-7.8\" font-family=\"Helvetica,sans-Serif\" font-size=\"14.00\">class = 이탈</text>\n</g>\n<!-- 88&#45;&gt;90 -->\n<g id=\"edge90\" class=\"edge\">\n<title>88&#45;&gt;90</title>\n<path fill=\"none\" stroke=\"black\" d=\"M1879.97,-103.73C1884.64,-95.06 1889.58,-85.9 1894.27,-77.18\"/>\n<polygon fill=\"black\" stroke=\"black\" points=\"1897.4,-78.76 1899.06,-68.3 1891.23,-75.44 1897.4,-78.76\"/>\n</g>\n<!-- 96 -->\n<g id=\"node97\" class=\"node\">\n<title>96</title>\n<polygon fill=\"#f6d5bd\" stroke=\"black\" points=\"1923.5,-1258 1802.5,-1258 1802.5,-1175 1923.5,-1175 1923.5,-1258\"/>\n<text text-anchor=\"middle\" x=\"1863\" y=\"-1242.8\" font-family=\"Helvetica,sans-Serif\" font-size=\"14.00\">총매출액 &lt;= &#45;0.6</text>\n<text text-anchor=\"middle\" x=\"1863\" y=\"-1227.8\" font-family=\"Helvetica,sans-Serif\" font-size=\"14.00\">gini = 0.48</text>\n<text text-anchor=\"middle\" x=\"1863\" y=\"-1212.8\" font-family=\"Helvetica,sans-Serif\" font-size=\"14.00\">samples = 10</text>\n<text text-anchor=\"middle\" x=\"1863\" y=\"-1197.8\" font-family=\"Helvetica,sans-Serif\" font-size=\"14.00\">value = [6, 4]</text>\n<text text-anchor=\"middle\" x=\"1863\" y=\"-1182.8\" font-family=\"Helvetica,sans-Serif\" font-size=\"14.00\">class = 비이탈</text>\n</g>\n<!-- 95&#45;&gt;96 -->\n<g id=\"edge96\" class=\"edge\">\n<title>95&#45;&gt;96</title>\n<path fill=\"none\" stroke=\"black\" d=\"M1881.29,-1293.91C1879.29,-1285.56 1877.16,-1276.67 1875.09,-1268.02\"/>\n<polygon fill=\"black\" stroke=\"black\" points=\"1878.43,-1266.93 1872.7,-1258.02 1871.62,-1268.56 1878.43,-1266.93\"/>\n</g>\n<!-- 99 -->\n<g id=\"node100\" class=\"node\">\n<title>99</title>\n<polygon fill=\"#e78945\" stroke=\"black\" points=\"2078,-1258 1942,-1258 1942,-1175 2078,-1175 2078,-1258\"/>\n<text text-anchor=\"middle\" x=\"2010\" y=\"-1242.8\" font-family=\"Helvetica,sans-Serif\" font-size=\"14.00\">거래기간 &lt;= &#45;0.607</text>\n<text text-anchor=\"middle\" x=\"2010\" y=\"-1227.8\" font-family=\"Helvetica,sans-Serif\" font-size=\"14.00\">gini = 0.108</text>\n<text text-anchor=\"middle\" x=\"2010\" y=\"-1212.8\" font-family=\"Helvetica,sans-Serif\" font-size=\"14.00\">samples = 70</text>\n<text text-anchor=\"middle\" x=\"2010\" y=\"-1197.8\" font-family=\"Helvetica,sans-Serif\" font-size=\"14.00\">value = [66, 4]</text>\n<text text-anchor=\"middle\" x=\"2010\" y=\"-1182.8\" font-family=\"Helvetica,sans-Serif\" font-size=\"14.00\">class = 비이탈</text>\n</g>\n<!-- 95&#45;&gt;99 -->\n<g id=\"edge99\" class=\"edge\">\n<title>95&#45;&gt;99</title>\n<path fill=\"none\" stroke=\"black\" d=\"M1932.29,-1293.91C1941.7,-1284.65 1951.79,-1274.73 1961.48,-1265.21\"/>\n<polygon fill=\"black\" stroke=\"black\" points=\"1964.11,-1267.53 1968.79,-1258.02 1959.2,-1262.54 1964.11,-1267.53\"/>\n</g>\n<!-- 97 -->\n<g id=\"node98\" class=\"node\">\n<title>97</title>\n<polygon fill=\"#e58139\" stroke=\"black\" points=\"1797,-1131.5 1691,-1131.5 1691,-1063.5 1797,-1063.5 1797,-1131.5\"/>\n<text text-anchor=\"middle\" x=\"1744\" y=\"-1116.3\" font-family=\"Helvetica,sans-Serif\" font-size=\"14.00\">gini = 0.0</text>\n<text text-anchor=\"middle\" x=\"1744\" y=\"-1101.3\" font-family=\"Helvetica,sans-Serif\" font-size=\"14.00\">samples = 6</text>\n<text text-anchor=\"middle\" x=\"1744\" y=\"-1086.3\" font-family=\"Helvetica,sans-Serif\" font-size=\"14.00\">value = [6, 0]</text>\n<text text-anchor=\"middle\" x=\"1744\" y=\"-1071.3\" font-family=\"Helvetica,sans-Serif\" font-size=\"14.00\">class = 비이탈</text>\n</g>\n<!-- 96&#45;&gt;97 -->\n<g id=\"edge97\" class=\"edge\">\n<title>96&#45;&gt;97</title>\n<path fill=\"none\" stroke=\"black\" d=\"M1821.71,-1174.91C1809.82,-1163.21 1796.85,-1150.46 1784.97,-1138.78\"/>\n<polygon fill=\"black\" stroke=\"black\" points=\"1787.32,-1136.18 1777.73,-1131.67 1782.41,-1141.17 1787.32,-1136.18\"/>\n</g>\n<!-- 98 -->\n<g id=\"node99\" class=\"node\">\n<title>98</title>\n<polygon fill=\"#399de5\" stroke=\"black\" points=\"1910.5,-1131.5 1815.5,-1131.5 1815.5,-1063.5 1910.5,-1063.5 1910.5,-1131.5\"/>\n<text text-anchor=\"middle\" x=\"1863\" y=\"-1116.3\" font-family=\"Helvetica,sans-Serif\" font-size=\"14.00\">gini = 0.0</text>\n<text text-anchor=\"middle\" x=\"1863\" y=\"-1101.3\" font-family=\"Helvetica,sans-Serif\" font-size=\"14.00\">samples = 4</text>\n<text text-anchor=\"middle\" x=\"1863\" y=\"-1086.3\" font-family=\"Helvetica,sans-Serif\" font-size=\"14.00\">value = [0, 4]</text>\n<text text-anchor=\"middle\" x=\"1863\" y=\"-1071.3\" font-family=\"Helvetica,sans-Serif\" font-size=\"14.00\">class = 이탈</text>\n</g>\n<!-- 96&#45;&gt;98 -->\n<g id=\"edge98\" class=\"edge\">\n<title>96&#45;&gt;98</title>\n<path fill=\"none\" stroke=\"black\" d=\"M1863,-1174.91C1863,-1164.2 1863,-1152.62 1863,-1141.78\"/>\n<polygon fill=\"black\" stroke=\"black\" points=\"1866.5,-1141.67 1863,-1131.67 1859.5,-1141.67 1866.5,-1141.67\"/>\n</g>\n<!-- 100 -->\n<g id=\"node101\" class=\"node\">\n<title>100</title>\n<polygon fill=\"#e6843d\" stroke=\"black\" points=\"2065,-1139 1929,-1139 1929,-1056 2065,-1056 2065,-1139\"/>\n<text text-anchor=\"middle\" x=\"1997\" y=\"-1123.8\" font-family=\"Helvetica,sans-Serif\" font-size=\"14.00\">총매출액 &lt;= &#45;0.409</text>\n<text text-anchor=\"middle\" x=\"1997\" y=\"-1108.8\" font-family=\"Helvetica,sans-Serif\" font-size=\"14.00\">gini = 0.042</text>\n<text text-anchor=\"middle\" x=\"1997\" y=\"-1093.8\" font-family=\"Helvetica,sans-Serif\" font-size=\"14.00\">samples = 47</text>\n<text text-anchor=\"middle\" x=\"1997\" y=\"-1078.8\" font-family=\"Helvetica,sans-Serif\" font-size=\"14.00\">value = [46, 1]</text>\n<text text-anchor=\"middle\" x=\"1997\" y=\"-1063.8\" font-family=\"Helvetica,sans-Serif\" font-size=\"14.00\">class = 비이탈</text>\n</g>\n<!-- 99&#45;&gt;100 -->\n<g id=\"edge100\" class=\"edge\">\n<title>99&#45;&gt;100</title>\n<path fill=\"none\" stroke=\"black\" d=\"M2005.49,-1174.91C2004.56,-1166.56 2003.57,-1157.67 2002.61,-1149.02\"/>\n<polygon fill=\"black\" stroke=\"black\" points=\"2006.09,-1148.57 2001.5,-1139.02 1999.13,-1149.35 2006.09,-1148.57\"/>\n</g>\n<!-- 105 -->\n<g id=\"node106\" class=\"node\">\n<title>105</title>\n<polygon fill=\"#e99457\" stroke=\"black\" points=\"2219,-1139 2083,-1139 2083,-1056 2219,-1056 2219,-1139\"/>\n<text text-anchor=\"middle\" x=\"2151\" y=\"-1123.8\" font-family=\"Helvetica,sans-Serif\" font-size=\"14.00\">거래기간 &lt;= &#45;0.572</text>\n<text text-anchor=\"middle\" x=\"2151\" y=\"-1108.8\" font-family=\"Helvetica,sans-Serif\" font-size=\"14.00\">gini = 0.227</text>\n<text text-anchor=\"middle\" x=\"2151\" y=\"-1093.8\" font-family=\"Helvetica,sans-Serif\" font-size=\"14.00\">samples = 23</text>\n<text text-anchor=\"middle\" x=\"2151\" y=\"-1078.8\" font-family=\"Helvetica,sans-Serif\" font-size=\"14.00\">value = [20, 3]</text>\n<text text-anchor=\"middle\" x=\"2151\" y=\"-1063.8\" font-family=\"Helvetica,sans-Serif\" font-size=\"14.00\">class = 비이탈</text>\n</g>\n<!-- 99&#45;&gt;105 -->\n<g id=\"edge105\" class=\"edge\">\n<title>99&#45;&gt;105</title>\n<path fill=\"none\" stroke=\"black\" d=\"M2058.92,-1174.91C2070.29,-1165.47 2082.5,-1155.34 2094.18,-1145.65\"/>\n<polygon fill=\"black\" stroke=\"black\" points=\"2096.71,-1148.1 2102.17,-1139.02 2092.24,-1142.71 2096.71,-1148.1\"/>\n</g>\n<!-- 101 -->\n<g id=\"node102\" class=\"node\">\n<title>101</title>\n<polygon fill=\"#e99355\" stroke=\"black\" points=\"1957,-1020 1821,-1020 1821,-937 1957,-937 1957,-1020\"/>\n<text text-anchor=\"middle\" x=\"1889\" y=\"-1004.8\" font-family=\"Helvetica,sans-Serif\" font-size=\"14.00\">총매출액 &lt;= &#45;0.427</text>\n<text text-anchor=\"middle\" x=\"1889\" y=\"-989.8\" font-family=\"Helvetica,sans-Serif\" font-size=\"14.00\">gini = 0.219</text>\n<text text-anchor=\"middle\" x=\"1889\" y=\"-974.8\" font-family=\"Helvetica,sans-Serif\" font-size=\"14.00\">samples = 8</text>\n<text text-anchor=\"middle\" x=\"1889\" y=\"-959.8\" font-family=\"Helvetica,sans-Serif\" font-size=\"14.00\">value = [7, 1]</text>\n<text text-anchor=\"middle\" x=\"1889\" y=\"-944.8\" font-family=\"Helvetica,sans-Serif\" font-size=\"14.00\">class = 비이탈</text>\n</g>\n<!-- 100&#45;&gt;101 -->\n<g id=\"edge101\" class=\"edge\">\n<title>100&#45;&gt;101</title>\n<path fill=\"none\" stroke=\"black\" d=\"M1959.53,-1055.91C1951.07,-1046.74 1942.01,-1036.93 1933.3,-1027.49\"/>\n<polygon fill=\"black\" stroke=\"black\" points=\"1935.76,-1024.99 1926.4,-1020.02 1930.61,-1029.74 1935.76,-1024.99\"/>\n</g>\n<!-- 104 -->\n<g id=\"node105\" class=\"node\">\n<title>104</title>\n<polygon fill=\"#e58139\" stroke=\"black\" points=\"2081,-1012.5 1975,-1012.5 1975,-944.5 2081,-944.5 2081,-1012.5\"/>\n<text text-anchor=\"middle\" x=\"2028\" y=\"-997.3\" font-family=\"Helvetica,sans-Serif\" font-size=\"14.00\">gini = 0.0</text>\n<text text-anchor=\"middle\" x=\"2028\" y=\"-982.3\" font-family=\"Helvetica,sans-Serif\" font-size=\"14.00\">samples = 39</text>\n<text text-anchor=\"middle\" x=\"2028\" y=\"-967.3\" font-family=\"Helvetica,sans-Serif\" font-size=\"14.00\">value = [39, 0]</text>\n<text text-anchor=\"middle\" x=\"2028\" y=\"-952.3\" font-family=\"Helvetica,sans-Serif\" font-size=\"14.00\">class = 비이탈</text>\n</g>\n<!-- 100&#45;&gt;104 -->\n<g id=\"edge104\" class=\"edge\">\n<title>100&#45;&gt;104</title>\n<path fill=\"none\" stroke=\"black\" d=\"M2007.76,-1055.91C2010.62,-1045.09 2013.73,-1033.38 2016.62,-1022.44\"/>\n<polygon fill=\"black\" stroke=\"black\" points=\"2020.03,-1023.23 2019.21,-1012.67 2013.27,-1021.44 2020.03,-1023.23\"/>\n</g>\n<!-- 102 -->\n<g id=\"node103\" class=\"node\">\n<title>102</title>\n<polygon fill=\"#e58139\" stroke=\"black\" points=\"1926,-893.5 1820,-893.5 1820,-825.5 1926,-825.5 1926,-893.5\"/>\n<text text-anchor=\"middle\" x=\"1873\" y=\"-878.3\" font-family=\"Helvetica,sans-Serif\" font-size=\"14.00\">gini = 0.0</text>\n<text text-anchor=\"middle\" x=\"1873\" y=\"-863.3\" font-family=\"Helvetica,sans-Serif\" font-size=\"14.00\">samples = 7</text>\n<text text-anchor=\"middle\" x=\"1873\" y=\"-848.3\" font-family=\"Helvetica,sans-Serif\" font-size=\"14.00\">value = [7, 0]</text>\n<text text-anchor=\"middle\" x=\"1873\" y=\"-833.3\" font-family=\"Helvetica,sans-Serif\" font-size=\"14.00\">class = 비이탈</text>\n</g>\n<!-- 101&#45;&gt;102 -->\n<g id=\"edge102\" class=\"edge\">\n<title>101&#45;&gt;102</title>\n<path fill=\"none\" stroke=\"black\" d=\"M1883.45,-936.91C1881.99,-926.2 1880.4,-914.62 1878.92,-903.78\"/>\n<polygon fill=\"black\" stroke=\"black\" points=\"1882.36,-903.1 1877.54,-893.67 1875.42,-904.05 1882.36,-903.1\"/>\n</g>\n<!-- 103 -->\n<g id=\"node104\" class=\"node\">\n<title>103</title>\n<polygon fill=\"#399de5\" stroke=\"black\" points=\"2039.5,-893.5 1944.5,-893.5 1944.5,-825.5 2039.5,-825.5 2039.5,-893.5\"/>\n<text text-anchor=\"middle\" x=\"1992\" y=\"-878.3\" font-family=\"Helvetica,sans-Serif\" font-size=\"14.00\">gini = 0.0</text>\n<text text-anchor=\"middle\" x=\"1992\" y=\"-863.3\" font-family=\"Helvetica,sans-Serif\" font-size=\"14.00\">samples = 1</text>\n<text text-anchor=\"middle\" x=\"1992\" y=\"-848.3\" font-family=\"Helvetica,sans-Serif\" font-size=\"14.00\">value = [0, 1]</text>\n<text text-anchor=\"middle\" x=\"1992\" y=\"-833.3\" font-family=\"Helvetica,sans-Serif\" font-size=\"14.00\">class = 이탈</text>\n</g>\n<!-- 101&#45;&gt;103 -->\n<g id=\"edge103\" class=\"edge\">\n<title>101&#45;&gt;103</title>\n<path fill=\"none\" stroke=\"black\" d=\"M1924.74,-936.91C1934.84,-925.43 1945.84,-912.94 1955.96,-901.44\"/>\n<polygon fill=\"black\" stroke=\"black\" points=\"1958.82,-903.49 1962.8,-893.67 1953.57,-898.86 1958.82,-903.49\"/>\n</g>\n<!-- 106 -->\n<g id=\"node107\" class=\"node\">\n<title>106</title>\n<polygon fill=\"#399de5\" stroke=\"black\" points=\"2196.5,-1012.5 2101.5,-1012.5 2101.5,-944.5 2196.5,-944.5 2196.5,-1012.5\"/>\n<text text-anchor=\"middle\" x=\"2149\" y=\"-997.3\" font-family=\"Helvetica,sans-Serif\" font-size=\"14.00\">gini = 0.0</text>\n<text text-anchor=\"middle\" x=\"2149\" y=\"-982.3\" font-family=\"Helvetica,sans-Serif\" font-size=\"14.00\">samples = 2</text>\n<text text-anchor=\"middle\" x=\"2149\" y=\"-967.3\" font-family=\"Helvetica,sans-Serif\" font-size=\"14.00\">value = [0, 2]</text>\n<text text-anchor=\"middle\" x=\"2149\" y=\"-952.3\" font-family=\"Helvetica,sans-Serif\" font-size=\"14.00\">class = 이탈</text>\n</g>\n<!-- 105&#45;&gt;106 -->\n<g id=\"edge106\" class=\"edge\">\n<title>105&#45;&gt;106</title>\n<path fill=\"none\" stroke=\"black\" d=\"M2150.31,-1055.91C2150.12,-1045.2 2149.93,-1033.62 2149.74,-1022.78\"/>\n<polygon fill=\"black\" stroke=\"black\" points=\"2153.24,-1022.61 2149.57,-1012.67 2146.24,-1022.73 2153.24,-1022.61\"/>\n</g>\n<!-- 107 -->\n<g id=\"node108\" class=\"node\">\n<title>107</title>\n<polygon fill=\"#e68743\" stroke=\"black\" points=\"2351,-1020 2215,-1020 2215,-937 2351,-937 2351,-1020\"/>\n<text text-anchor=\"middle\" x=\"2283\" y=\"-1004.8\" font-family=\"Helvetica,sans-Serif\" font-size=\"14.00\">거래기간 &lt;= &#45;0.304</text>\n<text text-anchor=\"middle\" x=\"2283\" y=\"-989.8\" font-family=\"Helvetica,sans-Serif\" font-size=\"14.00\">gini = 0.091</text>\n<text text-anchor=\"middle\" x=\"2283\" y=\"-974.8\" font-family=\"Helvetica,sans-Serif\" font-size=\"14.00\">samples = 21</text>\n<text text-anchor=\"middle\" x=\"2283\" y=\"-959.8\" font-family=\"Helvetica,sans-Serif\" font-size=\"14.00\">value = [20, 1]</text>\n<text text-anchor=\"middle\" x=\"2283\" y=\"-944.8\" font-family=\"Helvetica,sans-Serif\" font-size=\"14.00\">class = 비이탈</text>\n</g>\n<!-- 105&#45;&gt;107 -->\n<g id=\"edge107\" class=\"edge\">\n<title>105&#45;&gt;107</title>\n<path fill=\"none\" stroke=\"black\" d=\"M2196.8,-1055.91C2207.34,-1046.56 2218.65,-1036.54 2229.49,-1026.93\"/>\n<polygon fill=\"black\" stroke=\"black\" points=\"2232.12,-1029.27 2237.28,-1020.02 2227.48,-1024.03 2232.12,-1029.27\"/>\n</g>\n<!-- 108 -->\n<g id=\"node109\" class=\"node\">\n<title>108</title>\n<polygon fill=\"#e58139\" stroke=\"black\" points=\"2267,-893.5 2161,-893.5 2161,-825.5 2267,-825.5 2267,-893.5\"/>\n<text text-anchor=\"middle\" x=\"2214\" y=\"-878.3\" font-family=\"Helvetica,sans-Serif\" font-size=\"14.00\">gini = 0.0</text>\n<text text-anchor=\"middle\" x=\"2214\" y=\"-863.3\" font-family=\"Helvetica,sans-Serif\" font-size=\"14.00\">samples = 14</text>\n<text text-anchor=\"middle\" x=\"2214\" y=\"-848.3\" font-family=\"Helvetica,sans-Serif\" font-size=\"14.00\">value = [14, 0]</text>\n<text text-anchor=\"middle\" x=\"2214\" y=\"-833.3\" font-family=\"Helvetica,sans-Serif\" font-size=\"14.00\">class = 비이탈</text>\n</g>\n<!-- 107&#45;&gt;108 -->\n<g id=\"edge108\" class=\"edge\">\n<title>107&#45;&gt;108</title>\n<path fill=\"none\" stroke=\"black\" d=\"M2259.06,-936.91C2252.49,-925.76 2245.35,-913.66 2238.73,-902.44\"/>\n<polygon fill=\"black\" stroke=\"black\" points=\"2241.65,-900.5 2233.56,-893.67 2235.63,-904.06 2241.65,-900.5\"/>\n</g>\n<!-- 109 -->\n<g id=\"node110\" class=\"node\">\n<title>109</title>\n<polygon fill=\"#e9965a\" stroke=\"black\" points=\"2421,-901 2285,-901 2285,-818 2421,-818 2421,-901\"/>\n<text text-anchor=\"middle\" x=\"2353\" y=\"-885.8\" font-family=\"Helvetica,sans-Serif\" font-size=\"14.00\">거래기간 &lt;= &#45;0.295</text>\n<text text-anchor=\"middle\" x=\"2353\" y=\"-870.8\" font-family=\"Helvetica,sans-Serif\" font-size=\"14.00\">gini = 0.245</text>\n<text text-anchor=\"middle\" x=\"2353\" y=\"-855.8\" font-family=\"Helvetica,sans-Serif\" font-size=\"14.00\">samples = 7</text>\n<text text-anchor=\"middle\" x=\"2353\" y=\"-840.8\" font-family=\"Helvetica,sans-Serif\" font-size=\"14.00\">value = [6, 1]</text>\n<text text-anchor=\"middle\" x=\"2353\" y=\"-825.8\" font-family=\"Helvetica,sans-Serif\" font-size=\"14.00\">class = 비이탈</text>\n</g>\n<!-- 107&#45;&gt;109 -->\n<g id=\"edge109\" class=\"edge\">\n<title>107&#45;&gt;109</title>\n<path fill=\"none\" stroke=\"black\" d=\"M2307.29,-936.91C2312.55,-928.1 2318.18,-918.7 2323.62,-909.61\"/>\n<polygon fill=\"black\" stroke=\"black\" points=\"2326.63,-911.4 2328.76,-901.02 2320.62,-907.81 2326.63,-911.4\"/>\n</g>\n<!-- 110 -->\n<g id=\"node111\" class=\"node\">\n<title>110</title>\n<polygon fill=\"#399de5\" stroke=\"black\" points=\"2340.5,-774.5 2245.5,-774.5 2245.5,-706.5 2340.5,-706.5 2340.5,-774.5\"/>\n<text text-anchor=\"middle\" x=\"2293\" y=\"-759.3\" font-family=\"Helvetica,sans-Serif\" font-size=\"14.00\">gini = 0.0</text>\n<text text-anchor=\"middle\" x=\"2293\" y=\"-744.3\" font-family=\"Helvetica,sans-Serif\" font-size=\"14.00\">samples = 1</text>\n<text text-anchor=\"middle\" x=\"2293\" y=\"-729.3\" font-family=\"Helvetica,sans-Serif\" font-size=\"14.00\">value = [0, 1]</text>\n<text text-anchor=\"middle\" x=\"2293\" y=\"-714.3\" font-family=\"Helvetica,sans-Serif\" font-size=\"14.00\">class = 이탈</text>\n</g>\n<!-- 109&#45;&gt;110 -->\n<g id=\"edge110\" class=\"edge\">\n<title>109&#45;&gt;110</title>\n<path fill=\"none\" stroke=\"black\" d=\"M2332.18,-817.91C2326.52,-806.87 2320.38,-794.9 2314.68,-783.77\"/>\n<polygon fill=\"black\" stroke=\"black\" points=\"2317.69,-781.97 2310.01,-774.67 2311.46,-785.16 2317.69,-781.97\"/>\n</g>\n<!-- 111 -->\n<g id=\"node112\" class=\"node\">\n<title>111</title>\n<polygon fill=\"#e58139\" stroke=\"black\" points=\"2465,-774.5 2359,-774.5 2359,-706.5 2465,-706.5 2465,-774.5\"/>\n<text text-anchor=\"middle\" x=\"2412\" y=\"-759.3\" font-family=\"Helvetica,sans-Serif\" font-size=\"14.00\">gini = 0.0</text>\n<text text-anchor=\"middle\" x=\"2412\" y=\"-744.3\" font-family=\"Helvetica,sans-Serif\" font-size=\"14.00\">samples = 6</text>\n<text text-anchor=\"middle\" x=\"2412\" y=\"-729.3\" font-family=\"Helvetica,sans-Serif\" font-size=\"14.00\">value = [6, 0]</text>\n<text text-anchor=\"middle\" x=\"2412\" y=\"-714.3\" font-family=\"Helvetica,sans-Serif\" font-size=\"14.00\">class = 비이탈</text>\n</g>\n<!-- 109&#45;&gt;111 -->\n<g id=\"edge111\" class=\"edge\">\n<title>109&#45;&gt;111</title>\n<path fill=\"none\" stroke=\"black\" d=\"M2373.47,-817.91C2379.03,-806.87 2385.07,-794.9 2390.68,-783.77\"/>\n<polygon fill=\"black\" stroke=\"black\" points=\"2393.9,-785.17 2395.27,-774.67 2387.65,-782.02 2393.9,-785.17\"/>\n</g>\n<!-- 113 -->\n<g id=\"node114\" class=\"node\">\n<title>113</title>\n<polygon fill=\"#399de5\" stroke=\"black\" points=\"2139.5,-1369.5 2044.5,-1369.5 2044.5,-1301.5 2139.5,-1301.5 2139.5,-1369.5\"/>\n<text text-anchor=\"middle\" x=\"2092\" y=\"-1354.3\" font-family=\"Helvetica,sans-Serif\" font-size=\"14.00\">gini = 0.0</text>\n<text text-anchor=\"middle\" x=\"2092\" y=\"-1339.3\" font-family=\"Helvetica,sans-Serif\" font-size=\"14.00\">samples = 7</text>\n<text text-anchor=\"middle\" x=\"2092\" y=\"-1324.3\" font-family=\"Helvetica,sans-Serif\" font-size=\"14.00\">value = [0, 7]</text>\n<text text-anchor=\"middle\" x=\"2092\" y=\"-1309.3\" font-family=\"Helvetica,sans-Serif\" font-size=\"14.00\">class = 이탈</text>\n</g>\n<!-- 112&#45;&gt;113 -->\n<g id=\"edge113\" class=\"edge\">\n<title>112&#45;&gt;113</title>\n<path fill=\"none\" stroke=\"black\" d=\"M2092,-1412.91C2092,-1402.2 2092,-1390.62 2092,-1379.78\"/>\n<polygon fill=\"black\" stroke=\"black\" points=\"2095.5,-1379.67 2092,-1369.67 2088.5,-1379.67 2095.5,-1379.67\"/>\n</g>\n<!-- 114 -->\n<g id=\"node115\" class=\"node\">\n<title>114</title>\n<polygon fill=\"#f1b991\" stroke=\"black\" points=\"2345.5,-1377 2214.5,-1377 2214.5,-1294 2345.5,-1294 2345.5,-1377\"/>\n<text text-anchor=\"middle\" x=\"2280\" y=\"-1361.8\" font-family=\"Helvetica,sans-Serif\" font-size=\"14.00\">방문빈도 &lt;= 0.091</text>\n<text text-anchor=\"middle\" x=\"2280\" y=\"-1346.8\" font-family=\"Helvetica,sans-Serif\" font-size=\"14.00\">gini = 0.426</text>\n<text text-anchor=\"middle\" x=\"2280\" y=\"-1331.8\" font-family=\"Helvetica,sans-Serif\" font-size=\"14.00\">samples = 13</text>\n<text text-anchor=\"middle\" x=\"2280\" y=\"-1316.8\" font-family=\"Helvetica,sans-Serif\" font-size=\"14.00\">value = [9, 4]</text>\n<text text-anchor=\"middle\" x=\"2280\" y=\"-1301.8\" font-family=\"Helvetica,sans-Serif\" font-size=\"14.00\">class = 비이탈</text>\n</g>\n<!-- 112&#45;&gt;114 -->\n<g id=\"edge114\" class=\"edge\">\n<title>112&#45;&gt;114</title>\n<path fill=\"none\" stroke=\"black\" d=\"M2157.23,-1412.91C2172.97,-1403.11 2189.92,-1392.56 2206.03,-1382.53\"/>\n<polygon fill=\"black\" stroke=\"black\" points=\"2208.25,-1385.28 2214.89,-1377.02 2204.55,-1379.33 2208.25,-1385.28\"/>\n</g>\n<!-- 115 -->\n<g id=\"node116\" class=\"node\">\n<title>115</title>\n<polygon fill=\"#cee6f8\" stroke=\"black\" points=\"2348,-1258 2212,-1258 2212,-1175 2348,-1175 2348,-1258\"/>\n<text text-anchor=\"middle\" x=\"2280\" y=\"-1242.8\" font-family=\"Helvetica,sans-Serif\" font-size=\"14.00\">거래기간 &lt;= &#45;0.132</text>\n<text text-anchor=\"middle\" x=\"2280\" y=\"-1227.8\" font-family=\"Helvetica,sans-Serif\" font-size=\"14.00\">gini = 0.49</text>\n<text text-anchor=\"middle\" x=\"2280\" y=\"-1212.8\" font-family=\"Helvetica,sans-Serif\" font-size=\"14.00\">samples = 7</text>\n<text text-anchor=\"middle\" x=\"2280\" y=\"-1197.8\" font-family=\"Helvetica,sans-Serif\" font-size=\"14.00\">value = [3, 4]</text>\n<text text-anchor=\"middle\" x=\"2280\" y=\"-1182.8\" font-family=\"Helvetica,sans-Serif\" font-size=\"14.00\">class = 이탈</text>\n</g>\n<!-- 114&#45;&gt;115 -->\n<g id=\"edge115\" class=\"edge\">\n<title>114&#45;&gt;115</title>\n<path fill=\"none\" stroke=\"black\" d=\"M2280,-1293.91C2280,-1285.65 2280,-1276.86 2280,-1268.3\"/>\n<polygon fill=\"black\" stroke=\"black\" points=\"2283.5,-1268.02 2280,-1258.02 2276.5,-1268.02 2283.5,-1268.02\"/>\n</g>\n<!-- 118 -->\n<g id=\"node119\" class=\"node\">\n<title>118</title>\n<polygon fill=\"#e58139\" stroke=\"black\" points=\"2472,-1250.5 2366,-1250.5 2366,-1182.5 2472,-1182.5 2472,-1250.5\"/>\n<text text-anchor=\"middle\" x=\"2419\" y=\"-1235.3\" font-family=\"Helvetica,sans-Serif\" font-size=\"14.00\">gini = 0.0</text>\n<text text-anchor=\"middle\" x=\"2419\" y=\"-1220.3\" font-family=\"Helvetica,sans-Serif\" font-size=\"14.00\">samples = 6</text>\n<text text-anchor=\"middle\" x=\"2419\" y=\"-1205.3\" font-family=\"Helvetica,sans-Serif\" font-size=\"14.00\">value = [6, 0]</text>\n<text text-anchor=\"middle\" x=\"2419\" y=\"-1190.3\" font-family=\"Helvetica,sans-Serif\" font-size=\"14.00\">class = 비이탈</text>\n</g>\n<!-- 114&#45;&gt;118 -->\n<g id=\"edge118\" class=\"edge\">\n<title>114&#45;&gt;118</title>\n<path fill=\"none\" stroke=\"black\" d=\"M2328.23,-1293.91C2342.38,-1281.99 2357.85,-1268.98 2371.93,-1257.12\"/>\n<polygon fill=\"black\" stroke=\"black\" points=\"2374.2,-1259.78 2379.6,-1250.67 2369.69,-1254.43 2374.2,-1259.78\"/>\n</g>\n<!-- 116 -->\n<g id=\"node117\" class=\"node\">\n<title>116</title>\n<polygon fill=\"#399de5\" stroke=\"black\" points=\"2332.5,-1131.5 2237.5,-1131.5 2237.5,-1063.5 2332.5,-1063.5 2332.5,-1131.5\"/>\n<text text-anchor=\"middle\" x=\"2285\" y=\"-1116.3\" font-family=\"Helvetica,sans-Serif\" font-size=\"14.00\">gini = 0.0</text>\n<text text-anchor=\"middle\" x=\"2285\" y=\"-1101.3\" font-family=\"Helvetica,sans-Serif\" font-size=\"14.00\">samples = 4</text>\n<text text-anchor=\"middle\" x=\"2285\" y=\"-1086.3\" font-family=\"Helvetica,sans-Serif\" font-size=\"14.00\">value = [0, 4]</text>\n<text text-anchor=\"middle\" x=\"2285\" y=\"-1071.3\" font-family=\"Helvetica,sans-Serif\" font-size=\"14.00\">class = 이탈</text>\n</g>\n<!-- 115&#45;&gt;116 -->\n<g id=\"edge116\" class=\"edge\">\n<title>115&#45;&gt;116</title>\n<path fill=\"none\" stroke=\"black\" d=\"M2281.73,-1174.91C2282.19,-1164.2 2282.69,-1152.62 2283.15,-1141.78\"/>\n<polygon fill=\"black\" stroke=\"black\" points=\"2286.65,-1141.81 2283.58,-1131.67 2279.66,-1141.51 2286.65,-1141.81\"/>\n</g>\n<!-- 117 -->\n<g id=\"node118\" class=\"node\">\n<title>117</title>\n<polygon fill=\"#e58139\" stroke=\"black\" points=\"2457,-1131.5 2351,-1131.5 2351,-1063.5 2457,-1063.5 2457,-1131.5\"/>\n<text text-anchor=\"middle\" x=\"2404\" y=\"-1116.3\" font-family=\"Helvetica,sans-Serif\" font-size=\"14.00\">gini = 0.0</text>\n<text text-anchor=\"middle\" x=\"2404\" y=\"-1101.3\" font-family=\"Helvetica,sans-Serif\" font-size=\"14.00\">samples = 3</text>\n<text text-anchor=\"middle\" x=\"2404\" y=\"-1086.3\" font-family=\"Helvetica,sans-Serif\" font-size=\"14.00\">value = [3, 0]</text>\n<text text-anchor=\"middle\" x=\"2404\" y=\"-1071.3\" font-family=\"Helvetica,sans-Serif\" font-size=\"14.00\">class = 비이탈</text>\n</g>\n<!-- 115&#45;&gt;117 -->\n<g id=\"edge117\" class=\"edge\">\n<title>115&#45;&gt;117</title>\n<path fill=\"none\" stroke=\"black\" d=\"M2323.02,-1174.91C2335.42,-1163.21 2348.93,-1150.46 2361.31,-1138.78\"/>\n<polygon fill=\"black\" stroke=\"black\" points=\"2363.98,-1141.08 2368.85,-1131.67 2359.17,-1135.98 2363.98,-1141.08\"/>\n</g>\n<!-- 120 -->\n<g id=\"node121\" class=\"node\">\n<title>120</title>\n<polygon fill=\"#78bced\" stroke=\"black\" points=\"3118.5,-1734 2987.5,-1734 2987.5,-1651 3118.5,-1651 3118.5,-1734\"/>\n<text text-anchor=\"middle\" x=\"3053\" y=\"-1718.8\" font-family=\"Helvetica,sans-Serif\" font-size=\"14.00\">거래기간 &lt;= 0.123</text>\n<text text-anchor=\"middle\" x=\"3053\" y=\"-1703.8\" font-family=\"Helvetica,sans-Serif\" font-size=\"14.00\">gini = 0.365</text>\n<text text-anchor=\"middle\" x=\"3053\" y=\"-1688.8\" font-family=\"Helvetica,sans-Serif\" font-size=\"14.00\">samples = 50</text>\n<text text-anchor=\"middle\" x=\"3053\" y=\"-1673.8\" font-family=\"Helvetica,sans-Serif\" font-size=\"14.00\">value = [12, 38]</text>\n<text text-anchor=\"middle\" x=\"3053\" y=\"-1658.8\" font-family=\"Helvetica,sans-Serif\" font-size=\"14.00\">class = 이탈</text>\n</g>\n<!-- 119&#45;&gt;120 -->\n<g id=\"edge120\" class=\"edge\">\n<title>119&#45;&gt;120</title>\n<path fill=\"none\" stroke=\"black\" d=\"M3122.88,-1769.91C3114.49,-1760.74 3105.52,-1750.93 3096.89,-1741.49\"/>\n<polygon fill=\"black\" stroke=\"black\" points=\"3099.39,-1739.04 3090.06,-1734.02 3094.22,-1743.76 3099.39,-1739.04\"/>\n</g>\n<!-- 147 -->\n<g id=\"node148\" class=\"node\">\n<title>147</title>\n<polygon fill=\"#48a4e7\" stroke=\"black\" points=\"3335,-1734 3199,-1734 3199,-1651 3335,-1651 3335,-1734\"/>\n<text text-anchor=\"middle\" x=\"3267\" y=\"-1718.8\" font-family=\"Helvetica,sans-Serif\" font-size=\"14.00\">방문빈도 &lt;= &#45;0.574</text>\n<text text-anchor=\"middle\" x=\"3267\" y=\"-1703.8\" font-family=\"Helvetica,sans-Serif\" font-size=\"14.00\">gini = 0.127</text>\n<text text-anchor=\"middle\" x=\"3267\" y=\"-1688.8\" font-family=\"Helvetica,sans-Serif\" font-size=\"14.00\">samples = 293</text>\n<text text-anchor=\"middle\" x=\"3267\" y=\"-1673.8\" font-family=\"Helvetica,sans-Serif\" font-size=\"14.00\">value = [20, 273]</text>\n<text text-anchor=\"middle\" x=\"3267\" y=\"-1658.8\" font-family=\"Helvetica,sans-Serif\" font-size=\"14.00\">class = 이탈</text>\n</g>\n<!-- 119&#45;&gt;147 -->\n<g id=\"edge147\" class=\"edge\">\n<title>119&#45;&gt;147</title>\n<path fill=\"none\" stroke=\"black\" d=\"M3197.12,-1769.91C3205.51,-1760.74 3214.48,-1750.93 3223.11,-1741.49\"/>\n<polygon fill=\"black\" stroke=\"black\" points=\"3225.78,-1743.76 3229.94,-1734.02 3220.61,-1739.04 3225.78,-1743.76\"/>\n</g>\n<!-- 121 -->\n<g id=\"node122\" class=\"node\">\n<title>121</title>\n<polygon fill=\"#66b3eb\" stroke=\"black\" points=\"2877,-1615 2749,-1615 2749,-1532 2877,-1532 2877,-1615\"/>\n<text text-anchor=\"middle\" x=\"2813\" y=\"-1599.8\" font-family=\"Helvetica,sans-Serif\" font-size=\"14.00\">총매출액 &lt;= &#45;0.59</text>\n<text text-anchor=\"middle\" x=\"2813\" y=\"-1584.8\" font-family=\"Helvetica,sans-Serif\" font-size=\"14.00\">gini = 0.303</text>\n<text text-anchor=\"middle\" x=\"2813\" y=\"-1569.8\" font-family=\"Helvetica,sans-Serif\" font-size=\"14.00\">samples = 43</text>\n<text text-anchor=\"middle\" x=\"2813\" y=\"-1554.8\" font-family=\"Helvetica,sans-Serif\" font-size=\"14.00\">value = [8, 35]</text>\n<text text-anchor=\"middle\" x=\"2813\" y=\"-1539.8\" font-family=\"Helvetica,sans-Serif\" font-size=\"14.00\">class = 이탈</text>\n</g>\n<!-- 120&#45;&gt;121 -->\n<g id=\"edge121\" class=\"edge\">\n<title>120&#45;&gt;121</title>\n<path fill=\"none\" stroke=\"black\" d=\"M2987.42,-1659.53C2956.22,-1644.32 2918.79,-1626.07 2886.62,-1610.39\"/>\n<polygon fill=\"black\" stroke=\"black\" points=\"2887.78,-1607.06 2877.26,-1605.83 2884.71,-1613.35 2887.78,-1607.06\"/>\n</g>\n<!-- 138 -->\n<g id=\"node139\" class=\"node\">\n<title>138</title>\n<polygon fill=\"#f8e0ce\" stroke=\"black\" points=\"3118.5,-1615 2987.5,-1615 2987.5,-1532 3118.5,-1532 3118.5,-1615\"/>\n<text text-anchor=\"middle\" x=\"3053\" y=\"-1599.8\" font-family=\"Helvetica,sans-Serif\" font-size=\"14.00\">거래기간 &lt;= 0.125</text>\n<text text-anchor=\"middle\" x=\"3053\" y=\"-1584.8\" font-family=\"Helvetica,sans-Serif\" font-size=\"14.00\">gini = 0.49</text>\n<text text-anchor=\"middle\" x=\"3053\" y=\"-1569.8\" font-family=\"Helvetica,sans-Serif\" font-size=\"14.00\">samples = 7</text>\n<text text-anchor=\"middle\" x=\"3053\" y=\"-1554.8\" font-family=\"Helvetica,sans-Serif\" font-size=\"14.00\">value = [4, 3]</text>\n<text text-anchor=\"middle\" x=\"3053\" y=\"-1539.8\" font-family=\"Helvetica,sans-Serif\" font-size=\"14.00\">class = 비이탈</text>\n</g>\n<!-- 120&#45;&gt;138 -->\n<g id=\"edge138\" class=\"edge\">\n<title>120&#45;&gt;138</title>\n<path fill=\"none\" stroke=\"black\" d=\"M3053,-1650.91C3053,-1642.65 3053,-1633.86 3053,-1625.3\"/>\n<polygon fill=\"black\" stroke=\"black\" points=\"3056.5,-1625.02 3053,-1615.02 3049.5,-1625.02 3056.5,-1625.02\"/>\n</g>\n<!-- 122 -->\n<g id=\"node123\" class=\"node\">\n<title>122</title>\n<polygon fill=\"#399de5\" stroke=\"black\" points=\"2727,-1488.5 2625,-1488.5 2625,-1420.5 2727,-1420.5 2727,-1488.5\"/>\n<text text-anchor=\"middle\" x=\"2676\" y=\"-1473.3\" font-family=\"Helvetica,sans-Serif\" font-size=\"14.00\">gini = 0.0</text>\n<text text-anchor=\"middle\" x=\"2676\" y=\"-1458.3\" font-family=\"Helvetica,sans-Serif\" font-size=\"14.00\">samples = 11</text>\n<text text-anchor=\"middle\" x=\"2676\" y=\"-1443.3\" font-family=\"Helvetica,sans-Serif\" font-size=\"14.00\">value = [0, 11]</text>\n<text text-anchor=\"middle\" x=\"2676\" y=\"-1428.3\" font-family=\"Helvetica,sans-Serif\" font-size=\"14.00\">class = 이탈</text>\n</g>\n<!-- 121&#45;&gt;122 -->\n<g id=\"edge122\" class=\"edge\">\n<title>121&#45;&gt;122</title>\n<path fill=\"none\" stroke=\"black\" d=\"M2765.47,-1531.91C2751.64,-1520.1 2736.56,-1507.22 2722.78,-1495.45\"/>\n<polygon fill=\"black\" stroke=\"black\" points=\"2724.71,-1492.5 2714.84,-1488.67 2720.17,-1497.82 2724.71,-1492.5\"/>\n</g>\n<!-- 123 -->\n<g id=\"node124\" class=\"node\">\n<title>123</title>\n<polygon fill=\"#7bbeee\" stroke=\"black\" points=\"2881,-1496 2745,-1496 2745,-1413 2881,-1413 2881,-1496\"/>\n<text text-anchor=\"middle\" x=\"2813\" y=\"-1480.8\" font-family=\"Helvetica,sans-Serif\" font-size=\"14.00\">총매출액 &lt;= &#45;0.297</text>\n<text text-anchor=\"middle\" x=\"2813\" y=\"-1465.8\" font-family=\"Helvetica,sans-Serif\" font-size=\"14.00\">gini = 0.375</text>\n<text text-anchor=\"middle\" x=\"2813\" y=\"-1450.8\" font-family=\"Helvetica,sans-Serif\" font-size=\"14.00\">samples = 32</text>\n<text text-anchor=\"middle\" x=\"2813\" y=\"-1435.8\" font-family=\"Helvetica,sans-Serif\" font-size=\"14.00\">value = [8, 24]</text>\n<text text-anchor=\"middle\" x=\"2813\" y=\"-1420.8\" font-family=\"Helvetica,sans-Serif\" font-size=\"14.00\">class = 이탈</text>\n</g>\n<!-- 121&#45;&gt;123 -->\n<g id=\"edge123\" class=\"edge\">\n<title>121&#45;&gt;123</title>\n<path fill=\"none\" stroke=\"black\" d=\"M2813,-1531.91C2813,-1523.65 2813,-1514.86 2813,-1506.3\"/>\n<polygon fill=\"black\" stroke=\"black\" points=\"2816.5,-1506.02 2813,-1496.02 2809.5,-1506.02 2816.5,-1506.02\"/>\n</g>\n<!-- 124 -->\n<g id=\"node125\" class=\"node\">\n<title>124</title>\n<polygon fill=\"#f6d5bd\" stroke=\"black\" points=\"2739.5,-1377 2608.5,-1377 2608.5,-1294 2739.5,-1294 2739.5,-1377\"/>\n<text text-anchor=\"middle\" x=\"2674\" y=\"-1361.8\" font-family=\"Helvetica,sans-Serif\" font-size=\"14.00\">거래기간 &lt;= 0.027</text>\n<text text-anchor=\"middle\" x=\"2674\" y=\"-1346.8\" font-family=\"Helvetica,sans-Serif\" font-size=\"14.00\">gini = 0.48</text>\n<text text-anchor=\"middle\" x=\"2674\" y=\"-1331.8\" font-family=\"Helvetica,sans-Serif\" font-size=\"14.00\">samples = 10</text>\n<text text-anchor=\"middle\" x=\"2674\" y=\"-1316.8\" font-family=\"Helvetica,sans-Serif\" font-size=\"14.00\">value = [6, 4]</text>\n<text text-anchor=\"middle\" x=\"2674\" y=\"-1301.8\" font-family=\"Helvetica,sans-Serif\" font-size=\"14.00\">class = 비이탈</text>\n</g>\n<!-- 123&#45;&gt;124 -->\n<g id=\"edge124\" class=\"edge\">\n<title>123&#45;&gt;124</title>\n<path fill=\"none\" stroke=\"black\" d=\"M2764.77,-1412.91C2753.56,-1403.47 2741.53,-1393.34 2730.01,-1383.65\"/>\n<polygon fill=\"black\" stroke=\"black\" points=\"2732.04,-1380.78 2722.14,-1377.02 2727.54,-1386.14 2732.04,-1380.78\"/>\n</g>\n<!-- 133 -->\n<g id=\"node134\" class=\"node\">\n<title>133</title>\n<polygon fill=\"#4da7e8\" stroke=\"black\" points=\"2888.5,-1377 2757.5,-1377 2757.5,-1294 2888.5,-1294 2888.5,-1377\"/>\n<text text-anchor=\"middle\" x=\"2823\" y=\"-1361.8\" font-family=\"Helvetica,sans-Serif\" font-size=\"14.00\">총매출액 &lt;= 0.515</text>\n<text text-anchor=\"middle\" x=\"2823\" y=\"-1346.8\" font-family=\"Helvetica,sans-Serif\" font-size=\"14.00\">gini = 0.165</text>\n<text text-anchor=\"middle\" x=\"2823\" y=\"-1331.8\" font-family=\"Helvetica,sans-Serif\" font-size=\"14.00\">samples = 22</text>\n<text text-anchor=\"middle\" x=\"2823\" y=\"-1316.8\" font-family=\"Helvetica,sans-Serif\" font-size=\"14.00\">value = [2, 20]</text>\n<text text-anchor=\"middle\" x=\"2823\" y=\"-1301.8\" font-family=\"Helvetica,sans-Serif\" font-size=\"14.00\">class = 이탈</text>\n</g>\n<!-- 123&#45;&gt;133 -->\n<g id=\"edge133\" class=\"edge\">\n<title>123&#45;&gt;133</title>\n<path fill=\"none\" stroke=\"black\" d=\"M2816.47,-1412.91C2817.18,-1404.56 2817.94,-1395.67 2818.68,-1387.02\"/>\n<polygon fill=\"black\" stroke=\"black\" points=\"2822.17,-1387.28 2819.54,-1377.02 2815.2,-1386.69 2822.17,-1387.28\"/>\n</g>\n<!-- 125 -->\n<g id=\"node126\" class=\"node\">\n<title>125</title>\n<polygon fill=\"#cee6f8\" stroke=\"black\" points=\"2626,-1258 2490,-1258 2490,-1175 2626,-1175 2626,-1258\"/>\n<text text-anchor=\"middle\" x=\"2558\" y=\"-1242.8\" font-family=\"Helvetica,sans-Serif\" font-size=\"14.00\">방문빈도 &lt;= &#45;0.074</text>\n<text text-anchor=\"middle\" x=\"2558\" y=\"-1227.8\" font-family=\"Helvetica,sans-Serif\" font-size=\"14.00\">gini = 0.49</text>\n<text text-anchor=\"middle\" x=\"2558\" y=\"-1212.8\" font-family=\"Helvetica,sans-Serif\" font-size=\"14.00\">samples = 7</text>\n<text text-anchor=\"middle\" x=\"2558\" y=\"-1197.8\" font-family=\"Helvetica,sans-Serif\" font-size=\"14.00\">value = [3, 4]</text>\n<text text-anchor=\"middle\" x=\"2558\" y=\"-1182.8\" font-family=\"Helvetica,sans-Serif\" font-size=\"14.00\">class = 이탈</text>\n</g>\n<!-- 124&#45;&gt;125 -->\n<g id=\"edge125\" class=\"edge\">\n<title>124&#45;&gt;125</title>\n<path fill=\"none\" stroke=\"black\" d=\"M2633.75,-1293.91C2624.58,-1284.65 2614.74,-1274.73 2605.3,-1265.21\"/>\n<polygon fill=\"black\" stroke=\"black\" points=\"2607.7,-1262.66 2598.17,-1258.02 2602.73,-1267.59 2607.7,-1262.66\"/>\n</g>\n<!-- 132 -->\n<g id=\"node133\" class=\"node\">\n<title>132</title>\n<polygon fill=\"#e58139\" stroke=\"black\" points=\"2750,-1250.5 2644,-1250.5 2644,-1182.5 2750,-1182.5 2750,-1250.5\"/>\n<text text-anchor=\"middle\" x=\"2697\" y=\"-1235.3\" font-family=\"Helvetica,sans-Serif\" font-size=\"14.00\">gini = 0.0</text>\n<text text-anchor=\"middle\" x=\"2697\" y=\"-1220.3\" font-family=\"Helvetica,sans-Serif\" font-size=\"14.00\">samples = 3</text>\n<text text-anchor=\"middle\" x=\"2697\" y=\"-1205.3\" font-family=\"Helvetica,sans-Serif\" font-size=\"14.00\">value = [3, 0]</text>\n<text text-anchor=\"middle\" x=\"2697\" y=\"-1190.3\" font-family=\"Helvetica,sans-Serif\" font-size=\"14.00\">class = 비이탈</text>\n</g>\n<!-- 124&#45;&gt;132 -->\n<g id=\"edge132\" class=\"edge\">\n<title>124&#45;&gt;132</title>\n<path fill=\"none\" stroke=\"black\" d=\"M2681.98,-1293.91C2684.08,-1283.2 2686.36,-1271.62 2688.49,-1260.78\"/>\n<polygon fill=\"black\" stroke=\"black\" points=\"2691.99,-1261.15 2690.48,-1250.67 2685.12,-1259.8 2691.99,-1261.15\"/>\n</g>\n<!-- 126 -->\n<g id=\"node127\" class=\"node\">\n<title>126</title>\n<polygon fill=\"#6ab6ec\" stroke=\"black\" points=\"2621,-1139 2485,-1139 2485,-1056 2621,-1056 2621,-1139\"/>\n<text text-anchor=\"middle\" x=\"2553\" y=\"-1123.8\" font-family=\"Helvetica,sans-Serif\" font-size=\"14.00\">총매출액 &lt;= &#45;0.494</text>\n<text text-anchor=\"middle\" x=\"2553\" y=\"-1108.8\" font-family=\"Helvetica,sans-Serif\" font-size=\"14.00\">gini = 0.32</text>\n<text text-anchor=\"middle\" x=\"2553\" y=\"-1093.8\" font-family=\"Helvetica,sans-Serif\" font-size=\"14.00\">samples = 5</text>\n<text text-anchor=\"middle\" x=\"2553\" y=\"-1078.8\" font-family=\"Helvetica,sans-Serif\" font-size=\"14.00\">value = [1, 4]</text>\n<text text-anchor=\"middle\" x=\"2553\" y=\"-1063.8\" font-family=\"Helvetica,sans-Serif\" font-size=\"14.00\">class = 이탈</text>\n</g>\n<!-- 125&#45;&gt;126 -->\n<g id=\"edge126\" class=\"edge\">\n<title>125&#45;&gt;126</title>\n<path fill=\"none\" stroke=\"black\" d=\"M2556.27,-1174.91C2555.91,-1166.56 2555.53,-1157.67 2555.16,-1149.02\"/>\n<polygon fill=\"black\" stroke=\"black\" points=\"2558.66,-1148.86 2554.73,-1139.02 2551.66,-1149.16 2558.66,-1148.86\"/>\n</g>\n<!-- 131 -->\n<g id=\"node132\" class=\"node\">\n<title>131</title>\n<polygon fill=\"#e58139\" stroke=\"black\" points=\"2745,-1131.5 2639,-1131.5 2639,-1063.5 2745,-1063.5 2745,-1131.5\"/>\n<text text-anchor=\"middle\" x=\"2692\" y=\"-1116.3\" font-family=\"Helvetica,sans-Serif\" font-size=\"14.00\">gini = 0.0</text>\n<text text-anchor=\"middle\" x=\"2692\" y=\"-1101.3\" font-family=\"Helvetica,sans-Serif\" font-size=\"14.00\">samples = 2</text>\n<text text-anchor=\"middle\" x=\"2692\" y=\"-1086.3\" font-family=\"Helvetica,sans-Serif\" font-size=\"14.00\">value = [2, 0]</text>\n<text text-anchor=\"middle\" x=\"2692\" y=\"-1071.3\" font-family=\"Helvetica,sans-Serif\" font-size=\"14.00\">class = 비이탈</text>\n</g>\n<!-- 125&#45;&gt;131 -->\n<g id=\"edge131\" class=\"edge\">\n<title>125&#45;&gt;131</title>\n<path fill=\"none\" stroke=\"black\" d=\"M2604.49,-1174.91C2618.01,-1163.1 2632.77,-1150.22 2646.25,-1138.45\"/>\n<polygon fill=\"black\" stroke=\"black\" points=\"2648.78,-1140.88 2654.01,-1131.67 2644.18,-1135.61 2648.78,-1140.88\"/>\n</g>\n<!-- 127 -->\n<g id=\"node128\" class=\"node\">\n<title>127</title>\n<polygon fill=\"#399de5\" stroke=\"black\" points=\"2533.5,-1012.5 2438.5,-1012.5 2438.5,-944.5 2533.5,-944.5 2533.5,-1012.5\"/>\n<text text-anchor=\"middle\" x=\"2486\" y=\"-997.3\" font-family=\"Helvetica,sans-Serif\" font-size=\"14.00\">gini = 0.0</text>\n<text text-anchor=\"middle\" x=\"2486\" y=\"-982.3\" font-family=\"Helvetica,sans-Serif\" font-size=\"14.00\">samples = 3</text>\n<text text-anchor=\"middle\" x=\"2486\" y=\"-967.3\" font-family=\"Helvetica,sans-Serif\" font-size=\"14.00\">value = [0, 3]</text>\n<text text-anchor=\"middle\" x=\"2486\" y=\"-952.3\" font-family=\"Helvetica,sans-Serif\" font-size=\"14.00\">class = 이탈</text>\n</g>\n<!-- 126&#45;&gt;127 -->\n<g id=\"edge127\" class=\"edge\">\n<title>126&#45;&gt;127</title>\n<path fill=\"none\" stroke=\"black\" d=\"M2529.75,-1055.91C2523.37,-1044.76 2516.44,-1032.66 2510.02,-1021.44\"/>\n<polygon fill=\"black\" stroke=\"black\" points=\"2513,-1019.61 2504.99,-1012.67 2506.93,-1023.08 2513,-1019.61\"/>\n</g>\n<!-- 128 -->\n<g id=\"node129\" class=\"node\">\n<title>128</title>\n<polygon fill=\"#ffffff\" stroke=\"black\" points=\"2688,-1020 2552,-1020 2552,-937 2688,-937 2688,-1020\"/>\n<text text-anchor=\"middle\" x=\"2620\" y=\"-1004.8\" font-family=\"Helvetica,sans-Serif\" font-size=\"14.00\">총매출액 &lt;= &#45;0.453</text>\n<text text-anchor=\"middle\" x=\"2620\" y=\"-989.8\" font-family=\"Helvetica,sans-Serif\" font-size=\"14.00\">gini = 0.5</text>\n<text text-anchor=\"middle\" x=\"2620\" y=\"-974.8\" font-family=\"Helvetica,sans-Serif\" font-size=\"14.00\">samples = 2</text>\n<text text-anchor=\"middle\" x=\"2620\" y=\"-959.8\" font-family=\"Helvetica,sans-Serif\" font-size=\"14.00\">value = [1, 1]</text>\n<text text-anchor=\"middle\" x=\"2620\" y=\"-944.8\" font-family=\"Helvetica,sans-Serif\" font-size=\"14.00\">class = 비이탈</text>\n</g>\n<!-- 126&#45;&gt;128 -->\n<g id=\"edge128\" class=\"edge\">\n<title>126&#45;&gt;128</title>\n<path fill=\"none\" stroke=\"black\" d=\"M2576.25,-1055.91C2581.23,-1047.2 2586.56,-1037.9 2591.71,-1028.89\"/>\n<polygon fill=\"black\" stroke=\"black\" points=\"2594.86,-1030.44 2596.8,-1020.02 2588.79,-1026.96 2594.86,-1030.44\"/>\n</g>\n<!-- 129 -->\n<g id=\"node130\" class=\"node\">\n<title>129</title>\n<polygon fill=\"#e58139\" stroke=\"black\" points=\"2616,-893.5 2510,-893.5 2510,-825.5 2616,-825.5 2616,-893.5\"/>\n<text text-anchor=\"middle\" x=\"2563\" y=\"-878.3\" font-family=\"Helvetica,sans-Serif\" font-size=\"14.00\">gini = 0.0</text>\n<text text-anchor=\"middle\" x=\"2563\" y=\"-863.3\" font-family=\"Helvetica,sans-Serif\" font-size=\"14.00\">samples = 1</text>\n<text text-anchor=\"middle\" x=\"2563\" y=\"-848.3\" font-family=\"Helvetica,sans-Serif\" font-size=\"14.00\">value = [1, 0]</text>\n<text text-anchor=\"middle\" x=\"2563\" y=\"-833.3\" font-family=\"Helvetica,sans-Serif\" font-size=\"14.00\">class = 비이탈</text>\n</g>\n<!-- 128&#45;&gt;129 -->\n<g id=\"edge129\" class=\"edge\">\n<title>128&#45;&gt;129</title>\n<path fill=\"none\" stroke=\"black\" d=\"M2600.22,-936.91C2594.85,-925.87 2589.01,-913.9 2583.59,-902.77\"/>\n<polygon fill=\"black\" stroke=\"black\" points=\"2586.68,-901.12 2579.16,-893.67 2580.39,-904.19 2586.68,-901.12\"/>\n</g>\n<!-- 130 -->\n<g id=\"node131\" class=\"node\">\n<title>130</title>\n<polygon fill=\"#399de5\" stroke=\"black\" points=\"2729.5,-893.5 2634.5,-893.5 2634.5,-825.5 2729.5,-825.5 2729.5,-893.5\"/>\n<text text-anchor=\"middle\" x=\"2682\" y=\"-878.3\" font-family=\"Helvetica,sans-Serif\" font-size=\"14.00\">gini = 0.0</text>\n<text text-anchor=\"middle\" x=\"2682\" y=\"-863.3\" font-family=\"Helvetica,sans-Serif\" font-size=\"14.00\">samples = 1</text>\n<text text-anchor=\"middle\" x=\"2682\" y=\"-848.3\" font-family=\"Helvetica,sans-Serif\" font-size=\"14.00\">value = [0, 1]</text>\n<text text-anchor=\"middle\" x=\"2682\" y=\"-833.3\" font-family=\"Helvetica,sans-Serif\" font-size=\"14.00\">class = 이탈</text>\n</g>\n<!-- 128&#45;&gt;130 -->\n<g id=\"edge130\" class=\"edge\">\n<title>128&#45;&gt;130</title>\n<path fill=\"none\" stroke=\"black\" d=\"M2641.51,-936.91C2647.36,-925.87 2653.7,-913.9 2659.6,-902.77\"/>\n<polygon fill=\"black\" stroke=\"black\" points=\"2662.83,-904.14 2664.42,-893.67 2656.65,-900.86 2662.83,-904.14\"/>\n</g>\n<!-- 134 -->\n<g id=\"node135\" class=\"node\">\n<title>134</title>\n<polygon fill=\"#399de5\" stroke=\"black\" points=\"2870,-1250.5 2768,-1250.5 2768,-1182.5 2870,-1182.5 2870,-1250.5\"/>\n<text text-anchor=\"middle\" x=\"2819\" y=\"-1235.3\" font-family=\"Helvetica,sans-Serif\" font-size=\"14.00\">gini = 0.0</text>\n<text text-anchor=\"middle\" x=\"2819\" y=\"-1220.3\" font-family=\"Helvetica,sans-Serif\" font-size=\"14.00\">samples = 15</text>\n<text text-anchor=\"middle\" x=\"2819\" y=\"-1205.3\" font-family=\"Helvetica,sans-Serif\" font-size=\"14.00\">value = [0, 15]</text>\n<text text-anchor=\"middle\" x=\"2819\" y=\"-1190.3\" font-family=\"Helvetica,sans-Serif\" font-size=\"14.00\">class = 이탈</text>\n</g>\n<!-- 133&#45;&gt;134 -->\n<g id=\"edge134\" class=\"edge\">\n<title>133&#45;&gt;134</title>\n<path fill=\"none\" stroke=\"black\" d=\"M2821.61,-1293.91C2821.25,-1283.2 2820.85,-1271.62 2820.48,-1260.78\"/>\n<polygon fill=\"black\" stroke=\"black\" points=\"2823.97,-1260.54 2820.13,-1250.67 2816.98,-1260.78 2823.97,-1260.54\"/>\n</g>\n<!-- 135 -->\n<g id=\"node136\" class=\"node\">\n<title>135</title>\n<polygon fill=\"#88c4ef\" stroke=\"black\" points=\"3019.5,-1258 2888.5,-1258 2888.5,-1175 3019.5,-1175 3019.5,-1258\"/>\n<text text-anchor=\"middle\" x=\"2954\" y=\"-1242.8\" font-family=\"Helvetica,sans-Serif\" font-size=\"14.00\">총매출액 &lt;= 2.154</text>\n<text text-anchor=\"middle\" x=\"2954\" y=\"-1227.8\" font-family=\"Helvetica,sans-Serif\" font-size=\"14.00\">gini = 0.408</text>\n<text text-anchor=\"middle\" x=\"2954\" y=\"-1212.8\" font-family=\"Helvetica,sans-Serif\" font-size=\"14.00\">samples = 7</text>\n<text text-anchor=\"middle\" x=\"2954\" y=\"-1197.8\" font-family=\"Helvetica,sans-Serif\" font-size=\"14.00\">value = [2, 5]</text>\n<text text-anchor=\"middle\" x=\"2954\" y=\"-1182.8\" font-family=\"Helvetica,sans-Serif\" font-size=\"14.00\">class = 이탈</text>\n</g>\n<!-- 133&#45;&gt;135 -->\n<g id=\"edge135\" class=\"edge\">\n<title>133&#45;&gt;135</title>\n<path fill=\"none\" stroke=\"black\" d=\"M2868.45,-1293.91C2878.92,-1284.56 2890.14,-1274.54 2900.9,-1264.93\"/>\n<polygon fill=\"black\" stroke=\"black\" points=\"2903.5,-1267.29 2908.63,-1258.02 2898.84,-1262.07 2903.5,-1267.29\"/>\n</g>\n<!-- 136 -->\n<g id=\"node137\" class=\"node\">\n<title>136</title>\n<polygon fill=\"#e58139\" stroke=\"black\" points=\"2947,-1131.5 2841,-1131.5 2841,-1063.5 2947,-1063.5 2947,-1131.5\"/>\n<text text-anchor=\"middle\" x=\"2894\" y=\"-1116.3\" font-family=\"Helvetica,sans-Serif\" font-size=\"14.00\">gini = 0.0</text>\n<text text-anchor=\"middle\" x=\"2894\" y=\"-1101.3\" font-family=\"Helvetica,sans-Serif\" font-size=\"14.00\">samples = 2</text>\n<text text-anchor=\"middle\" x=\"2894\" y=\"-1086.3\" font-family=\"Helvetica,sans-Serif\" font-size=\"14.00\">value = [2, 0]</text>\n<text text-anchor=\"middle\" x=\"2894\" y=\"-1071.3\" font-family=\"Helvetica,sans-Serif\" font-size=\"14.00\">class = 비이탈</text>\n</g>\n<!-- 135&#45;&gt;136 -->\n<g id=\"edge136\" class=\"edge\">\n<title>135&#45;&gt;136</title>\n<path fill=\"none\" stroke=\"black\" d=\"M2933.18,-1174.91C2927.52,-1163.87 2921.38,-1151.9 2915.68,-1140.77\"/>\n<polygon fill=\"black\" stroke=\"black\" points=\"2918.69,-1138.97 2911.01,-1131.67 2912.46,-1142.16 2918.69,-1138.97\"/>\n</g>\n<!-- 137 -->\n<g id=\"node138\" class=\"node\">\n<title>137</title>\n<polygon fill=\"#399de5\" stroke=\"black\" points=\"3060.5,-1131.5 2965.5,-1131.5 2965.5,-1063.5 3060.5,-1063.5 3060.5,-1131.5\"/>\n<text text-anchor=\"middle\" x=\"3013\" y=\"-1116.3\" font-family=\"Helvetica,sans-Serif\" font-size=\"14.00\">gini = 0.0</text>\n<text text-anchor=\"middle\" x=\"3013\" y=\"-1101.3\" font-family=\"Helvetica,sans-Serif\" font-size=\"14.00\">samples = 5</text>\n<text text-anchor=\"middle\" x=\"3013\" y=\"-1086.3\" font-family=\"Helvetica,sans-Serif\" font-size=\"14.00\">value = [0, 5]</text>\n<text text-anchor=\"middle\" x=\"3013\" y=\"-1071.3\" font-family=\"Helvetica,sans-Serif\" font-size=\"14.00\">class = 이탈</text>\n</g>\n<!-- 135&#45;&gt;137 -->\n<g id=\"edge137\" class=\"edge\">\n<title>135&#45;&gt;137</title>\n<path fill=\"none\" stroke=\"black\" d=\"M2974.47,-1174.91C2980.03,-1163.87 2986.07,-1151.9 2991.68,-1140.77\"/>\n<polygon fill=\"black\" stroke=\"black\" points=\"2994.9,-1142.17 2996.27,-1131.67 2988.65,-1139.02 2994.9,-1142.17\"/>\n</g>\n<!-- 139 -->\n<g id=\"node140\" class=\"node\">\n<title>139</title>\n<polygon fill=\"#e58139\" stroke=\"black\" points=\"3005,-1488.5 2899,-1488.5 2899,-1420.5 3005,-1420.5 3005,-1488.5\"/>\n<text text-anchor=\"middle\" x=\"2952\" y=\"-1473.3\" font-family=\"Helvetica,sans-Serif\" font-size=\"14.00\">gini = 0.0</text>\n<text text-anchor=\"middle\" x=\"2952\" y=\"-1458.3\" font-family=\"Helvetica,sans-Serif\" font-size=\"14.00\">samples = 2</text>\n<text text-anchor=\"middle\" x=\"2952\" y=\"-1443.3\" font-family=\"Helvetica,sans-Serif\" font-size=\"14.00\">value = [2, 0]</text>\n<text text-anchor=\"middle\" x=\"2952\" y=\"-1428.3\" font-family=\"Helvetica,sans-Serif\" font-size=\"14.00\">class = 비이탈</text>\n</g>\n<!-- 138&#45;&gt;139 -->\n<g id=\"edge139\" class=\"edge\">\n<title>138&#45;&gt;139</title>\n<path fill=\"none\" stroke=\"black\" d=\"M3017.96,-1531.91C3008.05,-1520.43 2997.27,-1507.94 2987.34,-1496.44\"/>\n<polygon fill=\"black\" stroke=\"black\" points=\"2989.82,-1493.95 2980.63,-1488.67 2984.52,-1498.52 2989.82,-1493.95\"/>\n</g>\n<!-- 140 -->\n<g id=\"node141\" class=\"node\">\n<title>140</title>\n<polygon fill=\"#bddef6\" stroke=\"black\" points=\"3154.5,-1496 3023.5,-1496 3023.5,-1413 3154.5,-1413 3154.5,-1496\"/>\n<text text-anchor=\"middle\" x=\"3089\" y=\"-1480.8\" font-family=\"Helvetica,sans-Serif\" font-size=\"14.00\">거래기간 &lt;= 0.127</text>\n<text text-anchor=\"middle\" x=\"3089\" y=\"-1465.8\" font-family=\"Helvetica,sans-Serif\" font-size=\"14.00\">gini = 0.48</text>\n<text text-anchor=\"middle\" x=\"3089\" y=\"-1450.8\" font-family=\"Helvetica,sans-Serif\" font-size=\"14.00\">samples = 5</text>\n<text text-anchor=\"middle\" x=\"3089\" y=\"-1435.8\" font-family=\"Helvetica,sans-Serif\" font-size=\"14.00\">value = [2, 3]</text>\n<text text-anchor=\"middle\" x=\"3089\" y=\"-1420.8\" font-family=\"Helvetica,sans-Serif\" font-size=\"14.00\">class = 이탈</text>\n</g>\n<!-- 138&#45;&gt;140 -->\n<g id=\"edge140\" class=\"edge\">\n<title>138&#45;&gt;140</title>\n<path fill=\"none\" stroke=\"black\" d=\"M3065.49,-1531.91C3068.09,-1523.47 3070.85,-1514.48 3073.54,-1505.74\"/>\n<polygon fill=\"black\" stroke=\"black\" points=\"3076.94,-1506.61 3076.53,-1496.02 3070.25,-1504.55 3076.94,-1506.61\"/>\n</g>\n<!-- 141 -->\n<g id=\"node142\" class=\"node\">\n<title>141</title>\n<polygon fill=\"#399de5\" stroke=\"black\" points=\"3004.5,-1369.5 2909.5,-1369.5 2909.5,-1301.5 3004.5,-1301.5 3004.5,-1369.5\"/>\n<text text-anchor=\"middle\" x=\"2957\" y=\"-1354.3\" font-family=\"Helvetica,sans-Serif\" font-size=\"14.00\">gini = 0.0</text>\n<text text-anchor=\"middle\" x=\"2957\" y=\"-1339.3\" font-family=\"Helvetica,sans-Serif\" font-size=\"14.00\">samples = 2</text>\n<text text-anchor=\"middle\" x=\"2957\" y=\"-1324.3\" font-family=\"Helvetica,sans-Serif\" font-size=\"14.00\">value = [0, 2]</text>\n<text text-anchor=\"middle\" x=\"2957\" y=\"-1309.3\" font-family=\"Helvetica,sans-Serif\" font-size=\"14.00\">class = 이탈</text>\n</g>\n<!-- 140&#45;&gt;141 -->\n<g id=\"edge141\" class=\"edge\">\n<title>140&#45;&gt;141</title>\n<path fill=\"none\" stroke=\"black\" d=\"M3043.2,-1412.91C3029.88,-1401.1 3015.35,-1388.22 3002.07,-1376.45\"/>\n<polygon fill=\"black\" stroke=\"black\" points=\"3004.22,-1373.68 2994.42,-1369.67 2999.58,-1378.92 3004.22,-1373.68\"/>\n</g>\n<!-- 142 -->\n<g id=\"node143\" class=\"node\">\n<title>142</title>\n<polygon fill=\"#f2c09c\" stroke=\"black\" points=\"3159,-1377 3023,-1377 3023,-1294 3159,-1294 3159,-1377\"/>\n<text text-anchor=\"middle\" x=\"3091\" y=\"-1361.8\" font-family=\"Helvetica,sans-Serif\" font-size=\"14.00\">총매출액 &lt;= &#45;0.432</text>\n<text text-anchor=\"middle\" x=\"3091\" y=\"-1346.8\" font-family=\"Helvetica,sans-Serif\" font-size=\"14.00\">gini = 0.444</text>\n<text text-anchor=\"middle\" x=\"3091\" y=\"-1331.8\" font-family=\"Helvetica,sans-Serif\" font-size=\"14.00\">samples = 3</text>\n<text text-anchor=\"middle\" x=\"3091\" y=\"-1316.8\" font-family=\"Helvetica,sans-Serif\" font-size=\"14.00\">value = [2, 1]</text>\n<text text-anchor=\"middle\" x=\"3091\" y=\"-1301.8\" font-family=\"Helvetica,sans-Serif\" font-size=\"14.00\">class = 비이탈</text>\n</g>\n<!-- 140&#45;&gt;142 -->\n<g id=\"edge142\" class=\"edge\">\n<title>140&#45;&gt;142</title>\n<path fill=\"none\" stroke=\"black\" d=\"M3089.69,-1412.91C3089.84,-1404.56 3089.99,-1395.67 3090.14,-1387.02\"/>\n<polygon fill=\"black\" stroke=\"black\" points=\"3093.64,-1387.08 3090.31,-1377.02 3086.64,-1386.96 3093.64,-1387.08\"/>\n</g>\n<!-- 143 -->\n<g id=\"node144\" class=\"node\">\n<title>143</title>\n<polygon fill=\"#e58139\" stroke=\"black\" points=\"3144,-1250.5 3038,-1250.5 3038,-1182.5 3144,-1182.5 3144,-1250.5\"/>\n<text text-anchor=\"middle\" x=\"3091\" y=\"-1235.3\" font-family=\"Helvetica,sans-Serif\" font-size=\"14.00\">gini = 0.0</text>\n<text text-anchor=\"middle\" x=\"3091\" y=\"-1220.3\" font-family=\"Helvetica,sans-Serif\" font-size=\"14.00\">samples = 1</text>\n<text text-anchor=\"middle\" x=\"3091\" y=\"-1205.3\" font-family=\"Helvetica,sans-Serif\" font-size=\"14.00\">value = [1, 0]</text>\n<text text-anchor=\"middle\" x=\"3091\" y=\"-1190.3\" font-family=\"Helvetica,sans-Serif\" font-size=\"14.00\">class = 비이탈</text>\n</g>\n<!-- 142&#45;&gt;143 -->\n<g id=\"edge143\" class=\"edge\">\n<title>142&#45;&gt;143</title>\n<path fill=\"none\" stroke=\"black\" d=\"M3091,-1293.91C3091,-1283.2 3091,-1271.62 3091,-1260.78\"/>\n<polygon fill=\"black\" stroke=\"black\" points=\"3094.5,-1260.67 3091,-1250.67 3087.5,-1260.67 3094.5,-1260.67\"/>\n</g>\n<!-- 144 -->\n<g id=\"node145\" class=\"node\">\n<title>144</title>\n<polygon fill=\"#ffffff\" stroke=\"black\" points=\"3283.5,-1258 3162.5,-1258 3162.5,-1175 3283.5,-1175 3283.5,-1258\"/>\n<text text-anchor=\"middle\" x=\"3223\" y=\"-1242.8\" font-family=\"Helvetica,sans-Serif\" font-size=\"14.00\">방문빈도 &lt;= &#45;0.1</text>\n<text text-anchor=\"middle\" x=\"3223\" y=\"-1227.8\" font-family=\"Helvetica,sans-Serif\" font-size=\"14.00\">gini = 0.5</text>\n<text text-anchor=\"middle\" x=\"3223\" y=\"-1212.8\" font-family=\"Helvetica,sans-Serif\" font-size=\"14.00\">samples = 2</text>\n<text text-anchor=\"middle\" x=\"3223\" y=\"-1197.8\" font-family=\"Helvetica,sans-Serif\" font-size=\"14.00\">value = [1, 1]</text>\n<text text-anchor=\"middle\" x=\"3223\" y=\"-1182.8\" font-family=\"Helvetica,sans-Serif\" font-size=\"14.00\">class = 비이탈</text>\n</g>\n<!-- 142&#45;&gt;144 -->\n<g id=\"edge144\" class=\"edge\">\n<title>142&#45;&gt;144</title>\n<path fill=\"none\" stroke=\"black\" d=\"M3136.8,-1293.91C3147.34,-1284.56 3158.65,-1274.54 3169.49,-1264.93\"/>\n<polygon fill=\"black\" stroke=\"black\" points=\"3172.12,-1267.27 3177.28,-1258.02 3167.48,-1262.03 3172.12,-1267.27\"/>\n</g>\n<!-- 145 -->\n<g id=\"node146\" class=\"node\">\n<title>145</title>\n<polygon fill=\"#399de5\" stroke=\"black\" points=\"3222.5,-1131.5 3127.5,-1131.5 3127.5,-1063.5 3222.5,-1063.5 3222.5,-1131.5\"/>\n<text text-anchor=\"middle\" x=\"3175\" y=\"-1116.3\" font-family=\"Helvetica,sans-Serif\" font-size=\"14.00\">gini = 0.0</text>\n<text text-anchor=\"middle\" x=\"3175\" y=\"-1101.3\" font-family=\"Helvetica,sans-Serif\" font-size=\"14.00\">samples = 1</text>\n<text text-anchor=\"middle\" x=\"3175\" y=\"-1086.3\" font-family=\"Helvetica,sans-Serif\" font-size=\"14.00\">value = [0, 1]</text>\n<text text-anchor=\"middle\" x=\"3175\" y=\"-1071.3\" font-family=\"Helvetica,sans-Serif\" font-size=\"14.00\">class = 이탈</text>\n</g>\n<!-- 144&#45;&gt;145 -->\n<g id=\"edge145\" class=\"edge\">\n<title>144&#45;&gt;145</title>\n<path fill=\"none\" stroke=\"black\" d=\"M3206.35,-1174.91C3201.86,-1163.98 3197,-1152.14 3192.48,-1141.11\"/>\n<polygon fill=\"black\" stroke=\"black\" points=\"3195.64,-1139.59 3188.61,-1131.67 3189.16,-1142.25 3195.64,-1139.59\"/>\n</g>\n<!-- 146 -->\n<g id=\"node147\" class=\"node\">\n<title>146</title>\n<polygon fill=\"#e58139\" stroke=\"black\" points=\"3347,-1131.5 3241,-1131.5 3241,-1063.5 3347,-1063.5 3347,-1131.5\"/>\n<text text-anchor=\"middle\" x=\"3294\" y=\"-1116.3\" font-family=\"Helvetica,sans-Serif\" font-size=\"14.00\">gini = 0.0</text>\n<text text-anchor=\"middle\" x=\"3294\" y=\"-1101.3\" font-family=\"Helvetica,sans-Serif\" font-size=\"14.00\">samples = 1</text>\n<text text-anchor=\"middle\" x=\"3294\" y=\"-1086.3\" font-family=\"Helvetica,sans-Serif\" font-size=\"14.00\">value = [1, 0]</text>\n<text text-anchor=\"middle\" x=\"3294\" y=\"-1071.3\" font-family=\"Helvetica,sans-Serif\" font-size=\"14.00\">class = 비이탈</text>\n</g>\n<!-- 144&#45;&gt;146 -->\n<g id=\"edge146\" class=\"edge\">\n<title>144&#45;&gt;146</title>\n<path fill=\"none\" stroke=\"black\" d=\"M3247.63,-1174.91C3254.4,-1163.76 3261.74,-1151.66 3268.55,-1140.44\"/>\n<polygon fill=\"black\" stroke=\"black\" points=\"3271.68,-1142.03 3273.87,-1131.67 3265.69,-1138.4 3271.68,-1142.03\"/>\n</g>\n<!-- 148 -->\n<g id=\"node149\" class=\"node\">\n<title>148</title>\n<polygon fill=\"#3c9ee5\" stroke=\"black\" points=\"3332.5,-1615 3201.5,-1615 3201.5,-1532 3332.5,-1532 3332.5,-1615\"/>\n<text text-anchor=\"middle\" x=\"3267\" y=\"-1599.8\" font-family=\"Helvetica,sans-Serif\" font-size=\"14.00\">거래기간 &lt;= 0.239</text>\n<text text-anchor=\"middle\" x=\"3267\" y=\"-1584.8\" font-family=\"Helvetica,sans-Serif\" font-size=\"14.00\">gini = 0.028</text>\n<text text-anchor=\"middle\" x=\"3267\" y=\"-1569.8\" font-family=\"Helvetica,sans-Serif\" font-size=\"14.00\">samples = 143</text>\n<text text-anchor=\"middle\" x=\"3267\" y=\"-1554.8\" font-family=\"Helvetica,sans-Serif\" font-size=\"14.00\">value = [2, 141]</text>\n<text text-anchor=\"middle\" x=\"3267\" y=\"-1539.8\" font-family=\"Helvetica,sans-Serif\" font-size=\"14.00\">class = 이탈</text>\n</g>\n<!-- 147&#45;&gt;148 -->\n<g id=\"edge148\" class=\"edge\">\n<title>147&#45;&gt;148</title>\n<path fill=\"none\" stroke=\"black\" d=\"M3267,-1650.91C3267,-1642.65 3267,-1633.86 3267,-1625.3\"/>\n<polygon fill=\"black\" stroke=\"black\" points=\"3270.5,-1625.02 3267,-1615.02 3263.5,-1625.02 3270.5,-1625.02\"/>\n</g>\n<!-- 155 -->\n<g id=\"node156\" class=\"node\">\n<title>155</title>\n<polygon fill=\"#54aae9\" stroke=\"black\" points=\"3540.5,-1615 3409.5,-1615 3409.5,-1532 3540.5,-1532 3540.5,-1615\"/>\n<text text-anchor=\"middle\" x=\"3475\" y=\"-1599.8\" font-family=\"Helvetica,sans-Serif\" font-size=\"14.00\">거래기간 &lt;= 0.292</text>\n<text text-anchor=\"middle\" x=\"3475\" y=\"-1584.8\" font-family=\"Helvetica,sans-Serif\" font-size=\"14.00\">gini = 0.211</text>\n<text text-anchor=\"middle\" x=\"3475\" y=\"-1569.8\" font-family=\"Helvetica,sans-Serif\" font-size=\"14.00\">samples = 150</text>\n<text text-anchor=\"middle\" x=\"3475\" y=\"-1554.8\" font-family=\"Helvetica,sans-Serif\" font-size=\"14.00\">value = [18, 132]</text>\n<text text-anchor=\"middle\" x=\"3475\" y=\"-1539.8\" font-family=\"Helvetica,sans-Serif\" font-size=\"14.00\">class = 이탈</text>\n</g>\n<!-- 147&#45;&gt;155 -->\n<g id=\"edge155\" class=\"edge\">\n<title>147&#45;&gt;155</title>\n<path fill=\"none\" stroke=\"black\" d=\"M3335.11,-1653.19C3355.94,-1641.47 3378.97,-1628.51 3400.23,-1616.56\"/>\n<polygon fill=\"black\" stroke=\"black\" points=\"3402.22,-1619.46 3409.22,-1611.5 3398.79,-1613.35 3402.22,-1619.46\"/>\n</g>\n<!-- 149 -->\n<g id=\"node150\" class=\"node\">\n<title>149</title>\n<polygon fill=\"#42a2e6\" stroke=\"black\" points=\"3301,-1496 3173,-1496 3173,-1413 3301,-1413 3301,-1496\"/>\n<text text-anchor=\"middle\" x=\"3237\" y=\"-1480.8\" font-family=\"Helvetica,sans-Serif\" font-size=\"14.00\">총매출액 &lt;= &#45;0.62</text>\n<text text-anchor=\"middle\" x=\"3237\" y=\"-1465.8\" font-family=\"Helvetica,sans-Serif\" font-size=\"14.00\">gini = 0.085</text>\n<text text-anchor=\"middle\" x=\"3237\" y=\"-1450.8\" font-family=\"Helvetica,sans-Serif\" font-size=\"14.00\">samples = 45</text>\n<text text-anchor=\"middle\" x=\"3237\" y=\"-1435.8\" font-family=\"Helvetica,sans-Serif\" font-size=\"14.00\">value = [2, 43]</text>\n<text text-anchor=\"middle\" x=\"3237\" y=\"-1420.8\" font-family=\"Helvetica,sans-Serif\" font-size=\"14.00\">class = 이탈</text>\n</g>\n<!-- 148&#45;&gt;149 -->\n<g id=\"edge149\" class=\"edge\">\n<title>148&#45;&gt;149</title>\n<path fill=\"none\" stroke=\"black\" d=\"M3256.59,-1531.91C3254.43,-1523.47 3252.12,-1514.48 3249.88,-1505.74\"/>\n<polygon fill=\"black\" stroke=\"black\" points=\"3253.26,-1504.84 3247.39,-1496.02 3246.48,-1506.58 3253.26,-1504.84\"/>\n</g>\n<!-- 154 -->\n<g id=\"node155\" class=\"node\">\n<title>154</title>\n<polygon fill=\"#399de5\" stroke=\"black\" points=\"3421,-1488.5 3319,-1488.5 3319,-1420.5 3421,-1420.5 3421,-1488.5\"/>\n<text text-anchor=\"middle\" x=\"3370\" y=\"-1473.3\" font-family=\"Helvetica,sans-Serif\" font-size=\"14.00\">gini = 0.0</text>\n<text text-anchor=\"middle\" x=\"3370\" y=\"-1458.3\" font-family=\"Helvetica,sans-Serif\" font-size=\"14.00\">samples = 98</text>\n<text text-anchor=\"middle\" x=\"3370\" y=\"-1443.3\" font-family=\"Helvetica,sans-Serif\" font-size=\"14.00\">value = [0, 98]</text>\n<text text-anchor=\"middle\" x=\"3370\" y=\"-1428.3\" font-family=\"Helvetica,sans-Serif\" font-size=\"14.00\">class = 이탈</text>\n</g>\n<!-- 148&#45;&gt;154 -->\n<g id=\"edge154\" class=\"edge\">\n<title>148&#45;&gt;154</title>\n<path fill=\"none\" stroke=\"black\" d=\"M3302.74,-1531.91C3312.84,-1520.43 3323.84,-1507.94 3333.96,-1496.44\"/>\n<polygon fill=\"black\" stroke=\"black\" points=\"3336.82,-1498.49 3340.8,-1488.67 3331.57,-1493.86 3336.82,-1498.49\"/>\n</g>\n<!-- 150 -->\n<g id=\"node151\" class=\"node\">\n<title>150</title>\n<polygon fill=\"#e58139\" stroke=\"black\" points=\"3283,-1369.5 3177,-1369.5 3177,-1301.5 3283,-1301.5 3283,-1369.5\"/>\n<text text-anchor=\"middle\" x=\"3230\" y=\"-1354.3\" font-family=\"Helvetica,sans-Serif\" font-size=\"14.00\">gini = 0.0</text>\n<text text-anchor=\"middle\" x=\"3230\" y=\"-1339.3\" font-family=\"Helvetica,sans-Serif\" font-size=\"14.00\">samples = 1</text>\n<text text-anchor=\"middle\" x=\"3230\" y=\"-1324.3\" font-family=\"Helvetica,sans-Serif\" font-size=\"14.00\">value = [1, 0]</text>\n<text text-anchor=\"middle\" x=\"3230\" y=\"-1309.3\" font-family=\"Helvetica,sans-Serif\" font-size=\"14.00\">class = 비이탈</text>\n</g>\n<!-- 149&#45;&gt;150 -->\n<g id=\"edge150\" class=\"edge\">\n<title>149&#45;&gt;150</title>\n<path fill=\"none\" stroke=\"black\" d=\"M3234.57,-1412.91C3233.93,-1402.2 3233.24,-1390.62 3232.59,-1379.78\"/>\n<polygon fill=\"black\" stroke=\"black\" points=\"3236.08,-1379.44 3231.98,-1369.67 3229.09,-1379.86 3236.08,-1379.44\"/>\n</g>\n<!-- 151 -->\n<g id=\"node152\" class=\"node\">\n<title>151</title>\n<polygon fill=\"#3e9fe6\" stroke=\"black\" points=\"3432.5,-1377 3301.5,-1377 3301.5,-1294 3432.5,-1294 3432.5,-1377\"/>\n<text text-anchor=\"middle\" x=\"3367\" y=\"-1361.8\" font-family=\"Helvetica,sans-Serif\" font-size=\"14.00\">거래기간 &lt;= 0.238</text>\n<text text-anchor=\"middle\" x=\"3367\" y=\"-1346.8\" font-family=\"Helvetica,sans-Serif\" font-size=\"14.00\">gini = 0.044</text>\n<text text-anchor=\"middle\" x=\"3367\" y=\"-1331.8\" font-family=\"Helvetica,sans-Serif\" font-size=\"14.00\">samples = 44</text>\n<text text-anchor=\"middle\" x=\"3367\" y=\"-1316.8\" font-family=\"Helvetica,sans-Serif\" font-size=\"14.00\">value = [1, 43]</text>\n<text text-anchor=\"middle\" x=\"3367\" y=\"-1301.8\" font-family=\"Helvetica,sans-Serif\" font-size=\"14.00\">class = 이탈</text>\n</g>\n<!-- 149&#45;&gt;151 -->\n<g id=\"edge151\" class=\"edge\">\n<title>149&#45;&gt;151</title>\n<path fill=\"none\" stroke=\"black\" d=\"M3282.1,-1412.91C3292.49,-1403.56 3303.62,-1393.54 3314.3,-1383.93\"/>\n<polygon fill=\"black\" stroke=\"black\" points=\"3316.89,-1386.31 3321.98,-1377.02 3312.2,-1381.11 3316.89,-1386.31\"/>\n</g>\n<!-- 152 -->\n<g id=\"node153\" class=\"node\">\n<title>152</title>\n<polygon fill=\"#399de5\" stroke=\"black\" points=\"3411,-1250.5 3309,-1250.5 3309,-1182.5 3411,-1182.5 3411,-1250.5\"/>\n<text text-anchor=\"middle\" x=\"3360\" y=\"-1235.3\" font-family=\"Helvetica,sans-Serif\" font-size=\"14.00\">gini = 0.0</text>\n<text text-anchor=\"middle\" x=\"3360\" y=\"-1220.3\" font-family=\"Helvetica,sans-Serif\" font-size=\"14.00\">samples = 43</text>\n<text text-anchor=\"middle\" x=\"3360\" y=\"-1205.3\" font-family=\"Helvetica,sans-Serif\" font-size=\"14.00\">value = [0, 43]</text>\n<text text-anchor=\"middle\" x=\"3360\" y=\"-1190.3\" font-family=\"Helvetica,sans-Serif\" font-size=\"14.00\">class = 이탈</text>\n</g>\n<!-- 151&#45;&gt;152 -->\n<g id=\"edge152\" class=\"edge\">\n<title>151&#45;&gt;152</title>\n<path fill=\"none\" stroke=\"black\" d=\"M3364.57,-1293.91C3363.93,-1283.2 3363.24,-1271.62 3362.59,-1260.78\"/>\n<polygon fill=\"black\" stroke=\"black\" points=\"3366.08,-1260.44 3361.98,-1250.67 3359.09,-1260.86 3366.08,-1260.44\"/>\n</g>\n<!-- 153 -->\n<g id=\"node154\" class=\"node\">\n<title>153</title>\n<polygon fill=\"#e58139\" stroke=\"black\" points=\"3535,-1250.5 3429,-1250.5 3429,-1182.5 3535,-1182.5 3535,-1250.5\"/>\n<text text-anchor=\"middle\" x=\"3482\" y=\"-1235.3\" font-family=\"Helvetica,sans-Serif\" font-size=\"14.00\">gini = 0.0</text>\n<text text-anchor=\"middle\" x=\"3482\" y=\"-1220.3\" font-family=\"Helvetica,sans-Serif\" font-size=\"14.00\">samples = 1</text>\n<text text-anchor=\"middle\" x=\"3482\" y=\"-1205.3\" font-family=\"Helvetica,sans-Serif\" font-size=\"14.00\">value = [1, 0]</text>\n<text text-anchor=\"middle\" x=\"3482\" y=\"-1190.3\" font-family=\"Helvetica,sans-Serif\" font-size=\"14.00\">class = 비이탈</text>\n</g>\n<!-- 151&#45;&gt;153 -->\n<g id=\"edge153\" class=\"edge\">\n<title>151&#45;&gt;153</title>\n<path fill=\"none\" stroke=\"black\" d=\"M3406.9,-1293.91C3418.29,-1282.32 3430.69,-1269.7 3442.08,-1258.11\"/>\n<polygon fill=\"black\" stroke=\"black\" points=\"3444.89,-1260.25 3449.4,-1250.67 3439.89,-1255.35 3444.89,-1260.25\"/>\n</g>\n<!-- 156 -->\n<g id=\"node157\" class=\"node\">\n<title>156</title>\n<polygon fill=\"#3c9fe5\" stroke=\"black\" points=\"3570.5,-1496 3439.5,-1496 3439.5,-1413 3570.5,-1413 3570.5,-1496\"/>\n<text text-anchor=\"middle\" x=\"3505\" y=\"-1480.8\" font-family=\"Helvetica,sans-Serif\" font-size=\"14.00\">총매출액 &lt;= 0.113</text>\n<text text-anchor=\"middle\" x=\"3505\" y=\"-1465.8\" font-family=\"Helvetica,sans-Serif\" font-size=\"14.00\">gini = 0.031</text>\n<text text-anchor=\"middle\" x=\"3505\" y=\"-1450.8\" font-family=\"Helvetica,sans-Serif\" font-size=\"14.00\">samples = 64</text>\n<text text-anchor=\"middle\" x=\"3505\" y=\"-1435.8\" font-family=\"Helvetica,sans-Serif\" font-size=\"14.00\">value = [1, 63]</text>\n<text text-anchor=\"middle\" x=\"3505\" y=\"-1420.8\" font-family=\"Helvetica,sans-Serif\" font-size=\"14.00\">class = 이탈</text>\n</g>\n<!-- 155&#45;&gt;156 -->\n<g id=\"edge156\" class=\"edge\">\n<title>155&#45;&gt;156</title>\n<path fill=\"none\" stroke=\"black\" d=\"M3485.41,-1531.91C3487.57,-1523.47 3489.88,-1514.48 3492.12,-1505.74\"/>\n<polygon fill=\"black\" stroke=\"black\" points=\"3495.52,-1506.58 3494.61,-1496.02 3488.74,-1504.84 3495.52,-1506.58\"/>\n</g>\n<!-- 161 -->\n<g id=\"node162\" class=\"node\">\n<title>161</title>\n<polygon fill=\"#6ab5eb\" stroke=\"black\" points=\"3839.5,-1496 3708.5,-1496 3708.5,-1413 3839.5,-1413 3839.5,-1496\"/>\n<text text-anchor=\"middle\" x=\"3774\" y=\"-1480.8\" font-family=\"Helvetica,sans-Serif\" font-size=\"14.00\">거래기간 &lt;= 0.294</text>\n<text text-anchor=\"middle\" x=\"3774\" y=\"-1465.8\" font-family=\"Helvetica,sans-Serif\" font-size=\"14.00\">gini = 0.317</text>\n<text text-anchor=\"middle\" x=\"3774\" y=\"-1450.8\" font-family=\"Helvetica,sans-Serif\" font-size=\"14.00\">samples = 86</text>\n<text text-anchor=\"middle\" x=\"3774\" y=\"-1435.8\" font-family=\"Helvetica,sans-Serif\" font-size=\"14.00\">value = [17, 69]</text>\n<text text-anchor=\"middle\" x=\"3774\" y=\"-1420.8\" font-family=\"Helvetica,sans-Serif\" font-size=\"14.00\">class = 이탈</text>\n</g>\n<!-- 155&#45;&gt;161 -->\n<g id=\"edge161\" class=\"edge\">\n<title>155&#45;&gt;161</title>\n<path fill=\"none\" stroke=\"black\" d=\"M3540.54,-1536.31C3543.72,-1534.81 3546.88,-1533.36 3550,-1532 3598.31,-1510.88 3654.46,-1491.72 3698.45,-1477.85\"/>\n<polygon fill=\"black\" stroke=\"black\" points=\"3699.72,-1481.12 3708.22,-1474.8 3697.63,-1474.44 3699.72,-1481.12\"/>\n</g>\n<!-- 157 -->\n<g id=\"node158\" class=\"node\">\n<title>157</title>\n<polygon fill=\"#399de5\" stroke=\"black\" points=\"3553,-1369.5 3451,-1369.5 3451,-1301.5 3553,-1301.5 3553,-1369.5\"/>\n<text text-anchor=\"middle\" x=\"3502\" y=\"-1354.3\" font-family=\"Helvetica,sans-Serif\" font-size=\"14.00\">gini = 0.0</text>\n<text text-anchor=\"middle\" x=\"3502\" y=\"-1339.3\" font-family=\"Helvetica,sans-Serif\" font-size=\"14.00\">samples = 43</text>\n<text text-anchor=\"middle\" x=\"3502\" y=\"-1324.3\" font-family=\"Helvetica,sans-Serif\" font-size=\"14.00\">value = [0, 43]</text>\n<text text-anchor=\"middle\" x=\"3502\" y=\"-1309.3\" font-family=\"Helvetica,sans-Serif\" font-size=\"14.00\">class = 이탈</text>\n</g>\n<!-- 156&#45;&gt;157 -->\n<g id=\"edge157\" class=\"edge\">\n<title>156&#45;&gt;157</title>\n<path fill=\"none\" stroke=\"black\" d=\"M3503.96,-1412.91C3503.68,-1402.2 3503.39,-1390.62 3503.11,-1379.78\"/>\n<polygon fill=\"black\" stroke=\"black\" points=\"3506.61,-1379.57 3502.85,-1369.67 3499.61,-1379.75 3506.61,-1379.57\"/>\n</g>\n<!-- 158 -->\n<g id=\"node159\" class=\"node\">\n<title>158</title>\n<polygon fill=\"#43a2e6\" stroke=\"black\" points=\"3702.5,-1377 3571.5,-1377 3571.5,-1294 3702.5,-1294 3702.5,-1377\"/>\n<text text-anchor=\"middle\" x=\"3637\" y=\"-1361.8\" font-family=\"Helvetica,sans-Serif\" font-size=\"14.00\">총매출액 &lt;= 0.147</text>\n<text text-anchor=\"middle\" x=\"3637\" y=\"-1346.8\" font-family=\"Helvetica,sans-Serif\" font-size=\"14.00\">gini = 0.091</text>\n<text text-anchor=\"middle\" x=\"3637\" y=\"-1331.8\" font-family=\"Helvetica,sans-Serif\" font-size=\"14.00\">samples = 21</text>\n<text text-anchor=\"middle\" x=\"3637\" y=\"-1316.8\" font-family=\"Helvetica,sans-Serif\" font-size=\"14.00\">value = [1, 20]</text>\n<text text-anchor=\"middle\" x=\"3637\" y=\"-1301.8\" font-family=\"Helvetica,sans-Serif\" font-size=\"14.00\">class = 이탈</text>\n</g>\n<!-- 156&#45;&gt;158 -->\n<g id=\"edge158\" class=\"edge\">\n<title>156&#45;&gt;158</title>\n<path fill=\"none\" stroke=\"black\" d=\"M3550.8,-1412.91C3561.34,-1403.56 3572.65,-1393.54 3583.49,-1383.93\"/>\n<polygon fill=\"black\" stroke=\"black\" points=\"3586.12,-1386.27 3591.28,-1377.02 3581.48,-1381.03 3586.12,-1386.27\"/>\n</g>\n<!-- 159 -->\n<g id=\"node160\" class=\"node\">\n<title>159</title>\n<polygon fill=\"#e58139\" stroke=\"black\" points=\"3674,-1250.5 3568,-1250.5 3568,-1182.5 3674,-1182.5 3674,-1250.5\"/>\n<text text-anchor=\"middle\" x=\"3621\" y=\"-1235.3\" font-family=\"Helvetica,sans-Serif\" font-size=\"14.00\">gini = 0.0</text>\n<text text-anchor=\"middle\" x=\"3621\" y=\"-1220.3\" font-family=\"Helvetica,sans-Serif\" font-size=\"14.00\">samples = 1</text>\n<text text-anchor=\"middle\" x=\"3621\" y=\"-1205.3\" font-family=\"Helvetica,sans-Serif\" font-size=\"14.00\">value = [1, 0]</text>\n<text text-anchor=\"middle\" x=\"3621\" y=\"-1190.3\" font-family=\"Helvetica,sans-Serif\" font-size=\"14.00\">class = 비이탈</text>\n</g>\n<!-- 158&#45;&gt;159 -->\n<g id=\"edge159\" class=\"edge\">\n<title>158&#45;&gt;159</title>\n<path fill=\"none\" stroke=\"black\" d=\"M3631.45,-1293.91C3629.99,-1283.2 3628.4,-1271.62 3626.92,-1260.78\"/>\n<polygon fill=\"black\" stroke=\"black\" points=\"3630.36,-1260.1 3625.54,-1250.67 3623.42,-1261.05 3630.36,-1260.1\"/>\n</g>\n<!-- 160 -->\n<g id=\"node161\" class=\"node\">\n<title>160</title>\n<polygon fill=\"#399de5\" stroke=\"black\" points=\"3794,-1250.5 3692,-1250.5 3692,-1182.5 3794,-1182.5 3794,-1250.5\"/>\n<text text-anchor=\"middle\" x=\"3743\" y=\"-1235.3\" font-family=\"Helvetica,sans-Serif\" font-size=\"14.00\">gini = 0.0</text>\n<text text-anchor=\"middle\" x=\"3743\" y=\"-1220.3\" font-family=\"Helvetica,sans-Serif\" font-size=\"14.00\">samples = 20</text>\n<text text-anchor=\"middle\" x=\"3743\" y=\"-1205.3\" font-family=\"Helvetica,sans-Serif\" font-size=\"14.00\">value = [0, 20]</text>\n<text text-anchor=\"middle\" x=\"3743\" y=\"-1190.3\" font-family=\"Helvetica,sans-Serif\" font-size=\"14.00\">class = 이탈</text>\n</g>\n<!-- 158&#45;&gt;160 -->\n<g id=\"edge160\" class=\"edge\">\n<title>158&#45;&gt;160</title>\n<path fill=\"none\" stroke=\"black\" d=\"M3673.78,-1293.91C3684.27,-1282.32 3695.71,-1269.7 3706.21,-1258.11\"/>\n<polygon fill=\"black\" stroke=\"black\" points=\"3708.83,-1260.43 3712.95,-1250.67 3703.64,-1255.73 3708.83,-1260.43\"/>\n</g>\n<!-- 162 -->\n<g id=\"node163\" class=\"node\">\n<title>162</title>\n<polygon fill=\"#e58139\" stroke=\"black\" points=\"3827,-1369.5 3721,-1369.5 3721,-1301.5 3827,-1301.5 3827,-1369.5\"/>\n<text text-anchor=\"middle\" x=\"3774\" y=\"-1354.3\" font-family=\"Helvetica,sans-Serif\" font-size=\"14.00\">gini = 0.0</text>\n<text text-anchor=\"middle\" x=\"3774\" y=\"-1339.3\" font-family=\"Helvetica,sans-Serif\" font-size=\"14.00\">samples = 3</text>\n<text text-anchor=\"middle\" x=\"3774\" y=\"-1324.3\" font-family=\"Helvetica,sans-Serif\" font-size=\"14.00\">value = [3, 0]</text>\n<text text-anchor=\"middle\" x=\"3774\" y=\"-1309.3\" font-family=\"Helvetica,sans-Serif\" font-size=\"14.00\">class = 비이탈</text>\n</g>\n<!-- 161&#45;&gt;162 -->\n<g id=\"edge162\" class=\"edge\">\n<title>161&#45;&gt;162</title>\n<path fill=\"none\" stroke=\"black\" d=\"M3774,-1412.91C3774,-1402.2 3774,-1390.62 3774,-1379.78\"/>\n<polygon fill=\"black\" stroke=\"black\" points=\"3777.5,-1379.67 3774,-1369.67 3770.5,-1379.67 3777.5,-1379.67\"/>\n</g>\n<!-- 163 -->\n<g id=\"node164\" class=\"node\">\n<title>163</title>\n<polygon fill=\"#61b1ea\" stroke=\"black\" points=\"3981,-1377 3845,-1377 3845,-1294 3981,-1294 3981,-1377\"/>\n<text text-anchor=\"middle\" x=\"3913\" y=\"-1361.8\" font-family=\"Helvetica,sans-Serif\" font-size=\"14.00\">방문빈도 &lt;= &#45;0.501</text>\n<text text-anchor=\"middle\" x=\"3913\" y=\"-1346.8\" font-family=\"Helvetica,sans-Serif\" font-size=\"14.00\">gini = 0.28</text>\n<text text-anchor=\"middle\" x=\"3913\" y=\"-1331.8\" font-family=\"Helvetica,sans-Serif\" font-size=\"14.00\">samples = 83</text>\n<text text-anchor=\"middle\" x=\"3913\" y=\"-1316.8\" font-family=\"Helvetica,sans-Serif\" font-size=\"14.00\">value = [14, 69]</text>\n<text text-anchor=\"middle\" x=\"3913\" y=\"-1301.8\" font-family=\"Helvetica,sans-Serif\" font-size=\"14.00\">class = 이탈</text>\n</g>\n<!-- 161&#45;&gt;163 -->\n<g id=\"edge163\" class=\"edge\">\n<title>161&#45;&gt;163</title>\n<path fill=\"none\" stroke=\"black\" d=\"M3822.23,-1412.91C3833.44,-1403.47 3845.47,-1393.34 3856.99,-1383.65\"/>\n<polygon fill=\"black\" stroke=\"black\" points=\"3859.46,-1386.14 3864.86,-1377.02 3854.96,-1380.78 3859.46,-1386.14\"/>\n</g>\n<!-- 164 -->\n<g id=\"node165\" class=\"node\">\n<title>164</title>\n<polygon fill=\"#ffffff\" stroke=\"black\" points=\"3964,-1258 3828,-1258 3828,-1175 3964,-1175 3964,-1258\"/>\n<text text-anchor=\"middle\" x=\"3896\" y=\"-1242.8\" font-family=\"Helvetica,sans-Serif\" font-size=\"14.00\">총매출액 &lt;= &#45;0.407</text>\n<text text-anchor=\"middle\" x=\"3896\" y=\"-1227.8\" font-family=\"Helvetica,sans-Serif\" font-size=\"14.00\">gini = 0.5</text>\n<text text-anchor=\"middle\" x=\"3896\" y=\"-1212.8\" font-family=\"Helvetica,sans-Serif\" font-size=\"14.00\">samples = 10</text>\n<text text-anchor=\"middle\" x=\"3896\" y=\"-1197.8\" font-family=\"Helvetica,sans-Serif\" font-size=\"14.00\">value = [5, 5]</text>\n<text text-anchor=\"middle\" x=\"3896\" y=\"-1182.8\" font-family=\"Helvetica,sans-Serif\" font-size=\"14.00\">class = 비이탈</text>\n</g>\n<!-- 163&#45;&gt;164 -->\n<g id=\"edge164\" class=\"edge\">\n<title>163&#45;&gt;164</title>\n<path fill=\"none\" stroke=\"black\" d=\"M3907.1,-1293.91C3905.89,-1285.56 3904.6,-1276.67 3903.34,-1268.02\"/>\n<polygon fill=\"black\" stroke=\"black\" points=\"3906.79,-1267.41 3901.89,-1258.02 3899.86,-1268.42 3906.79,-1267.41\"/>\n</g>\n<!-- 169 -->\n<g id=\"node170\" class=\"node\">\n<title>169</title>\n<polygon fill=\"#55abe9\" stroke=\"black\" points=\"4118,-1258 3982,-1258 3982,-1175 4118,-1175 4118,-1258\"/>\n<text text-anchor=\"middle\" x=\"4050\" y=\"-1242.8\" font-family=\"Helvetica,sans-Serif\" font-size=\"14.00\">총매출액 &lt;= &#45;0.144</text>\n<text text-anchor=\"middle\" x=\"4050\" y=\"-1227.8\" font-family=\"Helvetica,sans-Serif\" font-size=\"14.00\">gini = 0.216</text>\n<text text-anchor=\"middle\" x=\"4050\" y=\"-1212.8\" font-family=\"Helvetica,sans-Serif\" font-size=\"14.00\">samples = 73</text>\n<text text-anchor=\"middle\" x=\"4050\" y=\"-1197.8\" font-family=\"Helvetica,sans-Serif\" font-size=\"14.00\">value = [9, 64]</text>\n<text text-anchor=\"middle\" x=\"4050\" y=\"-1182.8\" font-family=\"Helvetica,sans-Serif\" font-size=\"14.00\">class = 이탈</text>\n</g>\n<!-- 163&#45;&gt;169 -->\n<g id=\"edge169\" class=\"edge\">\n<title>163&#45;&gt;169</title>\n<path fill=\"none\" stroke=\"black\" d=\"M3960.53,-1293.91C3971.58,-1284.47 3983.44,-1274.34 3994.79,-1264.65\"/>\n<polygon fill=\"black\" stroke=\"black\" points=\"3997.22,-1267.18 4002.55,-1258.02 3992.68,-1261.85 3997.22,-1267.18\"/>\n</g>\n<!-- 165 -->\n<g id=\"node166\" class=\"node\">\n<title>165</title>\n<polygon fill=\"#61b1ea\" stroke=\"black\" points=\"3828.5,-1139 3697.5,-1139 3697.5,-1056 3828.5,-1056 3828.5,-1139\"/>\n<text text-anchor=\"middle\" x=\"3763\" y=\"-1123.8\" font-family=\"Helvetica,sans-Serif\" font-size=\"14.00\">거래기간 &lt;= 0.383</text>\n<text text-anchor=\"middle\" x=\"3763\" y=\"-1108.8\" font-family=\"Helvetica,sans-Serif\" font-size=\"14.00\">gini = 0.278</text>\n<text text-anchor=\"middle\" x=\"3763\" y=\"-1093.8\" font-family=\"Helvetica,sans-Serif\" font-size=\"14.00\">samples = 6</text>\n<text text-anchor=\"middle\" x=\"3763\" y=\"-1078.8\" font-family=\"Helvetica,sans-Serif\" font-size=\"14.00\">value = [1, 5]</text>\n<text text-anchor=\"middle\" x=\"3763\" y=\"-1063.8\" font-family=\"Helvetica,sans-Serif\" font-size=\"14.00\">class = 이탈</text>\n</g>\n<!-- 164&#45;&gt;165 -->\n<g id=\"edge165\" class=\"edge\">\n<title>164&#45;&gt;165</title>\n<path fill=\"none\" stroke=\"black\" d=\"M3849.86,-1174.91C3839.13,-1165.47 3827.62,-1155.34 3816.6,-1145.65\"/>\n<polygon fill=\"black\" stroke=\"black\" points=\"3818.88,-1143 3809.06,-1139.02 3814.26,-1148.25 3818.88,-1143\"/>\n</g>\n<!-- 168 -->\n<g id=\"node169\" class=\"node\">\n<title>168</title>\n<polygon fill=\"#e58139\" stroke=\"black\" points=\"3953,-1131.5 3847,-1131.5 3847,-1063.5 3953,-1063.5 3953,-1131.5\"/>\n<text text-anchor=\"middle\" x=\"3900\" y=\"-1116.3\" font-family=\"Helvetica,sans-Serif\" font-size=\"14.00\">gini = 0.0</text>\n<text text-anchor=\"middle\" x=\"3900\" y=\"-1101.3\" font-family=\"Helvetica,sans-Serif\" font-size=\"14.00\">samples = 4</text>\n<text text-anchor=\"middle\" x=\"3900\" y=\"-1086.3\" font-family=\"Helvetica,sans-Serif\" font-size=\"14.00\">value = [4, 0]</text>\n<text text-anchor=\"middle\" x=\"3900\" y=\"-1071.3\" font-family=\"Helvetica,sans-Serif\" font-size=\"14.00\">class = 비이탈</text>\n</g>\n<!-- 164&#45;&gt;168 -->\n<g id=\"edge168\" class=\"edge\">\n<title>164&#45;&gt;168</title>\n<path fill=\"none\" stroke=\"black\" d=\"M3897.39,-1174.91C3897.75,-1164.2 3898.15,-1152.62 3898.52,-1141.78\"/>\n<polygon fill=\"black\" stroke=\"black\" points=\"3902.02,-1141.78 3898.87,-1131.67 3895.03,-1141.54 3902.02,-1141.78\"/>\n</g>\n<!-- 166 -->\n<g id=\"node167\" class=\"node\">\n<title>166</title>\n<polygon fill=\"#399de5\" stroke=\"black\" points=\"3708.5,-1012.5 3613.5,-1012.5 3613.5,-944.5 3708.5,-944.5 3708.5,-1012.5\"/>\n<text text-anchor=\"middle\" x=\"3661\" y=\"-997.3\" font-family=\"Helvetica,sans-Serif\" font-size=\"14.00\">gini = 0.0</text>\n<text text-anchor=\"middle\" x=\"3661\" y=\"-982.3\" font-family=\"Helvetica,sans-Serif\" font-size=\"14.00\">samples = 5</text>\n<text text-anchor=\"middle\" x=\"3661\" y=\"-967.3\" font-family=\"Helvetica,sans-Serif\" font-size=\"14.00\">value = [0, 5]</text>\n<text text-anchor=\"middle\" x=\"3661\" y=\"-952.3\" font-family=\"Helvetica,sans-Serif\" font-size=\"14.00\">class = 이탈</text>\n</g>\n<!-- 165&#45;&gt;166 -->\n<g id=\"edge166\" class=\"edge\">\n<title>165&#45;&gt;166</title>\n<path fill=\"none\" stroke=\"black\" d=\"M3727.61,-1055.91C3717.61,-1044.43 3706.72,-1031.94 3696.69,-1020.44\"/>\n<polygon fill=\"black\" stroke=\"black\" points=\"3699.12,-1017.9 3689.91,-1012.67 3693.85,-1022.5 3699.12,-1017.9\"/>\n</g>\n<!-- 167 -->\n<g id=\"node168\" class=\"node\">\n<title>167</title>\n<polygon fill=\"#e58139\" stroke=\"black\" points=\"3833,-1012.5 3727,-1012.5 3727,-944.5 3833,-944.5 3833,-1012.5\"/>\n<text text-anchor=\"middle\" x=\"3780\" y=\"-997.3\" font-family=\"Helvetica,sans-Serif\" font-size=\"14.00\">gini = 0.0</text>\n<text text-anchor=\"middle\" x=\"3780\" y=\"-982.3\" font-family=\"Helvetica,sans-Serif\" font-size=\"14.00\">samples = 1</text>\n<text text-anchor=\"middle\" x=\"3780\" y=\"-967.3\" font-family=\"Helvetica,sans-Serif\" font-size=\"14.00\">value = [1, 0]</text>\n<text text-anchor=\"middle\" x=\"3780\" y=\"-952.3\" font-family=\"Helvetica,sans-Serif\" font-size=\"14.00\">class = 비이탈</text>\n</g>\n<!-- 165&#45;&gt;167 -->\n<g id=\"edge167\" class=\"edge\">\n<title>165&#45;&gt;167</title>\n<path fill=\"none\" stroke=\"black\" d=\"M3768.9,-1055.91C3770.45,-1045.2 3772.14,-1033.62 3773.71,-1022.78\"/>\n<polygon fill=\"black\" stroke=\"black\" points=\"3777.21,-1023.07 3775.18,-1012.67 3770.28,-1022.06 3777.21,-1023.07\"/>\n</g>\n<!-- 170 -->\n<g id=\"node171\" class=\"node\">\n<title>170</title>\n<polygon fill=\"#43a2e6\" stroke=\"black\" points=\"4114,-1139 3978,-1139 3978,-1056 4114,-1056 4114,-1139\"/>\n<text text-anchor=\"middle\" x=\"4046\" y=\"-1123.8\" font-family=\"Helvetica,sans-Serif\" font-size=\"14.00\">방문빈도 &lt;= &#45;0.336</text>\n<text text-anchor=\"middle\" x=\"4046\" y=\"-1108.8\" font-family=\"Helvetica,sans-Serif\" font-size=\"14.00\">gini = 0.091</text>\n<text text-anchor=\"middle\" x=\"4046\" y=\"-1093.8\" font-family=\"Helvetica,sans-Serif\" font-size=\"14.00\">samples = 42</text>\n<text text-anchor=\"middle\" x=\"4046\" y=\"-1078.8\" font-family=\"Helvetica,sans-Serif\" font-size=\"14.00\">value = [2, 40]</text>\n<text text-anchor=\"middle\" x=\"4046\" y=\"-1063.8\" font-family=\"Helvetica,sans-Serif\" font-size=\"14.00\">class = 이탈</text>\n</g>\n<!-- 169&#45;&gt;170 -->\n<g id=\"edge170\" class=\"edge\">\n<title>169&#45;&gt;170</title>\n<path fill=\"none\" stroke=\"black\" d=\"M4048.61,-1174.91C4048.33,-1166.56 4048.02,-1157.67 4047.73,-1149.02\"/>\n<polygon fill=\"black\" stroke=\"black\" points=\"4051.23,-1148.9 4047.39,-1139.02 4044.23,-1149.13 4051.23,-1148.9\"/>\n</g>\n<!-- 177 -->\n<g id=\"node178\" class=\"node\">\n<title>177</title>\n<polygon fill=\"#73baed\" stroke=\"black\" points=\"4268,-1139 4132,-1139 4132,-1056 4268,-1056 4268,-1139\"/>\n<text text-anchor=\"middle\" x=\"4200\" y=\"-1123.8\" font-family=\"Helvetica,sans-Serif\" font-size=\"14.00\">총매출액 &lt;= &#45;0.012</text>\n<text text-anchor=\"middle\" x=\"4200\" y=\"-1108.8\" font-family=\"Helvetica,sans-Serif\" font-size=\"14.00\">gini = 0.35</text>\n<text text-anchor=\"middle\" x=\"4200\" y=\"-1093.8\" font-family=\"Helvetica,sans-Serif\" font-size=\"14.00\">samples = 31</text>\n<text text-anchor=\"middle\" x=\"4200\" y=\"-1078.8\" font-family=\"Helvetica,sans-Serif\" font-size=\"14.00\">value = [7, 24]</text>\n<text text-anchor=\"middle\" x=\"4200\" y=\"-1063.8\" font-family=\"Helvetica,sans-Serif\" font-size=\"14.00\">class = 이탈</text>\n</g>\n<!-- 169&#45;&gt;177 -->\n<g id=\"edge177\" class=\"edge\">\n<title>169&#45;&gt;177</title>\n<path fill=\"none\" stroke=\"black\" d=\"M4102.04,-1174.91C4114.26,-1165.38 4127.37,-1155.15 4139.91,-1145.37\"/>\n<polygon fill=\"black\" stroke=\"black\" points=\"4142.32,-1147.93 4148.05,-1139.02 4138.01,-1142.41 4142.32,-1147.93\"/>\n</g>\n<!-- 171 -->\n<g id=\"node172\" class=\"node\">\n<title>171</title>\n<polygon fill=\"#72b9ec\" stroke=\"black\" points=\"3984.5,-1020 3853.5,-1020 3853.5,-937 3984.5,-937 3984.5,-1020\"/>\n<text text-anchor=\"middle\" x=\"3919\" y=\"-1004.8\" font-family=\"Helvetica,sans-Serif\" font-size=\"14.00\">거래기간 &lt;= 0.385</text>\n<text text-anchor=\"middle\" x=\"3919\" y=\"-989.8\" font-family=\"Helvetica,sans-Serif\" font-size=\"14.00\">gini = 0.346</text>\n<text text-anchor=\"middle\" x=\"3919\" y=\"-974.8\" font-family=\"Helvetica,sans-Serif\" font-size=\"14.00\">samples = 9</text>\n<text text-anchor=\"middle\" x=\"3919\" y=\"-959.8\" font-family=\"Helvetica,sans-Serif\" font-size=\"14.00\">value = [2, 7]</text>\n<text text-anchor=\"middle\" x=\"3919\" y=\"-944.8\" font-family=\"Helvetica,sans-Serif\" font-size=\"14.00\">class = 이탈</text>\n</g>\n<!-- 170&#45;&gt;171 -->\n<g id=\"edge171\" class=\"edge\">\n<title>170&#45;&gt;171</title>\n<path fill=\"none\" stroke=\"black\" d=\"M4001.94,-1055.91C3991.79,-1046.56 3980.91,-1036.54 3970.48,-1026.93\"/>\n<polygon fill=\"black\" stroke=\"black\" points=\"3972.71,-1024.22 3962.98,-1020.02 3967.97,-1029.37 3972.71,-1024.22\"/>\n</g>\n<!-- 176 -->\n<g id=\"node177\" class=\"node\">\n<title>176</title>\n<polygon fill=\"#399de5\" stroke=\"black\" points=\"4105,-1012.5 4003,-1012.5 4003,-944.5 4105,-944.5 4105,-1012.5\"/>\n<text text-anchor=\"middle\" x=\"4054\" y=\"-997.3\" font-family=\"Helvetica,sans-Serif\" font-size=\"14.00\">gini = 0.0</text>\n<text text-anchor=\"middle\" x=\"4054\" y=\"-982.3\" font-family=\"Helvetica,sans-Serif\" font-size=\"14.00\">samples = 33</text>\n<text text-anchor=\"middle\" x=\"4054\" y=\"-967.3\" font-family=\"Helvetica,sans-Serif\" font-size=\"14.00\">value = [0, 33]</text>\n<text text-anchor=\"middle\" x=\"4054\" y=\"-952.3\" font-family=\"Helvetica,sans-Serif\" font-size=\"14.00\">class = 이탈</text>\n</g>\n<!-- 170&#45;&gt;176 -->\n<g id=\"edge176\" class=\"edge\">\n<title>170&#45;&gt;176</title>\n<path fill=\"none\" stroke=\"black\" d=\"M4048.78,-1055.91C4049.51,-1045.2 4050.3,-1033.62 4051.04,-1022.78\"/>\n<polygon fill=\"black\" stroke=\"black\" points=\"4054.54,-1022.88 4051.73,-1012.67 4047.56,-1022.4 4054.54,-1022.88\"/>\n</g>\n<!-- 172 -->\n<g id=\"node173\" class=\"node\">\n<title>172</title>\n<polygon fill=\"#ffffff\" stroke=\"black\" points=\"3903.5,-901 3772.5,-901 3772.5,-818 3903.5,-818 3903.5,-901\"/>\n<text text-anchor=\"middle\" x=\"3838\" y=\"-885.8\" font-family=\"Helvetica,sans-Serif\" font-size=\"14.00\">거래기간 &lt;= 0.341</text>\n<text text-anchor=\"middle\" x=\"3838\" y=\"-870.8\" font-family=\"Helvetica,sans-Serif\" font-size=\"14.00\">gini = 0.5</text>\n<text text-anchor=\"middle\" x=\"3838\" y=\"-855.8\" font-family=\"Helvetica,sans-Serif\" font-size=\"14.00\">samples = 4</text>\n<text text-anchor=\"middle\" x=\"3838\" y=\"-840.8\" font-family=\"Helvetica,sans-Serif\" font-size=\"14.00\">value = [2, 2]</text>\n<text text-anchor=\"middle\" x=\"3838\" y=\"-825.8\" font-family=\"Helvetica,sans-Serif\" font-size=\"14.00\">class = 비이탈</text>\n</g>\n<!-- 171&#45;&gt;172 -->\n<g id=\"edge172\" class=\"edge\">\n<title>171&#45;&gt;172</title>\n<path fill=\"none\" stroke=\"black\" d=\"M3890.9,-936.91C3884.74,-928.01 3878.16,-918.51 3871.81,-909.33\"/>\n<polygon fill=\"black\" stroke=\"black\" points=\"3874.62,-907.25 3866.05,-901.02 3868.87,-911.24 3874.62,-907.25\"/>\n</g>\n<!-- 175 -->\n<g id=\"node176\" class=\"node\">\n<title>175</title>\n<polygon fill=\"#399de5\" stroke=\"black\" points=\"4016.5,-893.5 3921.5,-893.5 3921.5,-825.5 4016.5,-825.5 4016.5,-893.5\"/>\n<text text-anchor=\"middle\" x=\"3969\" y=\"-878.3\" font-family=\"Helvetica,sans-Serif\" font-size=\"14.00\">gini = 0.0</text>\n<text text-anchor=\"middle\" x=\"3969\" y=\"-863.3\" font-family=\"Helvetica,sans-Serif\" font-size=\"14.00\">samples = 5</text>\n<text text-anchor=\"middle\" x=\"3969\" y=\"-848.3\" font-family=\"Helvetica,sans-Serif\" font-size=\"14.00\">value = [0, 5]</text>\n<text text-anchor=\"middle\" x=\"3969\" y=\"-833.3\" font-family=\"Helvetica,sans-Serif\" font-size=\"14.00\">class = 이탈</text>\n</g>\n<!-- 171&#45;&gt;175 -->\n<g id=\"edge175\" class=\"edge\">\n<title>171&#45;&gt;175</title>\n<path fill=\"none\" stroke=\"black\" d=\"M3936.35,-936.91C3941.02,-925.98 3946.08,-914.14 3950.79,-903.11\"/>\n<polygon fill=\"black\" stroke=\"black\" points=\"3954.11,-904.24 3954.83,-893.67 3947.68,-901.49 3954.11,-904.24\"/>\n</g>\n<!-- 173 -->\n<g id=\"node174\" class=\"node\">\n<title>173</title>\n<polygon fill=\"#399de5\" stroke=\"black\" points=\"3849.5,-774.5 3754.5,-774.5 3754.5,-706.5 3849.5,-706.5 3849.5,-774.5\"/>\n<text text-anchor=\"middle\" x=\"3802\" y=\"-759.3\" font-family=\"Helvetica,sans-Serif\" font-size=\"14.00\">gini = 0.0</text>\n<text text-anchor=\"middle\" x=\"3802\" y=\"-744.3\" font-family=\"Helvetica,sans-Serif\" font-size=\"14.00\">samples = 2</text>\n<text text-anchor=\"middle\" x=\"3802\" y=\"-729.3\" font-family=\"Helvetica,sans-Serif\" font-size=\"14.00\">value = [0, 2]</text>\n<text text-anchor=\"middle\" x=\"3802\" y=\"-714.3\" font-family=\"Helvetica,sans-Serif\" font-size=\"14.00\">class = 이탈</text>\n</g>\n<!-- 172&#45;&gt;173 -->\n<g id=\"edge173\" class=\"edge\">\n<title>172&#45;&gt;173</title>\n<path fill=\"none\" stroke=\"black\" d=\"M3825.51,-817.91C3822.18,-807.09 3818.58,-795.38 3815.21,-784.44\"/>\n<polygon fill=\"black\" stroke=\"black\" points=\"3818.49,-783.2 3812.21,-774.67 3811.8,-785.25 3818.49,-783.2\"/>\n</g>\n<!-- 174 -->\n<g id=\"node175\" class=\"node\">\n<title>174</title>\n<polygon fill=\"#e58139\" stroke=\"black\" points=\"3974,-774.5 3868,-774.5 3868,-706.5 3974,-706.5 3974,-774.5\"/>\n<text text-anchor=\"middle\" x=\"3921\" y=\"-759.3\" font-family=\"Helvetica,sans-Serif\" font-size=\"14.00\">gini = 0.0</text>\n<text text-anchor=\"middle\" x=\"3921\" y=\"-744.3\" font-family=\"Helvetica,sans-Serif\" font-size=\"14.00\">samples = 2</text>\n<text text-anchor=\"middle\" x=\"3921\" y=\"-729.3\" font-family=\"Helvetica,sans-Serif\" font-size=\"14.00\">value = [2, 0]</text>\n<text text-anchor=\"middle\" x=\"3921\" y=\"-714.3\" font-family=\"Helvetica,sans-Serif\" font-size=\"14.00\">class = 비이탈</text>\n</g>\n<!-- 172&#45;&gt;174 -->\n<g id=\"edge174\" class=\"edge\">\n<title>172&#45;&gt;174</title>\n<path fill=\"none\" stroke=\"black\" d=\"M3866.8,-817.91C3874.78,-806.65 3883.46,-794.42 3891.48,-783.11\"/>\n<polygon fill=\"black\" stroke=\"black\" points=\"3894.54,-784.85 3897.47,-774.67 3888.83,-780.8 3894.54,-784.85\"/>\n</g>\n<!-- 178 -->\n<g id=\"node179\" class=\"node\">\n<title>178</title>\n<polygon fill=\"#e58139\" stroke=\"black\" points=\"4245,-1012.5 4139,-1012.5 4139,-944.5 4245,-944.5 4245,-1012.5\"/>\n<text text-anchor=\"middle\" x=\"4192\" y=\"-997.3\" font-family=\"Helvetica,sans-Serif\" font-size=\"14.00\">gini = 0.0</text>\n<text text-anchor=\"middle\" x=\"4192\" y=\"-982.3\" font-family=\"Helvetica,sans-Serif\" font-size=\"14.00\">samples = 3</text>\n<text text-anchor=\"middle\" x=\"4192\" y=\"-967.3\" font-family=\"Helvetica,sans-Serif\" font-size=\"14.00\">value = [3, 0]</text>\n<text text-anchor=\"middle\" x=\"4192\" y=\"-952.3\" font-family=\"Helvetica,sans-Serif\" font-size=\"14.00\">class = 비이탈</text>\n</g>\n<!-- 177&#45;&gt;178 -->\n<g id=\"edge178\" class=\"edge\">\n<title>177&#45;&gt;178</title>\n<path fill=\"none\" stroke=\"black\" d=\"M4197.22,-1055.91C4196.49,-1045.2 4195.7,-1033.62 4194.96,-1022.78\"/>\n<polygon fill=\"black\" stroke=\"black\" points=\"4198.44,-1022.4 4194.27,-1012.67 4191.46,-1022.88 4198.44,-1022.4\"/>\n</g>\n<!-- 179 -->\n<g id=\"node180\" class=\"node\">\n<title>179</title>\n<polygon fill=\"#5aade9\" stroke=\"black\" points=\"4394.5,-1020 4263.5,-1020 4263.5,-937 4394.5,-937 4394.5,-1020\"/>\n<text text-anchor=\"middle\" x=\"4329\" y=\"-1004.8\" font-family=\"Helvetica,sans-Serif\" font-size=\"14.00\">방문빈도 &lt;= 0.634</text>\n<text text-anchor=\"middle\" x=\"4329\" y=\"-989.8\" font-family=\"Helvetica,sans-Serif\" font-size=\"14.00\">gini = 0.245</text>\n<text text-anchor=\"middle\" x=\"4329\" y=\"-974.8\" font-family=\"Helvetica,sans-Serif\" font-size=\"14.00\">samples = 28</text>\n<text text-anchor=\"middle\" x=\"4329\" y=\"-959.8\" font-family=\"Helvetica,sans-Serif\" font-size=\"14.00\">value = [4, 24]</text>\n<text text-anchor=\"middle\" x=\"4329\" y=\"-944.8\" font-family=\"Helvetica,sans-Serif\" font-size=\"14.00\">class = 이탈</text>\n</g>\n<!-- 177&#45;&gt;179 -->\n<g id=\"edge179\" class=\"edge\">\n<title>177&#45;&gt;179</title>\n<path fill=\"none\" stroke=\"black\" d=\"M4244.76,-1055.91C4255.06,-1046.56 4266.11,-1036.54 4276.71,-1026.93\"/>\n<polygon fill=\"black\" stroke=\"black\" points=\"4279.27,-1029.33 4284.32,-1020.02 4274.56,-1024.15 4279.27,-1029.33\"/>\n</g>\n<!-- 180 -->\n<g id=\"node181\" class=\"node\">\n<title>180</title>\n<polygon fill=\"#45a3e7\" stroke=\"black\" points=\"4287,-901 4151,-901 4151,-818 4287,-818 4287,-901\"/>\n<text text-anchor=\"middle\" x=\"4219\" y=\"-885.8\" font-family=\"Helvetica,sans-Serif\" font-size=\"14.00\">방문빈도 &lt;= &#45;0.288</text>\n<text text-anchor=\"middle\" x=\"4219\" y=\"-870.8\" font-family=\"Helvetica,sans-Serif\" font-size=\"14.00\">gini = 0.111</text>\n<text text-anchor=\"middle\" x=\"4219\" y=\"-855.8\" font-family=\"Helvetica,sans-Serif\" font-size=\"14.00\">samples = 17</text>\n<text text-anchor=\"middle\" x=\"4219\" y=\"-840.8\" font-family=\"Helvetica,sans-Serif\" font-size=\"14.00\">value = [1, 16]</text>\n<text text-anchor=\"middle\" x=\"4219\" y=\"-825.8\" font-family=\"Helvetica,sans-Serif\" font-size=\"14.00\">class = 이탈</text>\n</g>\n<!-- 179&#45;&gt;180 -->\n<g id=\"edge180\" class=\"edge\">\n<title>179&#45;&gt;180</title>\n<path fill=\"none\" stroke=\"black\" d=\"M4290.84,-936.91C4282.22,-927.74 4272.99,-917.93 4264.12,-908.49\"/>\n<polygon fill=\"black\" stroke=\"black\" points=\"4266.5,-905.91 4257.1,-901.02 4261.4,-910.7 4266.5,-905.91\"/>\n</g>\n<!-- 185 -->\n<g id=\"node186\" class=\"node\">\n<title>185</title>\n<polygon fill=\"#83c2ef\" stroke=\"black\" points=\"4436.5,-901 4305.5,-901 4305.5,-818 4436.5,-818 4436.5,-901\"/>\n<text text-anchor=\"middle\" x=\"4371\" y=\"-885.8\" font-family=\"Helvetica,sans-Serif\" font-size=\"14.00\">방문빈도 &lt;= 0.943</text>\n<text text-anchor=\"middle\" x=\"4371\" y=\"-870.8\" font-family=\"Helvetica,sans-Serif\" font-size=\"14.00\">gini = 0.397</text>\n<text text-anchor=\"middle\" x=\"4371\" y=\"-855.8\" font-family=\"Helvetica,sans-Serif\" font-size=\"14.00\">samples = 11</text>\n<text text-anchor=\"middle\" x=\"4371\" y=\"-840.8\" font-family=\"Helvetica,sans-Serif\" font-size=\"14.00\">value = [3, 8]</text>\n<text text-anchor=\"middle\" x=\"4371\" y=\"-825.8\" font-family=\"Helvetica,sans-Serif\" font-size=\"14.00\">class = 이탈</text>\n</g>\n<!-- 179&#45;&gt;185 -->\n<g id=\"edge185\" class=\"edge\">\n<title>179&#45;&gt;185</title>\n<path fill=\"none\" stroke=\"black\" d=\"M4343.57,-936.91C4346.63,-928.38 4349.9,-919.28 4353.07,-910.46\"/>\n<polygon fill=\"black\" stroke=\"black\" points=\"4356.37,-911.62 4356.45,-901.02 4349.78,-909.25 4356.37,-911.62\"/>\n</g>\n<!-- 181 -->\n<g id=\"node182\" class=\"node\">\n<title>181</title>\n<polygon fill=\"#ffffff\" stroke=\"black\" points=\"4156.5,-782 4025.5,-782 4025.5,-699 4156.5,-699 4156.5,-782\"/>\n<text text-anchor=\"middle\" x=\"4091\" y=\"-766.8\" font-family=\"Helvetica,sans-Serif\" font-size=\"14.00\">총매출액 &lt;= 0.146</text>\n<text text-anchor=\"middle\" x=\"4091\" y=\"-751.8\" font-family=\"Helvetica,sans-Serif\" font-size=\"14.00\">gini = 0.5</text>\n<text text-anchor=\"middle\" x=\"4091\" y=\"-736.8\" font-family=\"Helvetica,sans-Serif\" font-size=\"14.00\">samples = 2</text>\n<text text-anchor=\"middle\" x=\"4091\" y=\"-721.8\" font-family=\"Helvetica,sans-Serif\" font-size=\"14.00\">value = [1, 1]</text>\n<text text-anchor=\"middle\" x=\"4091\" y=\"-706.8\" font-family=\"Helvetica,sans-Serif\" font-size=\"14.00\">class = 비이탈</text>\n</g>\n<!-- 180&#45;&gt;181 -->\n<g id=\"edge181\" class=\"edge\">\n<title>180&#45;&gt;181</title>\n<path fill=\"none\" stroke=\"black\" d=\"M4174.59,-817.91C4164.36,-808.56 4153.4,-798.54 4142.89,-788.93\"/>\n<polygon fill=\"black\" stroke=\"black\" points=\"4145.07,-786.18 4135.33,-782.02 4140.35,-791.35 4145.07,-786.18\"/>\n</g>\n<!-- 184 -->\n<g id=\"node185\" class=\"node\">\n<title>184</title>\n<polygon fill=\"#399de5\" stroke=\"black\" points=\"4277,-774.5 4175,-774.5 4175,-706.5 4277,-706.5 4277,-774.5\"/>\n<text text-anchor=\"middle\" x=\"4226\" y=\"-759.3\" font-family=\"Helvetica,sans-Serif\" font-size=\"14.00\">gini = 0.0</text>\n<text text-anchor=\"middle\" x=\"4226\" y=\"-744.3\" font-family=\"Helvetica,sans-Serif\" font-size=\"14.00\">samples = 15</text>\n<text text-anchor=\"middle\" x=\"4226\" y=\"-729.3\" font-family=\"Helvetica,sans-Serif\" font-size=\"14.00\">value = [0, 15]</text>\n<text text-anchor=\"middle\" x=\"4226\" y=\"-714.3\" font-family=\"Helvetica,sans-Serif\" font-size=\"14.00\">class = 이탈</text>\n</g>\n<!-- 180&#45;&gt;184 -->\n<g id=\"edge184\" class=\"edge\">\n<title>180&#45;&gt;184</title>\n<path fill=\"none\" stroke=\"black\" d=\"M4221.43,-817.91C4222.07,-807.2 4222.76,-795.62 4223.41,-784.78\"/>\n<polygon fill=\"black\" stroke=\"black\" points=\"4226.91,-784.86 4224.02,-774.67 4219.92,-784.44 4226.91,-784.86\"/>\n</g>\n<!-- 182 -->\n<g id=\"node183\" class=\"node\">\n<title>182</title>\n<polygon fill=\"#e58139\" stroke=\"black\" points=\"4084,-655.5 3978,-655.5 3978,-587.5 4084,-587.5 4084,-655.5\"/>\n<text text-anchor=\"middle\" x=\"4031\" y=\"-640.3\" font-family=\"Helvetica,sans-Serif\" font-size=\"14.00\">gini = 0.0</text>\n<text text-anchor=\"middle\" x=\"4031\" y=\"-625.3\" font-family=\"Helvetica,sans-Serif\" font-size=\"14.00\">samples = 1</text>\n<text text-anchor=\"middle\" x=\"4031\" y=\"-610.3\" font-family=\"Helvetica,sans-Serif\" font-size=\"14.00\">value = [1, 0]</text>\n<text text-anchor=\"middle\" x=\"4031\" y=\"-595.3\" font-family=\"Helvetica,sans-Serif\" font-size=\"14.00\">class = 비이탈</text>\n</g>\n<!-- 181&#45;&gt;182 -->\n<g id=\"edge182\" class=\"edge\">\n<title>181&#45;&gt;182</title>\n<path fill=\"none\" stroke=\"black\" d=\"M4070.18,-698.91C4064.52,-687.87 4058.38,-675.9 4052.68,-664.77\"/>\n<polygon fill=\"black\" stroke=\"black\" points=\"4055.69,-662.97 4048.01,-655.67 4049.46,-666.16 4055.69,-662.97\"/>\n</g>\n<!-- 183 -->\n<g id=\"node184\" class=\"node\">\n<title>183</title>\n<polygon fill=\"#399de5\" stroke=\"black\" points=\"4197.5,-655.5 4102.5,-655.5 4102.5,-587.5 4197.5,-587.5 4197.5,-655.5\"/>\n<text text-anchor=\"middle\" x=\"4150\" y=\"-640.3\" font-family=\"Helvetica,sans-Serif\" font-size=\"14.00\">gini = 0.0</text>\n<text text-anchor=\"middle\" x=\"4150\" y=\"-625.3\" font-family=\"Helvetica,sans-Serif\" font-size=\"14.00\">samples = 1</text>\n<text text-anchor=\"middle\" x=\"4150\" y=\"-610.3\" font-family=\"Helvetica,sans-Serif\" font-size=\"14.00\">value = [0, 1]</text>\n<text text-anchor=\"middle\" x=\"4150\" y=\"-595.3\" font-family=\"Helvetica,sans-Serif\" font-size=\"14.00\">class = 이탈</text>\n</g>\n<!-- 181&#45;&gt;183 -->\n<g id=\"edge183\" class=\"edge\">\n<title>181&#45;&gt;183</title>\n<path fill=\"none\" stroke=\"black\" d=\"M4111.47,-698.91C4117.03,-687.87 4123.07,-675.9 4128.68,-664.77\"/>\n<polygon fill=\"black\" stroke=\"black\" points=\"4131.9,-666.17 4133.27,-655.67 4125.65,-663.02 4131.9,-666.17\"/>\n</g>\n<!-- 186 -->\n<g id=\"node187\" class=\"node\">\n<title>186</title>\n<polygon fill=\"#e58139\" stroke=\"black\" points=\"4416,-774.5 4310,-774.5 4310,-706.5 4416,-706.5 4416,-774.5\"/>\n<text text-anchor=\"middle\" x=\"4363\" y=\"-759.3\" font-family=\"Helvetica,sans-Serif\" font-size=\"14.00\">gini = 0.0</text>\n<text text-anchor=\"middle\" x=\"4363\" y=\"-744.3\" font-family=\"Helvetica,sans-Serif\" font-size=\"14.00\">samples = 2</text>\n<text text-anchor=\"middle\" x=\"4363\" y=\"-729.3\" font-family=\"Helvetica,sans-Serif\" font-size=\"14.00\">value = [2, 0]</text>\n<text text-anchor=\"middle\" x=\"4363\" y=\"-714.3\" font-family=\"Helvetica,sans-Serif\" font-size=\"14.00\">class = 비이탈</text>\n</g>\n<!-- 185&#45;&gt;186 -->\n<g id=\"edge186\" class=\"edge\">\n<title>185&#45;&gt;186</title>\n<path fill=\"none\" stroke=\"black\" d=\"M4368.22,-817.91C4367.49,-807.2 4366.7,-795.62 4365.96,-784.78\"/>\n<polygon fill=\"black\" stroke=\"black\" points=\"4369.44,-784.4 4365.27,-774.67 4362.46,-784.88 4369.44,-784.4\"/>\n</g>\n<!-- 187 -->\n<g id=\"node188\" class=\"node\">\n<title>187</title>\n<polygon fill=\"#52a9e8\" stroke=\"black\" points=\"4565.5,-782 4434.5,-782 4434.5,-699 4565.5,-699 4565.5,-782\"/>\n<text text-anchor=\"middle\" x=\"4500\" y=\"-766.8\" font-family=\"Helvetica,sans-Serif\" font-size=\"14.00\">거래기간 &lt;= 0.424</text>\n<text text-anchor=\"middle\" x=\"4500\" y=\"-751.8\" font-family=\"Helvetica,sans-Serif\" font-size=\"14.00\">gini = 0.198</text>\n<text text-anchor=\"middle\" x=\"4500\" y=\"-736.8\" font-family=\"Helvetica,sans-Serif\" font-size=\"14.00\">samples = 9</text>\n<text text-anchor=\"middle\" x=\"4500\" y=\"-721.8\" font-family=\"Helvetica,sans-Serif\" font-size=\"14.00\">value = [1, 8]</text>\n<text text-anchor=\"middle\" x=\"4500\" y=\"-706.8\" font-family=\"Helvetica,sans-Serif\" font-size=\"14.00\">class = 이탈</text>\n</g>\n<!-- 185&#45;&gt;187 -->\n<g id=\"edge187\" class=\"edge\">\n<title>185&#45;&gt;187</title>\n<path fill=\"none\" stroke=\"black\" d=\"M4415.76,-817.91C4426.06,-808.56 4437.11,-798.54 4447.71,-788.93\"/>\n<polygon fill=\"black\" stroke=\"black\" points=\"4450.27,-791.33 4455.32,-782.02 4445.56,-786.15 4450.27,-791.33\"/>\n</g>\n<!-- 188 -->\n<g id=\"node189\" class=\"node\">\n<title>188</title>\n<polygon fill=\"#399de5\" stroke=\"black\" points=\"4481.5,-655.5 4386.5,-655.5 4386.5,-587.5 4481.5,-587.5 4481.5,-655.5\"/>\n<text text-anchor=\"middle\" x=\"4434\" y=\"-640.3\" font-family=\"Helvetica,sans-Serif\" font-size=\"14.00\">gini = 0.0</text>\n<text text-anchor=\"middle\" x=\"4434\" y=\"-625.3\" font-family=\"Helvetica,sans-Serif\" font-size=\"14.00\">samples = 7</text>\n<text text-anchor=\"middle\" x=\"4434\" y=\"-610.3\" font-family=\"Helvetica,sans-Serif\" font-size=\"14.00\">value = [0, 7]</text>\n<text text-anchor=\"middle\" x=\"4434\" y=\"-595.3\" font-family=\"Helvetica,sans-Serif\" font-size=\"14.00\">class = 이탈</text>\n</g>\n<!-- 187&#45;&gt;188 -->\n<g id=\"edge188\" class=\"edge\">\n<title>187&#45;&gt;188</title>\n<path fill=\"none\" stroke=\"black\" d=\"M4477.1,-698.91C4470.81,-687.76 4463.99,-675.66 4457.66,-664.44\"/>\n<polygon fill=\"black\" stroke=\"black\" points=\"4460.67,-662.66 4452.71,-655.67 4454.57,-666.1 4460.67,-662.66\"/>\n</g>\n<!-- 189 -->\n<g id=\"node190\" class=\"node\">\n<title>189</title>\n<polygon fill=\"#ffffff\" stroke=\"black\" points=\"4630.5,-663 4499.5,-663 4499.5,-580 4630.5,-580 4630.5,-663\"/>\n<text text-anchor=\"middle\" x=\"4565\" y=\"-647.8\" font-family=\"Helvetica,sans-Serif\" font-size=\"14.00\">방문빈도 &lt;= 2.416</text>\n<text text-anchor=\"middle\" x=\"4565\" y=\"-632.8\" font-family=\"Helvetica,sans-Serif\" font-size=\"14.00\">gini = 0.5</text>\n<text text-anchor=\"middle\" x=\"4565\" y=\"-617.8\" font-family=\"Helvetica,sans-Serif\" font-size=\"14.00\">samples = 2</text>\n<text text-anchor=\"middle\" x=\"4565\" y=\"-602.8\" font-family=\"Helvetica,sans-Serif\" font-size=\"14.00\">value = [1, 1]</text>\n<text text-anchor=\"middle\" x=\"4565\" y=\"-587.8\" font-family=\"Helvetica,sans-Serif\" font-size=\"14.00\">class = 비이탈</text>\n</g>\n<!-- 187&#45;&gt;189 -->\n<g id=\"edge189\" class=\"edge\">\n<title>187&#45;&gt;189</title>\n<path fill=\"none\" stroke=\"black\" d=\"M4522.55,-698.91C4527.39,-690.2 4532.56,-680.9 4537.56,-671.89\"/>\n<polygon fill=\"black\" stroke=\"black\" points=\"4540.69,-673.46 4542.49,-663.02 4534.57,-670.06 4540.69,-673.46\"/>\n</g>\n<!-- 190 -->\n<g id=\"node191\" class=\"node\">\n<title>190</title>\n<polygon fill=\"#399de5\" stroke=\"black\" points=\"4552.5,-536.5 4457.5,-536.5 4457.5,-468.5 4552.5,-468.5 4552.5,-536.5\"/>\n<text text-anchor=\"middle\" x=\"4505\" y=\"-521.3\" font-family=\"Helvetica,sans-Serif\" font-size=\"14.00\">gini = 0.0</text>\n<text text-anchor=\"middle\" x=\"4505\" y=\"-506.3\" font-family=\"Helvetica,sans-Serif\" font-size=\"14.00\">samples = 1</text>\n<text text-anchor=\"middle\" x=\"4505\" y=\"-491.3\" font-family=\"Helvetica,sans-Serif\" font-size=\"14.00\">value = [0, 1]</text>\n<text text-anchor=\"middle\" x=\"4505\" y=\"-476.3\" font-family=\"Helvetica,sans-Serif\" font-size=\"14.00\">class = 이탈</text>\n</g>\n<!-- 189&#45;&gt;190 -->\n<g id=\"edge190\" class=\"edge\">\n<title>189&#45;&gt;190</title>\n<path fill=\"none\" stroke=\"black\" d=\"M4544.18,-579.91C4538.52,-568.87 4532.38,-556.9 4526.68,-545.77\"/>\n<polygon fill=\"black\" stroke=\"black\" points=\"4529.69,-543.97 4522.01,-536.67 4523.46,-547.16 4529.69,-543.97\"/>\n</g>\n<!-- 191 -->\n<g id=\"node192\" class=\"node\">\n<title>191</title>\n<polygon fill=\"#e58139\" stroke=\"black\" points=\"4677,-536.5 4571,-536.5 4571,-468.5 4677,-468.5 4677,-536.5\"/>\n<text text-anchor=\"middle\" x=\"4624\" y=\"-521.3\" font-family=\"Helvetica,sans-Serif\" font-size=\"14.00\">gini = 0.0</text>\n<text text-anchor=\"middle\" x=\"4624\" y=\"-506.3\" font-family=\"Helvetica,sans-Serif\" font-size=\"14.00\">samples = 1</text>\n<text text-anchor=\"middle\" x=\"4624\" y=\"-491.3\" font-family=\"Helvetica,sans-Serif\" font-size=\"14.00\">value = [1, 0]</text>\n<text text-anchor=\"middle\" x=\"4624\" y=\"-476.3\" font-family=\"Helvetica,sans-Serif\" font-size=\"14.00\">class = 비이탈</text>\n</g>\n<!-- 189&#45;&gt;191 -->\n<g id=\"edge191\" class=\"edge\">\n<title>189&#45;&gt;191</title>\n<path fill=\"none\" stroke=\"black\" d=\"M4585.47,-579.91C4591.03,-568.87 4597.07,-556.9 4602.68,-545.77\"/>\n<polygon fill=\"black\" stroke=\"black\" points=\"4605.9,-547.17 4607.27,-536.67 4599.65,-544.02 4605.9,-547.17\"/>\n</g>\n<!-- 193 -->\n<g id=\"node194\" class=\"node\">\n<title>193</title>\n<polygon fill=\"#e5813a\" stroke=\"black\" points=\"3680,-1853 3544,-1853 3544,-1770 3680,-1770 3680,-1853\"/>\n<text text-anchor=\"middle\" x=\"3612\" y=\"-1837.8\" font-family=\"Helvetica,sans-Serif\" font-size=\"14.00\">방문빈도 &lt;= &#45;0.642</text>\n<text text-anchor=\"middle\" x=\"3612\" y=\"-1822.8\" font-family=\"Helvetica,sans-Serif\" font-size=\"14.00\">gini = 0.006</text>\n<text text-anchor=\"middle\" x=\"3612\" y=\"-1807.8\" font-family=\"Helvetica,sans-Serif\" font-size=\"14.00\">samples = 308</text>\n<text text-anchor=\"middle\" x=\"3612\" y=\"-1792.8\" font-family=\"Helvetica,sans-Serif\" font-size=\"14.00\">value = [307, 1]</text>\n<text text-anchor=\"middle\" x=\"3612\" y=\"-1777.8\" font-family=\"Helvetica,sans-Serif\" font-size=\"14.00\">class = 비이탈</text>\n</g>\n<!-- 192&#45;&gt;193 -->\n<g id=\"edge193\" class=\"edge\">\n<title>192&#45;&gt;193</title>\n<path fill=\"none\" stroke=\"black\" d=\"M3612,-1888.91C3612,-1880.65 3612,-1871.86 3612,-1863.3\"/>\n<polygon fill=\"black\" stroke=\"black\" points=\"3615.5,-1863.02 3612,-1853.02 3608.5,-1863.02 3615.5,-1863.02\"/>\n</g>\n<!-- 198 -->\n<g id=\"node199\" class=\"node\">\n<title>198</title>\n<polygon fill=\"#399de5\" stroke=\"black\" points=\"3793.5,-1845.5 3698.5,-1845.5 3698.5,-1777.5 3793.5,-1777.5 3793.5,-1845.5\"/>\n<text text-anchor=\"middle\" x=\"3746\" y=\"-1830.3\" font-family=\"Helvetica,sans-Serif\" font-size=\"14.00\">gini = 0.0</text>\n<text text-anchor=\"middle\" x=\"3746\" y=\"-1815.3\" font-family=\"Helvetica,sans-Serif\" font-size=\"14.00\">samples = 2</text>\n<text text-anchor=\"middle\" x=\"3746\" y=\"-1800.3\" font-family=\"Helvetica,sans-Serif\" font-size=\"14.00\">value = [0, 2]</text>\n<text text-anchor=\"middle\" x=\"3746\" y=\"-1785.3\" font-family=\"Helvetica,sans-Serif\" font-size=\"14.00\">class = 이탈</text>\n</g>\n<!-- 192&#45;&gt;198 -->\n<g id=\"edge198\" class=\"edge\">\n<title>192&#45;&gt;198</title>\n<path fill=\"none\" stroke=\"black\" d=\"M3658.49,-1888.91C3672.01,-1877.1 3686.77,-1864.22 3700.25,-1852.45\"/>\n<polygon fill=\"black\" stroke=\"black\" points=\"3702.78,-1854.88 3708.01,-1845.67 3698.18,-1849.61 3702.78,-1854.88\"/>\n</g>\n<!-- 194 -->\n<g id=\"node195\" class=\"node\">\n<title>194</title>\n<polygon fill=\"#e5833c\" stroke=\"black\" points=\"3680,-1734 3544,-1734 3544,-1651 3680,-1651 3680,-1734\"/>\n<text text-anchor=\"middle\" x=\"3612\" y=\"-1718.8\" font-family=\"Helvetica,sans-Serif\" font-size=\"14.00\">방문빈도 &lt;= &#45;0.668</text>\n<text text-anchor=\"middle\" x=\"3612\" y=\"-1703.8\" font-family=\"Helvetica,sans-Serif\" font-size=\"14.00\">gini = 0.033</text>\n<text text-anchor=\"middle\" x=\"3612\" y=\"-1688.8\" font-family=\"Helvetica,sans-Serif\" font-size=\"14.00\">samples = 59</text>\n<text text-anchor=\"middle\" x=\"3612\" y=\"-1673.8\" font-family=\"Helvetica,sans-Serif\" font-size=\"14.00\">value = [58, 1]</text>\n<text text-anchor=\"middle\" x=\"3612\" y=\"-1658.8\" font-family=\"Helvetica,sans-Serif\" font-size=\"14.00\">class = 비이탈</text>\n</g>\n<!-- 193&#45;&gt;194 -->\n<g id=\"edge194\" class=\"edge\">\n<title>193&#45;&gt;194</title>\n<path fill=\"none\" stroke=\"black\" d=\"M3612,-1769.91C3612,-1761.65 3612,-1752.86 3612,-1744.3\"/>\n<polygon fill=\"black\" stroke=\"black\" points=\"3615.5,-1744.02 3612,-1734.02 3608.5,-1744.02 3615.5,-1744.02\"/>\n</g>\n<!-- 197 -->\n<g id=\"node198\" class=\"node\">\n<title>197</title>\n<polygon fill=\"#e58139\" stroke=\"black\" points=\"3808,-1726.5 3698,-1726.5 3698,-1658.5 3808,-1658.5 3808,-1726.5\"/>\n<text text-anchor=\"middle\" x=\"3753\" y=\"-1711.3\" font-family=\"Helvetica,sans-Serif\" font-size=\"14.00\">gini = 0.0</text>\n<text text-anchor=\"middle\" x=\"3753\" y=\"-1696.3\" font-family=\"Helvetica,sans-Serif\" font-size=\"14.00\">samples = 249</text>\n<text text-anchor=\"middle\" x=\"3753\" y=\"-1681.3\" font-family=\"Helvetica,sans-Serif\" font-size=\"14.00\">value = [249, 0]</text>\n<text text-anchor=\"middle\" x=\"3753\" y=\"-1666.3\" font-family=\"Helvetica,sans-Serif\" font-size=\"14.00\">class = 비이탈</text>\n</g>\n<!-- 193&#45;&gt;197 -->\n<g id=\"edge197\" class=\"edge\">\n<title>193&#45;&gt;197</title>\n<path fill=\"none\" stroke=\"black\" d=\"M3660.92,-1769.91C3675.28,-1757.99 3690.97,-1744.98 3705.25,-1733.12\"/>\n<polygon fill=\"black\" stroke=\"black\" points=\"3707.57,-1735.75 3713.03,-1726.67 3703.1,-1730.36 3707.57,-1735.75\"/>\n</g>\n<!-- 195 -->\n<g id=\"node196\" class=\"node\">\n<title>195</title>\n<polygon fill=\"#e58139\" stroke=\"black\" points=\"3665,-1607.5 3559,-1607.5 3559,-1539.5 3665,-1539.5 3665,-1607.5\"/>\n<text text-anchor=\"middle\" x=\"3612\" y=\"-1592.3\" font-family=\"Helvetica,sans-Serif\" font-size=\"14.00\">gini = 0.0</text>\n<text text-anchor=\"middle\" x=\"3612\" y=\"-1577.3\" font-family=\"Helvetica,sans-Serif\" font-size=\"14.00\">samples = 58</text>\n<text text-anchor=\"middle\" x=\"3612\" y=\"-1562.3\" font-family=\"Helvetica,sans-Serif\" font-size=\"14.00\">value = [58, 0]</text>\n<text text-anchor=\"middle\" x=\"3612\" y=\"-1547.3\" font-family=\"Helvetica,sans-Serif\" font-size=\"14.00\">class = 비이탈</text>\n</g>\n<!-- 194&#45;&gt;195 -->\n<g id=\"edge195\" class=\"edge\">\n<title>194&#45;&gt;195</title>\n<path fill=\"none\" stroke=\"black\" d=\"M3612,-1650.91C3612,-1640.2 3612,-1628.62 3612,-1617.78\"/>\n<polygon fill=\"black\" stroke=\"black\" points=\"3615.5,-1617.67 3612,-1607.67 3608.5,-1617.67 3615.5,-1617.67\"/>\n</g>\n<!-- 196 -->\n<g id=\"node197\" class=\"node\">\n<title>196</title>\n<polygon fill=\"#399de5\" stroke=\"black\" points=\"3778.5,-1607.5 3683.5,-1607.5 3683.5,-1539.5 3778.5,-1539.5 3778.5,-1607.5\"/>\n<text text-anchor=\"middle\" x=\"3731\" y=\"-1592.3\" font-family=\"Helvetica,sans-Serif\" font-size=\"14.00\">gini = 0.0</text>\n<text text-anchor=\"middle\" x=\"3731\" y=\"-1577.3\" font-family=\"Helvetica,sans-Serif\" font-size=\"14.00\">samples = 1</text>\n<text text-anchor=\"middle\" x=\"3731\" y=\"-1562.3\" font-family=\"Helvetica,sans-Serif\" font-size=\"14.00\">value = [0, 1]</text>\n<text text-anchor=\"middle\" x=\"3731\" y=\"-1547.3\" font-family=\"Helvetica,sans-Serif\" font-size=\"14.00\">class = 이탈</text>\n</g>\n<!-- 194&#45;&gt;196 -->\n<g id=\"edge196\" class=\"edge\">\n<title>194&#45;&gt;196</title>\n<path fill=\"none\" stroke=\"black\" d=\"M3653.29,-1650.91C3665.18,-1639.21 3678.15,-1626.46 3690.03,-1614.78\"/>\n<polygon fill=\"black\" stroke=\"black\" points=\"3692.59,-1617.17 3697.27,-1607.67 3687.68,-1612.18 3692.59,-1617.17\"/>\n</g>\n</g>\n</svg>\n",
            "text/plain": [
              "<graphviz.sources.Source at 0x7d6d97721e70>"
            ]
          },
          "metadata": {},
          "execution_count": 106
        }
      ]
    },
    {
      "cell_type": "markdown",
      "source": [
        "#20230828 머신러닝"
      ],
      "metadata": {
        "id": "o5Z_r7gZ5pAX"
      }
    },
    {
      "cell_type": "markdown",
      "source": [
        "### SVM (서포트 벡터 머신)"
      ],
      "metadata": {
        "id": "WRICM6W45In2"
      }
    },
    {
      "cell_type": "code",
      "source": [
        "from sklearn.svm import SVC"
      ],
      "metadata": {
        "id": "MWOyjCZX5l9I"
      },
      "execution_count": null,
      "outputs": []
    },
    {
      "cell_type": "code",
      "source": [
        "svm_model = SVC(C=100)"
      ],
      "metadata": {
        "id": "BT8iGQtr5l9I"
      },
      "execution_count": null,
      "outputs": []
    },
    {
      "cell_type": "code",
      "source": [
        "svm_model.fit(X_train_over, Y_train_over)"
      ],
      "metadata": {
        "colab": {
          "base_uri": "https://localhost:8080/",
          "height": 75
        },
        "outputId": "42233b87-83a0-4c99-8906-6f25e4d9f9c8",
        "id": "sxJlKtiS5l9J"
      },
      "execution_count": null,
      "outputs": [
        {
          "output_type": "execute_result",
          "data": {
            "text/plain": [
              "SVC(C=100)"
            ],
            "text/html": [
              "<style>#sk-container-id-11 {color: black;background-color: white;}#sk-container-id-11 pre{padding: 0;}#sk-container-id-11 div.sk-toggleable {background-color: white;}#sk-container-id-11 label.sk-toggleable__label {cursor: pointer;display: block;width: 100%;margin-bottom: 0;padding: 0.3em;box-sizing: border-box;text-align: center;}#sk-container-id-11 label.sk-toggleable__label-arrow:before {content: \"▸\";float: left;margin-right: 0.25em;color: #696969;}#sk-container-id-11 label.sk-toggleable__label-arrow:hover:before {color: black;}#sk-container-id-11 div.sk-estimator:hover label.sk-toggleable__label-arrow:before {color: black;}#sk-container-id-11 div.sk-toggleable__content {max-height: 0;max-width: 0;overflow: hidden;text-align: left;background-color: #f0f8ff;}#sk-container-id-11 div.sk-toggleable__content pre {margin: 0.2em;color: black;border-radius: 0.25em;background-color: #f0f8ff;}#sk-container-id-11 input.sk-toggleable__control:checked~div.sk-toggleable__content {max-height: 200px;max-width: 100%;overflow: auto;}#sk-container-id-11 input.sk-toggleable__control:checked~label.sk-toggleable__label-arrow:before {content: \"▾\";}#sk-container-id-11 div.sk-estimator input.sk-toggleable__control:checked~label.sk-toggleable__label {background-color: #d4ebff;}#sk-container-id-11 div.sk-label input.sk-toggleable__control:checked~label.sk-toggleable__label {background-color: #d4ebff;}#sk-container-id-11 input.sk-hidden--visually {border: 0;clip: rect(1px 1px 1px 1px);clip: rect(1px, 1px, 1px, 1px);height: 1px;margin: -1px;overflow: hidden;padding: 0;position: absolute;width: 1px;}#sk-container-id-11 div.sk-estimator {font-family: monospace;background-color: #f0f8ff;border: 1px dotted black;border-radius: 0.25em;box-sizing: border-box;margin-bottom: 0.5em;}#sk-container-id-11 div.sk-estimator:hover {background-color: #d4ebff;}#sk-container-id-11 div.sk-parallel-item::after {content: \"\";width: 100%;border-bottom: 1px solid gray;flex-grow: 1;}#sk-container-id-11 div.sk-label:hover label.sk-toggleable__label {background-color: #d4ebff;}#sk-container-id-11 div.sk-serial::before {content: \"\";position: absolute;border-left: 1px solid gray;box-sizing: border-box;top: 0;bottom: 0;left: 50%;z-index: 0;}#sk-container-id-11 div.sk-serial {display: flex;flex-direction: column;align-items: center;background-color: white;padding-right: 0.2em;padding-left: 0.2em;position: relative;}#sk-container-id-11 div.sk-item {position: relative;z-index: 1;}#sk-container-id-11 div.sk-parallel {display: flex;align-items: stretch;justify-content: center;background-color: white;position: relative;}#sk-container-id-11 div.sk-item::before, #sk-container-id-11 div.sk-parallel-item::before {content: \"\";position: absolute;border-left: 1px solid gray;box-sizing: border-box;top: 0;bottom: 0;left: 50%;z-index: -1;}#sk-container-id-11 div.sk-parallel-item {display: flex;flex-direction: column;z-index: 1;position: relative;background-color: white;}#sk-container-id-11 div.sk-parallel-item:first-child::after {align-self: flex-end;width: 50%;}#sk-container-id-11 div.sk-parallel-item:last-child::after {align-self: flex-start;width: 50%;}#sk-container-id-11 div.sk-parallel-item:only-child::after {width: 0;}#sk-container-id-11 div.sk-dashed-wrapped {border: 1px dashed gray;margin: 0 0.4em 0.5em 0.4em;box-sizing: border-box;padding-bottom: 0.4em;background-color: white;}#sk-container-id-11 div.sk-label label {font-family: monospace;font-weight: bold;display: inline-block;line-height: 1.2em;}#sk-container-id-11 div.sk-label-container {text-align: center;}#sk-container-id-11 div.sk-container {/* jupyter's `normalize.less` sets `[hidden] { display: none; }` but bootstrap.min.css set `[hidden] { display: none !important; }` so we also need the `!important` here to be able to override the default hidden behavior on the sphinx rendered scikit-learn.org. See: https://github.com/scikit-learn/scikit-learn/issues/21755 */display: inline-block !important;position: relative;}#sk-container-id-11 div.sk-text-repr-fallback {display: none;}</style><div id=\"sk-container-id-11\" class=\"sk-top-container\"><div class=\"sk-text-repr-fallback\"><pre>SVC(C=100)</pre><b>In a Jupyter environment, please rerun this cell to show the HTML representation or trust the notebook. <br />On GitHub, the HTML representation is unable to render, please try loading this page with nbviewer.org.</b></div><div class=\"sk-container\" hidden><div class=\"sk-item\"><div class=\"sk-estimator sk-toggleable\"><input class=\"sk-toggleable__control sk-hidden--visually\" id=\"sk-estimator-id-11\" type=\"checkbox\" checked><label for=\"sk-estimator-id-11\" class=\"sk-toggleable__label sk-toggleable__label-arrow\">SVC</label><div class=\"sk-toggleable__content\"><pre>SVC(C=100)</pre></div></div></div></div></div>"
            ]
          },
          "metadata": {},
          "execution_count": 109
        }
      ]
    },
    {
      "cell_type": "code",
      "source": [
        "Y_pred_svm = svm_model.predict(X_test)"
      ],
      "metadata": {
        "id": "fzmSe2Ui5l9J"
      },
      "execution_count": null,
      "outputs": []
    },
    {
      "cell_type": "code",
      "source": [
        "print(Y_pred_svm)"
      ],
      "metadata": {
        "colab": {
          "base_uri": "https://localhost:8080/"
        },
        "outputId": "a5e82bd1-832b-41b6-af1c-e3d291f0b839",
        "id": "eAs4HxOv5l9J"
      },
      "execution_count": null,
      "outputs": [
        {
          "output_type": "stream",
          "name": "stdout",
          "text": [
            "[0 1 1 0 0 0 1 1 0 0 1 0 0 1 0 1 0 1 1 1 0 0 0 1 0 0 1 1 1 0 0 0 0 0 0 0 0\n",
            " 0 0 0 1 0 0 0 1 0 0 1 1 0 1 1 1 0 1 0 1 0 0 1 1 0 0 1 0 1 1 0 1 1 0 1 0 1\n",
            " 0 0 0 0 1 0 0 0 1 0 0 0 1 0 0 0 0 0 0 1 1 0 0 1 0 1 0 0 1 0 1 0 0 0 0 1 1\n",
            " 0 0 1 1 0 0 1 0 0 0 0 0 0 1 0 1 1 0 0 0 0 0 0 0 0 1 1 0 1 1 1 1 1 1 0 1 0\n",
            " 0 1 0 1 0 0 0 0 0 1 0 1 0 0 1 1 0 0 0 0 1 1 0 0 1 0 0 0 1 0 0 1 0 0 0 1 0\n",
            " 0 0 0 0 1 0 0 0 1 0 0 1 1 0 0 1 0 1 0 0 0 0 0 0 0 1 1 1 0 1 0 1 1 0 0 0 0\n",
            " 0 1 1 1 0 0 1 0 0 0 0 0 1 1 1 1 1 1 0 0 1 1 0 0 1 1 1 0 1 0 1 0 0 0 0 0 1\n",
            " 1 0 0 0 1 0 0 0 1 1 0 0 0 1 1 0 0 1 0 0 1 0 1 1 1 0 1 0 1 1 0 0 1 0 0 0 1\n",
            " 1 0 0 1]\n"
          ]
        }
      ]
    },
    {
      "cell_type": "code",
      "source": [
        "cr_svm = classification_report(Y_test, Y_pred_svm)\n",
        "print(cr_svm)"
      ],
      "metadata": {
        "colab": {
          "base_uri": "https://localhost:8080/"
        },
        "outputId": "356f254c-d0f6-4c59-e10d-64efcefb3ae6",
        "id": "2PIEc7Gy5l9J"
      },
      "execution_count": null,
      "outputs": [
        {
          "output_type": "stream",
          "name": "stdout",
          "text": [
            "              precision    recall  f1-score   support\n",
            "\n",
            "           0       0.93      0.77      0.84       219\n",
            "           1       0.58      0.84      0.68        81\n",
            "\n",
            "    accuracy                           0.79       300\n",
            "   macro avg       0.75      0.81      0.76       300\n",
            "weighted avg       0.83      0.79      0.80       300\n",
            "\n"
          ]
        }
      ]
    },
    {
      "cell_type": "code",
      "source": [
        "print(svm_model.decision_function)"
      ],
      "metadata": {
        "colab": {
          "base_uri": "https://localhost:8080/"
        },
        "id": "iaWU1tkV6poh",
        "outputId": "24ca10cf-b295-4287-bda9-2e92f85627f3"
      },
      "execution_count": null,
      "outputs": [
        {
          "output_type": "stream",
          "name": "stdout",
          "text": [
            "<bound method BaseSVC.decision_function of SVC(C=100)>\n"
          ]
        }
      ]
    },
    {
      "cell_type": "markdown",
      "source": [
        "###나이브 베이즈"
      ],
      "metadata": {
        "id": "XcVX4thj8Bx2"
      }
    },
    {
      "cell_type": "code",
      "source": [
        "from sklearn.naive_bayes import GaussianNB"
      ],
      "metadata": {
        "id": "y5J9h90X8G1r"
      },
      "execution_count": null,
      "outputs": []
    },
    {
      "cell_type": "code",
      "source": [
        "nn_model = GaussianNB()"
      ],
      "metadata": {
        "id": "gJL2BLyJ8G1s"
      },
      "execution_count": null,
      "outputs": []
    },
    {
      "cell_type": "code",
      "source": [
        "nn_model.fit(X_train_over, Y_train_over)"
      ],
      "metadata": {
        "colab": {
          "base_uri": "https://localhost:8080/",
          "height": 75
        },
        "outputId": "4ab62fa3-4816-4979-a6a2-eda60d0f4f13",
        "id": "nhn5KV9s8G1s"
      },
      "execution_count": null,
      "outputs": [
        {
          "output_type": "execute_result",
          "data": {
            "text/plain": [
              "GaussianNB()"
            ],
            "text/html": [
              "<style>#sk-container-id-12 {color: black;background-color: white;}#sk-container-id-12 pre{padding: 0;}#sk-container-id-12 div.sk-toggleable {background-color: white;}#sk-container-id-12 label.sk-toggleable__label {cursor: pointer;display: block;width: 100%;margin-bottom: 0;padding: 0.3em;box-sizing: border-box;text-align: center;}#sk-container-id-12 label.sk-toggleable__label-arrow:before {content: \"▸\";float: left;margin-right: 0.25em;color: #696969;}#sk-container-id-12 label.sk-toggleable__label-arrow:hover:before {color: black;}#sk-container-id-12 div.sk-estimator:hover label.sk-toggleable__label-arrow:before {color: black;}#sk-container-id-12 div.sk-toggleable__content {max-height: 0;max-width: 0;overflow: hidden;text-align: left;background-color: #f0f8ff;}#sk-container-id-12 div.sk-toggleable__content pre {margin: 0.2em;color: black;border-radius: 0.25em;background-color: #f0f8ff;}#sk-container-id-12 input.sk-toggleable__control:checked~div.sk-toggleable__content {max-height: 200px;max-width: 100%;overflow: auto;}#sk-container-id-12 input.sk-toggleable__control:checked~label.sk-toggleable__label-arrow:before {content: \"▾\";}#sk-container-id-12 div.sk-estimator input.sk-toggleable__control:checked~label.sk-toggleable__label {background-color: #d4ebff;}#sk-container-id-12 div.sk-label input.sk-toggleable__control:checked~label.sk-toggleable__label {background-color: #d4ebff;}#sk-container-id-12 input.sk-hidden--visually {border: 0;clip: rect(1px 1px 1px 1px);clip: rect(1px, 1px, 1px, 1px);height: 1px;margin: -1px;overflow: hidden;padding: 0;position: absolute;width: 1px;}#sk-container-id-12 div.sk-estimator {font-family: monospace;background-color: #f0f8ff;border: 1px dotted black;border-radius: 0.25em;box-sizing: border-box;margin-bottom: 0.5em;}#sk-container-id-12 div.sk-estimator:hover {background-color: #d4ebff;}#sk-container-id-12 div.sk-parallel-item::after {content: \"\";width: 100%;border-bottom: 1px solid gray;flex-grow: 1;}#sk-container-id-12 div.sk-label:hover label.sk-toggleable__label {background-color: #d4ebff;}#sk-container-id-12 div.sk-serial::before {content: \"\";position: absolute;border-left: 1px solid gray;box-sizing: border-box;top: 0;bottom: 0;left: 50%;z-index: 0;}#sk-container-id-12 div.sk-serial {display: flex;flex-direction: column;align-items: center;background-color: white;padding-right: 0.2em;padding-left: 0.2em;position: relative;}#sk-container-id-12 div.sk-item {position: relative;z-index: 1;}#sk-container-id-12 div.sk-parallel {display: flex;align-items: stretch;justify-content: center;background-color: white;position: relative;}#sk-container-id-12 div.sk-item::before, #sk-container-id-12 div.sk-parallel-item::before {content: \"\";position: absolute;border-left: 1px solid gray;box-sizing: border-box;top: 0;bottom: 0;left: 50%;z-index: -1;}#sk-container-id-12 div.sk-parallel-item {display: flex;flex-direction: column;z-index: 1;position: relative;background-color: white;}#sk-container-id-12 div.sk-parallel-item:first-child::after {align-self: flex-end;width: 50%;}#sk-container-id-12 div.sk-parallel-item:last-child::after {align-self: flex-start;width: 50%;}#sk-container-id-12 div.sk-parallel-item:only-child::after {width: 0;}#sk-container-id-12 div.sk-dashed-wrapped {border: 1px dashed gray;margin: 0 0.4em 0.5em 0.4em;box-sizing: border-box;padding-bottom: 0.4em;background-color: white;}#sk-container-id-12 div.sk-label label {font-family: monospace;font-weight: bold;display: inline-block;line-height: 1.2em;}#sk-container-id-12 div.sk-label-container {text-align: center;}#sk-container-id-12 div.sk-container {/* jupyter's `normalize.less` sets `[hidden] { display: none; }` but bootstrap.min.css set `[hidden] { display: none !important; }` so we also need the `!important` here to be able to override the default hidden behavior on the sphinx rendered scikit-learn.org. See: https://github.com/scikit-learn/scikit-learn/issues/21755 */display: inline-block !important;position: relative;}#sk-container-id-12 div.sk-text-repr-fallback {display: none;}</style><div id=\"sk-container-id-12\" class=\"sk-top-container\"><div class=\"sk-text-repr-fallback\"><pre>GaussianNB()</pre><b>In a Jupyter environment, please rerun this cell to show the HTML representation or trust the notebook. <br />On GitHub, the HTML representation is unable to render, please try loading this page with nbviewer.org.</b></div><div class=\"sk-container\" hidden><div class=\"sk-item\"><div class=\"sk-estimator sk-toggleable\"><input class=\"sk-toggleable__control sk-hidden--visually\" id=\"sk-estimator-id-12\" type=\"checkbox\" checked><label for=\"sk-estimator-id-12\" class=\"sk-toggleable__label sk-toggleable__label-arrow\">GaussianNB</label><div class=\"sk-toggleable__content\"><pre>GaussianNB()</pre></div></div></div></div></div>"
            ]
          },
          "metadata": {},
          "execution_count": 116
        }
      ]
    },
    {
      "cell_type": "code",
      "source": [
        "Y_pred_nn = nn_model.predict(X_test)"
      ],
      "metadata": {
        "id": "TylNQDbU8G1s"
      },
      "execution_count": null,
      "outputs": []
    },
    {
      "cell_type": "code",
      "source": [
        "print(Y_pred_nn)"
      ],
      "metadata": {
        "colab": {
          "base_uri": "https://localhost:8080/"
        },
        "outputId": "42900f9c-2af3-4c34-dbd3-ad14575a468a",
        "id": "r4azU31t8G1s"
      },
      "execution_count": null,
      "outputs": [
        {
          "output_type": "stream",
          "name": "stdout",
          "text": [
            "[1 0 1 0 0 0 1 1 1 0 1 1 0 1 0 1 0 1 1 1 1 1 1 1 0 1 1 1 1 1 0 0 1 0 1 0 0\n",
            " 1 0 0 1 1 0 0 1 1 0 1 1 1 0 1 1 1 0 0 1 1 0 0 1 0 0 1 1 1 1 1 1 0 0 1 1 1\n",
            " 0 1 1 1 1 1 1 1 1 1 0 0 1 1 0 0 0 1 1 1 1 0 0 0 1 1 0 1 1 0 1 0 0 1 0 1 1\n",
            " 0 1 1 1 1 1 1 0 1 0 1 1 1 1 0 1 1 0 1 1 1 0 0 1 0 1 1 1 0 1 1 1 1 1 0 1 1\n",
            " 1 0 1 0 1 1 1 0 1 1 1 1 1 0 1 1 0 1 0 0 1 0 1 1 0 1 1 0 1 1 0 1 1 1 1 1 0\n",
            " 1 1 1 1 0 1 0 1 0 1 0 0 1 1 1 1 0 0 0 0 1 0 0 1 1 0 1 1 1 1 1 1 1 1 1 0 1\n",
            " 0 0 1 1 1 1 1 0 1 1 1 1 1 1 1 1 1 1 1 0 1 1 0 1 0 1 0 1 1 1 1 1 1 1 0 1 1\n",
            " 1 0 0 0 0 1 1 1 1 0 1 1 0 1 1 1 0 1 1 1 1 0 0 1 0 1 1 0 1 1 1 1 1 1 0 1 1\n",
            " 0 1 1 1]\n"
          ]
        }
      ]
    },
    {
      "cell_type": "code",
      "source": [
        "cr_nn = classification_report(Y_test, Y_pred_nn)\n",
        "print(cr_nn)"
      ],
      "metadata": {
        "colab": {
          "base_uri": "https://localhost:8080/"
        },
        "outputId": "715c2a8d-c3b6-406a-8ee8-c2d66683d93c",
        "id": "Hw4x4o4Q8G1s"
      },
      "execution_count": null,
      "outputs": [
        {
          "output_type": "stream",
          "name": "stdout",
          "text": [
            "              precision    recall  f1-score   support\n",
            "\n",
            "           0       0.89      0.40      0.55       219\n",
            "           1       0.35      0.86      0.49        81\n",
            "\n",
            "    accuracy                           0.52       300\n",
            "   macro avg       0.62      0.63      0.52       300\n",
            "weighted avg       0.74      0.52      0.53       300\n",
            "\n"
          ]
        }
      ]
    },
    {
      "cell_type": "code",
      "source": [],
      "metadata": {
        "id": "s2vd1pfceQpH"
      },
      "execution_count": null,
      "outputs": []
    },
    {
      "cell_type": "markdown",
      "source": [
        "### 랜덤 포레스트\n",
        "DT 기반으로 하기 때문에 DT보다 성능이 떨어질 순 없음"
      ],
      "metadata": {
        "id": "UZzU_L7gUB0w"
      }
    },
    {
      "cell_type": "code",
      "source": [
        "from sklearn.ensemble import RandomForestClassifier"
      ],
      "metadata": {
        "id": "yZ7ghh-zSotk"
      },
      "execution_count": null,
      "outputs": []
    },
    {
      "cell_type": "code",
      "source": [
        "rf_model = RandomForestClassifier(n_estimators = 100)"
      ],
      "metadata": {
        "id": "us84epaaUOms"
      },
      "execution_count": null,
      "outputs": []
    },
    {
      "cell_type": "code",
      "source": [
        "rf_model.fit(X_train_over, Y_train_over)"
      ],
      "metadata": {
        "colab": {
          "base_uri": "https://localhost:8080/",
          "height": 75
        },
        "outputId": "b248ddb1-7154-4af8-8ba5-d9f6d1c366b3",
        "id": "s7xcrGr8UOms"
      },
      "execution_count": null,
      "outputs": [
        {
          "output_type": "execute_result",
          "data": {
            "text/plain": [
              "RandomForestClassifier()"
            ],
            "text/html": [
              "<style>#sk-container-id-13 {color: black;background-color: white;}#sk-container-id-13 pre{padding: 0;}#sk-container-id-13 div.sk-toggleable {background-color: white;}#sk-container-id-13 label.sk-toggleable__label {cursor: pointer;display: block;width: 100%;margin-bottom: 0;padding: 0.3em;box-sizing: border-box;text-align: center;}#sk-container-id-13 label.sk-toggleable__label-arrow:before {content: \"▸\";float: left;margin-right: 0.25em;color: #696969;}#sk-container-id-13 label.sk-toggleable__label-arrow:hover:before {color: black;}#sk-container-id-13 div.sk-estimator:hover label.sk-toggleable__label-arrow:before {color: black;}#sk-container-id-13 div.sk-toggleable__content {max-height: 0;max-width: 0;overflow: hidden;text-align: left;background-color: #f0f8ff;}#sk-container-id-13 div.sk-toggleable__content pre {margin: 0.2em;color: black;border-radius: 0.25em;background-color: #f0f8ff;}#sk-container-id-13 input.sk-toggleable__control:checked~div.sk-toggleable__content {max-height: 200px;max-width: 100%;overflow: auto;}#sk-container-id-13 input.sk-toggleable__control:checked~label.sk-toggleable__label-arrow:before {content: \"▾\";}#sk-container-id-13 div.sk-estimator input.sk-toggleable__control:checked~label.sk-toggleable__label {background-color: #d4ebff;}#sk-container-id-13 div.sk-label input.sk-toggleable__control:checked~label.sk-toggleable__label {background-color: #d4ebff;}#sk-container-id-13 input.sk-hidden--visually {border: 0;clip: rect(1px 1px 1px 1px);clip: rect(1px, 1px, 1px, 1px);height: 1px;margin: -1px;overflow: hidden;padding: 0;position: absolute;width: 1px;}#sk-container-id-13 div.sk-estimator {font-family: monospace;background-color: #f0f8ff;border: 1px dotted black;border-radius: 0.25em;box-sizing: border-box;margin-bottom: 0.5em;}#sk-container-id-13 div.sk-estimator:hover {background-color: #d4ebff;}#sk-container-id-13 div.sk-parallel-item::after {content: \"\";width: 100%;border-bottom: 1px solid gray;flex-grow: 1;}#sk-container-id-13 div.sk-label:hover label.sk-toggleable__label {background-color: #d4ebff;}#sk-container-id-13 div.sk-serial::before {content: \"\";position: absolute;border-left: 1px solid gray;box-sizing: border-box;top: 0;bottom: 0;left: 50%;z-index: 0;}#sk-container-id-13 div.sk-serial {display: flex;flex-direction: column;align-items: center;background-color: white;padding-right: 0.2em;padding-left: 0.2em;position: relative;}#sk-container-id-13 div.sk-item {position: relative;z-index: 1;}#sk-container-id-13 div.sk-parallel {display: flex;align-items: stretch;justify-content: center;background-color: white;position: relative;}#sk-container-id-13 div.sk-item::before, #sk-container-id-13 div.sk-parallel-item::before {content: \"\";position: absolute;border-left: 1px solid gray;box-sizing: border-box;top: 0;bottom: 0;left: 50%;z-index: -1;}#sk-container-id-13 div.sk-parallel-item {display: flex;flex-direction: column;z-index: 1;position: relative;background-color: white;}#sk-container-id-13 div.sk-parallel-item:first-child::after {align-self: flex-end;width: 50%;}#sk-container-id-13 div.sk-parallel-item:last-child::after {align-self: flex-start;width: 50%;}#sk-container-id-13 div.sk-parallel-item:only-child::after {width: 0;}#sk-container-id-13 div.sk-dashed-wrapped {border: 1px dashed gray;margin: 0 0.4em 0.5em 0.4em;box-sizing: border-box;padding-bottom: 0.4em;background-color: white;}#sk-container-id-13 div.sk-label label {font-family: monospace;font-weight: bold;display: inline-block;line-height: 1.2em;}#sk-container-id-13 div.sk-label-container {text-align: center;}#sk-container-id-13 div.sk-container {/* jupyter's `normalize.less` sets `[hidden] { display: none; }` but bootstrap.min.css set `[hidden] { display: none !important; }` so we also need the `!important` here to be able to override the default hidden behavior on the sphinx rendered scikit-learn.org. See: https://github.com/scikit-learn/scikit-learn/issues/21755 */display: inline-block !important;position: relative;}#sk-container-id-13 div.sk-text-repr-fallback {display: none;}</style><div id=\"sk-container-id-13\" class=\"sk-top-container\"><div class=\"sk-text-repr-fallback\"><pre>RandomForestClassifier()</pre><b>In a Jupyter environment, please rerun this cell to show the HTML representation or trust the notebook. <br />On GitHub, the HTML representation is unable to render, please try loading this page with nbviewer.org.</b></div><div class=\"sk-container\" hidden><div class=\"sk-item\"><div class=\"sk-estimator sk-toggleable\"><input class=\"sk-toggleable__control sk-hidden--visually\" id=\"sk-estimator-id-13\" type=\"checkbox\" checked><label for=\"sk-estimator-id-13\" class=\"sk-toggleable__label sk-toggleable__label-arrow\">RandomForestClassifier</label><div class=\"sk-toggleable__content\"><pre>RandomForestClassifier()</pre></div></div></div></div></div>"
            ]
          },
          "metadata": {},
          "execution_count": 124
        }
      ]
    },
    {
      "cell_type": "code",
      "source": [
        "Y_pred_rf = rf_model.predict(X_test)"
      ],
      "metadata": {
        "id": "CzAIKKM9UOmt"
      },
      "execution_count": null,
      "outputs": []
    },
    {
      "cell_type": "code",
      "source": [
        "print(Y_pred_rf)"
      ],
      "metadata": {
        "colab": {
          "base_uri": "https://localhost:8080/"
        },
        "outputId": "755a8528-da5c-4a06-b29e-3d74dc573a10",
        "id": "4suiGH-eUOmt"
      },
      "execution_count": null,
      "outputs": [
        {
          "output_type": "stream",
          "name": "stdout",
          "text": [
            "[0 0 0 0 0 0 1 1 0 0 1 0 0 1 0 1 0 1 1 1 0 0 0 0 0 0 1 1 1 0 0 0 0 0 0 0 0\n",
            " 1 0 1 1 0 0 0 1 0 0 1 1 0 0 0 1 0 1 0 1 0 0 0 1 0 1 1 0 1 0 0 1 0 0 1 0 1\n",
            " 0 0 0 0 1 0 1 0 1 0 1 0 1 0 0 0 0 0 0 1 1 0 0 1 0 1 0 0 1 0 1 0 0 1 0 1 1\n",
            " 0 0 1 1 0 0 1 0 1 0 0 0 0 1 0 0 1 0 0 1 0 0 0 0 0 0 1 0 1 1 1 0 1 1 0 1 0\n",
            " 0 1 0 1 0 0 0 0 0 1 0 1 0 0 1 0 0 0 0 0 0 1 0 0 0 0 0 0 1 1 0 1 0 0 0 0 0\n",
            " 1 0 0 0 0 0 0 0 1 0 0 0 1 0 0 1 0 0 0 0 0 0 0 0 0 1 1 1 0 1 0 1 1 0 0 0 0\n",
            " 0 1 1 1 0 0 1 0 0 0 0 0 1 1 1 1 1 1 0 0 1 1 0 0 0 1 1 0 1 0 1 1 0 0 0 0 1\n",
            " 1 0 0 0 1 0 0 0 1 1 0 0 0 1 1 0 0 0 0 0 1 0 1 1 1 0 1 0 1 1 1 0 1 0 0 0 1\n",
            " 1 0 0 0]\n"
          ]
        }
      ]
    },
    {
      "cell_type": "code",
      "source": [
        "cr_rf = classification_report(Y_test, Y_pred_rf)\n",
        "print(cr_rf)"
      ],
      "metadata": {
        "colab": {
          "base_uri": "https://localhost:8080/"
        },
        "outputId": "671a300d-6b54-40f9-da29-21c949459825",
        "id": "mwrlg_lcUOmt"
      },
      "execution_count": null,
      "outputs": [
        {
          "output_type": "stream",
          "name": "stdout",
          "text": [
            "              precision    recall  f1-score   support\n",
            "\n",
            "           0       0.92      0.80      0.86       219\n",
            "           1       0.61      0.81      0.69        81\n",
            "\n",
            "    accuracy                           0.81       300\n",
            "   macro avg       0.76      0.81      0.78       300\n",
            "weighted avg       0.84      0.81      0.81       300\n",
            "\n"
          ]
        }
      ]
    },
    {
      "cell_type": "code",
      "source": [
        "rf_model.feature_importances_"
      ],
      "metadata": {
        "colab": {
          "base_uri": "https://localhost:8080/"
        },
        "id": "vDVMBskwWA27",
        "outputId": "cd3433d2-936c-4cb9-b93f-b872de3874a6"
      },
      "execution_count": null,
      "outputs": [
        {
          "output_type": "execute_result",
          "data": {
            "text/plain": [
              "array([0.17614145, 0.61608035, 0.20777821])"
            ]
          },
          "metadata": {},
          "execution_count": 130
        }
      ]
    },
    {
      "cell_type": "code",
      "source": [
        "feature_names = X.columns\n",
        "feature_names"
      ],
      "metadata": {
        "colab": {
          "base_uri": "https://localhost:8080/"
        },
        "id": "yLBeXmK6WVwy",
        "outputId": "d88813ab-d7dd-4dac-ec03-4373bcb643b6"
      },
      "execution_count": null,
      "outputs": [
        {
          "output_type": "execute_result",
          "data": {
            "text/plain": [
              "Index(['총매출액', '거래기간', '방문빈도'], dtype='object')"
            ]
          },
          "metadata": {},
          "execution_count": 132
        }
      ]
    },
    {
      "cell_type": "code",
      "source": [
        "feature = pd.DataFrame(rf_model.feature_importances_, index = feature_names, columns = ['importance'])\n",
        "feature\n",
        "feature = feature.sort_values('importance', ascending = False)\n",
        "feature"
      ],
      "metadata": {
        "colab": {
          "base_uri": "https://localhost:8080/",
          "height": 143
        },
        "id": "SvV3eP7aWbkt",
        "outputId": "6ff7f9ca-d059-4f60-e94c-82a1afb262a1"
      },
      "execution_count": null,
      "outputs": [
        {
          "output_type": "execute_result",
          "data": {
            "text/plain": [
              "      importance\n",
              "거래기간    0.616080\n",
              "방문빈도    0.207778\n",
              "총매출액    0.176141"
            ],
            "text/html": [
              "\n",
              "  <div id=\"df-d8bf288d-023f-4029-b549-29f2bd7fbb6c\" class=\"colab-df-container\">\n",
              "    <div>\n",
              "<style scoped>\n",
              "    .dataframe tbody tr th:only-of-type {\n",
              "        vertical-align: middle;\n",
              "    }\n",
              "\n",
              "    .dataframe tbody tr th {\n",
              "        vertical-align: top;\n",
              "    }\n",
              "\n",
              "    .dataframe thead th {\n",
              "        text-align: right;\n",
              "    }\n",
              "</style>\n",
              "<table border=\"1\" class=\"dataframe\">\n",
              "  <thead>\n",
              "    <tr style=\"text-align: right;\">\n",
              "      <th></th>\n",
              "      <th>importance</th>\n",
              "    </tr>\n",
              "  </thead>\n",
              "  <tbody>\n",
              "    <tr>\n",
              "      <th>거래기간</th>\n",
              "      <td>0.616080</td>\n",
              "    </tr>\n",
              "    <tr>\n",
              "      <th>방문빈도</th>\n",
              "      <td>0.207778</td>\n",
              "    </tr>\n",
              "    <tr>\n",
              "      <th>총매출액</th>\n",
              "      <td>0.176141</td>\n",
              "    </tr>\n",
              "  </tbody>\n",
              "</table>\n",
              "</div>\n",
              "    <div class=\"colab-df-buttons\">\n",
              "\n",
              "  <div class=\"colab-df-container\">\n",
              "    <button class=\"colab-df-convert\" onclick=\"convertToInteractive('df-d8bf288d-023f-4029-b549-29f2bd7fbb6c')\"\n",
              "            title=\"Convert this dataframe to an interactive table.\"\n",
              "            style=\"display:none;\">\n",
              "\n",
              "  <svg xmlns=\"http://www.w3.org/2000/svg\" height=\"24px\" viewBox=\"0 -960 960 960\">\n",
              "    <path d=\"M120-120v-720h720v720H120Zm60-500h600v-160H180v160Zm220 220h160v-160H400v160Zm0 220h160v-160H400v160ZM180-400h160v-160H180v160Zm440 0h160v-160H620v160ZM180-180h160v-160H180v160Zm440 0h160v-160H620v160Z\"/>\n",
              "  </svg>\n",
              "    </button>\n",
              "\n",
              "  <style>\n",
              "    .colab-df-container {\n",
              "      display:flex;\n",
              "      gap: 12px;\n",
              "    }\n",
              "\n",
              "    .colab-df-convert {\n",
              "      background-color: #E8F0FE;\n",
              "      border: none;\n",
              "      border-radius: 50%;\n",
              "      cursor: pointer;\n",
              "      display: none;\n",
              "      fill: #1967D2;\n",
              "      height: 32px;\n",
              "      padding: 0 0 0 0;\n",
              "      width: 32px;\n",
              "    }\n",
              "\n",
              "    .colab-df-convert:hover {\n",
              "      background-color: #E2EBFA;\n",
              "      box-shadow: 0px 1px 2px rgba(60, 64, 67, 0.3), 0px 1px 3px 1px rgba(60, 64, 67, 0.15);\n",
              "      fill: #174EA6;\n",
              "    }\n",
              "\n",
              "    .colab-df-buttons div {\n",
              "      margin-bottom: 4px;\n",
              "    }\n",
              "\n",
              "    [theme=dark] .colab-df-convert {\n",
              "      background-color: #3B4455;\n",
              "      fill: #D2E3FC;\n",
              "    }\n",
              "\n",
              "    [theme=dark] .colab-df-convert:hover {\n",
              "      background-color: #434B5C;\n",
              "      box-shadow: 0px 1px 3px 1px rgba(0, 0, 0, 0.15);\n",
              "      filter: drop-shadow(0px 1px 2px rgba(0, 0, 0, 0.3));\n",
              "      fill: #FFFFFF;\n",
              "    }\n",
              "  </style>\n",
              "\n",
              "    <script>\n",
              "      const buttonEl =\n",
              "        document.querySelector('#df-d8bf288d-023f-4029-b549-29f2bd7fbb6c button.colab-df-convert');\n",
              "      buttonEl.style.display =\n",
              "        google.colab.kernel.accessAllowed ? 'block' : 'none';\n",
              "\n",
              "      async function convertToInteractive(key) {\n",
              "        const element = document.querySelector('#df-d8bf288d-023f-4029-b549-29f2bd7fbb6c');\n",
              "        const dataTable =\n",
              "          await google.colab.kernel.invokeFunction('convertToInteractive',\n",
              "                                                    [key], {});\n",
              "        if (!dataTable) return;\n",
              "\n",
              "        const docLinkHtml = 'Like what you see? Visit the ' +\n",
              "          '<a target=\"_blank\" href=https://colab.research.google.com/notebooks/data_table.ipynb>data table notebook</a>'\n",
              "          + ' to learn more about interactive tables.';\n",
              "        element.innerHTML = '';\n",
              "        dataTable['output_type'] = 'display_data';\n",
              "        await google.colab.output.renderOutput(dataTable, element);\n",
              "        const docLink = document.createElement('div');\n",
              "        docLink.innerHTML = docLinkHtml;\n",
              "        element.appendChild(docLink);\n",
              "      }\n",
              "    </script>\n",
              "  </div>\n",
              "\n",
              "    </div>\n",
              "  </div>\n"
            ]
          },
          "metadata": {},
          "execution_count": 142
        }
      ]
    }
  ]
}