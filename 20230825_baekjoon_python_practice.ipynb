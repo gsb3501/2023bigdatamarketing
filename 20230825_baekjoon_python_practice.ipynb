{
  "nbformat": 4,
  "nbformat_minor": 0,
  "metadata": {
    "colab": {
      "provenance": [],
      "authorship_tag": "ABX9TyMyTIZpYGXWPLIrpeHKvabj",
      "include_colab_link": true
    },
    "kernelspec": {
      "name": "python3",
      "display_name": "Python 3"
    },
    "language_info": {
      "name": "python"
    }
  },
  "cells": [
    {
      "cell_type": "markdown",
      "metadata": {
        "id": "view-in-github",
        "colab_type": "text"
      },
      "source": [
        "<a href=\"https://colab.research.google.com/github/gsb3501/2023bigdatamarketing/blob/main/20230825_baekjoon_python_practice.ipynb\" target=\"_parent\"><img src=\"https://colab.research.google.com/assets/colab-badge.svg\" alt=\"Open In Colab\"/></a>"
      ]
    },
    {
      "cell_type": "markdown",
      "source": [
        "백준 파이썬 연습"
      ],
      "metadata": {
        "id": "ppNuxsr7Uigq"
      }
    },
    {
      "cell_type": "markdown",
      "source": [
        "10807"
      ],
      "metadata": {
        "id": "xW8lCgonWc5_"
      }
    },
    {
      "cell_type": "code",
      "execution_count": null,
      "metadata": {
        "colab": {
          "base_uri": "https://localhost:8080/"
        },
        "id": "zDpbEKcfCoSo",
        "outputId": "3c379c55-b5da-423f-8505-5ca9c0b08d1d"
      },
      "outputs": [
        {
          "output_type": "stream",
          "name": "stdout",
          "text": [
            "11\n",
            "1 4 1 2 4 2 4 2 3 4 4\n",
            "5\n",
            "[1, 4, 1, 2, 4, 2, 4, 2, 3, 4, 4]\n",
            "0\n"
          ]
        }
      ],
      "source": [
        "#a = []\n",
        "#for i in range(3):\n",
        "#  a.append(int(input()))\n",
        "\n",
        "# num_list = input()\n",
        "# num_list2 = num_list.split(sep = ' ')\n",
        "# num_list3 = list(map(int, num_list2)) # map: 리스트의 요소 하나하나에 뭔가를 한번에 적용시키는 함수\n",
        "\n",
        "N = int(input())\n",
        "num_list3 = list(map(int,input().split(' ')))\n",
        "v = int(input())\n",
        "\n",
        "\n",
        "# 위의 map 과 같은 결과\n",
        "# num_list3 = []\n",
        "# for num in num_list2:\n",
        "#   num_list3.append(int(num))\n",
        "\n",
        "\n",
        "# print(num_list3)\n",
        "\n",
        "#반복문으로 확인\n",
        "# cnt = 0\n",
        "# for num in num_list3:\n",
        "#   if num == v:\n",
        "#     cnt +=1\n",
        "# print(cnt)\n",
        "\n",
        "cnt = num_list3.count(v)\n",
        "print(cnt)"
      ]
    },
    {
      "cell_type": "code",
      "source": [
        "a = ['1', '2', '3']\n",
        "' '.join(a)"
      ],
      "metadata": {
        "colab": {
          "base_uri": "https://localhost:8080/",
          "height": 36
        },
        "id": "-VqsXaByR47W",
        "outputId": "96e09755-ae6f-48a9-a41f-b696d918972c"
      },
      "execution_count": null,
      "outputs": [
        {
          "output_type": "execute_result",
          "data": {
            "text/plain": [
              "'1 2 3'"
            ],
            "application/vnd.google.colaboratory.intrinsic+json": {
              "type": "string"
            }
          },
          "metadata": {},
          "execution_count": 11
        }
      ]
    },
    {
      "cell_type": "markdown",
      "source": [
        "# 10871"
      ],
      "metadata": {
        "id": "Ji5eppC0UmCL"
      }
    },
    {
      "cell_type": "code",
      "source": [
        "#내가 푼 것\n",
        "A = list(map(int,input().split(' ')))\n",
        "num_list = list(map(int,input().split(' ')))\n",
        "\n",
        "a = []\n",
        "for num in num_list:\n",
        "  if num < A[1]:\n",
        "    a.append(num)\n",
        "\n",
        "print(' '.join(list(map(str, a))))"
      ],
      "metadata": {
        "colab": {
          "base_uri": "https://localhost:8080/"
        },
        "id": "HYsbDCXJRdsJ",
        "outputId": "b7a45c9c-841b-4686-c12f-8258b3172a19"
      },
      "execution_count": null,
      "outputs": [
        {
          "output_type": "stream",
          "name": "stdout",
          "text": [
            "10 5\n",
            "1 10 4 9 2 3 8 5 7 6\n",
            "1 4 2 3\n"
          ]
        }
      ]
    },
    {
      "cell_type": "code",
      "source": [
        "# 짧은 코드\n",
        "\n",
        "N, X = map(int, input().split(' '))\n",
        "num_list = list(map(int, input().split(' ')))\n",
        "\n",
        "a = []\n",
        "for num in num_list:\n",
        "  if num < X:\n",
        "    a.append(str(num))\n",
        "\n",
        "print(\" \".join(a))"
      ],
      "metadata": {
        "colab": {
          "base_uri": "https://localhost:8080/"
        },
        "id": "zCMF6jDlU0UY",
        "outputId": "074e81d9-444d-42e8-8247-1e5785c789c3"
      },
      "execution_count": null,
      "outputs": [
        {
          "output_type": "stream",
          "name": "stdout",
          "text": [
            "10 5\n",
            "1 10 4 9 2 3 8 5 7 6\n",
            "1 4 2 3\n"
          ]
        }
      ]
    },
    {
      "cell_type": "code",
      "source": [
        "# 명령이 하나라면 if문을 아래와 같이 간단하게 작성하는 것이 가능\n",
        "\n",
        "# 명령1 if 조건 else 명령 2\n",
        "\n",
        "# [i for i in 리스트]"
      ],
      "metadata": {
        "id": "4fMO8KWUWfgn"
      },
      "execution_count": null,
      "outputs": []
    },
    {
      "cell_type": "code",
      "source": [
        "[i for i in range(1,101)]"
      ],
      "metadata": {
        "colab": {
          "base_uri": "https://localhost:8080/"
        },
        "id": "aZdCxfbXW85K",
        "outputId": "819a58de-2872-4c52-9da6-80a29f51337a"
      },
      "execution_count": null,
      "outputs": [
        {
          "output_type": "execute_result",
          "data": {
            "text/plain": [
              "[1,\n",
              " 2,\n",
              " 3,\n",
              " 4,\n",
              " 5,\n",
              " 6,\n",
              " 7,\n",
              " 8,\n",
              " 9,\n",
              " 10,\n",
              " 11,\n",
              " 12,\n",
              " 13,\n",
              " 14,\n",
              " 15,\n",
              " 16,\n",
              " 17,\n",
              " 18,\n",
              " 19,\n",
              " 20,\n",
              " 21,\n",
              " 22,\n",
              " 23,\n",
              " 24,\n",
              " 25,\n",
              " 26,\n",
              " 27,\n",
              " 28,\n",
              " 29,\n",
              " 30,\n",
              " 31,\n",
              " 32,\n",
              " 33,\n",
              " 34,\n",
              " 35,\n",
              " 36,\n",
              " 37,\n",
              " 38,\n",
              " 39,\n",
              " 40,\n",
              " 41,\n",
              " 42,\n",
              " 43,\n",
              " 44,\n",
              " 45,\n",
              " 46,\n",
              " 47,\n",
              " 48,\n",
              " 49,\n",
              " 50,\n",
              " 51,\n",
              " 52,\n",
              " 53,\n",
              " 54,\n",
              " 55,\n",
              " 56,\n",
              " 57,\n",
              " 58,\n",
              " 59,\n",
              " 60,\n",
              " 61,\n",
              " 62,\n",
              " 63,\n",
              " 64,\n",
              " 65,\n",
              " 66,\n",
              " 67,\n",
              " 68,\n",
              " 69,\n",
              " 70,\n",
              " 71,\n",
              " 72,\n",
              " 73,\n",
              " 74,\n",
              " 75,\n",
              " 76,\n",
              " 77,\n",
              " 78,\n",
              " 79,\n",
              " 80,\n",
              " 81,\n",
              " 82,\n",
              " 83,\n",
              " 84,\n",
              " 85,\n",
              " 86,\n",
              " 87,\n",
              " 88,\n",
              " 89,\n",
              " 90,\n",
              " 91,\n",
              " 92,\n",
              " 93,\n",
              " 94,\n",
              " 95,\n",
              " 96,\n",
              " 97,\n",
              " 98,\n",
              " 99,\n",
              " 100]"
            ]
          },
          "metadata": {},
          "execution_count": 27
        }
      ]
    },
    {
      "cell_type": "code",
      "source": [
        "[i if i%2 ==0 else 0 for i in range(1,101)]"
      ],
      "metadata": {
        "colab": {
          "base_uri": "https://localhost:8080/"
        },
        "id": "bxdBAkATXRud",
        "outputId": "cde5aab2-3724-4bfb-9ac3-723127816706"
      },
      "execution_count": null,
      "outputs": [
        {
          "output_type": "execute_result",
          "data": {
            "text/plain": [
              "[0,\n",
              " 2,\n",
              " 0,\n",
              " 4,\n",
              " 0,\n",
              " 6,\n",
              " 0,\n",
              " 8,\n",
              " 0,\n",
              " 10,\n",
              " 0,\n",
              " 12,\n",
              " 0,\n",
              " 14,\n",
              " 0,\n",
              " 16,\n",
              " 0,\n",
              " 18,\n",
              " 0,\n",
              " 20,\n",
              " 0,\n",
              " 22,\n",
              " 0,\n",
              " 24,\n",
              " 0,\n",
              " 26,\n",
              " 0,\n",
              " 28,\n",
              " 0,\n",
              " 30,\n",
              " 0,\n",
              " 32,\n",
              " 0,\n",
              " 34,\n",
              " 0,\n",
              " 36,\n",
              " 0,\n",
              " 38,\n",
              " 0,\n",
              " 40,\n",
              " 0,\n",
              " 42,\n",
              " 0,\n",
              " 44,\n",
              " 0,\n",
              " 46,\n",
              " 0,\n",
              " 48,\n",
              " 0,\n",
              " 50,\n",
              " 0,\n",
              " 52,\n",
              " 0,\n",
              " 54,\n",
              " 0,\n",
              " 56,\n",
              " 0,\n",
              " 58,\n",
              " 0,\n",
              " 60,\n",
              " 0,\n",
              " 62,\n",
              " 0,\n",
              " 64,\n",
              " 0,\n",
              " 66,\n",
              " 0,\n",
              " 68,\n",
              " 0,\n",
              " 70,\n",
              " 0,\n",
              " 72,\n",
              " 0,\n",
              " 74,\n",
              " 0,\n",
              " 76,\n",
              " 0,\n",
              " 78,\n",
              " 0,\n",
              " 80,\n",
              " 0,\n",
              " 82,\n",
              " 0,\n",
              " 84,\n",
              " 0,\n",
              " 86,\n",
              " 0,\n",
              " 88,\n",
              " 0,\n",
              " 90,\n",
              " 0,\n",
              " 92,\n",
              " 0,\n",
              " 94,\n",
              " 0,\n",
              " 96,\n",
              " 0,\n",
              " 98,\n",
              " 0,\n",
              " 100]"
            ]
          },
          "metadata": {},
          "execution_count": 30
        }
      ]
    }
  ]
}